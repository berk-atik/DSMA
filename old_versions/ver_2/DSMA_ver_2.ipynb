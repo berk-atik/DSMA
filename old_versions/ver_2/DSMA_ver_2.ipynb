{
  "nbformat": 4,
  "nbformat_minor": 0,
  "metadata": {
    "colab": {
      "provenance": [],
      "toc_visible": true,
      "authorship_tag": "ABX9TyOHCctDBxVTZOwbDzW6XQ6f"
    },
    "kernelspec": {
      "name": "ir",
      "display_name": "R"
    },
    "language_info": {
      "name": "R"
    }
  },
  "cells": [
    {
      "cell_type": "markdown",
      "source": [
        "# Libraries"
      ],
      "metadata": {
        "id": "wfA60FGXmDn0"
      }
    },
    {
      "cell_type": "code",
      "source": [
        "#install.packages(\"dplyr\")"
      ],
      "metadata": {
        "id": "9y5YwTITV8B0"
      },
      "execution_count": null,
      "outputs": []
    },
    {
      "cell_type": "code",
      "source": [
        "library(dplyr)"
      ],
      "metadata": {
        "id": "lHSDySlpV9Ij"
      },
      "execution_count": null,
      "outputs": []
    },
    {
      "cell_type": "code",
      "source": [
        "#install.packages(\"tidyverse\")"
      ],
      "metadata": {
        "id": "lh1PS0nMV-kw"
      },
      "execution_count": null,
      "outputs": []
    },
    {
      "cell_type": "code",
      "source": [
        "library(tidyverse)"
      ],
      "metadata": {
        "id": "_gYmIkN_V-7E"
      },
      "execution_count": null,
      "outputs": []
    },
    {
      "cell_type": "code",
      "source": [
        "install.packages(\"geosphere\")"
      ],
      "metadata": {
        "id": "SrPfMNgkWAzN"
      },
      "execution_count": null,
      "outputs": []
    },
    {
      "cell_type": "code",
      "source": [
        "library(geosphere)"
      ],
      "metadata": {
        "id": "8stw8DhLWCK1"
      },
      "execution_count": null,
      "outputs": []
    },
    {
      "cell_type": "code",
      "source": [
        "install.packages(\"mice\")"
      ],
      "metadata": {
        "id": "8nCsDy7EWIrZ"
      },
      "execution_count": null,
      "outputs": []
    },
    {
      "cell_type": "code",
      "source": [
        "library(mice)"
      ],
      "metadata": {
        "id": "6cDPRxFJWJx9"
      },
      "execution_count": null,
      "outputs": []
    },
    {
      "cell_type": "markdown",
      "source": [
        "# Yelp Data"
      ],
      "metadata": {
        "id": "LYMtZK9XcUZQ"
      }
    },
    {
      "cell_type": "markdown",
      "source": [
        "## Data Import"
      ],
      "metadata": {
        "id": "ss-KdSCrXBXm"
      }
    },
    {
      "cell_type": "code",
      "source": [
        "data <- read.csv(file=\"data-1718515175697.csv\", header=TRUE,sep=\",\",dec=\";\")"
      ],
      "metadata": {
        "id": "MCWORYg2fXIh"
      },
      "execution_count": 196,
      "outputs": []
    },
    {
      "cell_type": "code",
      "execution_count": null,
      "metadata": {
        "id": "ILQXczAwBZig",
        "collapsed": true,
        "colab": {
          "base_uri": "https://localhost:8080/",
          "height": 211
        },
        "outputId": "8392cb49-37f5-4b7c-efcb-4014c51b59dd"
      },
      "outputs": [
        {
          "output_type": "stream",
          "name": "stderr",
          "text": [
            "Warning message in file(file, \"rt\"):\n",
            "“cannot open file 'sql_4_output.csv': No such file or directory”\n"
          ]
        },
        {
          "output_type": "error",
          "ename": "ERROR",
          "evalue": "Error in file(file, \"rt\"): cannot open the connection\n",
          "traceback": [
            "Error in file(file, \"rt\"): cannot open the connection\nTraceback:\n",
            "1. read.csv(file = \"sql_4_output.csv\", header = TRUE, sep = \",\", \n .     dec = \";\")",
            "2. read.table(file = file, header = header, sep = sep, quote = quote, \n .     dec = dec, fill = fill, comment.char = comment.char, ...)",
            "3. file(file, \"rt\")"
          ]
        }
      ],
      "source": [
        "data <- read.csv(file=\"data-1718515175697.csv\", header=TRUE,sep=\",\",dec=\";\")\n",
        "\n",
        "data_control <- read.csv(file=\"sql_4_output.csv\", header=TRUE,sep=\",\",dec=\";\")"
      ]
    },
    {
      "cell_type": "markdown",
      "source": [
        "## Cleaning & Check"
      ],
      "metadata": {
        "id": "Gz01FU7EXPq3"
      }
    },
    {
      "cell_type": "code",
      "source": [
        "nrow(data)"
      ],
      "metadata": {
        "colab": {
          "base_uri": "https://localhost:8080/",
          "height": 34
        },
        "id": "eRctqHOXB7ZY",
        "outputId": "d957d9a7-4280-4905-b19d-fea44d5a837a"
      },
      "execution_count": 197,
      "outputs": [
        {
          "output_type": "display_data",
          "data": {
            "text/html": [
              "5852"
            ],
            "text/markdown": "5852",
            "text/latex": "5852",
            "text/plain": [
              "[1] 5852"
            ]
          },
          "metadata": {}
        }
      ]
    },
    {
      "cell_type": "code",
      "source": [
        "head(data)"
      ],
      "metadata": {
        "id": "tvJzHwJbB_rw",
        "collapsed": true
      },
      "execution_count": null,
      "outputs": []
    },
    {
      "cell_type": "code",
      "source": [
        "str(data)"
      ],
      "metadata": {
        "id": "Yo_1MQfTnw7X",
        "outputId": "68413a50-2fa3-4a7e-cf97-718fa59b26ad",
        "colab": {
          "base_uri": "https://localhost:8080/"
        }
      },
      "execution_count": 199,
      "outputs": [
        {
          "output_type": "stream",
          "name": "stdout",
          "text": [
            "'data.frame':\t5852 obs. of  16 variables:\n",
            " $ business_id            : chr  \"00AGVWzkxNLGb-7ZrwAOIA\" \"00rIcvqmfci_oJWkOqPqmg\" \"018ixB-WinNmflwX2UvS1g\" \"01mP5a06zQpaYOakfaVBOQ\" ...\n",
            " $ business_lat           : chr  \"39.9532594\" \"40.0571665\" \"39.9461554\" \"40.0727911933\" ...\n",
            " $ business_long          : chr  \"-75.2170205\" \"-75.2357367\" \"-75.1688026\" \"-75.1949470435\" ...\n",
            " $ postal_code            : int  19139 19128 19103 19118 19104 19147 19103 19146 19147 19104 ...\n",
            " $ business_stars         : chr  \"3.0\" \"4.5\" \"4.0\" \"2.5\" ...\n",
            " $ business_stars_pre_2020: chr  \"3.2\" \"4.6\" \"3.9\" \"2.5\" ...\n",
            " $ review_count           : int  70 92 16 61 45 101 11 65 620 8 ...\n",
            " $ review_count_pre_2020  : chr  \"75\" \"68\" \"16\" \"58\" ...\n",
            " $ check_in_count         : chr  \"73\" \"98\" \"39\" \"56\" ...\n",
            " $ check_in_count_pre_2020: chr  \"73\" \"89\" \"39\" \"56\" ...\n",
            " $ attribute_count        : chr  \"9\" \"8\" \"4\" \"8\" ...\n",
            " $ business_park          : int  1 1 1 0 1 1 1 1 1 0 ...\n",
            " $ business_happy_h       : int  0 0 0 0 0 0 0 0 0 0 ...\n",
            " $ business_price         : chr  \"1\" \"1\" \"1\" \"2\" ...\n",
            " $ business_open          : int  1 1 0 1 0 1 0 1 1 1 ...\n",
            " $ n_photo                : chr  \"NULL\" \"5\" \"NULL\" \"NULL\" ...\n"
          ]
        }
      ]
    },
    {
      "cell_type": "code",
      "source": [
        "# NA values are represented in two ways: 'NULL' and 'None':\n",
        "\n",
        "unique(data$business_price)\n",
        "\n",
        "# To fix problem: Replace\n",
        "\n",
        "data <- data %>%\n",
        "  mutate(business_price = na_if(business_price, 'NULL')) %>%\n",
        "  mutate(business_price = na_if(business_price, 'None'))"
      ],
      "metadata": {
        "colab": {
          "base_uri": "https://localhost:8080/",
          "height": 34
        },
        "id": "doznZHgmEJlU",
        "outputId": "ca0027d9-06cb-4fa7-bf45-ba7e82a9c227"
      },
      "execution_count": 201,
      "outputs": [
        {
          "output_type": "display_data",
          "data": {
            "text/html": [
              "<style>\n",
              ".list-inline {list-style: none; margin:0; padding: 0}\n",
              ".list-inline>li {display: inline-block}\n",
              ".list-inline>li:not(:last-child)::after {content: \"\\00b7\"; padding: 0 .5ex}\n",
              "</style>\n",
              "<ol class=list-inline><li>'1'</li><li>'2'</li><li>'NULL'</li><li>'3'</li><li>'4'</li><li>'None'</li></ol>\n"
            ],
            "text/markdown": "1. '1'\n2. '2'\n3. 'NULL'\n4. '3'\n5. '4'\n6. 'None'\n\n\n",
            "text/latex": "\\begin{enumerate*}\n\\item '1'\n\\item '2'\n\\item 'NULL'\n\\item '3'\n\\item '4'\n\\item 'None'\n\\end{enumerate*}\n",
            "text/plain": [
              "[1] \"1\"    \"2\"    \"NULL\" \"3\"    \"4\"    \"None\""
            ]
          },
          "metadata": {}
        }
      ]
    },
    {
      "cell_type": "code",
      "source": [
        "data$business_id  <- as.character(data$business_id)\n",
        "\n",
        "data$business_lat <- as.numeric(data$business_lat)\n",
        "\n",
        "data$business_long <- as.numeric(data$business_long)\n",
        "\n",
        "data$business_stars <- as.numeric(data$business_stars)\n",
        "\n",
        "data$business_stars_pre_2020 <- as.numeric(data$business_stars_pre_2020) #Has NA'S\n",
        "\n",
        "data$business_review_count <- as.integer(data$review_count)\n",
        "\n",
        "data$review_count_pre_2020 <- as.integer(data$review_count_pre_2020) #Has NA'S\n",
        "\n",
        "data$check_in_count <- as.integer(data$check_in_count)\n",
        "\n",
        "data$check_in_count_pre_2020 <- as.integer(data$check_in_count_pre_2020)\n",
        "\n",
        "data$attribute_count <- as.integer(data$attribute_count)\n",
        "\n",
        "data$business_park <- as.factor(data$business_park)\n",
        "\n",
        "data$business_happy_h <- as.factor(data$business_happy_h)\n",
        "\n",
        "data$business_price <- as.integer(data$business_price)\n",
        "\n",
        "data$business_open  <- as.factor(data$business_open)\n",
        "\n",
        "data$n_photo <- as.integer(data$n_photo)"
      ],
      "metadata": {
        "id": "n_YDvORXHsVu",
        "colab": {
          "base_uri": "https://localhost:8080/"
        },
        "outputId": "36e62ef9-7cb7-4512-b21e-33ec5c482c21"
      },
      "execution_count": 202,
      "outputs": [
        {
          "output_type": "stream",
          "name": "stderr",
          "text": [
            "Warning message in eval(expr, envir, enclos):\n",
            "“NAs introduced by coercion”\n",
            "Warning message in eval(expr, envir, enclos):\n",
            "“NAs introduced by coercion”\n",
            "Warning message in eval(expr, envir, enclos):\n",
            "“NAs introduced by coercion”\n",
            "Warning message in eval(expr, envir, enclos):\n",
            "“NAs introduced by coercion”\n",
            "Warning message in eval(expr, envir, enclos):\n",
            "“NAs introduced by coercion”\n",
            "Warning message in eval(expr, envir, enclos):\n",
            "“NAs introduced by coercion”\n"
          ]
        }
      ]
    },
    {
      "cell_type": "code",
      "source": [
        "summary(data)"
      ],
      "metadata": {
        "colab": {
          "base_uri": "https://localhost:8080/",
          "height": 711
        },
        "id": "ixwyytQeGXb9",
        "outputId": "c216086b-4158-472a-a112-cf5f097a11ff"
      },
      "execution_count": 203,
      "outputs": [
        {
          "output_type": "display_data",
          "data": {
            "text/plain": [
              " business_id         business_lat   business_long     postal_code   \n",
              " Length:5852        Min.   :39.87   Min.   :-75.36   Min.   :19019  \n",
              " Class :character   1st Qu.:39.95   1st Qu.:-75.18   1st Qu.:19107  \n",
              " Mode  :character   Median :39.95   Median :-75.16   Median :19124  \n",
              "                    Mean   :39.97   Mean   :-75.15   Mean   :19125  \n",
              "                    3rd Qu.:40.00   3rd Qu.:-75.14   3rd Qu.:19145  \n",
              "                    Max.   :40.14   Max.   :-74.94   Max.   :19454  \n",
              "                                                     NA's   :1      \n",
              " business_stars  business_stars_pre_2020  review_count    review_count_pre_2020\n",
              " Min.   :1.000   Min.   :1.000           Min.   :   5.0   Min.   :   1.0       \n",
              " 1st Qu.:3.000   1st Qu.:3.100           1st Qu.:  14.0   1st Qu.:  12.0       \n",
              " Median :3.500   Median :3.700           Median :  38.5   Median :  36.0       \n",
              " Mean   :3.556   Mean   :3.553           Mean   : 113.8   Mean   : 108.7       \n",
              " 3rd Qu.:4.000   3rd Qu.:4.100           3rd Qu.: 114.0   3rd Qu.: 112.0       \n",
              " Max.   :5.000   Max.   :5.000           Max.   :5721.0   Max.   :5277.0       \n",
              "                 NA's   :335                              NA's   :335          \n",
              " check_in_count    check_in_count_pre_2020 attribute_count  business_park\n",
              " Min.   :    1.0   Min.   :    1.0         Min.   : 0.000   0:2033       \n",
              " 1st Qu.:   13.0   1st Qu.:   14.0         1st Qu.: 5.000   1:3819       \n",
              " Median :   50.0   Median :   52.0         Median : 8.000                \n",
              " Mean   :  217.2   Mean   :  220.4         Mean   : 8.519                \n",
              " 3rd Qu.:  186.2   3rd Qu.:  196.0         3rd Qu.:12.000                \n",
              " Max.   :18615.0   Max.   :17662.0         Max.   :24.000                \n",
              " NA's   :200       NA's   :538             NA's   :53                    \n",
              " business_happy_h business_price  business_open    n_photo       \n",
              " 0:4886           Min.   :1.000   0:2327        Min.   :  1.000  \n",
              " 1: 966           1st Qu.:1.000   1:3525        1st Qu.:  1.000  \n",
              "                  Median :2.000                 Median :  3.000  \n",
              "                  Mean   :1.628                 Mean   :  6.758  \n",
              "                  3rd Qu.:2.000                 3rd Qu.:  7.000  \n",
              "                  Max.   :4.000                 Max.   :201.000  \n",
              "                  NA's   :913                   NA's   :2553     \n",
              " business_review_count\n",
              " Min.   :   5.0       \n",
              " 1st Qu.:  14.0       \n",
              " Median :  38.5       \n",
              " Mean   : 113.8       \n",
              " 3rd Qu.: 114.0       \n",
              " Max.   :5721.0       \n",
              "                      "
            ]
          },
          "metadata": {}
        }
      ]
    },
    {
      "cell_type": "code",
      "source": [
        "sum(is.na(data$business_price))"
      ],
      "metadata": {
        "colab": {
          "base_uri": "https://localhost:8080/",
          "height": 34
        },
        "id": "DQjHQlsoG1JC",
        "outputId": "1c8dfa68-663e-440a-d308-160829dbf426"
      },
      "execution_count": 204,
      "outputs": [
        {
          "output_type": "display_data",
          "data": {
            "text/html": [
              "913"
            ],
            "text/markdown": "913",
            "text/latex": "913",
            "text/plain": [
              "[1] 913"
            ]
          },
          "metadata": {}
        }
      ]
    },
    {
      "cell_type": "markdown",
      "source": [
        "# External: Population Data"
      ],
      "metadata": {
        "id": "65hSDTVtWtgb"
      }
    },
    {
      "cell_type": "markdown",
      "source": [
        "## Data Import"
      ],
      "metadata": {
        "id": "mFtcPthk8E0q"
      }
    },
    {
      "cell_type": "code",
      "source": [
        "population_by_zip_2010 <- read.csv(file=\"population_by_zip_2010.csv\", header=TRUE,sep=\",\",dec=\";\")"
      ],
      "metadata": {
        "id": "UZlhGu6w8EfL"
      },
      "execution_count": 213,
      "outputs": []
    },
    {
      "cell_type": "markdown",
      "source": [
        "## Cleaning & Check"
      ],
      "metadata": {
        "id": "6wNOT-eLYMlt"
      }
    },
    {
      "cell_type": "code",
      "source": [
        "nrow(population_by_zip_2010)\n",
        "\n",
        "n_distinct(population_by_zip_2010$zipcode)"
      ],
      "metadata": {
        "colab": {
          "base_uri": "https://localhost:8080/",
          "height": 52
        },
        "id": "rs9M73ZM-de5",
        "outputId": "7ceb6c49-ee10-4832-d897-5f080ccccf00"
      },
      "execution_count": 214,
      "outputs": [
        {
          "output_type": "display_data",
          "data": {
            "text/html": [
              "1622831"
            ],
            "text/markdown": "1622831",
            "text/latex": "1622831",
            "text/plain": [
              "[1] 1622831"
            ]
          },
          "metadata": {}
        },
        {
          "output_type": "display_data",
          "data": {
            "text/html": [
              "33119"
            ],
            "text/markdown": "33119",
            "text/latex": "33119",
            "text/plain": [
              "[1] 33119"
            ]
          },
          "metadata": {}
        }
      ]
    },
    {
      "cell_type": "code",
      "source": [
        "#To observe structure of dataset:\n",
        "\n",
        "population_by_zip_2010 %>%\n",
        "  filter(zipcode == \"61747\") %>%\n",
        "    arrange(desc(population)) %>%\n",
        "      slice_head(n=5)"
      ],
      "metadata": {
        "colab": {
          "base_uri": "https://localhost:8080/",
          "height": 255
        },
        "id": "cAX5rN1GYuUA",
        "outputId": "6fe77c36-7bf6-4210-94a8-58d6a6d946c1"
      },
      "execution_count": 215,
      "outputs": [
        {
          "output_type": "display_data",
          "data": {
            "text/html": [
              "<table class=\"dataframe\">\n",
              "<caption>A data.frame: 5 × 6</caption>\n",
              "<thead>\n",
              "\t<tr><th scope=col>population</th><th scope=col>minimum_age</th><th scope=col>maximum_age</th><th scope=col>gender</th><th scope=col>zipcode</th><th scope=col>geo_id</th></tr>\n",
              "\t<tr><th scope=col>&lt;int&gt;</th><th scope=col>&lt;int&gt;</th><th scope=col>&lt;int&gt;</th><th scope=col>&lt;chr&gt;</th><th scope=col>&lt;int&gt;</th><th scope=col>&lt;chr&gt;</th></tr>\n",
              "</thead>\n",
              "<tbody>\n",
              "\t<tr><td>1560</td><td>NA</td><td>NA</td><td>      </td><td>61747</td><td>8600000US61747</td></tr>\n",
              "\t<tr><td> 815</td><td>NA</td><td>NA</td><td>female</td><td>61747</td><td>8600000US61747</td></tr>\n",
              "\t<tr><td> 745</td><td>NA</td><td>NA</td><td>male  </td><td>61747</td><td>8600000US61747</td></tr>\n",
              "\t<tr><td>  72</td><td>45</td><td>49</td><td>male  </td><td>61747</td><td>8600000US61747</td></tr>\n",
              "\t<tr><td>  72</td><td>85</td><td>NA</td><td>female</td><td>61747</td><td>8600000US61747</td></tr>\n",
              "</tbody>\n",
              "</table>\n"
            ],
            "text/markdown": "\nA data.frame: 5 × 6\n\n| population &lt;int&gt; | minimum_age &lt;int&gt; | maximum_age &lt;int&gt; | gender &lt;chr&gt; | zipcode &lt;int&gt; | geo_id &lt;chr&gt; |\n|---|---|---|---|---|---|\n| 1560 | NA | NA | <!----> | 61747 | 8600000US61747 |\n|  815 | NA | NA | female | 61747 | 8600000US61747 |\n|  745 | NA | NA | male   | 61747 | 8600000US61747 |\n|   72 | 45 | 49 | male   | 61747 | 8600000US61747 |\n|   72 | 85 | NA | female | 61747 | 8600000US61747 |\n\n",
            "text/latex": "A data.frame: 5 × 6\n\\begin{tabular}{llllll}\n population & minimum\\_age & maximum\\_age & gender & zipcode & geo\\_id\\\\\n <int> & <int> & <int> & <chr> & <int> & <chr>\\\\\n\\hline\n\t 1560 & NA & NA &        & 61747 & 8600000US61747\\\\\n\t  815 & NA & NA & female & 61747 & 8600000US61747\\\\\n\t  745 & NA & NA & male   & 61747 & 8600000US61747\\\\\n\t   72 & 45 & 49 & male   & 61747 & 8600000US61747\\\\\n\t   72 & 85 & NA & female & 61747 & 8600000US61747\\\\\n\\end{tabular}\n",
            "text/plain": [
              "  population minimum_age maximum_age gender zipcode geo_id        \n",
              "1 1560       NA          NA                 61747   8600000US61747\n",
              "2  815       NA          NA          female 61747   8600000US61747\n",
              "3  745       NA          NA          male   61747   8600000US61747\n",
              "4   72       45          49          male   61747   8600000US61747\n",
              "5   72       85          NA          female 61747   8600000US61747"
            ]
          },
          "metadata": {}
        }
      ]
    },
    {
      "cell_type": "code",
      "source": [
        "summary(population_by_zip_2010)"
      ],
      "metadata": {
        "colab": {
          "base_uri": "https://localhost:8080/",
          "height": 295
        },
        "id": "3K8iu-U8Bzz_",
        "outputId": "29847647-328d-4f16-ce17-5e4c0f46381c"
      },
      "execution_count": 216,
      "outputs": [
        {
          "output_type": "display_data",
          "data": {
            "text/plain": [
              "   population        minimum_age     maximum_age        gender         \n",
              " Min.   :     0.0   Min.   : 0.00   Min.   : 4.00    Length:1622831    \n",
              " 1st Qu.:    13.0   1st Qu.:20.00   1st Qu.:20.00    Class :character  \n",
              " Median :    60.0   Median :40.00   Median :41.50    Mode  :character  \n",
              " Mean   :   577.6   Mean   :41.52   Mean   :42.41                      \n",
              " 3rd Qu.:   277.0   3rd Qu.:65.00   3rd Qu.:64.00                      \n",
              " Max.   :113916.0   Max.   :85.00   Max.   :84.00                      \n",
              "                    NA's   :99357   NA's   :165595                     \n",
              "    zipcode         geo_id         \n",
              " Min.   :  602   Length:1622831    \n",
              " 1st Qu.:26636   Class :character  \n",
              " Median :49740   Mode  :character  \n",
              " Mean   :49668                     \n",
              " 3rd Qu.:72125                     \n",
              " Max.   :99929                     \n",
              "                                   "
            ]
          },
          "metadata": {}
        }
      ]
    },
    {
      "cell_type": "code",
      "source": [
        "args(if_else)"
      ],
      "metadata": {
        "colab": {
          "base_uri": "https://localhost:8080/",
          "height": 69
        },
        "id": "Kt3yAJoECs7j",
        "outputId": "6f0a9dda-3119-4651-9acb-90af098da1f2"
      },
      "execution_count": 189,
      "outputs": [
        {
          "output_type": "display_data",
          "data": {
            "text/html": [
              "<pre class=language-r><code>function (condition, true, false, missing = NULL, ..., ptype = NULL, \n",
              "<span style=white-space:pre-wrap>    size = NULL) </span>\n",
              "NULL</code></pre>"
            ],
            "text/markdown": "```r\nfunction (condition, true, false, missing = NULL, ..., ptype = NULL, \n    size = NULL) \nNULL\n```",
            "text/latex": "\\begin{minted}{r}\nfunction (condition, true, false, missing = NULL, ..., ptype = NULL, \n    size = NULL) \nNULL\n\\end{minted}",
            "text/plain": [
              "function (condition, true, false, missing = NULL, ..., ptype = NULL, \n",
              "    size = NULL) \n",
              "NULL"
            ]
          },
          "metadata": {}
        }
      ]
    },
    {
      "cell_type": "code",
      "source": [
        "#Replacing space ('') values with 'NULL' to be able to filter properly:\n",
        "\n",
        "population_by_zip_2010 <- population_by_zip_2010 %>%\n",
        "  mutate(gender = if_else(!gender %in% c(\"female\", \"male\"), \"NULL\", gender))"
      ],
      "metadata": {
        "collapsed": true,
        "id": "PrjApHNYBa4I"
      },
      "execution_count": 217,
      "outputs": []
    },
    {
      "cell_type": "code",
      "source": [
        "# Creating the Population by Zipcode, with age subgroups:\n",
        "\n",
        "pop_by_zip <- population_by_zip_2010 %>%\n",
        "  group_by(zipcode) %>%\n",
        "  summarise(\n",
        "    total_population = sum(population[is.na(minimum_age) & is.na(maximum_age) & gender == \"NULL\"], na.rm = TRUE),\n",
        "    total_population_children = sum(population[minimum_age >= 0 & maximum_age <= 14], na.rm = TRUE),\n",
        "    total_population_youth = sum(population[minimum_age >= 15 & maximum_age <= 24], na.rm = TRUE),\n",
        "    total_population_adults = sum(population[minimum_age >= 25 & maximum_age <= 64], na.rm = TRUE),\n",
        "    total_population_seniors = sum(population[minimum_age >= 65], na.rm = TRUE)\n",
        "  )"
      ],
      "metadata": {
        "id": "2vtNZJwdGvXC"
      },
      "execution_count": 218,
      "outputs": []
    },
    {
      "cell_type": "code",
      "source": [
        "# Changing \"zipcode\" column name into \"postal_code\"; to match both dataset:\n",
        "\n",
        "pop_by_zip <- pop_by_zip %>%\n",
        "  rename(postal_code = zipcode)"
      ],
      "metadata": {
        "collapsed": true,
        "id": "TtMzaAJuJ1Uf"
      },
      "execution_count": 219,
      "outputs": []
    },
    {
      "cell_type": "code",
      "source": [
        "#Control:\n",
        "\n",
        "pop_by_zip %>%\n",
        "  filter(postal_code == \"61747\")"
      ],
      "metadata": {
        "collapsed": true,
        "id": "B1m4VM1IIn0m"
      },
      "execution_count": null,
      "outputs": []
    },
    {
      "cell_type": "code",
      "source": [
        "#Control:\n",
        "\n",
        "population_by_zip_2010 %>%\n",
        "  filter(zipcode == \"61747\") %>%\n",
        "    arrange(desc(population))"
      ],
      "metadata": {
        "collapsed": true,
        "id": "WFEe4G-Z-0zA"
      },
      "execution_count": null,
      "outputs": []
    },
    {
      "cell_type": "markdown",
      "source": [
        "## Left Join into Dataset"
      ],
      "metadata": {
        "id": "Ob2hkN4FZ6Vc"
      }
    },
    {
      "cell_type": "code",
      "source": [
        "# Left Join into Yelp Data\n",
        "\n",
        "data <- data %>%\n",
        "            left_join(pop_by_zip, by=\"postal_code\")"
      ],
      "metadata": {
        "id": "Yq4El8GzKNVb"
      },
      "execution_count": 222,
      "outputs": []
    },
    {
      "cell_type": "markdown",
      "source": [
        "# Calculation: Nearby Businesses\n"
      ],
      "metadata": {
        "id": "Y4KnWrIXHysW"
      }
    },
    {
      "cell_type": "markdown",
      "source": [
        "## Pairwise Distance Calculation"
      ],
      "metadata": {
        "id": "-Hfausxral5p"
      }
    },
    {
      "cell_type": "code",
      "source": [
        "#install.packages(\"geosphere\")"
      ],
      "metadata": {
        "id": "HkcrInOeIinc"
      },
      "execution_count": null,
      "outputs": []
    },
    {
      "cell_type": "code",
      "source": [
        "library(geosphere)"
      ],
      "metadata": {
        "id": "WtfWF5aZIfgA"
      },
      "execution_count": 223,
      "outputs": []
    },
    {
      "cell_type": "code",
      "source": [
        "# Selecting columns for distance matrix calculation:\n",
        "\n",
        "data_1 <- data %>%\n",
        "  select(business_id, business_lat, business_long)"
      ],
      "metadata": {
        "id": "qfk90pM5H0_3"
      },
      "execution_count": 226,
      "outputs": []
    },
    {
      "cell_type": "code",
      "source": [
        "# Calculate pairwise distances for all businesses:\n",
        "df_distances <- data_1 %>%\n",
        "  mutate(distances = apply(data_1[, c(\"business_long\", \"business_lat\")], 1, function(x) distHaversine(data_1[, c(\"business_long\", \"business_lat\")], x))) %>%\n",
        "    select(business_id, distances)"
      ],
      "metadata": {
        "collapsed": true,
        "id": "SkN5x6qTVSFP"
      },
      "execution_count": 227,
      "outputs": []
    },
    {
      "cell_type": "code",
      "source": [
        "# Seting a threshold distance (in meters)\n",
        "threshold_distance <- 1000\n",
        "\n",
        "# Filtering distances to find nearby businesses\n",
        "nearby_counts <- df_distances %>%\n",
        "  mutate(nearby_count = rowSums(distances <= threshold_distance), nearby_count_minus_1 = nearby_count - 1) %>% #adjusting for each business counting itself (subtracting 1 from each count)\n",
        "    select(business_id, nearby_count_minus_1)\n",
        "\n",
        "# Results\n",
        "head(nearby_counts)"
      ],
      "metadata": {
        "colab": {
          "base_uri": "https://localhost:8080/",
          "height": 286
        },
        "id": "9nOCKvP5Wvvh",
        "outputId": "0783cd6f-b326-44e7-a959-e0dbb0afafcb"
      },
      "execution_count": 229,
      "outputs": [
        {
          "output_type": "display_data",
          "data": {
            "text/html": [
              "<table class=\"dataframe\">\n",
              "<caption>A data.frame: 6 × 2</caption>\n",
              "<thead>\n",
              "\t<tr><th></th><th scope=col>business_id</th><th scope=col>nearby_count_minus_1</th></tr>\n",
              "\t<tr><th></th><th scope=col>&lt;chr&gt;</th><th scope=col>&lt;dbl&gt;</th></tr>\n",
              "</thead>\n",
              "<tbody>\n",
              "\t<tr><th scope=row>1</th><td>00AGVWzkxNLGb-7ZrwAOIA</td><td> 145</td></tr>\n",
              "\t<tr><th scope=row>2</th><td>00rIcvqmfci_oJWkOqPqmg</td><td>  11</td></tr>\n",
              "\t<tr><th scope=row>3</th><td>018ixB-WinNmflwX2UvS1g</td><td>1016</td></tr>\n",
              "\t<tr><th scope=row>4</th><td>01mP5a06zQpaYOakfaVBOQ</td><td>  42</td></tr>\n",
              "\t<tr><th scope=row>5</th><td>01YFYYmevGER3VJ1xFtUcA</td><td> 326</td></tr>\n",
              "\t<tr><th scope=row>6</th><td>02nb6CI8w-2EoSEkQdk2Wg</td><td> 405</td></tr>\n",
              "</tbody>\n",
              "</table>\n"
            ],
            "text/markdown": "\nA data.frame: 6 × 2\n\n| <!--/--> | business_id &lt;chr&gt; | nearby_count_minus_1 &lt;dbl&gt; |\n|---|---|---|\n| 1 | 00AGVWzkxNLGb-7ZrwAOIA |  145 |\n| 2 | 00rIcvqmfci_oJWkOqPqmg |   11 |\n| 3 | 018ixB-WinNmflwX2UvS1g | 1016 |\n| 4 | 01mP5a06zQpaYOakfaVBOQ |   42 |\n| 5 | 01YFYYmevGER3VJ1xFtUcA |  326 |\n| 6 | 02nb6CI8w-2EoSEkQdk2Wg |  405 |\n\n",
            "text/latex": "A data.frame: 6 × 2\n\\begin{tabular}{r|ll}\n  & business\\_id & nearby\\_count\\_minus\\_1\\\\\n  & <chr> & <dbl>\\\\\n\\hline\n\t1 & 00AGVWzkxNLGb-7ZrwAOIA &  145\\\\\n\t2 & 00rIcvqmfci\\_oJWkOqPqmg &   11\\\\\n\t3 & 018ixB-WinNmflwX2UvS1g & 1016\\\\\n\t4 & 01mP5a06zQpaYOakfaVBOQ &   42\\\\\n\t5 & 01YFYYmevGER3VJ1xFtUcA &  326\\\\\n\t6 & 02nb6CI8w-2EoSEkQdk2Wg &  405\\\\\n\\end{tabular}\n",
            "text/plain": [
              "  business_id            nearby_count_minus_1\n",
              "1 00AGVWzkxNLGb-7ZrwAOIA  145                \n",
              "2 00rIcvqmfci_oJWkOqPqmg   11                \n",
              "3 018ixB-WinNmflwX2UvS1g 1016                \n",
              "4 01mP5a06zQpaYOakfaVBOQ   42                \n",
              "5 01YFYYmevGER3VJ1xFtUcA  326                \n",
              "6 02nb6CI8w-2EoSEkQdk2Wg  405                "
            ]
          },
          "metadata": {}
        }
      ]
    },
    {
      "cell_type": "markdown",
      "source": [
        "## Left Join into Dataset"
      ],
      "metadata": {
        "id": "wzS6lqY9-Jv8"
      }
    },
    {
      "cell_type": "code",
      "source": [
        "#For nearby_counts, i.e. business_proximity\n",
        "\n",
        "data <- data %>%\n",
        "            left_join(nearby_counts, by=\"business_id\")"
      ],
      "metadata": {
        "id": "MUcjKaCL-LVV"
      },
      "execution_count": 230,
      "outputs": []
    },
    {
      "cell_type": "code",
      "source": [
        "head(data)"
      ],
      "metadata": {
        "collapsed": true,
        "id": "Gg6ty_Ly-XoN",
        "colab": {
          "base_uri": "https://localhost:8080/",
          "height": 306
        },
        "outputId": "7dfa1956-3305-477c-e00a-f53e8d0ae4c8"
      },
      "execution_count": 231,
      "outputs": [
        {
          "output_type": "display_data",
          "data": {
            "text/html": [
              "<table class=\"dataframe\">\n",
              "<caption>A data.frame: 6 × 23</caption>\n",
              "<thead>\n",
              "\t<tr><th></th><th scope=col>business_id</th><th scope=col>business_lat</th><th scope=col>business_long</th><th scope=col>postal_code</th><th scope=col>business_stars</th><th scope=col>business_stars_pre_2020</th><th scope=col>review_count</th><th scope=col>review_count_pre_2020</th><th scope=col>check_in_count</th><th scope=col>check_in_count_pre_2020</th><th scope=col>⋯</th><th scope=col>business_price</th><th scope=col>business_open</th><th scope=col>n_photo</th><th scope=col>business_review_count</th><th scope=col>total_population</th><th scope=col>total_population_children</th><th scope=col>total_population_youth</th><th scope=col>total_population_adults</th><th scope=col>total_population_seniors</th><th scope=col>nearby_count_minus_1</th></tr>\n",
              "\t<tr><th></th><th scope=col>&lt;chr&gt;</th><th scope=col>&lt;dbl&gt;</th><th scope=col>&lt;dbl&gt;</th><th scope=col>&lt;int&gt;</th><th scope=col>&lt;dbl&gt;</th><th scope=col>&lt;dbl&gt;</th><th scope=col>&lt;int&gt;</th><th scope=col>&lt;int&gt;</th><th scope=col>&lt;int&gt;</th><th scope=col>&lt;int&gt;</th><th scope=col>⋯</th><th scope=col>&lt;int&gt;</th><th scope=col>&lt;fct&gt;</th><th scope=col>&lt;int&gt;</th><th scope=col>&lt;int&gt;</th><th scope=col>&lt;int&gt;</th><th scope=col>&lt;int&gt;</th><th scope=col>&lt;int&gt;</th><th scope=col>&lt;int&gt;</th><th scope=col>&lt;int&gt;</th><th scope=col>&lt;dbl&gt;</th></tr>\n",
              "</thead>\n",
              "<tbody>\n",
              "\t<tr><th scope=row>1</th><td>00AGVWzkxNLGb-7ZrwAOIA</td><td>39.95326</td><td>-75.21702</td><td>19139</td><td>3.0</td><td>3.2</td><td> 70</td><td>75</td><td> 73</td><td> 73</td><td>⋯</td><td>1</td><td>1</td><td>NA</td><td> 70</td><td>41271</td><td>8924</td><td> 6658</td><td>20247</td><td>5442</td><td> 145</td></tr>\n",
              "\t<tr><th scope=row>2</th><td>00rIcvqmfci_oJWkOqPqmg</td><td>40.05717</td><td>-75.23574</td><td>19128</td><td>4.5</td><td>4.6</td><td> 92</td><td>68</td><td> 98</td><td> 89</td><td>⋯</td><td>1</td><td>1</td><td> 5</td><td> 92</td><td>35239</td><td>4124</td><td> 5312</td><td>20997</td><td>4806</td><td>  11</td></tr>\n",
              "\t<tr><th scope=row>3</th><td>018ixB-WinNmflwX2UvS1g</td><td>39.94616</td><td>-75.16880</td><td>19103</td><td>4.0</td><td>3.9</td><td> 16</td><td>16</td><td> 39</td><td> 39</td><td>⋯</td><td>1</td><td>0</td><td>NA</td><td> 16</td><td>21908</td><td> 971</td><td> 2638</td><td>14135</td><td>4164</td><td>1016</td></tr>\n",
              "\t<tr><th scope=row>4</th><td>01mP5a06zQpaYOakfaVBOQ</td><td>40.07279</td><td>-75.19495</td><td>19118</td><td>2.5</td><td>2.5</td><td> 61</td><td>58</td><td> 56</td><td> 56</td><td>⋯</td><td>2</td><td>1</td><td>NA</td><td> 61</td><td> 9808</td><td>1402</td><td> 1373</td><td> 5324</td><td>1709</td><td>  42</td></tr>\n",
              "\t<tr><th scope=row>5</th><td>01YFYYmevGER3VJ1xFtUcA</td><td>39.95317</td><td>-75.19287</td><td>19104</td><td>2.5</td><td>2.6</td><td> 45</td><td>47</td><td> 53</td><td> 53</td><td>⋯</td><td>2</td><td>0</td><td> 1</td><td> 45</td><td>51808</td><td>5260</td><td>25245</td><td>17786</td><td>3517</td><td> 326</td></tr>\n",
              "\t<tr><th scope=row>6</th><td>02nb6CI8w-2EoSEkQdk2Wg</td><td>39.93617</td><td>-75.14694</td><td>19147</td><td>4.0</td><td>4.2</td><td>101</td><td>94</td><td>472</td><td>466</td><td>⋯</td><td>1</td><td>1</td><td> 2</td><td>101</td><td>36228</td><td>4330</td><td> 4679</td><td>23209</td><td>4010</td><td> 405</td></tr>\n",
              "</tbody>\n",
              "</table>\n"
            ],
            "text/markdown": "\nA data.frame: 6 × 23\n\n| <!--/--> | business_id &lt;chr&gt; | business_lat &lt;dbl&gt; | business_long &lt;dbl&gt; | postal_code &lt;int&gt; | business_stars &lt;dbl&gt; | business_stars_pre_2020 &lt;dbl&gt; | review_count &lt;int&gt; | review_count_pre_2020 &lt;int&gt; | check_in_count &lt;int&gt; | check_in_count_pre_2020 &lt;int&gt; | ⋯ ⋯ | business_price &lt;int&gt; | business_open &lt;fct&gt; | n_photo &lt;int&gt; | business_review_count &lt;int&gt; | total_population &lt;int&gt; | total_population_children &lt;int&gt; | total_population_youth &lt;int&gt; | total_population_adults &lt;int&gt; | total_population_seniors &lt;int&gt; | nearby_count_minus_1 &lt;dbl&gt; |\n|---|---|---|---|---|---|---|---|---|---|---|---|---|---|---|---|---|---|---|---|---|---|\n| 1 | 00AGVWzkxNLGb-7ZrwAOIA | 39.95326 | -75.21702 | 19139 | 3.0 | 3.2 |  70 | 75 |  73 |  73 | ⋯ | 1 | 1 | NA |  70 | 41271 | 8924 |  6658 | 20247 | 5442 |  145 |\n| 2 | 00rIcvqmfci_oJWkOqPqmg | 40.05717 | -75.23574 | 19128 | 4.5 | 4.6 |  92 | 68 |  98 |  89 | ⋯ | 1 | 1 |  5 |  92 | 35239 | 4124 |  5312 | 20997 | 4806 |   11 |\n| 3 | 018ixB-WinNmflwX2UvS1g | 39.94616 | -75.16880 | 19103 | 4.0 | 3.9 |  16 | 16 |  39 |  39 | ⋯ | 1 | 0 | NA |  16 | 21908 |  971 |  2638 | 14135 | 4164 | 1016 |\n| 4 | 01mP5a06zQpaYOakfaVBOQ | 40.07279 | -75.19495 | 19118 | 2.5 | 2.5 |  61 | 58 |  56 |  56 | ⋯ | 2 | 1 | NA |  61 |  9808 | 1402 |  1373 |  5324 | 1709 |   42 |\n| 5 | 01YFYYmevGER3VJ1xFtUcA | 39.95317 | -75.19287 | 19104 | 2.5 | 2.6 |  45 | 47 |  53 |  53 | ⋯ | 2 | 0 |  1 |  45 | 51808 | 5260 | 25245 | 17786 | 3517 |  326 |\n| 6 | 02nb6CI8w-2EoSEkQdk2Wg | 39.93617 | -75.14694 | 19147 | 4.0 | 4.2 | 101 | 94 | 472 | 466 | ⋯ | 1 | 1 |  2 | 101 | 36228 | 4330 |  4679 | 23209 | 4010 |  405 |\n\n",
            "text/latex": "A data.frame: 6 × 23\n\\begin{tabular}{r|lllllllllllllllllllll}\n  & business\\_id & business\\_lat & business\\_long & postal\\_code & business\\_stars & business\\_stars\\_pre\\_2020 & review\\_count & review\\_count\\_pre\\_2020 & check\\_in\\_count & check\\_in\\_count\\_pre\\_2020 & ⋯ & business\\_price & business\\_open & n\\_photo & business\\_review\\_count & total\\_population & total\\_population\\_children & total\\_population\\_youth & total\\_population\\_adults & total\\_population\\_seniors & nearby\\_count\\_minus\\_1\\\\\n  & <chr> & <dbl> & <dbl> & <int> & <dbl> & <dbl> & <int> & <int> & <int> & <int> & ⋯ & <int> & <fct> & <int> & <int> & <int> & <int> & <int> & <int> & <int> & <dbl>\\\\\n\\hline\n\t1 & 00AGVWzkxNLGb-7ZrwAOIA & 39.95326 & -75.21702 & 19139 & 3.0 & 3.2 &  70 & 75 &  73 &  73 & ⋯ & 1 & 1 & NA &  70 & 41271 & 8924 &  6658 & 20247 & 5442 &  145\\\\\n\t2 & 00rIcvqmfci\\_oJWkOqPqmg & 40.05717 & -75.23574 & 19128 & 4.5 & 4.6 &  92 & 68 &  98 &  89 & ⋯ & 1 & 1 &  5 &  92 & 35239 & 4124 &  5312 & 20997 & 4806 &   11\\\\\n\t3 & 018ixB-WinNmflwX2UvS1g & 39.94616 & -75.16880 & 19103 & 4.0 & 3.9 &  16 & 16 &  39 &  39 & ⋯ & 1 & 0 & NA &  16 & 21908 &  971 &  2638 & 14135 & 4164 & 1016\\\\\n\t4 & 01mP5a06zQpaYOakfaVBOQ & 40.07279 & -75.19495 & 19118 & 2.5 & 2.5 &  61 & 58 &  56 &  56 & ⋯ & 2 & 1 & NA &  61 &  9808 & 1402 &  1373 &  5324 & 1709 &   42\\\\\n\t5 & 01YFYYmevGER3VJ1xFtUcA & 39.95317 & -75.19287 & 19104 & 2.5 & 2.6 &  45 & 47 &  53 &  53 & ⋯ & 2 & 0 &  1 &  45 & 51808 & 5260 & 25245 & 17786 & 3517 &  326\\\\\n\t6 & 02nb6CI8w-2EoSEkQdk2Wg & 39.93617 & -75.14694 & 19147 & 4.0 & 4.2 & 101 & 94 & 472 & 466 & ⋯ & 1 & 1 &  2 & 101 & 36228 & 4330 &  4679 & 23209 & 4010 &  405\\\\\n\\end{tabular}\n",
            "text/plain": [
              "  business_id            business_lat business_long postal_code business_stars\n",
              "1 00AGVWzkxNLGb-7ZrwAOIA 39.95326     -75.21702     19139       3.0           \n",
              "2 00rIcvqmfci_oJWkOqPqmg 40.05717     -75.23574     19128       4.5           \n",
              "3 018ixB-WinNmflwX2UvS1g 39.94616     -75.16880     19103       4.0           \n",
              "4 01mP5a06zQpaYOakfaVBOQ 40.07279     -75.19495     19118       2.5           \n",
              "5 01YFYYmevGER3VJ1xFtUcA 39.95317     -75.19287     19104       2.5           \n",
              "6 02nb6CI8w-2EoSEkQdk2Wg 39.93617     -75.14694     19147       4.0           \n",
              "  business_stars_pre_2020 review_count review_count_pre_2020 check_in_count\n",
              "1 3.2                      70          75                     73           \n",
              "2 4.6                      92          68                     98           \n",
              "3 3.9                      16          16                     39           \n",
              "4 2.5                      61          58                     56           \n",
              "5 2.6                      45          47                     53           \n",
              "6 4.2                     101          94                    472           \n",
              "  check_in_count_pre_2020 ⋯ business_price business_open n_photo\n",
              "1  73                     ⋯ 1              1             NA     \n",
              "2  89                     ⋯ 1              1              5     \n",
              "3  39                     ⋯ 1              0             NA     \n",
              "4  56                     ⋯ 2              1             NA     \n",
              "5  53                     ⋯ 2              0              1     \n",
              "6 466                     ⋯ 1              1              2     \n",
              "  business_review_count total_population total_population_children\n",
              "1  70                   41271            8924                     \n",
              "2  92                   35239            4124                     \n",
              "3  16                   21908             971                     \n",
              "4  61                    9808            1402                     \n",
              "5  45                   51808            5260                     \n",
              "6 101                   36228            4330                     \n",
              "  total_population_youth total_population_adults total_population_seniors\n",
              "1  6658                  20247                   5442                    \n",
              "2  5312                  20997                   4806                    \n",
              "3  2638                  14135                   4164                    \n",
              "4  1373                   5324                   1709                    \n",
              "5 25245                  17786                   3517                    \n",
              "6  4679                  23209                   4010                    \n",
              "  nearby_count_minus_1\n",
              "1  145                \n",
              "2   11                \n",
              "3 1016                \n",
              "4   42                \n",
              "5  326                \n",
              "6  405                "
            ]
          },
          "metadata": {}
        }
      ]
    },
    {
      "cell_type": "markdown",
      "source": [
        "# Base Model (without External Population Data)"
      ],
      "metadata": {
        "id": "sOoCEN9Sa2zV"
      }
    },
    {
      "cell_type": "markdown",
      "source": [
        "## Creating a Subset"
      ],
      "metadata": {
        "id": "EyLBNsEDlYSi"
      }
    },
    {
      "cell_type": "code",
      "source": [
        "#install.packages(\"mice\")"
      ],
      "metadata": {
        "collapsed": true,
        "id": "kndNnQ3WlaK_"
      },
      "execution_count": null,
      "outputs": []
    },
    {
      "cell_type": "code",
      "source": [
        "library(mice)"
      ],
      "metadata": {
        "collapsed": true,
        "id": "RrddktuQiYUA"
      },
      "execution_count": 232,
      "outputs": []
    },
    {
      "cell_type": "code",
      "source": [
        "# Selecting the variables for analysis:\n",
        "data_to_analysis <- data %>%\n",
        "    select(check_in_count_pre_2020, business_stars_pre_2020, nearby_count_minus_1, attribute_count, business_price, business_happy_h)"
      ],
      "metadata": {
        "id": "indBdD2glfpW"
      },
      "execution_count": 233,
      "outputs": []
    },
    {
      "cell_type": "markdown",
      "source": [
        "## *Running the Model with NA's (Pre-Mice)"
      ],
      "metadata": {
        "id": "fbX1XgR1oG3f"
      }
    },
    {
      "cell_type": "code",
      "source": [
        "# Check_in_frequency = β0 + β1 * avg_number_of_stars + β2 * business_proximity + β3 * number of characteristics + β4 * (price_level x happy hour) + ε"
      ],
      "metadata": {
        "id": "Yuv6hB1GDAI4"
      },
      "execution_count": null,
      "outputs": []
    },
    {
      "cell_type": "code",
      "source": [
        "install.packages(\"car\") #test\n",
        "library(car)"
      ],
      "metadata": {
        "id": "fDkDc2iwtrzG"
      },
      "execution_count": null,
      "outputs": []
    },
    {
      "cell_type": "code",
      "source": [
        "model_pre_mice <- lm(check_in_count_pre_2020 ~\n",
        "              business_stars_pre_2020\n",
        "              + nearby_count_minus_1\n",
        "              + attribute_count\n",
        "              + business_price * business_happy_h,\n",
        "                                                   data_to_analysis)"
      ],
      "metadata": {
        "id": "Sj04B2e5oHne"
      },
      "execution_count": 235,
      "outputs": []
    },
    {
      "cell_type": "code",
      "source": [
        "#car::vif(m1) #test\n",
        "summary(model_pre_mice)"
      ],
      "metadata": {
        "colab": {
          "base_uri": "https://localhost:8080/",
          "height": 468
        },
        "id": "beas9ljuodpE",
        "outputId": "9b2b99dd-fac0-43ef-ffeb-4ea94723ee1c"
      },
      "execution_count": 236,
      "outputs": [
        {
          "output_type": "display_data",
          "data": {
            "text/plain": [
              "\n",
              "Call:\n",
              "lm(formula = check_in_count_pre_2020 ~ business_stars_pre_2020 + \n",
              "    nearby_count_minus_1 + attribute_count + business_price * \n",
              "    business_happy_h, data = data_to_analysis)\n",
              "\n",
              "Residuals:\n",
              "    Min      1Q  Median      3Q     Max \n",
              " -844.2  -204.1   -65.3    67.4 16931.3 \n",
              "\n",
              "Coefficients:\n",
              "                                  Estimate Std. Error t value Pr(>|t|)    \n",
              "(Intercept)                      -448.4666    39.8012 -11.268  < 2e-16 ***\n",
              "business_stars_pre_2020            40.6767    10.0187   4.060 4.98e-05 ***\n",
              "nearby_count_minus_1                0.2253     0.0188  11.985  < 2e-16 ***\n",
              "attribute_count                    40.9155     2.0504  19.955  < 2e-16 ***\n",
              "business_price                     49.3846    14.0270   3.521 0.000434 ***\n",
              "business_happy_h1                  59.5360    76.7114   0.776 0.437727    \n",
              "business_price:business_happy_h1  -34.1644    36.8424  -0.927 0.353811    \n",
              "---\n",
              "Signif. codes:  0 ‘***’ 0.001 ‘**’ 0.01 ‘*’ 0.05 ‘.’ 0.1 ‘ ’ 1\n",
              "\n",
              "Residual standard error: 509.2 on 4751 degrees of freedom\n",
              "  (1094 observations deleted due to missingness)\n",
              "Multiple R-squared:  0.1701,\tAdjusted R-squared:  0.1691 \n",
              "F-statistic: 162.3 on 6 and 4751 DF,  p-value: < 2.2e-16\n"
            ]
          },
          "metadata": {}
        }
      ]
    },
    {
      "cell_type": "code",
      "source": [
        "# (1094 observations deleted due to missingness)"
      ],
      "metadata": {
        "id": "bzf29aW2H2mg"
      },
      "execution_count": null,
      "outputs": []
    },
    {
      "cell_type": "markdown",
      "source": [
        "## Pattern of Missings"
      ],
      "metadata": {
        "id": "ltMyVI15o-e8"
      }
    },
    {
      "cell_type": "code",
      "source": [
        "args(md.pattern)"
      ],
      "metadata": {
        "colab": {
          "base_uri": "https://localhost:8080/",
          "height": 52
        },
        "id": "Tb15_B3IoI5O",
        "outputId": "af371cab-ebf0-409a-a6c1-0c3d54d32d87"
      },
      "execution_count": 237,
      "outputs": [
        {
          "output_type": "display_data",
          "data": {
            "text/html": [
              "<pre class=language-r><code>function (x, plot = TRUE, rotate.names = FALSE) \n",
              "NULL</code></pre>"
            ],
            "text/markdown": "```r\nfunction (x, plot = TRUE, rotate.names = FALSE) \nNULL\n```",
            "text/latex": "\\begin{minted}{r}\nfunction (x, plot = TRUE, rotate.names = FALSE) \nNULL\n\\end{minted}",
            "text/plain": [
              "function (x, plot = TRUE, rotate.names = FALSE) \n",
              "NULL"
            ]
          },
          "metadata": {}
        }
      ]
    },
    {
      "cell_type": "code",
      "source": [
        "#inspect pattern of missings\n",
        "md.pattern(data_to_analysis, plot = TRUE, rotate.names = TRUE)"
      ],
      "metadata": {
        "colab": {
          "base_uri": "https://localhost:8080/",
          "height": 832
        },
        "collapsed": true,
        "id": "XfPHveIbntJ6",
        "outputId": "fc258f9b-3231-4ebd-a3ac-51e75fe7b324"
      },
      "execution_count": 238,
      "outputs": [
        {
          "output_type": "display_data",
          "data": {
            "text/html": [
              "<table class=\"dataframe\">\n",
              "<caption>A matrix: 11 × 7 of type dbl</caption>\n",
              "<thead>\n",
              "\t<tr><th></th><th scope=col>nearby_count_minus_1</th><th scope=col>business_happy_h</th><th scope=col>attribute_count</th><th scope=col>business_stars_pre_2020</th><th scope=col>check_in_count_pre_2020</th><th scope=col>business_price</th><th scope=col></th></tr>\n",
              "</thead>\n",
              "<tbody>\n",
              "\t<tr><th scope=row>4758</th><td>1</td><td>1</td><td> 1</td><td>  1</td><td>  1</td><td>  1</td><td>   0</td></tr>\n",
              "\t<tr><th scope=row>529</th><td>1</td><td>1</td><td> 1</td><td>  1</td><td>  1</td><td>  0</td><td>   1</td></tr>\n",
              "\t<tr><th scope=row>136</th><td>1</td><td>1</td><td> 1</td><td>  1</td><td>  0</td><td>  1</td><td>   1</td></tr>\n",
              "\t<tr><th scope=row>60</th><td>1</td><td>1</td><td> 1</td><td>  1</td><td>  0</td><td>  0</td><td>   2</td></tr>\n",
              "\t<tr><th scope=row>4</th><td>1</td><td>1</td><td> 1</td><td>  0</td><td>  1</td><td>  0</td><td>   2</td></tr>\n",
              "\t<tr><th scope=row>45</th><td>1</td><td>1</td><td> 1</td><td>  0</td><td>  0</td><td>  1</td><td>   2</td></tr>\n",
              "\t<tr><th scope=row>267</th><td>1</td><td>1</td><td> 1</td><td>  0</td><td>  0</td><td>  0</td><td>   3</td></tr>\n",
              "\t<tr><th scope=row>23</th><td>1</td><td>1</td><td> 0</td><td>  1</td><td>  1</td><td>  0</td><td>   2</td></tr>\n",
              "\t<tr><th scope=row>11</th><td>1</td><td>1</td><td> 0</td><td>  1</td><td>  0</td><td>  0</td><td>   3</td></tr>\n",
              "\t<tr><th scope=row>19</th><td>1</td><td>1</td><td> 0</td><td>  0</td><td>  0</td><td>  0</td><td>   4</td></tr>\n",
              "\t<tr><th scope=row></th><td>0</td><td>0</td><td>53</td><td>335</td><td>538</td><td>913</td><td>1839</td></tr>\n",
              "</tbody>\n",
              "</table>\n"
            ],
            "text/markdown": "\nA matrix: 11 × 7 of type dbl\n\n| <!--/--> | nearby_count_minus_1 | business_happy_h | attribute_count | business_stars_pre_2020 | check_in_count_pre_2020 | business_price | <!----> |\n|---|---|---|---|---|---|---|---|\n| 4758 | 1 | 1 |  1 |   1 |   1 |   1 |    0 |\n| 529 | 1 | 1 |  1 |   1 |   1 |   0 |    1 |\n| 136 | 1 | 1 |  1 |   1 |   0 |   1 |    1 |\n| 60 | 1 | 1 |  1 |   1 |   0 |   0 |    2 |\n| 4 | 1 | 1 |  1 |   0 |   1 |   0 |    2 |\n| 45 | 1 | 1 |  1 |   0 |   0 |   1 |    2 |\n| 267 | 1 | 1 |  1 |   0 |   0 |   0 |    3 |\n| 23 | 1 | 1 |  0 |   1 |   1 |   0 |    2 |\n| 11 | 1 | 1 |  0 |   1 |   0 |   0 |    3 |\n| 19 | 1 | 1 |  0 |   0 |   0 |   0 |    4 |\n| <!----> | 0 | 0 | 53 | 335 | 538 | 913 | 1839 |\n\n",
            "text/latex": "A matrix: 11 × 7 of type dbl\n\\begin{tabular}{r|lllllll}\n  & nearby\\_count\\_minus\\_1 & business\\_happy\\_h & attribute\\_count & business\\_stars\\_pre\\_2020 & check\\_in\\_count\\_pre\\_2020 & business\\_price & \\\\\n\\hline\n\t4758 & 1 & 1 &  1 &   1 &   1 &   1 &    0\\\\\n\t529 & 1 & 1 &  1 &   1 &   1 &   0 &    1\\\\\n\t136 & 1 & 1 &  1 &   1 &   0 &   1 &    1\\\\\n\t60 & 1 & 1 &  1 &   1 &   0 &   0 &    2\\\\\n\t4 & 1 & 1 &  1 &   0 &   1 &   0 &    2\\\\\n\t45 & 1 & 1 &  1 &   0 &   0 &   1 &    2\\\\\n\t267 & 1 & 1 &  1 &   0 &   0 &   0 &    3\\\\\n\t23 & 1 & 1 &  0 &   1 &   1 &   0 &    2\\\\\n\t11 & 1 & 1 &  0 &   1 &   0 &   0 &    3\\\\\n\t19 & 1 & 1 &  0 &   0 &   0 &   0 &    4\\\\\n\t & 0 & 0 & 53 & 335 & 538 & 913 & 1839\\\\\n\\end{tabular}\n",
            "text/plain": [
              "     nearby_count_minus_1 business_happy_h attribute_count\n",
              "4758 1                    1                 1             \n",
              "529  1                    1                 1             \n",
              "136  1                    1                 1             \n",
              "60   1                    1                 1             \n",
              "4    1                    1                 1             \n",
              "45   1                    1                 1             \n",
              "267  1                    1                 1             \n",
              "23   1                    1                 0             \n",
              "11   1                    1                 0             \n",
              "19   1                    1                 0             \n",
              "     0                    0                53             \n",
              "     business_stars_pre_2020 check_in_count_pre_2020 business_price     \n",
              "4758   1                       1                       1               0\n",
              "529    1                       1                       0               1\n",
              "136    1                       0                       1               1\n",
              "60     1                       0                       0               2\n",
              "4      0                       1                       0               2\n",
              "45     0                       0                       1               2\n",
              "267    0                       0                       0               3\n",
              "23     1                       1                       0               2\n",
              "11     1                       0                       0               3\n",
              "19     0                       0                       0               4\n",
              "     335                     538                     913            1839"
            ]
          },
          "metadata": {}
        },
        {
          "output_type": "display_data",
          "data": {
            "text/plain": [
              "plot without title"
            ],
            "image/png": "[encoded data removed]"
          },
          "metadata": {
            "image/png": {
              "width": 420,
              "height": 420
            }
          }
        }
      ]
    },
    {
      "cell_type": "markdown",
      "source": [
        "## Impute Data via Mice"
      ],
      "metadata": {
        "id": "dtCmXlyDu_WF"
      }
    },
    {
      "cell_type": "code",
      "source": [
        "args(mice)"
      ],
      "metadata": {
        "colab": {
          "base_uri": "https://localhost:8080/",
          "height": 121
        },
        "id": "Bygxc-Y2mpSZ",
        "outputId": "c7480da7-13e2-4b4c-eee9-04dc00c214fc"
      },
      "execution_count": 239,
      "outputs": [
        {
          "output_type": "display_data",
          "data": {
            "text/html": [
              "<pre class=language-r><code>function (data, m = 5, method = NULL, predictorMatrix, ignore = NULL, \n",
              "<span style=white-space:pre-wrap>    where = NULL, blocks, visitSequence = NULL, formulas, blots = NULL, </span>\n",
              "<span style=white-space:pre-wrap>    post = NULL, defaultMethod = c(\"pmm\", \"logreg\", \"polyreg\", </span>\n",
              "<span style=white-space:pre-wrap>        \"polr\"), maxit = 5, printFlag = TRUE, seed = NA, data.init = NULL, </span>\n",
              "<span style=white-space:pre-wrap>    ...) </span>\n",
              "NULL</code></pre>"
            ],
            "text/markdown": "```r\nfunction (data, m = 5, method = NULL, predictorMatrix, ignore = NULL, \n    where = NULL, blocks, visitSequence = NULL, formulas, blots = NULL, \n    post = NULL, defaultMethod = c(\"pmm\", \"logreg\", \"polyreg\", \n        \"polr\"), maxit = 5, printFlag = TRUE, seed = NA, data.init = NULL, \n    ...) \nNULL\n```",
            "text/latex": "\\begin{minted}{r}\nfunction (data, m = 5, method = NULL, predictorMatrix, ignore = NULL, \n    where = NULL, blocks, visitSequence = NULL, formulas, blots = NULL, \n    post = NULL, defaultMethod = c(\"pmm\", \"logreg\", \"polyreg\", \n        \"polr\"), maxit = 5, printFlag = TRUE, seed = NA, data.init = NULL, \n    ...) \nNULL\n\\end{minted}",
            "text/plain": [
              "function (data, m = 5, method = NULL, predictorMatrix, ignore = NULL, \n",
              "    where = NULL, blocks, visitSequence = NULL, formulas, blots = NULL, \n",
              "    post = NULL, defaultMethod = c(\"pmm\", \"logreg\", \"polyreg\", \n",
              "        \"polr\"), maxit = 5, printFlag = TRUE, seed = NA, data.init = NULL, \n",
              "    ...) \n",
              "NULL"
            ]
          },
          "metadata": {}
        }
      ]
    },
    {
      "cell_type": "code",
      "source": [
        " ## m = num. of imputations\n",
        "      # Rule of thum = at least as many imputations as percentage of missing vallues\n",
        " ## maxit = max num. of iterations"
      ],
      "metadata": {
        "id": "zjceGLCQqNzF"
      },
      "execution_count": null,
      "outputs": []
    },
    {
      "cell_type": "code",
      "source": [
        "### Impute Data via mice\n",
        "MiceImputedData <- mice(data_to_analysis, m=20, maxit = 50, seed = 543, print=FALSE)"
      ],
      "metadata": {
        "collapsed": true,
        "id": "Eslx3_UuydnL"
      },
      "execution_count": 240,
      "outputs": []
    },
    {
      "cell_type": "code",
      "source": [
        "summary(MiceImputedData)"
      ],
      "metadata": {
        "id": "OFs4gHj6mTE8",
        "colab": {
          "base_uri": "https://localhost:8080/"
        },
        "outputId": "599f339a-4544-42bd-8d3b-98cf323fbed9"
      },
      "execution_count": 241,
      "outputs": [
        {
          "output_type": "stream",
          "name": "stdout",
          "text": [
            "Class: mids\n",
            "Number of multiple imputations:  20 \n",
            "Imputation methods:\n",
            "check_in_count_pre_2020 business_stars_pre_2020    nearby_count_minus_1 \n",
            "                  \"pmm\"                   \"pmm\"                      \"\" \n",
            "        attribute_count          business_price        business_happy_h \n",
            "                  \"pmm\"                   \"pmm\"                      \"\" \n",
            "PredictorMatrix:\n",
            "                        check_in_count_pre_2020 business_stars_pre_2020\n",
            "check_in_count_pre_2020                       0                       1\n",
            "business_stars_pre_2020                       1                       0\n",
            "nearby_count_minus_1                          1                       1\n",
            "attribute_count                               1                       1\n",
            "business_price                                1                       1\n",
            "business_happy_h                              1                       1\n",
            "                        nearby_count_minus_1 attribute_count business_price\n",
            "check_in_count_pre_2020                    1               1              1\n",
            "business_stars_pre_2020                    1               1              1\n",
            "nearby_count_minus_1                       0               1              1\n",
            "attribute_count                            1               0              1\n",
            "business_price                             1               1              0\n",
            "business_happy_h                           1               1              1\n",
            "                        business_happy_h\n",
            "check_in_count_pre_2020                1\n",
            "business_stars_pre_2020                1\n",
            "nearby_count_minus_1                   1\n",
            "attribute_count                        1\n",
            "business_price                         1\n",
            "business_happy_h                       0\n"
          ]
        }
      ]
    },
    {
      "cell_type": "markdown",
      "source": [
        "## *Running the Model with Mice"
      ],
      "metadata": {
        "id": "efsS1e56brfo"
      }
    },
    {
      "cell_type": "markdown",
      "source": [
        "### *Run with (2nd out of 20)"
      ],
      "metadata": {
        "id": "L2Y_adMM8if8"
      }
    },
    {
      "cell_type": "code",
      "source": [
        "#get complete data set (2nd out of 20)\n",
        "MiceCompleteData <- complete(MiceImputedData, 2)\n",
        "\n",
        "MiceCompleteData"
      ],
      "metadata": {
        "id": "bryTG4lRsGgD",
        "collapsed": true
      },
      "execution_count": null,
      "outputs": []
    },
    {
      "cell_type": "code",
      "source": [
        "model_after_mice <- lm(check_in_count_pre_2020 ~\n",
        "              business_stars_pre_2020\n",
        "              + nearby_count_minus_1\n",
        "              + attribute_count\n",
        "              + business_price * business_happy_h,\n",
        "                                                   MiceCompleteData)"
      ],
      "metadata": {
        "id": "LJZ9SoUrulxZ"
      },
      "execution_count": 243,
      "outputs": []
    },
    {
      "cell_type": "code",
      "source": [
        "summary(model_after_mice) #summary(MiceAllModels$analyses[[2]])"
      ],
      "metadata": {
        "colab": {
          "base_uri": "https://localhost:8080/",
          "height": 451
        },
        "id": "bMiHdHX9us6t",
        "outputId": "71ea388b-bb54-4af8-ba35-49f8e2f6518a"
      },
      "execution_count": 244,
      "outputs": [
        {
          "output_type": "display_data",
          "data": {
            "text/plain": [
              "\n",
              "Call:\n",
              "lm(formula = check_in_count_pre_2020 ~ business_stars_pre_2020 + \n",
              "    nearby_count_minus_1 + attribute_count + business_price * \n",
              "    business_happy_h, data = MiceCompleteData)\n",
              "\n",
              "Residuals:\n",
              "    Min      1Q  Median      3Q     Max \n",
              " -914.9  -186.5   -57.1    60.2 16987.1 \n",
              "\n",
              "Coefficients:\n",
              "                                   Estimate Std. Error t value Pr(>|t|)    \n",
              "(Intercept)                      -366.02761   32.36065 -11.311  < 2e-16 ***\n",
              "business_stars_pre_2020            32.21230    7.96664   4.043 5.34e-05 ***\n",
              "nearby_count_minus_1                0.20003    0.01576  12.692  < 2e-16 ***\n",
              "attribute_count                    37.67451    1.57954  23.852  < 2e-16 ***\n",
              "business_price                     39.06473   11.46949   3.406 0.000664 ***\n",
              "business_happy_h1                  19.90803   65.96453   0.302 0.762816    \n",
              "business_price:business_happy_h1  -10.20475   31.72690  -0.322 0.747734    \n",
              "---\n",
              "Signif. codes:  0 ‘***’ 0.001 ‘**’ 0.01 ‘*’ 0.05 ‘.’ 0.1 ‘ ’ 1\n",
              "\n",
              "Residual standard error: 470.9 on 5845 degrees of freedom\n",
              "Multiple R-squared:  0.1713,\tAdjusted R-squared:  0.1705 \n",
              "F-statistic: 201.4 on 6 and 5845 DF,  p-value: < 2.2e-16\n"
            ]
          },
          "metadata": {}
        }
      ]
    },
    {
      "cell_type": "markdown",
      "source": [
        "### *Run with pooled_mice"
      ],
      "metadata": {
        "id": "T3kosBe_b2Pv"
      }
    },
    {
      "cell_type": "code",
      "source": [
        "#build predictive model for all generated imputed data sets\n",
        "MiceAllModels <- with(MiceImputedData, lm(check_in_count_pre_2020 ~\n",
        "              business_stars_pre_2020\n",
        "              + nearby_count_minus_1\n",
        "              + attribute_count\n",
        "              + business_price * business_happy_h))"
      ],
      "metadata": {
        "id": "_tfv8ym8vPEj"
      },
      "execution_count": 245,
      "outputs": []
    },
    {
      "cell_type": "code",
      "source": [
        "#combine results of all 20 models\n",
        "pooled_Mice <- pool(MiceAllModels)"
      ],
      "metadata": {
        "id": "DIdSlwQFviZE"
      },
      "execution_count": 246,
      "outputs": []
    },
    {
      "cell_type": "markdown",
      "source": [
        "**Results**"
      ],
      "metadata": {
        "id": "wY-qD5au84wA"
      }
    },
    {
      "cell_type": "code",
      "source": [
        "pooled_Mice_results <- as.data.frame(summary(pooled_Mice))\n",
        "pooled_Mice_results"
      ],
      "metadata": {
        "colab": {
          "base_uri": "https://localhost:8080/",
          "height": 318
        },
        "id": "gMdzE0QfvrjN",
        "outputId": "1058b0c0-5383-48dc-a66c-5217e8525be5"
      },
      "execution_count": 247,
      "outputs": [
        {
          "output_type": "display_data",
          "data": {
            "text/html": [
              "<table class=\"dataframe\">\n",
              "<caption>A data.frame: 7 × 6</caption>\n",
              "<thead>\n",
              "\t<tr><th scope=col>term</th><th scope=col>estimate</th><th scope=col>std.error</th><th scope=col>statistic</th><th scope=col>df</th><th scope=col>p.value</th></tr>\n",
              "\t<tr><th scope=col>&lt;fct&gt;</th><th scope=col>&lt;dbl&gt;</th><th scope=col>&lt;dbl&gt;</th><th scope=col>&lt;dbl&gt;</th><th scope=col>&lt;dbl&gt;</th><th scope=col>&lt;dbl&gt;</th></tr>\n",
              "</thead>\n",
              "<tbody>\n",
              "\t<tr><td>(Intercept)                     </td><td>-359.5097538</td><td>33.06354836</td><td>-10.8732962</td><td>3084.736</td><td> 4.751935e-27</td></tr>\n",
              "\t<tr><td>business_stars_pre_2020         </td><td>  28.9839587</td><td> 8.02467959</td><td>  3.6118525</td><td>4503.185</td><td> 3.073318e-04</td></tr>\n",
              "\t<tr><td>nearby_count_minus_1            </td><td>   0.2000211</td><td> 0.01587127</td><td> 12.6027187</td><td>4853.287</td><td> 7.394477e-36</td></tr>\n",
              "\t<tr><td>attribute_count                 </td><td>  38.0149179</td><td> 1.60068127</td><td> 23.7492114</td><td>4073.513</td><td>7.028045e-117</td></tr>\n",
              "\t<tr><td>business_price                  </td><td>  39.8226480</td><td>11.72252402</td><td>  3.3971053</td><td>3781.441</td><td> 6.880595e-04</td></tr>\n",
              "\t<tr><td>business_happy_h1               </td><td>  35.5227463</td><td>66.34805972</td><td>  0.5353999</td><td>4677.295</td><td> 5.923988e-01</td></tr>\n",
              "\t<tr><td>business_price:business_happy_h1</td><td> -20.3142282</td><td>32.08504239</td><td> -0.6331370</td><td>3426.429</td><td> 5.266864e-01</td></tr>\n",
              "</tbody>\n",
              "</table>\n"
            ],
            "text/markdown": "\nA data.frame: 7 × 6\n\n| term &lt;fct&gt; | estimate &lt;dbl&gt; | std.error &lt;dbl&gt; | statistic &lt;dbl&gt; | df &lt;dbl&gt; | p.value &lt;dbl&gt; |\n|---|---|---|---|---|---|\n| (Intercept)                      | -359.5097538 | 33.06354836 | -10.8732962 | 3084.736 |  4.751935e-27 |\n| business_stars_pre_2020          |   28.9839587 |  8.02467959 |   3.6118525 | 4503.185 |  3.073318e-04 |\n| nearby_count_minus_1             |    0.2000211 |  0.01587127 |  12.6027187 | 4853.287 |  7.394477e-36 |\n| attribute_count                  |   38.0149179 |  1.60068127 |  23.7492114 | 4073.513 | 7.028045e-117 |\n| business_price                   |   39.8226480 | 11.72252402 |   3.3971053 | 3781.441 |  6.880595e-04 |\n| business_happy_h1                |   35.5227463 | 66.34805972 |   0.5353999 | 4677.295 |  5.923988e-01 |\n| business_price:business_happy_h1 |  -20.3142282 | 32.08504239 |  -0.6331370 | 3426.429 |  5.266864e-01 |\n\n",
            "text/latex": "A data.frame: 7 × 6\n\\begin{tabular}{llllll}\n term & estimate & std.error & statistic & df & p.value\\\\\n <fct> & <dbl> & <dbl> & <dbl> & <dbl> & <dbl>\\\\\n\\hline\n\t (Intercept)                      & -359.5097538 & 33.06354836 & -10.8732962 & 3084.736 &  4.751935e-27\\\\\n\t business\\_stars\\_pre\\_2020          &   28.9839587 &  8.02467959 &   3.6118525 & 4503.185 &  3.073318e-04\\\\\n\t nearby\\_count\\_minus\\_1             &    0.2000211 &  0.01587127 &  12.6027187 & 4853.287 &  7.394477e-36\\\\\n\t attribute\\_count                  &   38.0149179 &  1.60068127 &  23.7492114 & 4073.513 & 7.028045e-117\\\\\n\t business\\_price                   &   39.8226480 & 11.72252402 &   3.3971053 & 3781.441 &  6.880595e-04\\\\\n\t business\\_happy\\_h1                &   35.5227463 & 66.34805972 &   0.5353999 & 4677.295 &  5.923988e-01\\\\\n\t business\\_price:business\\_happy\\_h1 &  -20.3142282 & 32.08504239 &  -0.6331370 & 3426.429 &  5.266864e-01\\\\\n\\end{tabular}\n",
            "text/plain": [
              "  term                             estimate     std.error   statistic  \n",
              "1 (Intercept)                      -359.5097538 33.06354836 -10.8732962\n",
              "2 business_stars_pre_2020            28.9839587  8.02467959   3.6118525\n",
              "3 nearby_count_minus_1                0.2000211  0.01587127  12.6027187\n",
              "4 attribute_count                    38.0149179  1.60068127  23.7492114\n",
              "5 business_price                     39.8226480 11.72252402   3.3971053\n",
              "6 business_happy_h1                  35.5227463 66.34805972   0.5353999\n",
              "7 business_price:business_happy_h1  -20.3142282 32.08504239  -0.6331370\n",
              "  df       p.value      \n",
              "1 3084.736  4.751935e-27\n",
              "2 4503.185  3.073318e-04\n",
              "3 4853.287  7.394477e-36\n",
              "4 4073.513 7.028045e-117\n",
              "5 3781.441  6.880595e-04\n",
              "6 4677.295  5.923988e-01\n",
              "7 3426.429  5.266864e-01"
            ]
          },
          "metadata": {}
        }
      ]
    },
    {
      "cell_type": "code",
      "source": [
        "# Adding significance level visualization to the above df:\n",
        "\n",
        "pooled_Mice_results %>%\n",
        "    mutate(sign = case_when(p.value >=0 & p.value < 0.001 ~ '***',\n",
        "                              p.value >=0.001 & p.value < 0.01 ~ '**',\n",
        "                                p.value >=0.01 & p.value < 0.05 ~ '*',\n",
        "                                 p.value >=0.05 & p.value < 0.1 ~ '.',\n",
        "                                  p.value >= 0.1 ~ ' ')\n",
        ")"
      ],
      "metadata": {
        "colab": {
          "base_uri": "https://localhost:8080/",
          "height": 318
        },
        "id": "ihNv8qzN9cfH",
        "outputId": "ea54f591-98db-4d7b-a3e8-592821e33479"
      },
      "execution_count": 248,
      "outputs": [
        {
          "output_type": "display_data",
          "data": {
            "text/html": [
              "<table class=\"dataframe\">\n",
              "<caption>A data.frame: 7 × 7</caption>\n",
              "<thead>\n",
              "\t<tr><th scope=col>term</th><th scope=col>estimate</th><th scope=col>std.error</th><th scope=col>statistic</th><th scope=col>df</th><th scope=col>p.value</th><th scope=col>sign</th></tr>\n",
              "\t<tr><th scope=col>&lt;fct&gt;</th><th scope=col>&lt;dbl&gt;</th><th scope=col>&lt;dbl&gt;</th><th scope=col>&lt;dbl&gt;</th><th scope=col>&lt;dbl&gt;</th><th scope=col>&lt;dbl&gt;</th><th scope=col>&lt;chr&gt;</th></tr>\n",
              "</thead>\n",
              "<tbody>\n",
              "\t<tr><td>(Intercept)                     </td><td>-359.5097538</td><td>33.06354836</td><td>-10.8732962</td><td>3084.736</td><td> 4.751935e-27</td><td>***</td></tr>\n",
              "\t<tr><td>business_stars_pre_2020         </td><td>  28.9839587</td><td> 8.02467959</td><td>  3.6118525</td><td>4503.185</td><td> 3.073318e-04</td><td>***</td></tr>\n",
              "\t<tr><td>nearby_count_minus_1            </td><td>   0.2000211</td><td> 0.01587127</td><td> 12.6027187</td><td>4853.287</td><td> 7.394477e-36</td><td>***</td></tr>\n",
              "\t<tr><td>attribute_count                 </td><td>  38.0149179</td><td> 1.60068127</td><td> 23.7492114</td><td>4073.513</td><td>7.028045e-117</td><td>***</td></tr>\n",
              "\t<tr><td>business_price                  </td><td>  39.8226480</td><td>11.72252402</td><td>  3.3971053</td><td>3781.441</td><td> 6.880595e-04</td><td>***</td></tr>\n",
              "\t<tr><td>business_happy_h1               </td><td>  35.5227463</td><td>66.34805972</td><td>  0.5353999</td><td>4677.295</td><td> 5.923988e-01</td><td>   </td></tr>\n",
              "\t<tr><td>business_price:business_happy_h1</td><td> -20.3142282</td><td>32.08504239</td><td> -0.6331370</td><td>3426.429</td><td> 5.266864e-01</td><td>   </td></tr>\n",
              "</tbody>\n",
              "</table>\n"
            ],
            "text/markdown": "\nA data.frame: 7 × 7\n\n| term &lt;fct&gt; | estimate &lt;dbl&gt; | std.error &lt;dbl&gt; | statistic &lt;dbl&gt; | df &lt;dbl&gt; | p.value &lt;dbl&gt; | sign &lt;chr&gt; |\n|---|---|---|---|---|---|---|\n| (Intercept)                      | -359.5097538 | 33.06354836 | -10.8732962 | 3084.736 |  4.751935e-27 | *** |\n| business_stars_pre_2020          |   28.9839587 |  8.02467959 |   3.6118525 | 4503.185 |  3.073318e-04 | *** |\n| nearby_count_minus_1             |    0.2000211 |  0.01587127 |  12.6027187 | 4853.287 |  7.394477e-36 | *** |\n| attribute_count                  |   38.0149179 |  1.60068127 |  23.7492114 | 4073.513 | 7.028045e-117 | *** |\n| business_price                   |   39.8226480 | 11.72252402 |   3.3971053 | 3781.441 |  6.880595e-04 | *** |\n| business_happy_h1                |   35.5227463 | 66.34805972 |   0.5353999 | 4677.295 |  5.923988e-01 | <!----> |\n| business_price:business_happy_h1 |  -20.3142282 | 32.08504239 |  -0.6331370 | 3426.429 |  5.266864e-01 | <!----> |\n\n",
            "text/latex": "A data.frame: 7 × 7\n\\begin{tabular}{lllllll}\n term & estimate & std.error & statistic & df & p.value & sign\\\\\n <fct> & <dbl> & <dbl> & <dbl> & <dbl> & <dbl> & <chr>\\\\\n\\hline\n\t (Intercept)                      & -359.5097538 & 33.06354836 & -10.8732962 & 3084.736 &  4.751935e-27 & ***\\\\\n\t business\\_stars\\_pre\\_2020          &   28.9839587 &  8.02467959 &   3.6118525 & 4503.185 &  3.073318e-04 & ***\\\\\n\t nearby\\_count\\_minus\\_1             &    0.2000211 &  0.01587127 &  12.6027187 & 4853.287 &  7.394477e-36 & ***\\\\\n\t attribute\\_count                  &   38.0149179 &  1.60068127 &  23.7492114 & 4073.513 & 7.028045e-117 & ***\\\\\n\t business\\_price                   &   39.8226480 & 11.72252402 &   3.3971053 & 3781.441 &  6.880595e-04 & ***\\\\\n\t business\\_happy\\_h1                &   35.5227463 & 66.34805972 &   0.5353999 & 4677.295 &  5.923988e-01 &    \\\\\n\t business\\_price:business\\_happy\\_h1 &  -20.3142282 & 32.08504239 &  -0.6331370 & 3426.429 &  5.266864e-01 &    \\\\\n\\end{tabular}\n",
            "text/plain": [
              "  term                             estimate     std.error   statistic  \n",
              "1 (Intercept)                      -359.5097538 33.06354836 -10.8732962\n",
              "2 business_stars_pre_2020            28.9839587  8.02467959   3.6118525\n",
              "3 nearby_count_minus_1                0.2000211  0.01587127  12.6027187\n",
              "4 attribute_count                    38.0149179  1.60068127  23.7492114\n",
              "5 business_price                     39.8226480 11.72252402   3.3971053\n",
              "6 business_happy_h1                  35.5227463 66.34805972   0.5353999\n",
              "7 business_price:business_happy_h1  -20.3142282 32.08504239  -0.6331370\n",
              "  df       p.value       sign\n",
              "1 3084.736  4.751935e-27 *** \n",
              "2 4503.185  3.073318e-04 *** \n",
              "3 4853.287  7.394477e-36 *** \n",
              "4 4073.513 7.028045e-117 *** \n",
              "5 3781.441  6.880595e-04 *** \n",
              "6 4677.295  5.923988e-01     \n",
              "7 3426.429  5.266864e-01     "
            ]
          },
          "metadata": {}
        }
      ]
    },
    {
      "cell_type": "code",
      "source": [
        "#   0 ‘***’ 0.001 ‘**’ 0.01 ‘*’ 0.05 ‘.’ 0.1 ‘ ’ 1"
      ],
      "metadata": {
        "id": "B2ZlWf5M9_HI"
      },
      "execution_count": null,
      "outputs": []
    },
    {
      "cell_type": "code",
      "source": [
        "# R-square for Pooled Model.\n",
        "\n",
        "pooled_R_2 <- pool.r.squared(MiceAllModels)\n",
        "pooled_R_2"
      ],
      "metadata": {
        "colab": {
          "base_uri": "https://localhost:8080/",
          "height": 98
        },
        "id": "GgFaXW9G0wzG",
        "outputId": "521ed70f-e259-4346-a234-7e773a40940f"
      },
      "execution_count": 249,
      "outputs": [
        {
          "output_type": "display_data",
          "data": {
            "text/html": [
              "<table class=\"dataframe\">\n",
              "<caption>A matrix: 1 × 4 of type dbl</caption>\n",
              "<thead>\n",
              "\t<tr><th></th><th scope=col>est</th><th scope=col>lo 95</th><th scope=col>hi 95</th><th scope=col>fmi</th></tr>\n",
              "</thead>\n",
              "<tbody>\n",
              "\t<tr><th scope=row>R^2</th><td>0.1725435</td><td>0.1550112</td><td>0.1906119</td><td>0.02180884</td></tr>\n",
              "</tbody>\n",
              "</table>\n"
            ],
            "text/markdown": "\nA matrix: 1 × 4 of type dbl\n\n| <!--/--> | est | lo 95 | hi 95 | fmi |\n|---|---|---|---|---|\n| R^2 | 0.1725435 | 0.1550112 | 0.1906119 | 0.02180884 |\n\n",
            "text/latex": "A matrix: 1 × 4 of type dbl\n\\begin{tabular}{r|llll}\n  & est & lo 95 & hi 95 & fmi\\\\\n\\hline\n\tR\\textasciicircum{}2 & 0.1725435 & 0.1550112 & 0.1906119 & 0.02180884\\\\\n\\end{tabular}\n",
            "text/plain": [
              "    est       lo 95     hi 95     fmi       \n",
              "R^2 0.1725435 0.1550112 0.1906119 0.02180884"
            ]
          },
          "metadata": {}
        }
      ]
    },
    {
      "cell_type": "markdown",
      "source": [
        "# Base Model with External Population Data"
      ],
      "metadata": {
        "id": "m51QFew8jGmJ"
      }
    },
    {
      "cell_type": "markdown",
      "source": [
        "## Creating a Subset"
      ],
      "metadata": {
        "id": "1ABEe-vPcGTG"
      }
    },
    {
      "cell_type": "code",
      "source": [
        "#install.packages(\"mice\")"
      ],
      "metadata": {
        "collapsed": true,
        "id": "JlEqh5UbjVvx"
      },
      "execution_count": null,
      "outputs": []
    },
    {
      "cell_type": "code",
      "source": [
        "library(mice)"
      ],
      "metadata": {
        "collapsed": true,
        "id": "nEHsDlmfjVvx"
      },
      "execution_count": null,
      "outputs": []
    },
    {
      "cell_type": "code",
      "source": [
        "# Selecting the variables for analysis:\n",
        "data_to_analysis_2 <- data %>%\n",
        "    select(check_in_count_pre_2020, business_stars_pre_2020, nearby_count_minus_1, attribute_count, business_price, business_happy_h,\n",
        "                        total_population, total_population_children, total_population_youth, total_population_adults) # Adding external population data variables"
      ],
      "metadata": {
        "id": "0GR6L_n7jVvy"
      },
      "execution_count": 288,
      "outputs": []
    },
    {
      "cell_type": "markdown",
      "source": [
        "## *Running the Model with NA's (Pre-Mice)"
      ],
      "metadata": {
        "id": "2WsPuRWFjVvy"
      }
    },
    {
      "cell_type": "code",
      "source": [
        "# Check_in_frequency = β0 + β1 * avg_number_of_stars + β2 * business_proximity + β3 * number of characteristics + β4 * (price_level x happy hour) + ε"
      ],
      "metadata": {
        "id": "djTY0ZQWjVvy"
      },
      "execution_count": null,
      "outputs": []
    },
    {
      "cell_type": "code",
      "source": [
        "#install.packages(\"car\") #test\n",
        "library(car)"
      ],
      "metadata": {
        "id": "HKaX0JasjVvy"
      },
      "execution_count": null,
      "outputs": []
    },
    {
      "cell_type": "code",
      "source": [
        "model_pre_mice_2 <- lm(check_in_count_pre_2020 ~\n",
        "              business_stars_pre_2020\n",
        "              + nearby_count_minus_1\n",
        "              + attribute_count\n",
        "              + business_price * business_happy_h\n",
        "              + total_population\n",
        "              + total_population_children\n",
        "              + total_population_youth\n",
        "              + total_population_adults,\n",
        "                                                   data_to_analysis_2)"
      ],
      "metadata": {
        "id": "JFp56jdKjVvy"
      },
      "execution_count": 290,
      "outputs": []
    },
    {
      "cell_type": "code",
      "source": [
        "#car::vif(m1) #test\n",
        "summary(model_pre_mice_2)"
      ],
      "metadata": {
        "colab": {
          "base_uri": "https://localhost:8080/",
          "height": 555
        },
        "outputId": "94714a99-8f5d-43e7-9fbb-a6f0105b5dd7",
        "id": "v7qoyZxfjVvy"
      },
      "execution_count": 291,
      "outputs": [
        {
          "output_type": "display_data",
          "data": {
            "text/plain": [
              "\n",
              "Call:\n",
              "lm(formula = check_in_count_pre_2020 ~ business_stars_pre_2020 + \n",
              "    nearby_count_minus_1 + attribute_count + business_price * \n",
              "    business_happy_h + total_population + total_population_children + \n",
              "    total_population_youth + total_population_adults, data = data_to_analysis_2)\n",
              "\n",
              "Residuals:\n",
              "    Min      1Q  Median      3Q     Max \n",
              " -827.8  -205.9   -63.4    70.0 16928.5 \n",
              "\n",
              "Coefficients:\n",
              "                                   Estimate Std. Error t value Pr(>|t|)    \n",
              "(Intercept)                      -3.890e+02  4.602e+01  -8.452  < 2e-16 ***\n",
              "business_stars_pre_2020           3.864e+01  1.017e+01   3.798 0.000148 ***\n",
              "nearby_count_minus_1              1.831e-01  2.450e-02   7.472 9.33e-14 ***\n",
              "attribute_count                   4.048e+01  2.074e+00  19.518  < 2e-16 ***\n",
              "business_price                    4.792e+01  1.420e+01   3.375 0.000743 ***\n",
              "business_happy_h1                 5.088e+01  7.709e+01   0.660 0.509272    \n",
              "total_population                 -1.728e-02  6.771e-03  -2.552 0.010743 *  \n",
              "total_population_children         1.129e-02  6.940e-03   1.627 0.103798    \n",
              "total_population_youth            1.651e-02  6.734e-03   2.451 0.014275 *  \n",
              "total_population_adults           2.130e-02  8.801e-03   2.420 0.015560 *  \n",
              "business_price:business_happy_h1 -3.021e+01  3.704e+01  -0.816 0.414797    \n",
              "---\n",
              "Signif. codes:  0 ‘***’ 0.001 ‘**’ 0.01 ‘*’ 0.05 ‘.’ 0.1 ‘ ’ 1\n",
              "\n",
              "Residual standard error: 510.5 on 4713 degrees of freedom\n",
              "  (1128 observations deleted due to missingness)\n",
              "Multiple R-squared:  0.1716,\tAdjusted R-squared:  0.1698 \n",
              "F-statistic: 97.63 on 10 and 4713 DF,  p-value: < 2.2e-16\n"
            ]
          },
          "metadata": {}
        }
      ]
    },
    {
      "cell_type": "code",
      "source": [
        "# (1128 observations deleted due to missingness)"
      ],
      "metadata": {
        "id": "2bvlJiYbjVvy"
      },
      "execution_count": null,
      "outputs": []
    },
    {
      "cell_type": "markdown",
      "source": [
        "## Pattern of Missings"
      ],
      "metadata": {
        "id": "Mq2kZc_kjVvy"
      }
    },
    {
      "cell_type": "code",
      "source": [
        "args(md.pattern)"
      ],
      "metadata": {
        "colab": {
          "base_uri": "https://localhost:8080/",
          "height": 52
        },
        "outputId": "f5a892ab-2415-4f9d-b80e-0c966df4a950",
        "id": "iMFNTfKLjVvy"
      },
      "execution_count": 255,
      "outputs": [
        {
          "output_type": "display_data",
          "data": {
            "text/html": [
              "<pre class=language-r><code>function (x, plot = TRUE, rotate.names = FALSE) \n",
              "NULL</code></pre>"
            ],
            "text/markdown": "```r\nfunction (x, plot = TRUE, rotate.names = FALSE) \nNULL\n```",
            "text/latex": "\\begin{minted}{r}\nfunction (x, plot = TRUE, rotate.names = FALSE) \nNULL\n\\end{minted}",
            "text/plain": [
              "function (x, plot = TRUE, rotate.names = FALSE) \n",
              "NULL"
            ]
          },
          "metadata": {}
        }
      ]
    },
    {
      "cell_type": "code",
      "source": [
        "#inspect pattern of missings\n",
        "md.pattern(data_to_analysis_2, plot = TRUE, rotate.names = TRUE)"
      ],
      "metadata": {
        "colab": {
          "base_uri": "https://localhost:8080/",
          "height": 946
        },
        "collapsed": true,
        "outputId": "b38f81d5-fd59-4f7c-e5da-59d639e987b9",
        "id": "-2bQG4EkjVvy"
      },
      "execution_count": 292,
      "outputs": [
        {
          "output_type": "display_data",
          "data": {
            "text/html": [
              "<table class=\"dataframe\">\n",
              "<caption>A matrix: 14 × 11 of type dbl</caption>\n",
              "<thead>\n",
              "\t<tr><th></th><th scope=col>nearby_count_minus_1</th><th scope=col>business_happy_h</th><th scope=col>total_population</th><th scope=col>total_population_children</th><th scope=col>total_population_youth</th><th scope=col>total_population_adults</th><th scope=col>attribute_count</th><th scope=col>business_stars_pre_2020</th><th scope=col>check_in_count_pre_2020</th><th scope=col>business_price</th><th scope=col></th></tr>\n",
              "</thead>\n",
              "<tbody>\n",
              "\t<tr><th scope=row>4724</th><td>1</td><td>1</td><td> 1</td><td> 1</td><td> 1</td><td> 1</td><td> 1</td><td>  1</td><td>  1</td><td>  1</td><td>   0</td></tr>\n",
              "\t<tr><th scope=row>527</th><td>1</td><td>1</td><td> 1</td><td> 1</td><td> 1</td><td> 1</td><td> 1</td><td>  1</td><td>  1</td><td>  0</td><td>   1</td></tr>\n",
              "\t<tr><th scope=row>125</th><td>1</td><td>1</td><td> 1</td><td> 1</td><td> 1</td><td> 1</td><td> 1</td><td>  1</td><td>  0</td><td>  1</td><td>   1</td></tr>\n",
              "\t<tr><th scope=row>60</th><td>1</td><td>1</td><td> 1</td><td> 1</td><td> 1</td><td> 1</td><td> 1</td><td>  1</td><td>  0</td><td>  0</td><td>   2</td></tr>\n",
              "\t<tr><th scope=row>4</th><td>1</td><td>1</td><td> 1</td><td> 1</td><td> 1</td><td> 1</td><td> 1</td><td>  0</td><td>  1</td><td>  0</td><td>   2</td></tr>\n",
              "\t<tr><th scope=row>45</th><td>1</td><td>1</td><td> 1</td><td> 1</td><td> 1</td><td> 1</td><td> 1</td><td>  0</td><td>  0</td><td>  1</td><td>   2</td></tr>\n",
              "\t<tr><th scope=row>267</th><td>1</td><td>1</td><td> 1</td><td> 1</td><td> 1</td><td> 1</td><td> 1</td><td>  0</td><td>  0</td><td>  0</td><td>   3</td></tr>\n",
              "\t<tr><th scope=row>23</th><td>1</td><td>1</td><td> 1</td><td> 1</td><td> 1</td><td> 1</td><td> 0</td><td>  1</td><td>  1</td><td>  0</td><td>   2</td></tr>\n",
              "\t<tr><th scope=row>11</th><td>1</td><td>1</td><td> 1</td><td> 1</td><td> 1</td><td> 1</td><td> 0</td><td>  1</td><td>  0</td><td>  0</td><td>   3</td></tr>\n",
              "\t<tr><th scope=row>19</th><td>1</td><td>1</td><td> 1</td><td> 1</td><td> 1</td><td> 1</td><td> 0</td><td>  0</td><td>  0</td><td>  0</td><td>   4</td></tr>\n",
              "\t<tr><th scope=row>34</th><td>1</td><td>1</td><td> 0</td><td> 0</td><td> 0</td><td> 0</td><td> 1</td><td>  1</td><td>  1</td><td>  1</td><td>   4</td></tr>\n",
              "\t<tr><th scope=row>2</th><td>1</td><td>1</td><td> 0</td><td> 0</td><td> 0</td><td> 0</td><td> 1</td><td>  1</td><td>  1</td><td>  0</td><td>   5</td></tr>\n",
              "\t<tr><th scope=row>11</th><td>1</td><td>1</td><td> 0</td><td> 0</td><td> 0</td><td> 0</td><td> 1</td><td>  1</td><td>  0</td><td>  1</td><td>   5</td></tr>\n",
              "\t<tr><th scope=row></th><td>0</td><td>0</td><td>47</td><td>47</td><td>47</td><td>47</td><td>53</td><td>335</td><td>538</td><td>913</td><td>2027</td></tr>\n",
              "</tbody>\n",
              "</table>\n"
            ],
            "text/markdown": "\nA matrix: 14 × 11 of type dbl\n\n| <!--/--> | nearby_count_minus_1 | business_happy_h | total_population | total_population_children | total_population_youth | total_population_adults | attribute_count | business_stars_pre_2020 | check_in_count_pre_2020 | business_price | <!----> |\n|---|---|---|---|---|---|---|---|---|---|---|---|\n| 4724 | 1 | 1 |  1 |  1 |  1 |  1 |  1 |   1 |   1 |   1 |    0 |\n| 527 | 1 | 1 |  1 |  1 |  1 |  1 |  1 |   1 |   1 |   0 |    1 |\n| 125 | 1 | 1 |  1 |  1 |  1 |  1 |  1 |   1 |   0 |   1 |    1 |\n| 60 | 1 | 1 |  1 |  1 |  1 |  1 |  1 |   1 |   0 |   0 |    2 |\n| 4 | 1 | 1 |  1 |  1 |  1 |  1 |  1 |   0 |   1 |   0 |    2 |\n| 45 | 1 | 1 |  1 |  1 |  1 |  1 |  1 |   0 |   0 |   1 |    2 |\n| 267 | 1 | 1 |  1 |  1 |  1 |  1 |  1 |   0 |   0 |   0 |    3 |\n| 23 | 1 | 1 |  1 |  1 |  1 |  1 |  0 |   1 |   1 |   0 |    2 |\n| 11 | 1 | 1 |  1 |  1 |  1 |  1 |  0 |   1 |   0 |   0 |    3 |\n| 19 | 1 | 1 |  1 |  1 |  1 |  1 |  0 |   0 |   0 |   0 |    4 |\n| 34 | 1 | 1 |  0 |  0 |  0 |  0 |  1 |   1 |   1 |   1 |    4 |\n| 2 | 1 | 1 |  0 |  0 |  0 |  0 |  1 |   1 |   1 |   0 |    5 |\n| 11 | 1 | 1 |  0 |  0 |  0 |  0 |  1 |   1 |   0 |   1 |    5 |\n| <!----> | 0 | 0 | 47 | 47 | 47 | 47 | 53 | 335 | 538 | 913 | 2027 |\n\n",
            "text/latex": "A matrix: 14 × 11 of type dbl\n\\begin{tabular}{r|lllllllllll}\n  & nearby\\_count\\_minus\\_1 & business\\_happy\\_h & total\\_population & total\\_population\\_children & total\\_population\\_youth & total\\_population\\_adults & attribute\\_count & business\\_stars\\_pre\\_2020 & check\\_in\\_count\\_pre\\_2020 & business\\_price & \\\\\n\\hline\n\t4724 & 1 & 1 &  1 &  1 &  1 &  1 &  1 &   1 &   1 &   1 &    0\\\\\n\t527 & 1 & 1 &  1 &  1 &  1 &  1 &  1 &   1 &   1 &   0 &    1\\\\\n\t125 & 1 & 1 &  1 &  1 &  1 &  1 &  1 &   1 &   0 &   1 &    1\\\\\n\t60 & 1 & 1 &  1 &  1 &  1 &  1 &  1 &   1 &   0 &   0 &    2\\\\\n\t4 & 1 & 1 &  1 &  1 &  1 &  1 &  1 &   0 &   1 &   0 &    2\\\\\n\t45 & 1 & 1 &  1 &  1 &  1 &  1 &  1 &   0 &   0 &   1 &    2\\\\\n\t267 & 1 & 1 &  1 &  1 &  1 &  1 &  1 &   0 &   0 &   0 &    3\\\\\n\t23 & 1 & 1 &  1 &  1 &  1 &  1 &  0 &   1 &   1 &   0 &    2\\\\\n\t11 & 1 & 1 &  1 &  1 &  1 &  1 &  0 &   1 &   0 &   0 &    3\\\\\n\t19 & 1 & 1 &  1 &  1 &  1 &  1 &  0 &   0 &   0 &   0 &    4\\\\\n\t34 & 1 & 1 &  0 &  0 &  0 &  0 &  1 &   1 &   1 &   1 &    4\\\\\n\t2 & 1 & 1 &  0 &  0 &  0 &  0 &  1 &   1 &   1 &   0 &    5\\\\\n\t11 & 1 & 1 &  0 &  0 &  0 &  0 &  1 &   1 &   0 &   1 &    5\\\\\n\t & 0 & 0 & 47 & 47 & 47 & 47 & 53 & 335 & 538 & 913 & 2027\\\\\n\\end{tabular}\n",
            "text/plain": [
              "     nearby_count_minus_1 business_happy_h total_population\n",
              "4724 1                    1                 1              \n",
              "527  1                    1                 1              \n",
              "125  1                    1                 1              \n",
              "60   1                    1                 1              \n",
              "4    1                    1                 1              \n",
              "45   1                    1                 1              \n",
              "267  1                    1                 1              \n",
              "23   1                    1                 1              \n",
              "11   1                    1                 1              \n",
              "19   1                    1                 1              \n",
              "34   1                    1                 0              \n",
              "2    1                    1                 0              \n",
              "11   1                    1                 0              \n",
              "     0                    0                47              \n",
              "     total_population_children total_population_youth total_population_adults\n",
              "4724  1                         1                      1                     \n",
              "527   1                         1                      1                     \n",
              "125   1                         1                      1                     \n",
              "60    1                         1                      1                     \n",
              "4     1                         1                      1                     \n",
              "45    1                         1                      1                     \n",
              "267   1                         1                      1                     \n",
              "23    1                         1                      1                     \n",
              "11    1                         1                      1                     \n",
              "19    1                         1                      1                     \n",
              "34    0                         0                      0                     \n",
              "2     0                         0                      0                     \n",
              "11    0                         0                      0                     \n",
              "     47                        47                     47                     \n",
              "     attribute_count business_stars_pre_2020 check_in_count_pre_2020\n",
              "4724  1                1                       1                    \n",
              "527   1                1                       1                    \n",
              "125   1                1                       0                    \n",
              "60    1                1                       0                    \n",
              "4     1                0                       1                    \n",
              "45    1                0                       0                    \n",
              "267   1                0                       0                    \n",
              "23    0                1                       1                    \n",
              "11    0                1                       0                    \n",
              "19    0                0                       0                    \n",
              "34    1                1                       1                    \n",
              "2     1                1                       1                    \n",
              "11    1                1                       0                    \n",
              "     53              335                     538                    \n",
              "     business_price     \n",
              "4724   1               0\n",
              "527    0               1\n",
              "125    1               1\n",
              "60     0               2\n",
              "4      0               2\n",
              "45     1               2\n",
              "267    0               3\n",
              "23     0               2\n",
              "11     0               3\n",
              "19     0               4\n",
              "34     1               4\n",
              "2      0               5\n",
              "11     1               5\n",
              "     913            2027"
            ]
          },
          "metadata": {}
        },
        {
          "output_type": "display_data",
          "data": {
            "text/plain": [
              "plot without title"
            ],
            "image/png": "[encoded data removed]"
          },
          "metadata": {
            "image/png": {
              "width": 420,
              "height": 420
            }
          }
        }
      ]
    },
    {
      "cell_type": "markdown",
      "source": [
        "## Impute Data via Mice"
      ],
      "metadata": {
        "id": "SqyE67IbjVvz"
      }
    },
    {
      "cell_type": "code",
      "source": [
        "args(mice)"
      ],
      "metadata": {
        "colab": {
          "base_uri": "https://localhost:8080/",
          "height": 121
        },
        "outputId": "929c3641-d6d1-4abd-9cc3-c2403fa0974c",
        "id": "M1o_EKK-jVvz"
      },
      "execution_count": 158,
      "outputs": [
        {
          "output_type": "display_data",
          "data": {
            "text/html": [
              "<pre class=language-r><code>function (data, m = 5, method = NULL, predictorMatrix, ignore = NULL, \n",
              "<span style=white-space:pre-wrap>    where = NULL, blocks, visitSequence = NULL, formulas, blots = NULL, </span>\n",
              "<span style=white-space:pre-wrap>    post = NULL, defaultMethod = c(\"pmm\", \"logreg\", \"polyreg\", </span>\n",
              "<span style=white-space:pre-wrap>        \"polr\"), maxit = 5, printFlag = TRUE, seed = NA, data.init = NULL, </span>\n",
              "<span style=white-space:pre-wrap>    ...) </span>\n",
              "NULL</code></pre>"
            ],
            "text/markdown": "```r\nfunction (data, m = 5, method = NULL, predictorMatrix, ignore = NULL, \n    where = NULL, blocks, visitSequence = NULL, formulas, blots = NULL, \n    post = NULL, defaultMethod = c(\"pmm\", \"logreg\", \"polyreg\", \n        \"polr\"), maxit = 5, printFlag = TRUE, seed = NA, data.init = NULL, \n    ...) \nNULL\n```",
            "text/latex": "\\begin{minted}{r}\nfunction (data, m = 5, method = NULL, predictorMatrix, ignore = NULL, \n    where = NULL, blocks, visitSequence = NULL, formulas, blots = NULL, \n    post = NULL, defaultMethod = c(\"pmm\", \"logreg\", \"polyreg\", \n        \"polr\"), maxit = 5, printFlag = TRUE, seed = NA, data.init = NULL, \n    ...) \nNULL\n\\end{minted}",
            "text/plain": [
              "function (data, m = 5, method = NULL, predictorMatrix, ignore = NULL, \n",
              "    where = NULL, blocks, visitSequence = NULL, formulas, blots = NULL, \n",
              "    post = NULL, defaultMethod = c(\"pmm\", \"logreg\", \"polyreg\", \n",
              "        \"polr\"), maxit = 5, printFlag = TRUE, seed = NA, data.init = NULL, \n",
              "    ...) \n",
              "NULL"
            ]
          },
          "metadata": {}
        }
      ]
    },
    {
      "cell_type": "code",
      "source": [
        " ## m = num. of imputations\n",
        "      # Rule of thum = at least as many imputations as percentage of missing vallues\n",
        " ## maxit = max num. of iterations"
      ],
      "metadata": {
        "id": "mnSyVbX6jVvz"
      },
      "execution_count": null,
      "outputs": []
    },
    {
      "cell_type": "code",
      "source": [
        "model_pre_mice_2 <- lm(check_in_count_pre_2020 ~\n",
        "              business_stars_pre_2020\n",
        "              + nearby_count_minus_1\n",
        "              + attribute_count\n",
        "              + business_price * business_happy_h\n",
        "              + total_population\n",
        "              + total_population_children\n",
        "              + total_population_youth\n",
        "              + total_population_adults,\n",
        "                                                   data_to_analysis_2)"
      ],
      "metadata": {
        "id": "QzLviaDwgSN3"
      },
      "execution_count": null,
      "outputs": []
    },
    {
      "cell_type": "code",
      "source": [
        "### Impute Data via mice\n",
        "MiceImputedData_2 <- mice(data_to_analysis_2, m=20, maxit = 50, seed = 5454, print=FALSE)"
      ],
      "metadata": {
        "collapsed": true,
        "id": "Y50YqhN6jVvz"
      },
      "execution_count": 293,
      "outputs": []
    },
    {
      "cell_type": "code",
      "source": [
        "summary(MiceImputedData_2)"
      ],
      "metadata": {
        "colab": {
          "base_uri": "https://localhost:8080/"
        },
        "outputId": "9f080008-a002-43fd-8701-79c000c8700e",
        "id": "tHU3tRAnjVvz"
      },
      "execution_count": 294,
      "outputs": [
        {
          "output_type": "stream",
          "name": "stdout",
          "text": [
            "Class: mids\n",
            "Number of multiple imputations:  20 \n",
            "Imputation methods:\n",
            "  check_in_count_pre_2020   business_stars_pre_2020      nearby_count_minus_1 \n",
            "                    \"pmm\"                     \"pmm\"                        \"\" \n",
            "          attribute_count            business_price          business_happy_h \n",
            "                    \"pmm\"                     \"pmm\"                        \"\" \n",
            "         total_population total_population_children    total_population_youth \n",
            "                    \"pmm\"                     \"pmm\"                     \"pmm\" \n",
            "  total_population_adults \n",
            "                    \"pmm\" \n",
            "PredictorMatrix:\n",
            "                        check_in_count_pre_2020 business_stars_pre_2020\n",
            "check_in_count_pre_2020                       0                       1\n",
            "business_stars_pre_2020                       1                       0\n",
            "nearby_count_minus_1                          1                       1\n",
            "attribute_count                               1                       1\n",
            "business_price                                1                       1\n",
            "business_happy_h                              1                       1\n",
            "                        nearby_count_minus_1 attribute_count business_price\n",
            "check_in_count_pre_2020                    1               1              1\n",
            "business_stars_pre_2020                    1               1              1\n",
            "nearby_count_minus_1                       0               1              1\n",
            "attribute_count                            1               0              1\n",
            "business_price                             1               1              0\n",
            "business_happy_h                           1               1              1\n",
            "                        business_happy_h total_population\n",
            "check_in_count_pre_2020                1                1\n",
            "business_stars_pre_2020                1                1\n",
            "nearby_count_minus_1                   1                1\n",
            "attribute_count                        1                1\n",
            "business_price                         1                1\n",
            "business_happy_h                       0                1\n",
            "                        total_population_children total_population_youth\n",
            "check_in_count_pre_2020                         1                      1\n",
            "business_stars_pre_2020                         1                      1\n",
            "nearby_count_minus_1                            1                      1\n",
            "attribute_count                                 1                      1\n",
            "business_price                                  1                      1\n",
            "business_happy_h                                1                      1\n",
            "                        total_population_adults\n",
            "check_in_count_pre_2020                       1\n",
            "business_stars_pre_2020                       1\n",
            "nearby_count_minus_1                          1\n",
            "attribute_count                               1\n",
            "business_price                                1\n",
            "business_happy_h                              1\n"
          ]
        }
      ]
    },
    {
      "cell_type": "markdown",
      "source": [
        "## *Running the Model with Mice"
      ],
      "metadata": {
        "id": "JGECAdhwjVvz"
      }
    },
    {
      "cell_type": "markdown",
      "source": [
        "### *Run with (x.th out of 20)"
      ],
      "metadata": {
        "id": "2kZcqSiCjVvz"
      }
    },
    {
      "cell_type": "code",
      "source": [
        "set.seed(123)\n",
        "sample(1:20, 1)"
      ],
      "metadata": {
        "colab": {
          "base_uri": "https://localhost:8080/",
          "height": 34
        },
        "id": "4YqSUJC0dh0W",
        "outputId": "aadafc4f-35c4-467b-b4aa-f6f4029e22bf"
      },
      "execution_count": 264,
      "outputs": [
        {
          "output_type": "display_data",
          "data": {
            "text/html": [
              "15"
            ],
            "text/markdown": "15",
            "text/latex": "15",
            "text/plain": [
              "[1] 15"
            ]
          },
          "metadata": {}
        }
      ]
    },
    {
      "cell_type": "code",
      "source": [
        "#get complete data set (2nd out of 20)\n",
        "MiceCompleteData_2 <- complete(MiceImputedData_2, 15)\n",
        "\n",
        "MiceCompleteData_2"
      ],
      "metadata": {
        "collapsed": true,
        "id": "5wQ8EIYEjVvz"
      },
      "execution_count": null,
      "outputs": []
    },
    {
      "cell_type": "code",
      "source": [
        "model_after_mice_2 <- lm(check_in_count_pre_2020 ~\n",
        "               business_stars_pre_2020\n",
        "              + nearby_count_minus_1\n",
        "              + attribute_count\n",
        "              + business_price * business_happy_h\n",
        "              + total_population\n",
        "              + total_population_children\n",
        "              + total_population_youth\n",
        "              + total_population_adults,\n",
        "                                          MiceCompleteData_2)"
      ],
      "metadata": {
        "id": "INsC9mgVjVv0"
      },
      "execution_count": 296,
      "outputs": []
    },
    {
      "cell_type": "code",
      "source": [
        "summary(model_after_mice_2) #summary(MiceAllModels$analyses[[2]])"
      ],
      "metadata": {
        "colab": {
          "base_uri": "https://localhost:8080/",
          "height": 538
        },
        "outputId": "a2059b2b-8f5d-4999-d6fc-e76e1e8404ee",
        "id": "bNIdqCLBjVv0"
      },
      "execution_count": 297,
      "outputs": [
        {
          "output_type": "display_data",
          "data": {
            "text/plain": [
              "\n",
              "Call:\n",
              "lm(formula = check_in_count_pre_2020 ~ business_stars_pre_2020 + \n",
              "    nearby_count_minus_1 + attribute_count + business_price * \n",
              "    business_happy_h + total_population + total_population_children + \n",
              "    total_population_youth + total_population_adults, data = MiceCompleteData_2)\n",
              "\n",
              "Residuals:\n",
              "    Min      1Q  Median      3Q     Max \n",
              " -911.7  -183.3   -55.2    64.5 16984.7 \n",
              "\n",
              "Coefficients:\n",
              "                                   Estimate Std. Error t value Pr(>|t|)    \n",
              "(Intercept)                      -3.168e+02  3.685e+01  -8.596  < 2e-16 ***\n",
              "business_stars_pre_2020           2.859e+01  7.945e+00   3.599 0.000322 ***\n",
              "nearby_count_minus_1              1.685e-01  2.025e-02   8.319  < 2e-16 ***\n",
              "attribute_count                   3.772e+01  1.573e+00  23.976  < 2e-16 ***\n",
              "business_price                    3.914e+01  1.153e+01   3.394 0.000692 ***\n",
              "business_happy_h1                 1.772e+01  6.595e+01   0.269 0.788123    \n",
              "total_population                 -1.377e-02  5.568e-03  -2.473 0.013409 *  \n",
              "total_population_children         1.016e-02  5.704e-03   1.782 0.074828 .  \n",
              "total_population_youth            1.328e-02  5.541e-03   2.397 0.016576 *  \n",
              "total_population_adults           1.644e-02  7.241e-03   2.270 0.023229 *  \n",
              "business_price:business_happy_h1 -1.142e+01  3.154e+01  -0.362 0.717225    \n",
              "---\n",
              "Signif. codes:  0 ‘***’ 0.001 ‘**’ 0.01 ‘*’ 0.05 ‘.’ 0.1 ‘ ’ 1\n",
              "\n",
              "Residual standard error: 467.4 on 5841 degrees of freedom\n",
              "Multiple R-squared:  0.175,\tAdjusted R-squared:  0.1736 \n",
              "F-statistic: 123.9 on 10 and 5841 DF,  p-value: < 2.2e-16\n"
            ]
          },
          "metadata": {}
        }
      ]
    },
    {
      "cell_type": "markdown",
      "source": [
        "### *Run with pooled_mice"
      ],
      "metadata": {
        "id": "70TlJAUajVv0"
      }
    },
    {
      "cell_type": "code",
      "source": [
        "#build predictive model for all generated imputed data sets\n",
        "MiceAllModels_2 <- with(MiceImputedData_2, lm(check_in_count_pre_2020 ~\n",
        "              business_stars_pre_2020\n",
        "              + nearby_count_minus_1\n",
        "              + attribute_count\n",
        "              + business_price * business_happy_h\n",
        "              + total_population\n",
        "              + total_population_children\n",
        "              + total_population_youth\n",
        "              + total_population_adults))"
      ],
      "metadata": {
        "id": "xBna4dtljVv0"
      },
      "execution_count": 298,
      "outputs": []
    },
    {
      "cell_type": "code",
      "source": [
        "#combine results of all 20 models\n",
        "pooled_Mice_2 <- pool(MiceAllModels_2)"
      ],
      "metadata": {
        "id": "RDEu0RpljVv0"
      },
      "execution_count": 301,
      "outputs": []
    },
    {
      "cell_type": "markdown",
      "source": [
        "**Results**"
      ],
      "metadata": {
        "id": "vq2P19eAjVv0"
      }
    },
    {
      "cell_type": "code",
      "source": [
        "pooled_Mice_results_2 <- as.data.frame(summary(pooled_Mice_2))\n",
        "pooled_Mice_results_2"
      ],
      "metadata": {
        "colab": {
          "base_uri": "https://localhost:8080/",
          "height": 443
        },
        "outputId": "a2eb6a7b-6776-4e7f-9ead-1ad3feeaf1eb",
        "id": "HMihRMZhjVv0"
      },
      "execution_count": 302,
      "outputs": [
        {
          "output_type": "display_data",
          "data": {
            "text/html": [
              "<table class=\"dataframe\">\n",
              "<caption>A data.frame: 11 × 6</caption>\n",
              "<thead>\n",
              "\t<tr><th scope=col>term</th><th scope=col>estimate</th><th scope=col>std.error</th><th scope=col>statistic</th><th scope=col>df</th><th scope=col>p.value</th></tr>\n",
              "\t<tr><th scope=col>&lt;fct&gt;</th><th scope=col>&lt;dbl&gt;</th><th scope=col>&lt;dbl&gt;</th><th scope=col>&lt;dbl&gt;</th><th scope=col>&lt;dbl&gt;</th><th scope=col>&lt;dbl&gt;</th></tr>\n",
              "</thead>\n",
              "<tbody>\n",
              "\t<tr><td>(Intercept)                     </td><td>-312.45069192</td><td>37.709625153</td><td>-8.2857013</td><td>4553.415</td><td> 1.528337e-16</td></tr>\n",
              "\t<tr><td>business_stars_pre_2020         </td><td>  27.36391588</td><td> 8.228793258</td><td> 3.3253862</td><td>3268.910</td><td> 8.927063e-04</td></tr>\n",
              "\t<tr><td>nearby_count_minus_1            </td><td>   0.16707369</td><td> 0.021245662</td><td> 7.8638968</td><td>2010.654</td><td> 6.023766e-15</td></tr>\n",
              "\t<tr><td>attribute_count                 </td><td>  37.82914845</td><td> 1.609868982</td><td>23.4982777</td><td>4557.096</td><td>2.392606e-115</td></tr>\n",
              "\t<tr><td>business_price                  </td><td>  39.25635005</td><td>11.893930750</td><td> 3.3005363</td><td>3612.262</td><td> 9.743726e-04</td></tr>\n",
              "\t<tr><td>business_happy_h1               </td><td>  31.43392077</td><td>67.404877321</td><td> 0.4663449</td><td>3210.078</td><td> 6.410003e-01</td></tr>\n",
              "\t<tr><td>total_population                </td><td>  -0.01447550</td><td> 0.005636226</td><td>-2.5682964</td><td>5598.844</td><td> 1.024567e-02</td></tr>\n",
              "\t<tr><td>total_population_children       </td><td>   0.01018738</td><td> 0.005774375</td><td> 1.7642399</td><td>5567.020</td><td> 7.774643e-02</td></tr>\n",
              "\t<tr><td>total_population_youth          </td><td>   0.01397830</td><td> 0.005613700</td><td> 2.4900341</td><td>5554.323</td><td> 1.280210e-02</td></tr>\n",
              "\t<tr><td>total_population_adults         </td><td>   0.01754488</td><td> 0.007343751</td><td> 2.3890890</td><td>5446.007</td><td> 1.692404e-02</td></tr>\n",
              "\t<tr><td>business_price:business_happy_h1</td><td> -19.97995560</td><td>32.173097568</td><td>-0.6210144</td><td>3546.890</td><td> 5.346301e-01</td></tr>\n",
              "</tbody>\n",
              "</table>\n"
            ],
            "text/markdown": "\nA data.frame: 11 × 6\n\n| term &lt;fct&gt; | estimate &lt;dbl&gt; | std.error &lt;dbl&gt; | statistic &lt;dbl&gt; | df &lt;dbl&gt; | p.value &lt;dbl&gt; |\n|---|---|---|---|---|---|\n| (Intercept)                      | -312.45069192 | 37.709625153 | -8.2857013 | 4553.415 |  1.528337e-16 |\n| business_stars_pre_2020          |   27.36391588 |  8.228793258 |  3.3253862 | 3268.910 |  8.927063e-04 |\n| nearby_count_minus_1             |    0.16707369 |  0.021245662 |  7.8638968 | 2010.654 |  6.023766e-15 |\n| attribute_count                  |   37.82914845 |  1.609868982 | 23.4982777 | 4557.096 | 2.392606e-115 |\n| business_price                   |   39.25635005 | 11.893930750 |  3.3005363 | 3612.262 |  9.743726e-04 |\n| business_happy_h1                |   31.43392077 | 67.404877321 |  0.4663449 | 3210.078 |  6.410003e-01 |\n| total_population                 |   -0.01447550 |  0.005636226 | -2.5682964 | 5598.844 |  1.024567e-02 |\n| total_population_children        |    0.01018738 |  0.005774375 |  1.7642399 | 5567.020 |  7.774643e-02 |\n| total_population_youth           |    0.01397830 |  0.005613700 |  2.4900341 | 5554.323 |  1.280210e-02 |\n| total_population_adults          |    0.01754488 |  0.007343751 |  2.3890890 | 5446.007 |  1.692404e-02 |\n| business_price:business_happy_h1 |  -19.97995560 | 32.173097568 | -0.6210144 | 3546.890 |  5.346301e-01 |\n\n",
            "text/latex": "A data.frame: 11 × 6\n\\begin{tabular}{llllll}\n term & estimate & std.error & statistic & df & p.value\\\\\n <fct> & <dbl> & <dbl> & <dbl> & <dbl> & <dbl>\\\\\n\\hline\n\t (Intercept)                      & -312.45069192 & 37.709625153 & -8.2857013 & 4553.415 &  1.528337e-16\\\\\n\t business\\_stars\\_pre\\_2020          &   27.36391588 &  8.228793258 &  3.3253862 & 3268.910 &  8.927063e-04\\\\\n\t nearby\\_count\\_minus\\_1             &    0.16707369 &  0.021245662 &  7.8638968 & 2010.654 &  6.023766e-15\\\\\n\t attribute\\_count                  &   37.82914845 &  1.609868982 & 23.4982777 & 4557.096 & 2.392606e-115\\\\\n\t business\\_price                   &   39.25635005 & 11.893930750 &  3.3005363 & 3612.262 &  9.743726e-04\\\\\n\t business\\_happy\\_h1                &   31.43392077 & 67.404877321 &  0.4663449 & 3210.078 &  6.410003e-01\\\\\n\t total\\_population                 &   -0.01447550 &  0.005636226 & -2.5682964 & 5598.844 &  1.024567e-02\\\\\n\t total\\_population\\_children        &    0.01018738 &  0.005774375 &  1.7642399 & 5567.020 &  7.774643e-02\\\\\n\t total\\_population\\_youth           &    0.01397830 &  0.005613700 &  2.4900341 & 5554.323 &  1.280210e-02\\\\\n\t total\\_population\\_adults          &    0.01754488 &  0.007343751 &  2.3890890 & 5446.007 &  1.692404e-02\\\\\n\t business\\_price:business\\_happy\\_h1 &  -19.97995560 & 32.173097568 & -0.6210144 & 3546.890 &  5.346301e-01\\\\\n\\end{tabular}\n",
            "text/plain": [
              "   term                             estimate      std.error    statistic \n",
              "1  (Intercept)                      -312.45069192 37.709625153 -8.2857013\n",
              "2  business_stars_pre_2020            27.36391588  8.228793258  3.3253862\n",
              "3  nearby_count_minus_1                0.16707369  0.021245662  7.8638968\n",
              "4  attribute_count                    37.82914845  1.609868982 23.4982777\n",
              "5  business_price                     39.25635005 11.893930750  3.3005363\n",
              "6  business_happy_h1                  31.43392077 67.404877321  0.4663449\n",
              "7  total_population                   -0.01447550  0.005636226 -2.5682964\n",
              "8  total_population_children           0.01018738  0.005774375  1.7642399\n",
              "9  total_population_youth              0.01397830  0.005613700  2.4900341\n",
              "10 total_population_adults             0.01754488  0.007343751  2.3890890\n",
              "11 business_price:business_happy_h1  -19.97995560 32.173097568 -0.6210144\n",
              "   df       p.value      \n",
              "1  4553.415  1.528337e-16\n",
              "2  3268.910  8.927063e-04\n",
              "3  2010.654  6.023766e-15\n",
              "4  4557.096 2.392606e-115\n",
              "5  3612.262  9.743726e-04\n",
              "6  3210.078  6.410003e-01\n",
              "7  5598.844  1.024567e-02\n",
              "8  5567.020  7.774643e-02\n",
              "9  5554.323  1.280210e-02\n",
              "10 5446.007  1.692404e-02\n",
              "11 3546.890  5.346301e-01"
            ]
          },
          "metadata": {}
        }
      ]
    },
    {
      "cell_type": "code",
      "source": [
        "# Adding significance level visualization to the above df:\n",
        "\n",
        "pooled_Mice_results_2 %>%\n",
        "    mutate(sign = case_when(p.value >=0 & p.value < 0.001 ~ '***',\n",
        "                              p.value >=0.001 & p.value < 0.01 ~ '**',\n",
        "                                p.value >=0.01 & p.value < 0.05 ~ '*',\n",
        "                                 p.value >=0.05 & p.value < 0.1 ~ '.',\n",
        "                                  p.value >= 0.1 ~ ' ')\n",
        ")"
      ],
      "metadata": {
        "colab": {
          "base_uri": "https://localhost:8080/",
          "height": 443
        },
        "outputId": "a22d8be1-20c4-41bf-c3c7-240aa7db5b3c",
        "id": "-gf5lGlPjVv0"
      },
      "execution_count": 303,
      "outputs": [
        {
          "output_type": "display_data",
          "data": {
            "text/html": [
              "<table class=\"dataframe\">\n",
              "<caption>A data.frame: 11 × 7</caption>\n",
              "<thead>\n",
              "\t<tr><th scope=col>term</th><th scope=col>estimate</th><th scope=col>std.error</th><th scope=col>statistic</th><th scope=col>df</th><th scope=col>p.value</th><th scope=col>sign</th></tr>\n",
              "\t<tr><th scope=col>&lt;fct&gt;</th><th scope=col>&lt;dbl&gt;</th><th scope=col>&lt;dbl&gt;</th><th scope=col>&lt;dbl&gt;</th><th scope=col>&lt;dbl&gt;</th><th scope=col>&lt;dbl&gt;</th><th scope=col>&lt;chr&gt;</th></tr>\n",
              "</thead>\n",
              "<tbody>\n",
              "\t<tr><td>(Intercept)                     </td><td>-312.45069192</td><td>37.709625153</td><td>-8.2857013</td><td>4553.415</td><td> 1.528337e-16</td><td>***</td></tr>\n",
              "\t<tr><td>business_stars_pre_2020         </td><td>  27.36391588</td><td> 8.228793258</td><td> 3.3253862</td><td>3268.910</td><td> 8.927063e-04</td><td>***</td></tr>\n",
              "\t<tr><td>nearby_count_minus_1            </td><td>   0.16707369</td><td> 0.021245662</td><td> 7.8638968</td><td>2010.654</td><td> 6.023766e-15</td><td>***</td></tr>\n",
              "\t<tr><td>attribute_count                 </td><td>  37.82914845</td><td> 1.609868982</td><td>23.4982777</td><td>4557.096</td><td>2.392606e-115</td><td>***</td></tr>\n",
              "\t<tr><td>business_price                  </td><td>  39.25635005</td><td>11.893930750</td><td> 3.3005363</td><td>3612.262</td><td> 9.743726e-04</td><td>***</td></tr>\n",
              "\t<tr><td>business_happy_h1               </td><td>  31.43392077</td><td>67.404877321</td><td> 0.4663449</td><td>3210.078</td><td> 6.410003e-01</td><td>   </td></tr>\n",
              "\t<tr><td>total_population                </td><td>  -0.01447550</td><td> 0.005636226</td><td>-2.5682964</td><td>5598.844</td><td> 1.024567e-02</td><td>*  </td></tr>\n",
              "\t<tr><td>total_population_children       </td><td>   0.01018738</td><td> 0.005774375</td><td> 1.7642399</td><td>5567.020</td><td> 7.774643e-02</td><td>.  </td></tr>\n",
              "\t<tr><td>total_population_youth          </td><td>   0.01397830</td><td> 0.005613700</td><td> 2.4900341</td><td>5554.323</td><td> 1.280210e-02</td><td>*  </td></tr>\n",
              "\t<tr><td>total_population_adults         </td><td>   0.01754488</td><td> 0.007343751</td><td> 2.3890890</td><td>5446.007</td><td> 1.692404e-02</td><td>*  </td></tr>\n",
              "\t<tr><td>business_price:business_happy_h1</td><td> -19.97995560</td><td>32.173097568</td><td>-0.6210144</td><td>3546.890</td><td> 5.346301e-01</td><td>   </td></tr>\n",
              "</tbody>\n",
              "</table>\n"
            ],
            "text/markdown": "\nA data.frame: 11 × 7\n\n| term &lt;fct&gt; | estimate &lt;dbl&gt; | std.error &lt;dbl&gt; | statistic &lt;dbl&gt; | df &lt;dbl&gt; | p.value &lt;dbl&gt; | sign &lt;chr&gt; |\n|---|---|---|---|---|---|---|\n| (Intercept)                      | -312.45069192 | 37.709625153 | -8.2857013 | 4553.415 |  1.528337e-16 | *** |\n| business_stars_pre_2020          |   27.36391588 |  8.228793258 |  3.3253862 | 3268.910 |  8.927063e-04 | *** |\n| nearby_count_minus_1             |    0.16707369 |  0.021245662 |  7.8638968 | 2010.654 |  6.023766e-15 | *** |\n| attribute_count                  |   37.82914845 |  1.609868982 | 23.4982777 | 4557.096 | 2.392606e-115 | *** |\n| business_price                   |   39.25635005 | 11.893930750 |  3.3005363 | 3612.262 |  9.743726e-04 | *** |\n| business_happy_h1                |   31.43392077 | 67.404877321 |  0.4663449 | 3210.078 |  6.410003e-01 | <!----> |\n| total_population                 |   -0.01447550 |  0.005636226 | -2.5682964 | 5598.844 |  1.024567e-02 | *   |\n| total_population_children        |    0.01018738 |  0.005774375 |  1.7642399 | 5567.020 |  7.774643e-02 | .   |\n| total_population_youth           |    0.01397830 |  0.005613700 |  2.4900341 | 5554.323 |  1.280210e-02 | *   |\n| total_population_adults          |    0.01754488 |  0.007343751 |  2.3890890 | 5446.007 |  1.692404e-02 | *   |\n| business_price:business_happy_h1 |  -19.97995560 | 32.173097568 | -0.6210144 | 3546.890 |  5.346301e-01 | <!----> |\n\n",
            "text/latex": "A data.frame: 11 × 7\n\\begin{tabular}{lllllll}\n term & estimate & std.error & statistic & df & p.value & sign\\\\\n <fct> & <dbl> & <dbl> & <dbl> & <dbl> & <dbl> & <chr>\\\\\n\\hline\n\t (Intercept)                      & -312.45069192 & 37.709625153 & -8.2857013 & 4553.415 &  1.528337e-16 & ***\\\\\n\t business\\_stars\\_pre\\_2020          &   27.36391588 &  8.228793258 &  3.3253862 & 3268.910 &  8.927063e-04 & ***\\\\\n\t nearby\\_count\\_minus\\_1             &    0.16707369 &  0.021245662 &  7.8638968 & 2010.654 &  6.023766e-15 & ***\\\\\n\t attribute\\_count                  &   37.82914845 &  1.609868982 & 23.4982777 & 4557.096 & 2.392606e-115 & ***\\\\\n\t business\\_price                   &   39.25635005 & 11.893930750 &  3.3005363 & 3612.262 &  9.743726e-04 & ***\\\\\n\t business\\_happy\\_h1                &   31.43392077 & 67.404877321 &  0.4663449 & 3210.078 &  6.410003e-01 &    \\\\\n\t total\\_population                 &   -0.01447550 &  0.005636226 & -2.5682964 & 5598.844 &  1.024567e-02 & *  \\\\\n\t total\\_population\\_children        &    0.01018738 &  0.005774375 &  1.7642399 & 5567.020 &  7.774643e-02 & .  \\\\\n\t total\\_population\\_youth           &    0.01397830 &  0.005613700 &  2.4900341 & 5554.323 &  1.280210e-02 & *  \\\\\n\t total\\_population\\_adults          &    0.01754488 &  0.007343751 &  2.3890890 & 5446.007 &  1.692404e-02 & *  \\\\\n\t business\\_price:business\\_happy\\_h1 &  -19.97995560 & 32.173097568 & -0.6210144 & 3546.890 &  5.346301e-01 &    \\\\\n\\end{tabular}\n",
            "text/plain": [
              "   term                             estimate      std.error    statistic \n",
              "1  (Intercept)                      -312.45069192 37.709625153 -8.2857013\n",
              "2  business_stars_pre_2020            27.36391588  8.228793258  3.3253862\n",
              "3  nearby_count_minus_1                0.16707369  0.021245662  7.8638968\n",
              "4  attribute_count                    37.82914845  1.609868982 23.4982777\n",
              "5  business_price                     39.25635005 11.893930750  3.3005363\n",
              "6  business_happy_h1                  31.43392077 67.404877321  0.4663449\n",
              "7  total_population                   -0.01447550  0.005636226 -2.5682964\n",
              "8  total_population_children           0.01018738  0.005774375  1.7642399\n",
              "9  total_population_youth              0.01397830  0.005613700  2.4900341\n",
              "10 total_population_adults             0.01754488  0.007343751  2.3890890\n",
              "11 business_price:business_happy_h1  -19.97995560 32.173097568 -0.6210144\n",
              "   df       p.value       sign\n",
              "1  4553.415  1.528337e-16 *** \n",
              "2  3268.910  8.927063e-04 *** \n",
              "3  2010.654  6.023766e-15 *** \n",
              "4  4557.096 2.392606e-115 *** \n",
              "5  3612.262  9.743726e-04 *** \n",
              "6  3210.078  6.410003e-01     \n",
              "7  5598.844  1.024567e-02 *   \n",
              "8  5567.020  7.774643e-02 .   \n",
              "9  5554.323  1.280210e-02 *   \n",
              "10 5446.007  1.692404e-02 *   \n",
              "11 3546.890  5.346301e-01     "
            ]
          },
          "metadata": {}
        }
      ]
    },
    {
      "cell_type": "code",
      "source": [
        "#   0 ‘***’ 0.001 ‘**’ 0.01 ‘*’ 0.05 ‘.’ 0.1 ‘ ’ 1"
      ],
      "metadata": {
        "id": "GV2XACm0jVv0"
      },
      "execution_count": null,
      "outputs": []
    },
    {
      "cell_type": "code",
      "source": [
        "# R-square for Pooled Model.\n",
        "\n",
        "pooled_R_2_2 <- pool.r.squared(MiceAllModels_2)\n",
        "pooled_R_2_2"
      ],
      "metadata": {
        "colab": {
          "base_uri": "https://localhost:8080/",
          "height": 98
        },
        "outputId": "6bda4335-4b9f-4480-e9d7-4c7cea2e27b9",
        "id": "lGEzPH_PjVv1"
      },
      "execution_count": 304,
      "outputs": [
        {
          "output_type": "display_data",
          "data": {
            "text/html": [
              "<table class=\"dataframe\">\n",
              "<caption>A matrix: 1 × 4 of type dbl</caption>\n",
              "<thead>\n",
              "\t<tr><th></th><th scope=col>est</th><th scope=col>lo 95</th><th scope=col>hi 95</th><th scope=col>fmi</th></tr>\n",
              "</thead>\n",
              "<tbody>\n",
              "\t<tr><th scope=row>R^2</th><td>0.172985</td><td>0.1535576</td><td>0.1930697</td><td>0.2083983</td></tr>\n",
              "</tbody>\n",
              "</table>\n"
            ],
            "text/markdown": "\nA matrix: 1 × 4 of type dbl\n\n| <!--/--> | est | lo 95 | hi 95 | fmi |\n|---|---|---|---|---|\n| R^2 | 0.172985 | 0.1535576 | 0.1930697 | 0.2083983 |\n\n",
            "text/latex": "A matrix: 1 × 4 of type dbl\n\\begin{tabular}{r|llll}\n  & est & lo 95 & hi 95 & fmi\\\\\n\\hline\n\tR\\textasciicircum{}2 & 0.172985 & 0.1535576 & 0.1930697 & 0.2083983\\\\\n\\end{tabular}\n",
            "text/plain": [
              "    est      lo 95     hi 95     fmi      \n",
              "R^2 0.172985 0.1535576 0.1930697 0.2083983"
            ]
          },
          "metadata": {}
        }
      ]
    }
  ]
}
