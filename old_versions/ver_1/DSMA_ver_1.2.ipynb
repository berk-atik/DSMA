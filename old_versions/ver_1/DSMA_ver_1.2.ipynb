{
  "nbformat": 4,
  "nbformat_minor": 0,
  "metadata": {
    "colab": {
      "provenance": [],
      "toc_visible": true,
      "authorship_tag": "ABX9TyN0hL1+uoxpcP/J5ockiaYv"
    },
    "kernelspec": {
      "name": "ir",
      "display_name": "R"
    },
    "language_info": {
      "name": "R"
    }
  },
  "cells": [
    {
      "cell_type": "markdown",
      "source": [
        "# Core Libraries"
      ],
      "metadata": {
        "id": "wfA60FGXmDn0"
      }
    },
    {
      "cell_type": "code",
      "source": [
        "library(dplyr)\n",
        "library(tidyverse)"
      ],
      "metadata": {
        "id": "USigBTKwCUis"
      },
      "execution_count": 47,
      "outputs": []
    },
    {
      "cell_type": "markdown",
      "source": [
        "# Data Import"
      ],
      "metadata": {
        "id": "Hq6F2fzzKNiL"
      }
    },
    {
      "cell_type": "code",
      "execution_count": 141,
      "metadata": {
        "id": "ILQXczAwBZig",
        "collapsed": true
      },
      "outputs": [],
      "source": [
        "data <- read.csv(file=\"sql_5_JSON_output.csv\", header=TRUE,sep=\",\",dec=\";\")\n",
        "\n",
        "data_control <- read.csv(file=\"sql_4_output.csv\", header=TRUE,sep=\",\",dec=\";\")"
      ]
    },
    {
      "cell_type": "markdown",
      "source": [
        "#Data Import Check/Cleaning"
      ],
      "metadata": {
        "id": "5AZEiJr4B5Q_"
      }
    },
    {
      "cell_type": "code",
      "source": [
        "nrow(data)"
      ],
      "metadata": {
        "colab": {
          "base_uri": "https://localhost:8080/",
          "height": 34
        },
        "id": "eRctqHOXB7ZY",
        "outputId": "4b6e79d8-de0e-4bdf-9b2a-cca833cbf275"
      },
      "execution_count": 142,
      "outputs": [
        {
          "output_type": "display_data",
          "data": {
            "text/html": [
              "5852"
            ],
            "text/markdown": "5852",
            "text/latex": "5852",
            "text/plain": [
              "[1] 5852"
            ]
          },
          "metadata": {}
        }
      ]
    },
    {
      "cell_type": "code",
      "source": [
        "head(data)"
      ],
      "metadata": {
        "id": "tvJzHwJbB_rw",
        "collapsed": true
      },
      "execution_count": null,
      "outputs": []
    },
    {
      "cell_type": "code",
      "source": [
        "str(data)"
      ],
      "metadata": {
        "id": "Yo_1MQfTnw7X",
        "outputId": "72e24503-2393-4412-c8d1-487da3b6ad10",
        "colab": {
          "base_uri": "https://localhost:8080/"
        }
      },
      "execution_count": 143,
      "outputs": [
        {
          "output_type": "stream",
          "name": "stdout",
          "text": [
            "'data.frame':\t5852 obs. of  15 variables:\n",
            " $ business_id            : chr  \"00AGVWzkxNLGb-7ZrwAOIA\" \"00rIcvqmfci_oJWkOqPqmg\" \"018ixB-WinNmflwX2UvS1g\" \"01mP5a06zQpaYOakfaVBOQ\" ...\n",
            " $ business_lat           : chr  \"39.9532594\" \"40.0571665\" \"39.9461554\" \"40.0727911933\" ...\n",
            " $ business_long          : chr  \"-75.2170205\" \"-75.2357367\" \"-75.1688026\" \"-75.1949470435\" ...\n",
            " $ business_stars         : chr  \"3.0\" \"4.5\" \"4.0\" \"2.5\" ...\n",
            " $ business_stars_pre_2020: chr  \"3.2\" \"4.6\" \"3.9\" \"2.5\" ...\n",
            " $ review_count           : int  70 92 16 61 45 101 11 65 620 8 ...\n",
            " $ review_count_pre_2020  : chr  \"75\" \"68\" \"16\" \"58\" ...\n",
            " $ check_in_count         : chr  \"73\" \"98\" \"39\" \"56\" ...\n",
            " $ check_in_count_pre_2020: chr  \"73\" \"89\" \"39\" \"56\" ...\n",
            " $ attribute_count        : chr  \"9\" \"8\" \"4\" \"8\" ...\n",
            " $ business_park          : int  1 1 1 0 1 1 1 1 1 0 ...\n",
            " $ business_happy_h       : int  0 0 0 0 0 0 0 0 0 0 ...\n",
            " $ business_price         : chr  \"1\" \"1\" \"1\" \"2\" ...\n",
            " $ business_open          : int  1 1 0 1 0 1 0 1 1 1 ...\n",
            " $ n_photo                : chr  \"NULL\" \"5\" \"NULL\" \"NULL\" ...\n"
          ]
        }
      ]
    },
    {
      "cell_type": "code",
      "source": [
        "# NA values are represented in two ways: 'NULL' and 'None'. Thereafter we get 1 more factor level.\n",
        "\n",
        "unique(data$business_price)"
      ],
      "metadata": {
        "colab": {
          "base_uri": "https://localhost:8080/",
          "height": 34
        },
        "id": "doznZHgmEJlU",
        "outputId": "c6159eec-c8ec-49c6-cc88-641e6536c6f9"
      },
      "execution_count": 144,
      "outputs": [
        {
          "output_type": "display_data",
          "data": {
            "text/html": [
              "<style>\n",
              ".list-inline {list-style: none; margin:0; padding: 0}\n",
              ".list-inline>li {display: inline-block}\n",
              ".list-inline>li:not(:last-child)::after {content: \"\\00b7\"; padding: 0 .5ex}\n",
              "</style>\n",
              "<ol class=list-inline><li>'1'</li><li>'2'</li><li>'NULL'</li><li>'3'</li><li>'4'</li><li>'None'</li></ol>\n"
            ],
            "text/markdown": "1. '1'\n2. '2'\n3. 'NULL'\n4. '3'\n5. '4'\n6. 'None'\n\n\n",
            "text/latex": "\\begin{enumerate*}\n\\item '1'\n\\item '2'\n\\item 'NULL'\n\\item '3'\n\\item '4'\n\\item 'None'\n\\end{enumerate*}\n",
            "text/plain": [
              "[1] \"1\"    \"2\"    \"NULL\" \"3\"    \"4\"    \"None\""
            ]
          },
          "metadata": {}
        }
      ]
    },
    {
      "cell_type": "code",
      "source": [
        "# To fix problem: Replace\n",
        "\n",
        "data <- data %>%\n",
        "  mutate(business_price = na_if(business_price, 'NULL')) %>%\n",
        "  mutate(business_price = na_if(business_price, 'None'))"
      ],
      "metadata": {
        "id": "PZeIivH-F0iH"
      },
      "execution_count": 145,
      "outputs": []
    },
    {
      "cell_type": "code",
      "source": [
        "data$business_id  <- as.character(data$business_id)\n",
        "\n",
        "data$business_lat <- as.numeric(data$business_lat)\n",
        "\n",
        "data$business_long <- as.numeric(data$business_long)\n",
        "\n",
        "data$business_stars <- as.numeric(data$business_stars)\n",
        "\n",
        "data$business_stars_pre_2020 <- as.numeric(data$business_stars_pre_2020) #Has NA'S\n",
        "\n",
        "data$business_review_count <- as.integer(data$review_count)\n",
        "\n",
        "data$review_count_pre_2020 <- as.integer(data$review_count_pre_2020) #Has NA'S\n",
        "\n",
        "data$check_in_count <- as.integer(data$check_in_count)\n",
        "\n",
        "data$check_in_count_pre_2020 <- as.integer(data$check_in_count_pre_2020)\n",
        "\n",
        "data$attribute_count <- as.integer(data$attribute_count)\n",
        "\n",
        "data$business_park <- as.factor(data$business_park)\n",
        "\n",
        "data$business_happy_h <- as.factor(data$business_happy_h)\n",
        "\n",
        "data$business_price <- as.factor(data$business_price)\n",
        "\n",
        "data$business_open  <- as.factor(data$business_open)\n",
        "\n",
        "data$n_photo <- as.integer(data$n_photo)"
      ],
      "metadata": {
        "id": "n_YDvORXHsVu",
        "colab": {
          "base_uri": "https://localhost:8080/"
        },
        "outputId": "69a317da-d2ef-4c23-8dfe-570b6c4e16b7"
      },
      "execution_count": 146,
      "outputs": [
        {
          "output_type": "stream",
          "name": "stderr",
          "text": [
            "Warning message in eval(expr, envir, enclos):\n",
            "“NAs introduced by coercion”\n",
            "Warning message in eval(expr, envir, enclos):\n",
            "“NAs introduced by coercion”\n",
            "Warning message in eval(expr, envir, enclos):\n",
            "“NAs introduced by coercion”\n",
            "Warning message in eval(expr, envir, enclos):\n",
            "“NAs introduced by coercion”\n",
            "Warning message in eval(expr, envir, enclos):\n",
            "“NAs introduced by coercion”\n",
            "Warning message in eval(expr, envir, enclos):\n",
            "“NAs introduced by coercion”\n"
          ]
        }
      ]
    },
    {
      "cell_type": "code",
      "source": [
        "summary(data)"
      ],
      "metadata": {
        "colab": {
          "base_uri": "https://localhost:8080/",
          "height": 711
        },
        "id": "ixwyytQeGXb9",
        "outputId": "9d3b6a51-e310-4d70-9db7-4ebea1be697f"
      },
      "execution_count": 147,
      "outputs": [
        {
          "output_type": "display_data",
          "data": {
            "text/plain": [
              " business_id         business_lat   business_long    business_stars \n",
              " Length:5852        Min.   :39.87   Min.   :-75.36   Min.   :1.000  \n",
              " Class :character   1st Qu.:39.95   1st Qu.:-75.18   1st Qu.:3.000  \n",
              " Mode  :character   Median :39.95   Median :-75.16   Median :3.500  \n",
              "                    Mean   :39.97   Mean   :-75.15   Mean   :3.556  \n",
              "                    3rd Qu.:40.00   3rd Qu.:-75.14   3rd Qu.:4.000  \n",
              "                    Max.   :40.14   Max.   :-74.94   Max.   :5.000  \n",
              "                                                                    \n",
              " business_stars_pre_2020  review_count    review_count_pre_2020\n",
              " Min.   :1.000           Min.   :   5.0   Min.   :   1.0       \n",
              " 1st Qu.:3.100           1st Qu.:  14.0   1st Qu.:  12.0       \n",
              " Median :3.700           Median :  38.5   Median :  36.0       \n",
              " Mean   :3.553           Mean   : 113.8   Mean   : 108.7       \n",
              " 3rd Qu.:4.100           3rd Qu.: 114.0   3rd Qu.: 112.0       \n",
              " Max.   :5.000           Max.   :5721.0   Max.   :5277.0       \n",
              " NA's   :335                              NA's   :335          \n",
              " check_in_count    check_in_count_pre_2020 attribute_count  business_park\n",
              " Min.   :    1.0   Min.   :    1.0         Min.   : 0.000   0:2033       \n",
              " 1st Qu.:   13.0   1st Qu.:   14.0         1st Qu.: 5.000   1:3819       \n",
              " Median :   50.0   Median :   52.0         Median : 8.000                \n",
              " Mean   :  217.2   Mean   :  220.4         Mean   : 8.519                \n",
              " 3rd Qu.:  186.2   3rd Qu.:  196.0         3rd Qu.:12.000                \n",
              " Max.   :18615.0   Max.   :17662.0         Max.   :24.000                \n",
              " NA's   :200       NA's   :538             NA's   :53                    \n",
              " business_happy_h business_price business_open    n_photo       \n",
              " 0:4886           1   :2165      0:2327        Min.   :  1.000  \n",
              " 1: 966           2   :2485      1:3525        1st Qu.:  1.000  \n",
              "                  3   : 251                    Median :  3.000  \n",
              "                  4   :  38                    Mean   :  6.758  \n",
              "                  NA's: 913                    3rd Qu.:  7.000  \n",
              "                                               Max.   :201.000  \n",
              "                                               NA's   :2553     \n",
              " business_review_count\n",
              " Min.   :   5.0       \n",
              " 1st Qu.:  14.0       \n",
              " Median :  38.5       \n",
              " Mean   : 113.8       \n",
              " 3rd Qu.: 114.0       \n",
              " Max.   :5721.0       \n",
              "                      "
            ]
          },
          "metadata": {}
        }
      ]
    },
    {
      "cell_type": "code",
      "source": [
        "sum(is.na(data$business_price))"
      ],
      "metadata": {
        "colab": {
          "base_uri": "https://localhost:8080/",
          "height": 34
        },
        "id": "DQjHQlsoG1JC",
        "outputId": "a90c5463-3cd3-41e5-d201-b3076d2a8501"
      },
      "execution_count": 148,
      "outputs": [
        {
          "output_type": "display_data",
          "data": {
            "text/html": [
              "913"
            ],
            "text/markdown": "913",
            "text/latex": "913",
            "text/plain": [
              "[1] 913"
            ]
          },
          "metadata": {}
        }
      ]
    },
    {
      "cell_type": "markdown",
      "source": [
        "# Distance Calculation\n"
      ],
      "metadata": {
        "id": "Y4KnWrIXHysW"
      }
    },
    {
      "cell_type": "code",
      "source": [
        "install.packages(\"geosphere\")"
      ],
      "metadata": {
        "id": "HkcrInOeIinc"
      },
      "execution_count": null,
      "outputs": []
    },
    {
      "cell_type": "code",
      "source": [
        "library(geosphere)"
      ],
      "metadata": {
        "id": "WtfWF5aZIfgA"
      },
      "execution_count": 13,
      "outputs": []
    },
    {
      "cell_type": "code",
      "source": [
        "data_1 <- data %>%\n",
        "  select(business_id, business_lat, business_long)"
      ],
      "metadata": {
        "id": "qfk90pM5H0_3"
      },
      "execution_count": 149,
      "outputs": []
    },
    {
      "cell_type": "code",
      "source": [
        "# Calculate pairwise distances for all businesses\n",
        "df_distances <- data_1 %>%\n",
        "  mutate(distances = apply(data_1[, c(\"business_long\", \"business_lat\")], 1, function(x) distHaversine(data_1[, c(\"business_long\", \"business_lat\")], x))) %>%\n",
        "    select(business_id, distances)"
      ],
      "metadata": {
        "collapsed": true,
        "id": "SkN5x6qTVSFP"
      },
      "execution_count": 150,
      "outputs": []
    },
    {
      "cell_type": "code",
      "source": [
        "# Seting a threshold distance (in meters)\n",
        "threshold_distance <- 1000\n",
        "\n",
        "# Filtering distances to find nearby businesses\n",
        "nearby_counts <- df_distances %>%\n",
        "  mutate(nearby_count = rowSums(distances <= threshold_distance), nearby_count_minus_1 = nearby_count - 1) %>% #adjusting for each business counting itself (subtracting 1 from each count)\n",
        "    select(business_id, nearby_count_minus_1)\n",
        "\n",
        "# Results\n",
        "head(nearby_counts)"
      ],
      "metadata": {
        "colab": {
          "base_uri": "https://localhost:8080/",
          "height": 286
        },
        "id": "9nOCKvP5Wvvh",
        "outputId": "07c39b02-c1b3-4105-af76-a38d4c3ccf9d"
      },
      "execution_count": 151,
      "outputs": [
        {
          "output_type": "display_data",
          "data": {
            "text/html": [
              "<table class=\"dataframe\">\n",
              "<caption>A data.frame: 6 × 2</caption>\n",
              "<thead>\n",
              "\t<tr><th></th><th scope=col>business_id</th><th scope=col>nearby_count_minus_1</th></tr>\n",
              "\t<tr><th></th><th scope=col>&lt;chr&gt;</th><th scope=col>&lt;dbl&gt;</th></tr>\n",
              "</thead>\n",
              "<tbody>\n",
              "\t<tr><th scope=row>1</th><td>00AGVWzkxNLGb-7ZrwAOIA</td><td> 145</td></tr>\n",
              "\t<tr><th scope=row>2</th><td>00rIcvqmfci_oJWkOqPqmg</td><td>  11</td></tr>\n",
              "\t<tr><th scope=row>3</th><td>018ixB-WinNmflwX2UvS1g</td><td>1016</td></tr>\n",
              "\t<tr><th scope=row>4</th><td>01mP5a06zQpaYOakfaVBOQ</td><td>  42</td></tr>\n",
              "\t<tr><th scope=row>5</th><td>01YFYYmevGER3VJ1xFtUcA</td><td> 326</td></tr>\n",
              "\t<tr><th scope=row>6</th><td>02nb6CI8w-2EoSEkQdk2Wg</td><td> 405</td></tr>\n",
              "</tbody>\n",
              "</table>\n"
            ],
            "text/markdown": "\nA data.frame: 6 × 2\n\n| <!--/--> | business_id &lt;chr&gt; | nearby_count_minus_1 &lt;dbl&gt; |\n|---|---|---|\n| 1 | 00AGVWzkxNLGb-7ZrwAOIA |  145 |\n| 2 | 00rIcvqmfci_oJWkOqPqmg |   11 |\n| 3 | 018ixB-WinNmflwX2UvS1g | 1016 |\n| 4 | 01mP5a06zQpaYOakfaVBOQ |   42 |\n| 5 | 01YFYYmevGER3VJ1xFtUcA |  326 |\n| 6 | 02nb6CI8w-2EoSEkQdk2Wg |  405 |\n\n",
            "text/latex": "A data.frame: 6 × 2\n\\begin{tabular}{r|ll}\n  & business\\_id & nearby\\_count\\_minus\\_1\\\\\n  & <chr> & <dbl>\\\\\n\\hline\n\t1 & 00AGVWzkxNLGb-7ZrwAOIA &  145\\\\\n\t2 & 00rIcvqmfci\\_oJWkOqPqmg &   11\\\\\n\t3 & 018ixB-WinNmflwX2UvS1g & 1016\\\\\n\t4 & 01mP5a06zQpaYOakfaVBOQ &   42\\\\\n\t5 & 01YFYYmevGER3VJ1xFtUcA &  326\\\\\n\t6 & 02nb6CI8w-2EoSEkQdk2Wg &  405\\\\\n\\end{tabular}\n",
            "text/plain": [
              "  business_id            nearby_count_minus_1\n",
              "1 00AGVWzkxNLGb-7ZrwAOIA  145                \n",
              "2 00rIcvqmfci_oJWkOqPqmg   11                \n",
              "3 018ixB-WinNmflwX2UvS1g 1016                \n",
              "4 01mP5a06zQpaYOakfaVBOQ   42                \n",
              "5 01YFYYmevGER3VJ1xFtUcA  326                \n",
              "6 02nb6CI8w-2EoSEkQdk2Wg  405                "
            ]
          },
          "metadata": {}
        }
      ]
    },
    {
      "cell_type": "markdown",
      "source": [
        "## Left Join into Dataset"
      ],
      "metadata": {
        "id": "wzS6lqY9-Jv8"
      }
    },
    {
      "cell_type": "code",
      "source": [
        "#For nearby_counts, i.e. business_proximity\n",
        "\n",
        "data <- data %>%\n",
        "            left_join(nearby_counts, by=\"business_id\")"
      ],
      "metadata": {
        "id": "MUcjKaCL-LVV"
      },
      "execution_count": 152,
      "outputs": []
    },
    {
      "cell_type": "code",
      "source": [
        "head(data)"
      ],
      "metadata": {
        "collapsed": true,
        "id": "Gg6ty_Ly-XoN"
      },
      "execution_count": null,
      "outputs": []
    },
    {
      "cell_type": "markdown",
      "source": [
        "# Missing Values"
      ],
      "metadata": {
        "id": "EyLBNsEDlYSi"
      }
    },
    {
      "cell_type": "code",
      "source": [
        "install.packages(\"mice\")"
      ],
      "metadata": {
        "collapsed": true,
        "id": "kndNnQ3WlaK_"
      },
      "execution_count": null,
      "outputs": []
    },
    {
      "cell_type": "code",
      "source": [
        "library(mice)"
      ],
      "metadata": {
        "collapsed": true,
        "id": "RrddktuQiYUA"
      },
      "execution_count": null,
      "outputs": []
    },
    {
      "cell_type": "code",
      "source": [
        "# Selecting the variables for analysis:\n",
        "data_to_analysis <- data %>%\n",
        "    select(check_in_count_pre_2020, business_stars_pre_2020, nearby_count_minus_1, attribute_count, business_price, business_happy_h)"
      ],
      "metadata": {
        "id": "indBdD2glfpW"
      },
      "execution_count": 153,
      "outputs": []
    },
    {
      "cell_type": "markdown",
      "source": [
        "## Running the Model with NA's (Pre-Mice)"
      ],
      "metadata": {
        "id": "fbX1XgR1oG3f"
      }
    },
    {
      "cell_type": "code",
      "source": [
        "# Check_in_frequency = β0 + β1 * avg_number_of_stars + β2 * business_proximity + β3 * number of characteristics + β4 * (price_level x happy hour) + ε"
      ],
      "metadata": {
        "id": "Yuv6hB1GDAI4"
      },
      "execution_count": null,
      "outputs": []
    },
    {
      "cell_type": "code",
      "source": [
        "model_pre_mice <- lm(check_in_count_pre_2020 ~\n",
        "              business_stars_pre_2020\n",
        "              + nearby_count_minus_1\n",
        "              + attribute_count\n",
        "              + business_price * business_happy_h,\n",
        "                                                   data_to_analysis)"
      ],
      "metadata": {
        "id": "Sj04B2e5oHne"
      },
      "execution_count": 154,
      "outputs": []
    },
    {
      "cell_type": "code",
      "source": [
        "summary(model_pre_mice)"
      ],
      "metadata": {
        "colab": {
          "base_uri": "https://localhost:8080/",
          "height": 538
        },
        "id": "beas9ljuodpE",
        "outputId": "a287f7f7-54a6-4795-acd7-ae01374e914d"
      },
      "execution_count": 155,
      "outputs": [
        {
          "output_type": "display_data",
          "data": {
            "text/plain": [
              "\n",
              "Call:\n",
              "lm(formula = check_in_count_pre_2020 ~ business_stars_pre_2020 + \n",
              "    nearby_count_minus_1 + attribute_count + business_price * \n",
              "    business_happy_h, data = data_to_analysis)\n",
              "\n",
              "Residuals:\n",
              "    Min      1Q  Median      3Q     Max \n",
              " -865.8  -203.0   -63.2    68.8 16924.7 \n",
              "\n",
              "Coefficients:\n",
              "                                    Estimate Std. Error t value Pr(>|t|)    \n",
              "(Intercept)                       -401.24984   36.41589 -11.019  < 2e-16 ***\n",
              "business_stars_pre_2020             42.57228   10.02277   4.248 2.20e-05 ***\n",
              "nearby_count_minus_1                 0.22957    0.01882  12.199  < 2e-16 ***\n",
              "attribute_count                     39.50370    2.08540  18.943  < 2e-16 ***\n",
              "business_price2                     67.52226   17.01760   3.968 7.36e-05 ***\n",
              "business_price3                     25.76878   48.62697   0.530   0.5962    \n",
              "business_price4                    137.62966   98.66237   1.395   0.1631    \n",
              "business_happy_h1                  -93.49891   58.32871  -1.603   0.1090    \n",
              "business_price2:business_happy_h1  111.07927   62.73338   1.771   0.0767 .  \n",
              "business_price3:business_happy_h1   47.03065   89.63302   0.525   0.5998    \n",
              "business_price4:business_happy_h1  -16.51691  197.16643  -0.084   0.9332    \n",
              "---\n",
              "Signif. codes:  0 ‘***’ 0.001 ‘**’ 0.01 ‘*’ 0.05 ‘.’ 0.1 ‘ ’ 1\n",
              "\n",
              "Residual standard error: 508.6 on 4747 degrees of freedom\n",
              "  (1094 observations deleted due to missingness)\n",
              "Multiple R-squared:  0.1727,\tAdjusted R-squared:  0.171 \n",
              "F-statistic:  99.1 on 10 and 4747 DF,  p-value: < 2.2e-16\n"
            ]
          },
          "metadata": {}
        }
      ]
    },
    {
      "cell_type": "code",
      "source": [
        "# (1094 observations deleted due to missingness)"
      ],
      "metadata": {
        "id": "bzf29aW2H2mg"
      },
      "execution_count": null,
      "outputs": []
    },
    {
      "cell_type": "markdown",
      "source": [
        "## Pattern of Missings"
      ],
      "metadata": {
        "id": "ltMyVI15o-e8"
      }
    },
    {
      "cell_type": "code",
      "source": [
        "args(md.pattern)"
      ],
      "metadata": {
        "colab": {
          "base_uri": "https://localhost:8080/",
          "height": 52
        },
        "id": "Tb15_B3IoI5O",
        "outputId": "993b060d-bb0c-4e5b-f4bc-9872248e5362"
      },
      "execution_count": 77,
      "outputs": [
        {
          "output_type": "display_data",
          "data": {
            "text/html": [
              "<pre class=language-r><code>function (x, plot = TRUE, rotate.names = FALSE) \n",
              "NULL</code></pre>"
            ],
            "text/markdown": "```r\nfunction (x, plot = TRUE, rotate.names = FALSE) \nNULL\n```",
            "text/latex": "\\begin{minted}{r}\nfunction (x, plot = TRUE, rotate.names = FALSE) \nNULL\n\\end{minted}",
            "text/plain": [
              "function (x, plot = TRUE, rotate.names = FALSE) \n",
              "NULL"
            ]
          },
          "metadata": {}
        }
      ]
    },
    {
      "cell_type": "code",
      "source": [
        "#inspect pattern of missings\n",
        "md.pattern(data_to_analysis, plot = TRUE, rotate.names = TRUE)"
      ],
      "metadata": {
        "colab": {
          "base_uri": "https://localhost:8080/",
          "height": 832
        },
        "collapsed": true,
        "id": "XfPHveIbntJ6",
        "outputId": "2f2c54fd-e5be-4902-92be-4df53a6a0f1a"
      },
      "execution_count": 156,
      "outputs": [
        {
          "output_type": "display_data",
          "data": {
            "text/html": [
              "<table class=\"dataframe\">\n",
              "<caption>A matrix: 11 × 7 of type dbl</caption>\n",
              "<thead>\n",
              "\t<tr><th></th><th scope=col>nearby_count_minus_1</th><th scope=col>business_happy_h</th><th scope=col>attribute_count</th><th scope=col>business_stars_pre_2020</th><th scope=col>check_in_count_pre_2020</th><th scope=col>business_price</th><th scope=col></th></tr>\n",
              "</thead>\n",
              "<tbody>\n",
              "\t<tr><th scope=row>4758</th><td>1</td><td>1</td><td> 1</td><td>  1</td><td>  1</td><td>  1</td><td>   0</td></tr>\n",
              "\t<tr><th scope=row>529</th><td>1</td><td>1</td><td> 1</td><td>  1</td><td>  1</td><td>  0</td><td>   1</td></tr>\n",
              "\t<tr><th scope=row>136</th><td>1</td><td>1</td><td> 1</td><td>  1</td><td>  0</td><td>  1</td><td>   1</td></tr>\n",
              "\t<tr><th scope=row>60</th><td>1</td><td>1</td><td> 1</td><td>  1</td><td>  0</td><td>  0</td><td>   2</td></tr>\n",
              "\t<tr><th scope=row>4</th><td>1</td><td>1</td><td> 1</td><td>  0</td><td>  1</td><td>  0</td><td>   2</td></tr>\n",
              "\t<tr><th scope=row>45</th><td>1</td><td>1</td><td> 1</td><td>  0</td><td>  0</td><td>  1</td><td>   2</td></tr>\n",
              "\t<tr><th scope=row>267</th><td>1</td><td>1</td><td> 1</td><td>  0</td><td>  0</td><td>  0</td><td>   3</td></tr>\n",
              "\t<tr><th scope=row>23</th><td>1</td><td>1</td><td> 0</td><td>  1</td><td>  1</td><td>  0</td><td>   2</td></tr>\n",
              "\t<tr><th scope=row>11</th><td>1</td><td>1</td><td> 0</td><td>  1</td><td>  0</td><td>  0</td><td>   3</td></tr>\n",
              "\t<tr><th scope=row>19</th><td>1</td><td>1</td><td> 0</td><td>  0</td><td>  0</td><td>  0</td><td>   4</td></tr>\n",
              "\t<tr><th scope=row></th><td>0</td><td>0</td><td>53</td><td>335</td><td>538</td><td>913</td><td>1839</td></tr>\n",
              "</tbody>\n",
              "</table>\n"
            ],
            "text/markdown": "\nA matrix: 11 × 7 of type dbl\n\n| <!--/--> | nearby_count_minus_1 | business_happy_h | attribute_count | business_stars_pre_2020 | check_in_count_pre_2020 | business_price | <!----> |\n|---|---|---|---|---|---|---|---|\n| 4758 | 1 | 1 |  1 |   1 |   1 |   1 |    0 |\n| 529 | 1 | 1 |  1 |   1 |   1 |   0 |    1 |\n| 136 | 1 | 1 |  1 |   1 |   0 |   1 |    1 |\n| 60 | 1 | 1 |  1 |   1 |   0 |   0 |    2 |\n| 4 | 1 | 1 |  1 |   0 |   1 |   0 |    2 |\n| 45 | 1 | 1 |  1 |   0 |   0 |   1 |    2 |\n| 267 | 1 | 1 |  1 |   0 |   0 |   0 |    3 |\n| 23 | 1 | 1 |  0 |   1 |   1 |   0 |    2 |\n| 11 | 1 | 1 |  0 |   1 |   0 |   0 |    3 |\n| 19 | 1 | 1 |  0 |   0 |   0 |   0 |    4 |\n| <!----> | 0 | 0 | 53 | 335 | 538 | 913 | 1839 |\n\n",
            "text/latex": "A matrix: 11 × 7 of type dbl\n\\begin{tabular}{r|lllllll}\n  & nearby\\_count\\_minus\\_1 & business\\_happy\\_h & attribute\\_count & business\\_stars\\_pre\\_2020 & check\\_in\\_count\\_pre\\_2020 & business\\_price & \\\\\n\\hline\n\t4758 & 1 & 1 &  1 &   1 &   1 &   1 &    0\\\\\n\t529 & 1 & 1 &  1 &   1 &   1 &   0 &    1\\\\\n\t136 & 1 & 1 &  1 &   1 &   0 &   1 &    1\\\\\n\t60 & 1 & 1 &  1 &   1 &   0 &   0 &    2\\\\\n\t4 & 1 & 1 &  1 &   0 &   1 &   0 &    2\\\\\n\t45 & 1 & 1 &  1 &   0 &   0 &   1 &    2\\\\\n\t267 & 1 & 1 &  1 &   0 &   0 &   0 &    3\\\\\n\t23 & 1 & 1 &  0 &   1 &   1 &   0 &    2\\\\\n\t11 & 1 & 1 &  0 &   1 &   0 &   0 &    3\\\\\n\t19 & 1 & 1 &  0 &   0 &   0 &   0 &    4\\\\\n\t & 0 & 0 & 53 & 335 & 538 & 913 & 1839\\\\\n\\end{tabular}\n",
            "text/plain": [
              "     nearby_count_minus_1 business_happy_h attribute_count\n",
              "4758 1                    1                 1             \n",
              "529  1                    1                 1             \n",
              "136  1                    1                 1             \n",
              "60   1                    1                 1             \n",
              "4    1                    1                 1             \n",
              "45   1                    1                 1             \n",
              "267  1                    1                 1             \n",
              "23   1                    1                 0             \n",
              "11   1                    1                 0             \n",
              "19   1                    1                 0             \n",
              "     0                    0                53             \n",
              "     business_stars_pre_2020 check_in_count_pre_2020 business_price     \n",
              "4758   1                       1                       1               0\n",
              "529    1                       1                       0               1\n",
              "136    1                       0                       1               1\n",
              "60     1                       0                       0               2\n",
              "4      0                       1                       0               2\n",
              "45     0                       0                       1               2\n",
              "267    0                       0                       0               3\n",
              "23     1                       1                       0               2\n",
              "11     1                       0                       0               3\n",
              "19     0                       0                       0               4\n",
              "     335                     538                     913            1839"
            ]
          },
          "metadata": {}
        },
        {
          "output_type": "display_data",
          "data": {
            "text/plain": [
              "plot without title"
            ],
            "image/png": "[encoded data removed]"
          },
          "metadata": {
            "image/png": {
              "width": 420,
              "height": 420
            }
          }
        }
      ]
    },
    {
      "cell_type": "markdown",
      "source": [
        "## Impute Data via Mice"
      ],
      "metadata": {
        "id": "dtCmXlyDu_WF"
      }
    },
    {
      "cell_type": "code",
      "source": [
        "args(mice)"
      ],
      "metadata": {
        "colab": {
          "base_uri": "https://localhost:8080/",
          "height": 121
        },
        "id": "Bygxc-Y2mpSZ",
        "outputId": "c8c758f6-88d4-4204-e9e6-d846d496f152"
      },
      "execution_count": null,
      "outputs": [
        {
          "output_type": "display_data",
          "data": {
            "text/html": [
              "<pre class=language-r><code>function (data, m = 5, method = NULL, predictorMatrix, ignore = NULL, \n",
              "<span style=white-space:pre-wrap>    where = NULL, blocks, visitSequence = NULL, formulas, blots = NULL, </span>\n",
              "<span style=white-space:pre-wrap>    post = NULL, defaultMethod = c(\"pmm\", \"logreg\", \"polyreg\", </span>\n",
              "<span style=white-space:pre-wrap>        \"polr\"), maxit = 5, printFlag = TRUE, seed = NA, data.init = NULL, </span>\n",
              "<span style=white-space:pre-wrap>    ...) </span>\n",
              "NULL</code></pre>"
            ],
            "text/markdown": "```r\nfunction (data, m = 5, method = NULL, predictorMatrix, ignore = NULL, \n    where = NULL, blocks, visitSequence = NULL, formulas, blots = NULL, \n    post = NULL, defaultMethod = c(\"pmm\", \"logreg\", \"polyreg\", \n        \"polr\"), maxit = 5, printFlag = TRUE, seed = NA, data.init = NULL, \n    ...) \nNULL\n```",
            "text/latex": "\\begin{minted}{r}\nfunction (data, m = 5, method = NULL, predictorMatrix, ignore = NULL, \n    where = NULL, blocks, visitSequence = NULL, formulas, blots = NULL, \n    post = NULL, defaultMethod = c(\"pmm\", \"logreg\", \"polyreg\", \n        \"polr\"), maxit = 5, printFlag = TRUE, seed = NA, data.init = NULL, \n    ...) \nNULL\n\\end{minted}",
            "text/plain": [
              "function (data, m = 5, method = NULL, predictorMatrix, ignore = NULL, \n",
              "    where = NULL, blocks, visitSequence = NULL, formulas, blots = NULL, \n",
              "    post = NULL, defaultMethod = c(\"pmm\", \"logreg\", \"polyreg\", \n",
              "        \"polr\"), maxit = 5, printFlag = TRUE, seed = NA, data.init = NULL, \n",
              "    ...) \n",
              "NULL"
            ]
          },
          "metadata": {}
        }
      ]
    },
    {
      "cell_type": "code",
      "source": [
        " ## m = num. of imputations\n",
        "      # Rule of thum = at least as many imputations as percentage of missing vallues\n",
        " ## maxit = max num. of iterations"
      ],
      "metadata": {
        "id": "zjceGLCQqNzF"
      },
      "execution_count": null,
      "outputs": []
    },
    {
      "cell_type": "code",
      "source": [
        "### Impute Data via mice\n",
        "MiceImputedData <- mice(data_to_analysis, m=20, maxit = 50, seed = 543, print=FALSE)"
      ],
      "metadata": {
        "collapsed": true,
        "id": "Eslx3_UuydnL"
      },
      "execution_count": 158,
      "outputs": []
    },
    {
      "cell_type": "code",
      "source": [
        "summary(MiceImputedData)"
      ],
      "metadata": {
        "id": "OFs4gHj6mTE8",
        "colab": {
          "base_uri": "https://localhost:8080/"
        },
        "outputId": "a8bd39c9-01de-48f6-835a-98ce1d997926"
      },
      "execution_count": 159,
      "outputs": [
        {
          "output_type": "stream",
          "name": "stdout",
          "text": [
            "Class: mids\n",
            "Number of multiple imputations:  20 \n",
            "Imputation methods:\n",
            "check_in_count_pre_2020 business_stars_pre_2020    nearby_count_minus_1 \n",
            "                  \"pmm\"                   \"pmm\"                      \"\" \n",
            "        attribute_count          business_price        business_happy_h \n",
            "                  \"pmm\"               \"polyreg\"                      \"\" \n",
            "PredictorMatrix:\n",
            "                        check_in_count_pre_2020 business_stars_pre_2020\n",
            "check_in_count_pre_2020                       0                       1\n",
            "business_stars_pre_2020                       1                       0\n",
            "nearby_count_minus_1                          1                       1\n",
            "attribute_count                               1                       1\n",
            "business_price                                1                       1\n",
            "business_happy_h                              1                       1\n",
            "                        nearby_count_minus_1 attribute_count business_price\n",
            "check_in_count_pre_2020                    1               1              1\n",
            "business_stars_pre_2020                    1               1              1\n",
            "nearby_count_minus_1                       0               1              1\n",
            "attribute_count                            1               0              1\n",
            "business_price                             1               1              0\n",
            "business_happy_h                           1               1              1\n",
            "                        business_happy_h\n",
            "check_in_count_pre_2020                1\n",
            "business_stars_pre_2020                1\n",
            "nearby_count_minus_1                   1\n",
            "attribute_count                        1\n",
            "business_price                         1\n",
            "business_happy_h                       0\n"
          ]
        }
      ]
    },
    {
      "cell_type": "markdown",
      "source": [
        "## RUN"
      ],
      "metadata": {
        "id": "UKnuLhF7vGJX"
      }
    },
    {
      "cell_type": "markdown",
      "source": [
        "### Run with (2nd out of 20)"
      ],
      "metadata": {
        "id": "L2Y_adMM8if8"
      }
    },
    {
      "cell_type": "code",
      "source": [
        "#get complete data set (2nd out of 20)\n",
        "MiceCompleteData <- complete(MiceImputedData, 2)\n",
        "\n",
        "MiceCompleteData"
      ],
      "metadata": {
        "id": "bryTG4lRsGgD"
      },
      "execution_count": null,
      "outputs": []
    },
    {
      "cell_type": "code",
      "source": [
        "model_after_mice <- lm(check_in_count_pre_2020 ~\n",
        "              business_stars_pre_2020\n",
        "              + nearby_count_minus_1\n",
        "              + attribute_count\n",
        "              + business_price * business_happy_h,\n",
        "                                                   MiceCompleteData)"
      ],
      "metadata": {
        "id": "LJZ9SoUrulxZ"
      },
      "execution_count": 161,
      "outputs": []
    },
    {
      "cell_type": "code",
      "source": [
        "summary(model_after_mice) #summary(MiceAllModels$analyses[[2]])"
      ],
      "metadata": {
        "colab": {
          "base_uri": "https://localhost:8080/",
          "height": 520
        },
        "id": "bMiHdHX9us6t",
        "outputId": "72b65513-3422-4151-d61a-952dfc666681"
      },
      "execution_count": 163,
      "outputs": [
        {
          "output_type": "display_data",
          "data": {
            "text/plain": [
              "\n",
              "Call:\n",
              "lm(formula = check_in_count_pre_2020 ~ business_stars_pre_2020 + \n",
              "    nearby_count_minus_1 + attribute_count + business_price * \n",
              "    business_happy_h, data = MiceCompleteData)\n",
              "\n",
              "Residuals:\n",
              "    Min      1Q  Median      3Q     Max \n",
              " -936.1  -183.7   -55.3    66.1 16980.4 \n",
              "\n",
              "Coefficients:\n",
              "                                    Estimate Std. Error t value Pr(>|t|)    \n",
              "(Intercept)                       -325.56825   29.08911 -11.192  < 2e-16 ***\n",
              "business_stars_pre_2020             31.82417    7.83178   4.063  4.9e-05 ***\n",
              "nearby_count_minus_1                 0.20391    0.01566  13.020  < 2e-16 ***\n",
              "attribute_count                     37.00312    1.59293  23.230  < 2e-16 ***\n",
              "business_price2                     52.73813   14.03759   3.757 0.000174 ***\n",
              "business_price3                     14.12162   38.18705   0.370 0.711544    \n",
              "business_price4                     97.27115   78.49635   1.239 0.215328    \n",
              "business_happy_h1                 -103.33811   49.63601  -2.082 0.037393 *  \n",
              "business_price2:business_happy_h1  122.31583   53.29248   2.295 0.021758 *  \n",
              "business_price3:business_happy_h1   65.66714   73.77359   0.890 0.373440    \n",
              "business_price4:business_happy_h1   58.21902  174.19774   0.334 0.738231    \n",
              "---\n",
              "Signif. codes:  0 ‘***’ 0.001 ‘**’ 0.01 ‘*’ 0.05 ‘.’ 0.1 ‘ ’ 1\n",
              "\n",
              "Residual standard error: 467.1 on 5841 degrees of freedom\n",
              "Multiple R-squared:  0.1758,\tAdjusted R-squared:  0.1743 \n",
              "F-statistic: 124.5 on 10 and 5841 DF,  p-value: < 2.2e-16\n"
            ]
          },
          "metadata": {}
        }
      ]
    },
    {
      "cell_type": "markdown",
      "source": [
        "### Run with pooled_mice"
      ],
      "metadata": {
        "id": "ntOnbjiV8sWN"
      }
    },
    {
      "cell_type": "code",
      "source": [
        "#build predictive model for all generated imputed data sets\n",
        "MiceAllModels <- with(MiceImputedData, lm(check_in_count_pre_2020 ~\n",
        "              business_stars_pre_2020\n",
        "              + nearby_count_minus_1\n",
        "              + attribute_count\n",
        "              + business_price * business_happy_h))"
      ],
      "metadata": {
        "id": "_tfv8ym8vPEj"
      },
      "execution_count": 164,
      "outputs": []
    },
    {
      "cell_type": "code",
      "source": [
        "#combine results of all 20 models\n",
        "pooled_Mice <- pool(MiceAllModels)"
      ],
      "metadata": {
        "id": "DIdSlwQFviZE"
      },
      "execution_count": 165,
      "outputs": []
    },
    {
      "cell_type": "markdown",
      "source": [
        "**Results**"
      ],
      "metadata": {
        "id": "wY-qD5au84wA"
      }
    },
    {
      "cell_type": "code",
      "source": [
        "pooled_Mice_results <- as.data.frame(summary(pooled_Mice))\n",
        "pooled_Mice_results"
      ],
      "metadata": {
        "colab": {
          "base_uri": "https://localhost:8080/",
          "height": 443
        },
        "id": "gMdzE0QfvrjN",
        "outputId": "3262d090-fcb0-4b0c-9f18-f8f8a5c6d23b"
      },
      "execution_count": 166,
      "outputs": [
        {
          "output_type": "display_data",
          "data": {
            "text/html": [
              "<table class=\"dataframe\">\n",
              "<caption>A data.frame: 11 × 6</caption>\n",
              "<thead>\n",
              "\t<tr><th scope=col>term</th><th scope=col>estimate</th><th scope=col>std.error</th><th scope=col>statistic</th><th scope=col>df</th><th scope=col>p.value</th></tr>\n",
              "\t<tr><th scope=col>&lt;fct&gt;</th><th scope=col>&lt;dbl&gt;</th><th scope=col>&lt;dbl&gt;</th><th scope=col>&lt;dbl&gt;</th><th scope=col>&lt;dbl&gt;</th><th scope=col>&lt;dbl&gt;</th></tr>\n",
              "</thead>\n",
              "<tbody>\n",
              "\t<tr><td>(Intercept)                      </td><td>-320.8941205</td><td> 29.50386868</td><td>-10.8763405</td><td>5243.793</td><td> 2.915787e-27</td></tr>\n",
              "\t<tr><td>business_stars_pre_2020          </td><td>  30.4575008</td><td>  7.94090186</td><td>  3.8355216</td><td>5564.093</td><td> 1.266838e-04</td></tr>\n",
              "\t<tr><td>nearby_count_minus_1             </td><td>   0.2065079</td><td>  0.01611153</td><td> 12.8173983</td><td>3349.878</td><td> 9.438400e-37</td></tr>\n",
              "\t<tr><td>attribute_count                  </td><td>  36.6654078</td><td>  1.62592515</td><td> 22.5504894</td><td>4796.103</td><td>4.127828e-107</td></tr>\n",
              "\t<tr><td>business_price2                  </td><td>  56.4451505</td><td> 14.41858218</td><td>  3.9147504</td><td>3871.681</td><td> 9.205482e-05</td></tr>\n",
              "\t<tr><td>business_price3                  </td><td>  16.4062157</td><td> 38.65021049</td><td>  0.4244793</td><td>3273.307</td><td> 6.712442e-01</td></tr>\n",
              "\t<tr><td>business_price4                  </td><td> 104.6955597</td><td> 84.59805723</td><td>  1.2375646</td><td>1090.263</td><td> 2.161440e-01</td></tr>\n",
              "\t<tr><td>business_happy_h1                </td><td> -93.3519219</td><td> 49.83128251</td><td> -1.8733598</td><td>5359.960</td><td> 6.107309e-02</td></tr>\n",
              "\t<tr><td>business_price2:business_happy_h1</td><td> 114.7305729</td><td> 54.10947209</td><td>  2.1203418</td><td>4263.042</td><td> 3.403483e-02</td></tr>\n",
              "\t<tr><td>business_price3:business_happy_h1</td><td>  53.2550434</td><td> 75.15753441</td><td>  0.7085789</td><td>3554.972</td><td> 4.786323e-01</td></tr>\n",
              "\t<tr><td>business_price4:business_happy_h1</td><td>  29.0340770</td><td>171.44138086</td><td>  0.1693528</td><td>4799.719</td><td> 8.655263e-01</td></tr>\n",
              "</tbody>\n",
              "</table>\n"
            ],
            "text/markdown": "\nA data.frame: 11 × 6\n\n| term &lt;fct&gt; | estimate &lt;dbl&gt; | std.error &lt;dbl&gt; | statistic &lt;dbl&gt; | df &lt;dbl&gt; | p.value &lt;dbl&gt; |\n|---|---|---|---|---|---|\n| (Intercept)                       | -320.8941205 |  29.50386868 | -10.8763405 | 5243.793 |  2.915787e-27 |\n| business_stars_pre_2020           |   30.4575008 |   7.94090186 |   3.8355216 | 5564.093 |  1.266838e-04 |\n| nearby_count_minus_1              |    0.2065079 |   0.01611153 |  12.8173983 | 3349.878 |  9.438400e-37 |\n| attribute_count                   |   36.6654078 |   1.62592515 |  22.5504894 | 4796.103 | 4.127828e-107 |\n| business_price2                   |   56.4451505 |  14.41858218 |   3.9147504 | 3871.681 |  9.205482e-05 |\n| business_price3                   |   16.4062157 |  38.65021049 |   0.4244793 | 3273.307 |  6.712442e-01 |\n| business_price4                   |  104.6955597 |  84.59805723 |   1.2375646 | 1090.263 |  2.161440e-01 |\n| business_happy_h1                 |  -93.3519219 |  49.83128251 |  -1.8733598 | 5359.960 |  6.107309e-02 |\n| business_price2:business_happy_h1 |  114.7305729 |  54.10947209 |   2.1203418 | 4263.042 |  3.403483e-02 |\n| business_price3:business_happy_h1 |   53.2550434 |  75.15753441 |   0.7085789 | 3554.972 |  4.786323e-01 |\n| business_price4:business_happy_h1 |   29.0340770 | 171.44138086 |   0.1693528 | 4799.719 |  8.655263e-01 |\n\n",
            "text/latex": "A data.frame: 11 × 6\n\\begin{tabular}{llllll}\n term & estimate & std.error & statistic & df & p.value\\\\\n <fct> & <dbl> & <dbl> & <dbl> & <dbl> & <dbl>\\\\\n\\hline\n\t (Intercept)                       & -320.8941205 &  29.50386868 & -10.8763405 & 5243.793 &  2.915787e-27\\\\\n\t business\\_stars\\_pre\\_2020           &   30.4575008 &   7.94090186 &   3.8355216 & 5564.093 &  1.266838e-04\\\\\n\t nearby\\_count\\_minus\\_1              &    0.2065079 &   0.01611153 &  12.8173983 & 3349.878 &  9.438400e-37\\\\\n\t attribute\\_count                   &   36.6654078 &   1.62592515 &  22.5504894 & 4796.103 & 4.127828e-107\\\\\n\t business\\_price2                   &   56.4451505 &  14.41858218 &   3.9147504 & 3871.681 &  9.205482e-05\\\\\n\t business\\_price3                   &   16.4062157 &  38.65021049 &   0.4244793 & 3273.307 &  6.712442e-01\\\\\n\t business\\_price4                   &  104.6955597 &  84.59805723 &   1.2375646 & 1090.263 &  2.161440e-01\\\\\n\t business\\_happy\\_h1                 &  -93.3519219 &  49.83128251 &  -1.8733598 & 5359.960 &  6.107309e-02\\\\\n\t business\\_price2:business\\_happy\\_h1 &  114.7305729 &  54.10947209 &   2.1203418 & 4263.042 &  3.403483e-02\\\\\n\t business\\_price3:business\\_happy\\_h1 &   53.2550434 &  75.15753441 &   0.7085789 & 3554.972 &  4.786323e-01\\\\\n\t business\\_price4:business\\_happy\\_h1 &   29.0340770 & 171.44138086 &   0.1693528 & 4799.719 &  8.655263e-01\\\\\n\\end{tabular}\n",
            "text/plain": [
              "   term                              estimate     std.error    statistic  \n",
              "1  (Intercept)                       -320.8941205  29.50386868 -10.8763405\n",
              "2  business_stars_pre_2020             30.4575008   7.94090186   3.8355216\n",
              "3  nearby_count_minus_1                 0.2065079   0.01611153  12.8173983\n",
              "4  attribute_count                     36.6654078   1.62592515  22.5504894\n",
              "5  business_price2                     56.4451505  14.41858218   3.9147504\n",
              "6  business_price3                     16.4062157  38.65021049   0.4244793\n",
              "7  business_price4                    104.6955597  84.59805723   1.2375646\n",
              "8  business_happy_h1                  -93.3519219  49.83128251  -1.8733598\n",
              "9  business_price2:business_happy_h1  114.7305729  54.10947209   2.1203418\n",
              "10 business_price3:business_happy_h1   53.2550434  75.15753441   0.7085789\n",
              "11 business_price4:business_happy_h1   29.0340770 171.44138086   0.1693528\n",
              "   df       p.value      \n",
              "1  5243.793  2.915787e-27\n",
              "2  5564.093  1.266838e-04\n",
              "3  3349.878  9.438400e-37\n",
              "4  4796.103 4.127828e-107\n",
              "5  3871.681  9.205482e-05\n",
              "6  3273.307  6.712442e-01\n",
              "7  1090.263  2.161440e-01\n",
              "8  5359.960  6.107309e-02\n",
              "9  4263.042  3.403483e-02\n",
              "10 3554.972  4.786323e-01\n",
              "11 4799.719  8.655263e-01"
            ]
          },
          "metadata": {}
        }
      ]
    },
    {
      "cell_type": "code",
      "source": [
        "# Adding significance level visualization to the above df:\n",
        "\n",
        "pooled_Mice_results %>%\n",
        "    mutate(sign = case_when(p.value >=0 & p.value < 0.001 ~ '***',\n",
        "                              p.value >=0.001 & p.value < 0.01 ~ '**',\n",
        "                                p.value >=0.01 & p.value < 0.05 ~ '*',\n",
        "                                 p.value >=0.05 & p.value < 0.1 ~ '.',\n",
        "                                  p.value >= 0.1 ~ ' ')\n",
        ")"
      ],
      "metadata": {
        "colab": {
          "base_uri": "https://localhost:8080/",
          "height": 443
        },
        "id": "ihNv8qzN9cfH",
        "outputId": "1db309d1-ea5c-462c-aa94-eef4b6a07b23"
      },
      "execution_count": null,
      "outputs": [
        {
          "output_type": "display_data",
          "data": {
            "text/html": [
              "<table class=\"dataframe\">\n",
              "<caption>A data.frame: 11 × 7</caption>\n",
              "<thead>\n",
              "\t<tr><th scope=col>term</th><th scope=col>estimate</th><th scope=col>std.error</th><th scope=col>statistic</th><th scope=col>df</th><th scope=col>p.value</th><th scope=col>sign</th></tr>\n",
              "\t<tr><th scope=col>&lt;fct&gt;</th><th scope=col>&lt;dbl&gt;</th><th scope=col>&lt;dbl&gt;</th><th scope=col>&lt;dbl&gt;</th><th scope=col>&lt;dbl&gt;</th><th scope=col>&lt;dbl&gt;</th><th scope=col>&lt;chr&gt;</th></tr>\n",
              "</thead>\n",
              "<tbody>\n",
              "\t<tr><td>(Intercept)                      </td><td>-322.9206581</td><td> 29.71543409</td><td>-10.86710216</td><td>5229.714</td><td> 3.225042e-27</td><td>***</td></tr>\n",
              "\t<tr><td>business_stars_pre_2020          </td><td>  30.8142798</td><td>  8.02709702</td><td>  3.83878253</td><td>4932.669</td><td> 1.251941e-04</td><td>***</td></tr>\n",
              "\t<tr><td>nearby_count_minus_1             </td><td>   0.2068899</td><td>  0.01653178</td><td> 12.51468192</td><td>1683.276</td><td> 2.006455e-34</td><td>***</td></tr>\n",
              "\t<tr><td>attribute_count                  </td><td>  36.7117242</td><td>  1.63843335</td><td> 22.40660217</td><td>4180.495</td><td>4.174460e-105</td><td>***</td></tr>\n",
              "\t<tr><td>business_price2                  </td><td>  55.9426855</td><td> 14.28610596</td><td>  3.91588062</td><td>5403.575</td><td> 9.118456e-05</td><td>***</td></tr>\n",
              "\t<tr><td>business_price3                  </td><td>  15.1479266</td><td> 38.68412927</td><td>  0.39157988</td><td>3782.844</td><td> 6.953907e-01</td><td>   </td></tr>\n",
              "\t<tr><td>business_price4                  </td><td> 104.5620113</td><td> 82.76591260</td><td>  1.26334632</td><td>3123.836</td><td> 2.065590e-01</td><td>   </td></tr>\n",
              "\t<tr><td>business_happy_h1                </td><td> -94.2997178</td><td> 50.08987124</td><td> -1.88261050</td><td>5324.203</td><td> 5.980765e-02</td><td>.  </td></tr>\n",
              "\t<tr><td>business_price2:business_happy_h1</td><td> 117.3609424</td><td> 54.25328188</td><td>  2.16320448</td><td>4543.149</td><td> 3.057744e-02</td><td>*  </td></tr>\n",
              "\t<tr><td>business_price3:business_happy_h1</td><td>  55.4890475</td><td> 75.81620518</td><td>  0.73188901</td><td>3019.266</td><td> 4.642931e-01</td><td>   </td></tr>\n",
              "\t<tr><td>business_price4:business_happy_h1</td><td>  13.4148732</td><td>169.12940194</td><td>  0.07931722</td><td>4546.846</td><td> 9.367838e-01</td><td>   </td></tr>\n",
              "</tbody>\n",
              "</table>\n"
            ],
            "text/markdown": "\nA data.frame: 11 × 7\n\n| term &lt;fct&gt; | estimate &lt;dbl&gt; | std.error &lt;dbl&gt; | statistic &lt;dbl&gt; | df &lt;dbl&gt; | p.value &lt;dbl&gt; | sign &lt;chr&gt; |\n|---|---|---|---|---|---|---|\n| (Intercept)                       | -322.9206581 |  29.71543409 | -10.86710216 | 5229.714 |  3.225042e-27 | *** |\n| business_stars_pre_2020           |   30.8142798 |   8.02709702 |   3.83878253 | 4932.669 |  1.251941e-04 | *** |\n| nearby_count_minus_1              |    0.2068899 |   0.01653178 |  12.51468192 | 1683.276 |  2.006455e-34 | *** |\n| attribute_count                   |   36.7117242 |   1.63843335 |  22.40660217 | 4180.495 | 4.174460e-105 | *** |\n| business_price2                   |   55.9426855 |  14.28610596 |   3.91588062 | 5403.575 |  9.118456e-05 | *** |\n| business_price3                   |   15.1479266 |  38.68412927 |   0.39157988 | 3782.844 |  6.953907e-01 | <!----> |\n| business_price4                   |  104.5620113 |  82.76591260 |   1.26334632 | 3123.836 |  2.065590e-01 | <!----> |\n| business_happy_h1                 |  -94.2997178 |  50.08987124 |  -1.88261050 | 5324.203 |  5.980765e-02 | .   |\n| business_price2:business_happy_h1 |  117.3609424 |  54.25328188 |   2.16320448 | 4543.149 |  3.057744e-02 | *   |\n| business_price3:business_happy_h1 |   55.4890475 |  75.81620518 |   0.73188901 | 3019.266 |  4.642931e-01 | <!----> |\n| business_price4:business_happy_h1 |   13.4148732 | 169.12940194 |   0.07931722 | 4546.846 |  9.367838e-01 | <!----> |\n\n",
            "text/latex": "A data.frame: 11 × 7\n\\begin{tabular}{lllllll}\n term & estimate & std.error & statistic & df & p.value & sign\\\\\n <fct> & <dbl> & <dbl> & <dbl> & <dbl> & <dbl> & <chr>\\\\\n\\hline\n\t (Intercept)                       & -322.9206581 &  29.71543409 & -10.86710216 & 5229.714 &  3.225042e-27 & ***\\\\\n\t business\\_stars\\_pre\\_2020           &   30.8142798 &   8.02709702 &   3.83878253 & 4932.669 &  1.251941e-04 & ***\\\\\n\t nearby\\_count\\_minus\\_1              &    0.2068899 &   0.01653178 &  12.51468192 & 1683.276 &  2.006455e-34 & ***\\\\\n\t attribute\\_count                   &   36.7117242 &   1.63843335 &  22.40660217 & 4180.495 & 4.174460e-105 & ***\\\\\n\t business\\_price2                   &   55.9426855 &  14.28610596 &   3.91588062 & 5403.575 &  9.118456e-05 & ***\\\\\n\t business\\_price3                   &   15.1479266 &  38.68412927 &   0.39157988 & 3782.844 &  6.953907e-01 &    \\\\\n\t business\\_price4                   &  104.5620113 &  82.76591260 &   1.26334632 & 3123.836 &  2.065590e-01 &    \\\\\n\t business\\_happy\\_h1                 &  -94.2997178 &  50.08987124 &  -1.88261050 & 5324.203 &  5.980765e-02 & .  \\\\\n\t business\\_price2:business\\_happy\\_h1 &  117.3609424 &  54.25328188 &   2.16320448 & 4543.149 &  3.057744e-02 & *  \\\\\n\t business\\_price3:business\\_happy\\_h1 &   55.4890475 &  75.81620518 &   0.73188901 & 3019.266 &  4.642931e-01 &    \\\\\n\t business\\_price4:business\\_happy\\_h1 &   13.4148732 & 169.12940194 &   0.07931722 & 4546.846 &  9.367838e-01 &    \\\\\n\\end{tabular}\n",
            "text/plain": [
              "   term                              estimate     std.error    statistic   \n",
              "1  (Intercept)                       -322.9206581  29.71543409 -10.86710216\n",
              "2  business_stars_pre_2020             30.8142798   8.02709702   3.83878253\n",
              "3  nearby_count_minus_1                 0.2068899   0.01653178  12.51468192\n",
              "4  attribute_count                     36.7117242   1.63843335  22.40660217\n",
              "5  business_price2                     55.9426855  14.28610596   3.91588062\n",
              "6  business_price3                     15.1479266  38.68412927   0.39157988\n",
              "7  business_price4                    104.5620113  82.76591260   1.26334632\n",
              "8  business_happy_h1                  -94.2997178  50.08987124  -1.88261050\n",
              "9  business_price2:business_happy_h1  117.3609424  54.25328188   2.16320448\n",
              "10 business_price3:business_happy_h1   55.4890475  75.81620518   0.73188901\n",
              "11 business_price4:business_happy_h1   13.4148732 169.12940194   0.07931722\n",
              "   df       p.value       sign\n",
              "1  5229.714  3.225042e-27 *** \n",
              "2  4932.669  1.251941e-04 *** \n",
              "3  1683.276  2.006455e-34 *** \n",
              "4  4180.495 4.174460e-105 *** \n",
              "5  5403.575  9.118456e-05 *** \n",
              "6  3782.844  6.953907e-01     \n",
              "7  3123.836  2.065590e-01     \n",
              "8  5324.203  5.980765e-02 .   \n",
              "9  4543.149  3.057744e-02 *   \n",
              "10 3019.266  4.642931e-01     \n",
              "11 4546.846  9.367838e-01     "
            ]
          },
          "metadata": {}
        }
      ]
    },
    {
      "cell_type": "code",
      "source": [
        "#   0 ‘***’ 0.001 ‘**’ 0.01 ‘*’ 0.05 ‘.’ 0.1 ‘ ’ 1"
      ],
      "metadata": {
        "id": "B2ZlWf5M9_HI"
      },
      "execution_count": null,
      "outputs": []
    },
    {
      "cell_type": "code",
      "source": [
        "# R-square for Pooled Model.\n",
        "\n",
        "pooled_R_2 <- pool.r.squared(MiceAllModels)\n",
        "pooled_R_2"
      ],
      "metadata": {
        "colab": {
          "base_uri": "https://localhost:8080/",
          "height": 98
        },
        "id": "GgFaXW9G0wzG",
        "outputId": "012a67d8-dcf5-43de-caf3-b9c9f8fa2b7b"
      },
      "execution_count": 167,
      "outputs": [
        {
          "output_type": "display_data",
          "data": {
            "text/html": [
              "<table class=\"dataframe\">\n",
              "<caption>A matrix: 1 × 4 of type dbl</caption>\n",
              "<thead>\n",
              "\t<tr><th></th><th scope=col>est</th><th scope=col>lo 95</th><th scope=col>hi 95</th><th scope=col>fmi</th></tr>\n",
              "</thead>\n",
              "<tbody>\n",
              "\t<tr><th scope=row>R^2</th><td>0.1748405</td><td>0.1573166</td><td>0.1928864</td><td>0.01251348</td></tr>\n",
              "</tbody>\n",
              "</table>\n"
            ],
            "text/markdown": "\nA matrix: 1 × 4 of type dbl\n\n| <!--/--> | est | lo 95 | hi 95 | fmi |\n|---|---|---|---|---|\n| R^2 | 0.1748405 | 0.1573166 | 0.1928864 | 0.01251348 |\n\n",
            "text/latex": "A matrix: 1 × 4 of type dbl\n\\begin{tabular}{r|llll}\n  & est & lo 95 & hi 95 & fmi\\\\\n\\hline\n\tR\\textasciicircum{}2 & 0.1748405 & 0.1573166 & 0.1928864 & 0.01251348\\\\\n\\end{tabular}\n",
            "text/plain": [
              "    est       lo 95     hi 95     fmi       \n",
              "R^2 0.1748405 0.1573166 0.1928864 0.01251348"
            ]
          },
          "metadata": {}
        }
      ]
    }
  ]
}
