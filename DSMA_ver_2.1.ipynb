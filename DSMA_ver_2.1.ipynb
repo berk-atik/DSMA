{
  "nbformat": 4,
  "nbformat_minor": 0,
  "metadata": {
    "colab": {
      "provenance": [],
      "toc_visible": true,
      "authorship_tag": "ABX9TyP8DNgotmdanyj2flJXoQod"
    },
    "kernelspec": {
      "name": "ir",
      "display_name": "R"
    },
    "language_info": {
      "name": "R"
    }
  },
  "cells": [
    {
      "cell_type": "markdown",
      "source": [
        "# Libraries"
      ],
      "metadata": {
        "id": "wfA60FGXmDn0"
      }
    },
    {
      "cell_type": "code",
      "source": [
        "#install.packages(\"dplyr\")"
      ],
      "metadata": {
        "id": "9y5YwTITV8B0"
      },
      "execution_count": null,
      "outputs": []
    },
    {
      "cell_type": "code",
      "source": [
        "library(dplyr)"
      ],
      "metadata": {
        "id": "lHSDySlpV9Ij"
      },
      "execution_count": 7,
      "outputs": []
    },
    {
      "cell_type": "code",
      "source": [
        "#install.packages(\"tidyverse\")"
      ],
      "metadata": {
        "id": "lh1PS0nMV-kw"
      },
      "execution_count": null,
      "outputs": []
    },
    {
      "cell_type": "code",
      "source": [
        "library(tidyverse)"
      ],
      "metadata": {
        "id": "_gYmIkN_V-7E",
        "colab": {
          "base_uri": "https://localhost:8080/"
        },
        "outputId": "a8467c10-2329-4160-d1f3-feea44cf97c5"
      },
      "execution_count": 6,
      "outputs": [
        {
          "output_type": "stream",
          "name": "stderr",
          "text": [
            "── \u001b[1mAttaching core tidyverse packages\u001b[22m ──────────────────────── tidyverse 2.0.0 ──\n",
            "\u001b[32m✔\u001b[39m \u001b[34mdplyr    \u001b[39m 1.1.4     \u001b[32m✔\u001b[39m \u001b[34mreadr    \u001b[39m 2.1.5\n",
            "\u001b[32m✔\u001b[39m \u001b[34mforcats  \u001b[39m 1.0.0     \u001b[32m✔\u001b[39m \u001b[34mstringr  \u001b[39m 1.5.1\n",
            "\u001b[32m✔\u001b[39m \u001b[34mlubridate\u001b[39m 1.9.3     \u001b[32m✔\u001b[39m \u001b[34mtibble   \u001b[39m 3.2.1\n",
            "\u001b[32m✔\u001b[39m \u001b[34mpurrr    \u001b[39m 1.0.2     \u001b[32m✔\u001b[39m \u001b[34mtidyr    \u001b[39m 1.3.1\n",
            "── \u001b[1mConflicts\u001b[22m ────────────────────────────────────────── tidyverse_conflicts() ──\n",
            "\u001b[31m✖\u001b[39m \u001b[34mpurrr\u001b[39m::\u001b[32m%||%()\u001b[39m   masks \u001b[34mbase\u001b[39m::%||%()\n",
            "\u001b[31m✖\u001b[39m \u001b[34mdplyr\u001b[39m::\u001b[32mfilter()\u001b[39m masks \u001b[34mmice\u001b[39m::filter(), \u001b[34mstats\u001b[39m::filter()\n",
            "\u001b[31m✖\u001b[39m \u001b[34mdplyr\u001b[39m::\u001b[32mlag()\u001b[39m    masks \u001b[34mstats\u001b[39m::lag()\n",
            "\u001b[31m✖\u001b[39m \u001b[34mpurrr\u001b[39m::\u001b[32mlift()\u001b[39m   masks \u001b[34mcaret\u001b[39m::lift()\n",
            "\u001b[36mℹ\u001b[39m Use the conflicted package (\u001b[3m\u001b[34m<http://conflicted.r-lib.org/>\u001b[39m\u001b[23m) to force all conflicts to become errors\n"
          ]
        }
      ]
    },
    {
      "cell_type": "code",
      "source": [
        "install.packages(\"geosphere\")"
      ],
      "metadata": {
        "id": "SrPfMNgkWAzN"
      },
      "execution_count": null,
      "outputs": []
    },
    {
      "cell_type": "code",
      "source": [
        "library(geosphere)"
      ],
      "metadata": {
        "id": "8stw8DhLWCK1"
      },
      "execution_count": 5,
      "outputs": []
    },
    {
      "cell_type": "code",
      "source": [
        "install.packages(\"mice\")"
      ],
      "metadata": {
        "id": "8nCsDy7EWIrZ"
      },
      "execution_count": null,
      "outputs": []
    },
    {
      "cell_type": "code",
      "source": [
        "library(mice)"
      ],
      "metadata": {
        "id": "6cDPRxFJWJx9",
        "colab": {
          "base_uri": "https://localhost:8080/"
        },
        "outputId": "c312a4f6-01f9-45bf-dae5-097eec4db4a7"
      },
      "execution_count": 4,
      "outputs": [
        {
          "output_type": "stream",
          "name": "stderr",
          "text": [
            "\n",
            "Attaching package: ‘mice’\n",
            "\n",
            "\n",
            "The following object is masked from ‘package:stats’:\n",
            "\n",
            "    filter\n",
            "\n",
            "\n",
            "The following objects are masked from ‘package:base’:\n",
            "\n",
            "    cbind, rbind\n",
            "\n",
            "\n"
          ]
        }
      ]
    },
    {
      "cell_type": "code",
      "source": [
        "install.packages(\"caret\")"
      ],
      "metadata": {
        "id": "rQZ2l2064H7Z"
      },
      "execution_count": null,
      "outputs": []
    },
    {
      "cell_type": "code",
      "source": [
        "library(caret)"
      ],
      "metadata": {
        "colab": {
          "base_uri": "https://localhost:8080/"
        },
        "id": "R8DT7_b94JKn",
        "outputId": "98c84de3-2538-4261-ce62-620fbfa91737"
      },
      "execution_count": 1,
      "outputs": [
        {
          "output_type": "stream",
          "name": "stderr",
          "text": [
            "Loading required package: ggplot2\n",
            "\n",
            "Loading required package: lattice\n",
            "\n"
          ]
        }
      ]
    },
    {
      "cell_type": "code",
      "source": [
        "install.packages(\"smotefamily\")"
      ],
      "metadata": {
        "id": "Wg9ZpCaRA5IN"
      },
      "execution_count": null,
      "outputs": []
    },
    {
      "cell_type": "code",
      "source": [
        "library(smotefamily)"
      ],
      "metadata": {
        "id": "IfIy6mxKA5yD"
      },
      "execution_count": 2,
      "outputs": []
    },
    {
      "cell_type": "code",
      "source": [
        "install.packages(\"naivebayes\")"
      ],
      "metadata": {
        "id": "fNRz8HavvgEC"
      },
      "execution_count": null,
      "outputs": []
    },
    {
      "cell_type": "code",
      "source": [
        "library(naivebayes)"
      ],
      "metadata": {
        "colab": {
          "base_uri": "https://localhost:8080/"
        },
        "id": "UoZwwuBvvg-h",
        "outputId": "1c55492f-aad1-4204-8ae7-0dec2d2506d6"
      },
      "execution_count": 3,
      "outputs": [
        {
          "output_type": "stream",
          "name": "stderr",
          "text": [
            "naivebayes 1.0.0 loaded\n",
            "\n",
            "For more information please visit: \n",
            "\n",
            "https://majkamichal.github.io/naivebayes/\n",
            "\n"
          ]
        }
      ]
    },
    {
      "cell_type": "markdown",
      "source": [
        "# Yelp Data"
      ],
      "metadata": {
        "id": "LYMtZK9XcUZQ"
      }
    },
    {
      "cell_type": "markdown",
      "source": [
        "## Data Import"
      ],
      "metadata": {
        "id": "ss-KdSCrXBXm"
      }
    },
    {
      "cell_type": "code",
      "source": [
        "data <- read.csv(file=\"sql_6_JSON_w_zip_output.csv\", header=TRUE,sep=\",\",dec=\";\")"
      ],
      "metadata": {
        "id": "MCWORYg2fXIh"
      },
      "execution_count": 9,
      "outputs": []
    },
    {
      "cell_type": "markdown",
      "source": [
        "## Cleaning & Check"
      ],
      "metadata": {
        "id": "Gz01FU7EXPq3"
      }
    },
    {
      "cell_type": "code",
      "source": [
        "nrow(data)"
      ],
      "metadata": {
        "colab": {
          "base_uri": "https://localhost:8080/",
          "height": 34
        },
        "id": "eRctqHOXB7ZY",
        "outputId": "b55ac8fa-7126-435d-86ff-af6042f0e568"
      },
      "execution_count": 10,
      "outputs": [
        {
          "output_type": "display_data",
          "data": {
            "text/html": [
              "5852"
            ],
            "text/markdown": "5852",
            "text/latex": "5852",
            "text/plain": [
              "[1] 5852"
            ]
          },
          "metadata": {}
        }
      ]
    },
    {
      "cell_type": "code",
      "source": [
        "head(data)"
      ],
      "metadata": {
        "id": "tvJzHwJbB_rw",
        "collapsed": true
      },
      "execution_count": null,
      "outputs": []
    },
    {
      "cell_type": "code",
      "source": [
        "str(data)"
      ],
      "metadata": {
        "id": "Yo_1MQfTnw7X",
        "outputId": "7f189e7f-379f-4be0-daf6-75b56950780f",
        "colab": {
          "base_uri": "https://localhost:8080/"
        }
      },
      "execution_count": 11,
      "outputs": [
        {
          "output_type": "stream",
          "name": "stdout",
          "text": [
            "'data.frame':\t5852 obs. of  16 variables:\n",
            " $ business_id            : chr  \"00AGVWzkxNLGb-7ZrwAOIA\" \"00rIcvqmfci_oJWkOqPqmg\" \"018ixB-WinNmflwX2UvS1g\" \"01mP5a06zQpaYOakfaVBOQ\" ...\n",
            " $ business_lat           : chr  \"39.9532594\" \"40.0571665\" \"39.9461554\" \"40.0727911933\" ...\n",
            " $ business_long          : chr  \"-75.2170205\" \"-75.2357367\" \"-75.1688026\" \"-75.1949470435\" ...\n",
            " $ postal_code            : int  19139 19128 19103 19118 19104 19147 19103 19146 19147 19104 ...\n",
            " $ business_stars         : chr  \"3.0\" \"4.5\" \"4.0\" \"2.5\" ...\n",
            " $ business_stars_pre_2020: chr  \"3.2\" \"4.6\" \"3.9\" \"2.5\" ...\n",
            " $ review_count           : int  70 92 16 61 45 101 11 65 620 8 ...\n",
            " $ review_count_pre_2020  : chr  \"75\" \"68\" \"16\" \"58\" ...\n",
            " $ check_in_count         : chr  \"73\" \"98\" \"39\" \"56\" ...\n",
            " $ check_in_count_pre_2020: chr  \"73\" \"89\" \"39\" \"56\" ...\n",
            " $ attribute_count        : chr  \"9\" \"8\" \"4\" \"8\" ...\n",
            " $ business_park          : int  1 1 1 0 1 1 1 1 1 0 ...\n",
            " $ business_happy_h       : int  0 0 0 0 0 0 0 0 0 0 ...\n",
            " $ business_price         : chr  \"1\" \"1\" \"1\" \"2\" ...\n",
            " $ business_open          : int  1 1 0 1 0 1 0 1 1 1 ...\n",
            " $ n_photo                : chr  \"NULL\" \"5\" \"NULL\" \"NULL\" ...\n"
          ]
        }
      ]
    },
    {
      "cell_type": "code",
      "source": [
        "# NA values are represented in two ways: 'NULL' and 'None':\n",
        "\n",
        "unique(data$business_price)\n",
        "\n",
        "# To fix problem: Replace\n",
        "\n",
        "data <- data %>%\n",
        "  mutate(business_price = na_if(business_price, 'NULL')) %>%\n",
        "  mutate(business_price = na_if(business_price, 'None'))"
      ],
      "metadata": {
        "colab": {
          "base_uri": "https://localhost:8080/",
          "height": 34
        },
        "id": "doznZHgmEJlU",
        "outputId": "0a302a74-2511-414a-93cc-ca825a2388e7"
      },
      "execution_count": 12,
      "outputs": [
        {
          "output_type": "display_data",
          "data": {
            "text/html": [
              "<style>\n",
              ".list-inline {list-style: none; margin:0; padding: 0}\n",
              ".list-inline>li {display: inline-block}\n",
              ".list-inline>li:not(:last-child)::after {content: \"\\00b7\"; padding: 0 .5ex}\n",
              "</style>\n",
              "<ol class=list-inline><li>'1'</li><li>'2'</li><li>'NULL'</li><li>'3'</li><li>'4'</li><li>'None'</li></ol>\n"
            ],
            "text/markdown": "1. '1'\n2. '2'\n3. 'NULL'\n4. '3'\n5. '4'\n6. 'None'\n\n\n",
            "text/latex": "\\begin{enumerate*}\n\\item '1'\n\\item '2'\n\\item 'NULL'\n\\item '3'\n\\item '4'\n\\item 'None'\n\\end{enumerate*}\n",
            "text/plain": [
              "[1] \"1\"    \"2\"    \"NULL\" \"3\"    \"4\"    \"None\""
            ]
          },
          "metadata": {}
        }
      ]
    },
    {
      "cell_type": "code",
      "source": [
        "data$business_id  <- as.character(data$business_id)\n",
        "\n",
        "data$business_lat <- as.numeric(data$business_lat)\n",
        "\n",
        "data$business_long <- as.numeric(data$business_long)\n",
        "\n",
        "data$business_stars <- as.numeric(data$business_stars)\n",
        "\n",
        "data$business_stars_pre_2020 <- as.numeric(data$business_stars_pre_2020) #Has NA'S\n",
        "\n",
        "data$business_review_count <- as.integer(data$review_count)\n",
        "\n",
        "data$review_count_pre_2020 <- as.integer(data$review_count_pre_2020) #Has NA'S\n",
        "\n",
        "data$check_in_count <- as.integer(data$check_in_count)\n",
        "\n",
        "data$check_in_count_pre_2020 <- as.integer(data$check_in_count_pre_2020)\n",
        "\n",
        "data$attribute_count <- as.integer(data$attribute_count)\n",
        "\n",
        "data$business_park <- as.factor(data$business_park)\n",
        "\n",
        "data$business_happy_h <- as.factor(data$business_happy_h)\n",
        "\n",
        "data$business_price <- as.integer(data$business_price)\n",
        "\n",
        "data$business_open  <- as.factor(data$business_open)\n",
        "\n",
        "data$n_photo <- as.integer(data$n_photo)"
      ],
      "metadata": {
        "id": "n_YDvORXHsVu",
        "colab": {
          "base_uri": "https://localhost:8080/"
        },
        "outputId": "da8bb369-049a-4fb3-8b45-24af30613209"
      },
      "execution_count": 13,
      "outputs": [
        {
          "output_type": "stream",
          "name": "stderr",
          "text": [
            "Warning message in eval(expr, envir, enclos):\n",
            "“NAs introduced by coercion”\n",
            "Warning message in eval(expr, envir, enclos):\n",
            "“NAs introduced by coercion”\n",
            "Warning message in eval(expr, envir, enclos):\n",
            "“NAs introduced by coercion”\n",
            "Warning message in eval(expr, envir, enclos):\n",
            "“NAs introduced by coercion”\n",
            "Warning message in eval(expr, envir, enclos):\n",
            "“NAs introduced by coercion”\n",
            "Warning message in eval(expr, envir, enclos):\n",
            "“NAs introduced by coercion”\n"
          ]
        }
      ]
    },
    {
      "cell_type": "code",
      "source": [
        "summary(data)"
      ],
      "metadata": {
        "colab": {
          "base_uri": "https://localhost:8080/",
          "height": 711
        },
        "id": "ixwyytQeGXb9",
        "outputId": "b2c234d2-0dd9-4182-aab4-a1184a18432c"
      },
      "execution_count": 14,
      "outputs": [
        {
          "output_type": "display_data",
          "data": {
            "text/plain": [
              " business_id         business_lat   business_long     postal_code   \n",
              " Length:5852        Min.   :39.87   Min.   :-75.36   Min.   :19019  \n",
              " Class :character   1st Qu.:39.95   1st Qu.:-75.18   1st Qu.:19107  \n",
              " Mode  :character   Median :39.95   Median :-75.16   Median :19124  \n",
              "                    Mean   :39.97   Mean   :-75.15   Mean   :19125  \n",
              "                    3rd Qu.:40.00   3rd Qu.:-75.14   3rd Qu.:19145  \n",
              "                    Max.   :40.14   Max.   :-74.94   Max.   :19454  \n",
              "                                                     NA's   :1      \n",
              " business_stars  business_stars_pre_2020  review_count    review_count_pre_2020\n",
              " Min.   :1.000   Min.   :1.000           Min.   :   5.0   Min.   :   1.0       \n",
              " 1st Qu.:3.000   1st Qu.:3.100           1st Qu.:  14.0   1st Qu.:  12.0       \n",
              " Median :3.500   Median :3.700           Median :  38.5   Median :  36.0       \n",
              " Mean   :3.556   Mean   :3.553           Mean   : 113.8   Mean   : 108.7       \n",
              " 3rd Qu.:4.000   3rd Qu.:4.100           3rd Qu.: 114.0   3rd Qu.: 112.0       \n",
              " Max.   :5.000   Max.   :5.000           Max.   :5721.0   Max.   :5277.0       \n",
              "                 NA's   :335                              NA's   :335          \n",
              " check_in_count    check_in_count_pre_2020 attribute_count  business_park\n",
              " Min.   :    1.0   Min.   :    1.0         Min.   : 0.000   0:2033       \n",
              " 1st Qu.:   13.0   1st Qu.:   14.0         1st Qu.: 5.000   1:3819       \n",
              " Median :   50.0   Median :   52.0         Median : 8.000                \n",
              " Mean   :  217.2   Mean   :  220.4         Mean   : 8.519                \n",
              " 3rd Qu.:  186.2   3rd Qu.:  196.0         3rd Qu.:12.000                \n",
              " Max.   :18615.0   Max.   :17662.0         Max.   :24.000                \n",
              " NA's   :200       NA's   :538             NA's   :53                    \n",
              " business_happy_h business_price  business_open    n_photo       \n",
              " 0:4886           Min.   :1.000   0:2327        Min.   :  1.000  \n",
              " 1: 966           1st Qu.:1.000   1:3525        1st Qu.:  1.000  \n",
              "                  Median :2.000                 Median :  3.000  \n",
              "                  Mean   :1.628                 Mean   :  6.758  \n",
              "                  3rd Qu.:2.000                 3rd Qu.:  7.000  \n",
              "                  Max.   :4.000                 Max.   :201.000  \n",
              "                  NA's   :913                   NA's   :2553     \n",
              " business_review_count\n",
              " Min.   :   5.0       \n",
              " 1st Qu.:  14.0       \n",
              " Median :  38.5       \n",
              " Mean   : 113.8       \n",
              " 3rd Qu.: 114.0       \n",
              " Max.   :5721.0       \n",
              "                      "
            ]
          },
          "metadata": {}
        }
      ]
    },
    {
      "cell_type": "code",
      "source": [
        "sum(is.na(data$business_price))"
      ],
      "metadata": {
        "colab": {
          "base_uri": "https://localhost:8080/",
          "height": 34
        },
        "id": "DQjHQlsoG1JC",
        "outputId": "21382462-c376-4122-8c66-99ad1002cdd1"
      },
      "execution_count": 15,
      "outputs": [
        {
          "output_type": "display_data",
          "data": {
            "text/html": [
              "913"
            ],
            "text/markdown": "913",
            "text/latex": "913",
            "text/plain": [
              "[1] 913"
            ]
          },
          "metadata": {}
        }
      ]
    },
    {
      "cell_type": "markdown",
      "source": [
        "# External: Population Data"
      ],
      "metadata": {
        "id": "65hSDTVtWtgb"
      }
    },
    {
      "cell_type": "markdown",
      "source": [
        "## Data Import"
      ],
      "metadata": {
        "id": "mFtcPthk8E0q"
      }
    },
    {
      "cell_type": "code",
      "source": [
        "population_by_zip_2010 <- read.csv(file=\"population_by_zip_2010.csv\", header=TRUE,sep=\",\",dec=\";\")"
      ],
      "metadata": {
        "id": "UZlhGu6w8EfL"
      },
      "execution_count": 16,
      "outputs": []
    },
    {
      "cell_type": "markdown",
      "source": [
        "## Cleaning & Check"
      ],
      "metadata": {
        "id": "6wNOT-eLYMlt"
      }
    },
    {
      "cell_type": "code",
      "source": [
        "nrow(population_by_zip_2010)\n",
        "\n",
        "n_distinct(population_by_zip_2010$zipcode)"
      ],
      "metadata": {
        "colab": {
          "base_uri": "https://localhost:8080/",
          "height": 52
        },
        "id": "rs9M73ZM-de5",
        "outputId": "74fbb5f4-8f48-425c-ac51-0bdc319139a7"
      },
      "execution_count": 17,
      "outputs": [
        {
          "output_type": "display_data",
          "data": {
            "text/html": [
              "1622831"
            ],
            "text/markdown": "1622831",
            "text/latex": "1622831",
            "text/plain": [
              "[1] 1622831"
            ]
          },
          "metadata": {}
        },
        {
          "output_type": "display_data",
          "data": {
            "text/html": [
              "33119"
            ],
            "text/markdown": "33119",
            "text/latex": "33119",
            "text/plain": [
              "[1] 33119"
            ]
          },
          "metadata": {}
        }
      ]
    },
    {
      "cell_type": "code",
      "source": [
        "#To observe structure of dataset:\n",
        "\n",
        "population_by_zip_2010 %>%\n",
        "  filter(zipcode == \"61747\") %>%\n",
        "    arrange(desc(population)) %>%\n",
        "      slice_head(n=5)"
      ],
      "metadata": {
        "colab": {
          "base_uri": "https://localhost:8080/",
          "height": 255
        },
        "id": "cAX5rN1GYuUA",
        "outputId": "aeaee467-8cba-4042-bc2b-9be47f779244"
      },
      "execution_count": 18,
      "outputs": [
        {
          "output_type": "display_data",
          "data": {
            "text/html": [
              "<table class=\"dataframe\">\n",
              "<caption>A data.frame: 5 × 6</caption>\n",
              "<thead>\n",
              "\t<tr><th scope=col>population</th><th scope=col>minimum_age</th><th scope=col>maximum_age</th><th scope=col>gender</th><th scope=col>zipcode</th><th scope=col>geo_id</th></tr>\n",
              "\t<tr><th scope=col>&lt;int&gt;</th><th scope=col>&lt;int&gt;</th><th scope=col>&lt;int&gt;</th><th scope=col>&lt;chr&gt;</th><th scope=col>&lt;int&gt;</th><th scope=col>&lt;chr&gt;</th></tr>\n",
              "</thead>\n",
              "<tbody>\n",
              "\t<tr><td>1560</td><td>NA</td><td>NA</td><td>      </td><td>61747</td><td>8600000US61747</td></tr>\n",
              "\t<tr><td> 815</td><td>NA</td><td>NA</td><td>female</td><td>61747</td><td>8600000US61747</td></tr>\n",
              "\t<tr><td> 745</td><td>NA</td><td>NA</td><td>male  </td><td>61747</td><td>8600000US61747</td></tr>\n",
              "\t<tr><td>  72</td><td>45</td><td>49</td><td>male  </td><td>61747</td><td>8600000US61747</td></tr>\n",
              "\t<tr><td>  72</td><td>85</td><td>NA</td><td>female</td><td>61747</td><td>8600000US61747</td></tr>\n",
              "</tbody>\n",
              "</table>\n"
            ],
            "text/markdown": "\nA data.frame: 5 × 6\n\n| population &lt;int&gt; | minimum_age &lt;int&gt; | maximum_age &lt;int&gt; | gender &lt;chr&gt; | zipcode &lt;int&gt; | geo_id &lt;chr&gt; |\n|---|---|---|---|---|---|\n| 1560 | NA | NA | <!----> | 61747 | 8600000US61747 |\n|  815 | NA | NA | female | 61747 | 8600000US61747 |\n|  745 | NA | NA | male   | 61747 | 8600000US61747 |\n|   72 | 45 | 49 | male   | 61747 | 8600000US61747 |\n|   72 | 85 | NA | female | 61747 | 8600000US61747 |\n\n",
            "text/latex": "A data.frame: 5 × 6\n\\begin{tabular}{llllll}\n population & minimum\\_age & maximum\\_age & gender & zipcode & geo\\_id\\\\\n <int> & <int> & <int> & <chr> & <int> & <chr>\\\\\n\\hline\n\t 1560 & NA & NA &        & 61747 & 8600000US61747\\\\\n\t  815 & NA & NA & female & 61747 & 8600000US61747\\\\\n\t  745 & NA & NA & male   & 61747 & 8600000US61747\\\\\n\t   72 & 45 & 49 & male   & 61747 & 8600000US61747\\\\\n\t   72 & 85 & NA & female & 61747 & 8600000US61747\\\\\n\\end{tabular}\n",
            "text/plain": [
              "  population minimum_age maximum_age gender zipcode geo_id        \n",
              "1 1560       NA          NA                 61747   8600000US61747\n",
              "2  815       NA          NA          female 61747   8600000US61747\n",
              "3  745       NA          NA          male   61747   8600000US61747\n",
              "4   72       45          49          male   61747   8600000US61747\n",
              "5   72       85          NA          female 61747   8600000US61747"
            ]
          },
          "metadata": {}
        }
      ]
    },
    {
      "cell_type": "code",
      "source": [
        "args(if_else)"
      ],
      "metadata": {
        "colab": {
          "base_uri": "https://localhost:8080/",
          "height": 69
        },
        "id": "Kt3yAJoECs7j",
        "outputId": "6f0a9dda-3119-4651-9acb-90af098da1f2"
      },
      "execution_count": null,
      "outputs": [
        {
          "output_type": "display_data",
          "data": {
            "text/html": [
              "<pre class=language-r><code>function (condition, true, false, missing = NULL, ..., ptype = NULL, \n",
              "<span style=white-space:pre-wrap>    size = NULL) </span>\n",
              "NULL</code></pre>"
            ],
            "text/markdown": "```r\nfunction (condition, true, false, missing = NULL, ..., ptype = NULL, \n    size = NULL) \nNULL\n```",
            "text/latex": "\\begin{minted}{r}\nfunction (condition, true, false, missing = NULL, ..., ptype = NULL, \n    size = NULL) \nNULL\n\\end{minted}",
            "text/plain": [
              "function (condition, true, false, missing = NULL, ..., ptype = NULL, \n",
              "    size = NULL) \n",
              "NULL"
            ]
          },
          "metadata": {}
        }
      ]
    },
    {
      "cell_type": "code",
      "source": [
        "#Replacing space ('') values with 'NULL' to be able to filter properly:\n",
        "\n",
        "population_by_zip_2010 <- population_by_zip_2010 %>%\n",
        "  mutate(gender = if_else(!gender %in% c(\"female\", \"male\"), \"NULL\", gender))"
      ],
      "metadata": {
        "collapsed": true,
        "id": "PrjApHNYBa4I"
      },
      "execution_count": 20,
      "outputs": []
    },
    {
      "cell_type": "code",
      "source": [
        "# Creating the Population by Zipcode, with age subgroups:\n",
        "\n",
        "pop_by_zip <- population_by_zip_2010 %>%\n",
        "  group_by(zipcode) %>%\n",
        "  summarise(\n",
        "    total_population = sum(population[is.na(minimum_age) & is.na(maximum_age) & gender == \"NULL\"], na.rm = TRUE),\n",
        "    total_population_children = sum(population[minimum_age >= 0 & maximum_age <= 14], na.rm = TRUE),\n",
        "    total_population_youth = sum(population[minimum_age >= 15 & maximum_age <= 24], na.rm = TRUE),\n",
        "    total_population_adults = sum(population[minimum_age >= 25 & maximum_age <= 64], na.rm = TRUE),\n",
        "    total_population_seniors = sum(population[minimum_age >= 65], na.rm = TRUE)\n",
        "  )"
      ],
      "metadata": {
        "id": "2vtNZJwdGvXC"
      },
      "execution_count": 21,
      "outputs": []
    },
    {
      "cell_type": "code",
      "source": [
        "# Changing \"zipcode\" column name into \"postal_code\"; to match both dataset:\n",
        "\n",
        "pop_by_zip <- pop_by_zip %>%\n",
        "  rename(postal_code = zipcode)"
      ],
      "metadata": {
        "collapsed": true,
        "id": "TtMzaAJuJ1Uf"
      },
      "execution_count": 22,
      "outputs": []
    },
    {
      "cell_type": "code",
      "source": [
        "# Control:\n",
        "\n",
        "pop_by_zip %>%\n",
        "  filter(postal_code == \"61747\")"
      ],
      "metadata": {
        "collapsed": true,
        "id": "B1m4VM1IIn0m",
        "colab": {
          "base_uri": "https://localhost:8080/",
          "height": 129
        },
        "outputId": "35b9f45d-89ad-4bfd-ac16-1b6cc07c8a6c"
      },
      "execution_count": 23,
      "outputs": [
        {
          "output_type": "display_data",
          "data": {
            "text/html": [
              "<table class=\"dataframe\">\n",
              "<caption>A tibble: 1 × 6</caption>\n",
              "<thead>\n",
              "\t<tr><th scope=col>postal_code</th><th scope=col>total_population</th><th scope=col>total_population_children</th><th scope=col>total_population_youth</th><th scope=col>total_population_adults</th><th scope=col>total_population_seniors</th></tr>\n",
              "\t<tr><th scope=col>&lt;int&gt;</th><th scope=col>&lt;int&gt;</th><th scope=col>&lt;int&gt;</th><th scope=col>&lt;int&gt;</th><th scope=col>&lt;int&gt;</th><th scope=col>&lt;int&gt;</th></tr>\n",
              "</thead>\n",
              "<tbody>\n",
              "\t<tr><td>61747</td><td>1560</td><td>345</td><td>150</td><td>754</td><td>311</td></tr>\n",
              "</tbody>\n",
              "</table>\n"
            ],
            "text/markdown": "\nA tibble: 1 × 6\n\n| postal_code &lt;int&gt; | total_population &lt;int&gt; | total_population_children &lt;int&gt; | total_population_youth &lt;int&gt; | total_population_adults &lt;int&gt; | total_population_seniors &lt;int&gt; |\n|---|---|---|---|---|---|\n| 61747 | 1560 | 345 | 150 | 754 | 311 |\n\n",
            "text/latex": "A tibble: 1 × 6\n\\begin{tabular}{llllll}\n postal\\_code & total\\_population & total\\_population\\_children & total\\_population\\_youth & total\\_population\\_adults & total\\_population\\_seniors\\\\\n <int> & <int> & <int> & <int> & <int> & <int>\\\\\n\\hline\n\t 61747 & 1560 & 345 & 150 & 754 & 311\\\\\n\\end{tabular}\n",
            "text/plain": [
              "  postal_code total_population total_population_children total_population_youth\n",
              "1 61747       1560             345                       150                   \n",
              "  total_population_adults total_population_seniors\n",
              "1 754                     311                     "
            ]
          },
          "metadata": {}
        }
      ]
    },
    {
      "cell_type": "code",
      "source": [
        "# To compare calculations with orginal dataset values:\n",
        "\n",
        "population_by_zip_2010 %>%\n",
        "  filter(zipcode == \"61747\") %>%\n",
        "    arrange(desc(population)) %>%\n",
        "      slice_head(n = 3)"
      ],
      "metadata": {
        "collapsed": true,
        "id": "WFEe4G-Z-0zA",
        "colab": {
          "base_uri": "https://localhost:8080/",
          "height": 192
        },
        "outputId": "fc79d6c4-6bb5-43e9-aa7c-14f96ef73ac5"
      },
      "execution_count": 24,
      "outputs": [
        {
          "output_type": "display_data",
          "data": {
            "text/html": [
              "<table class=\"dataframe\">\n",
              "<caption>A data.frame: 3 × 6</caption>\n",
              "<thead>\n",
              "\t<tr><th scope=col>population</th><th scope=col>minimum_age</th><th scope=col>maximum_age</th><th scope=col>gender</th><th scope=col>zipcode</th><th scope=col>geo_id</th></tr>\n",
              "\t<tr><th scope=col>&lt;int&gt;</th><th scope=col>&lt;int&gt;</th><th scope=col>&lt;int&gt;</th><th scope=col>&lt;chr&gt;</th><th scope=col>&lt;int&gt;</th><th scope=col>&lt;chr&gt;</th></tr>\n",
              "</thead>\n",
              "<tbody>\n",
              "\t<tr><td>1560</td><td>NA</td><td>NA</td><td>NULL  </td><td>61747</td><td>8600000US61747</td></tr>\n",
              "\t<tr><td> 815</td><td>NA</td><td>NA</td><td>female</td><td>61747</td><td>8600000US61747</td></tr>\n",
              "\t<tr><td> 745</td><td>NA</td><td>NA</td><td>male  </td><td>61747</td><td>8600000US61747</td></tr>\n",
              "</tbody>\n",
              "</table>\n"
            ],
            "text/markdown": "\nA data.frame: 3 × 6\n\n| population &lt;int&gt; | minimum_age &lt;int&gt; | maximum_age &lt;int&gt; | gender &lt;chr&gt; | zipcode &lt;int&gt; | geo_id &lt;chr&gt; |\n|---|---|---|---|---|---|\n| 1560 | NA | NA | NULL   | 61747 | 8600000US61747 |\n|  815 | NA | NA | female | 61747 | 8600000US61747 |\n|  745 | NA | NA | male   | 61747 | 8600000US61747 |\n\n",
            "text/latex": "A data.frame: 3 × 6\n\\begin{tabular}{llllll}\n population & minimum\\_age & maximum\\_age & gender & zipcode & geo\\_id\\\\\n <int> & <int> & <int> & <chr> & <int> & <chr>\\\\\n\\hline\n\t 1560 & NA & NA & NULL   & 61747 & 8600000US61747\\\\\n\t  815 & NA & NA & female & 61747 & 8600000US61747\\\\\n\t  745 & NA & NA & male   & 61747 & 8600000US61747\\\\\n\\end{tabular}\n",
            "text/plain": [
              "  population minimum_age maximum_age gender zipcode geo_id        \n",
              "1 1560       NA          NA          NULL   61747   8600000US61747\n",
              "2  815       NA          NA          female 61747   8600000US61747\n",
              "3  745       NA          NA          male   61747   8600000US61747"
            ]
          },
          "metadata": {}
        }
      ]
    },
    {
      "cell_type": "markdown",
      "source": [
        "## Left Join into Dataset"
      ],
      "metadata": {
        "id": "Ob2hkN4FZ6Vc"
      }
    },
    {
      "cell_type": "code",
      "source": [
        "# Left Join into Yelp Data\n",
        "\n",
        "data <- data %>%\n",
        "            left_join(pop_by_zip, by=\"postal_code\")"
      ],
      "metadata": {
        "id": "Yq4El8GzKNVb"
      },
      "execution_count": 25,
      "outputs": []
    },
    {
      "cell_type": "markdown",
      "source": [
        "# Calculation: Nearby Businesses\n"
      ],
      "metadata": {
        "id": "Y4KnWrIXHysW"
      }
    },
    {
      "cell_type": "markdown",
      "source": [
        "## Pairwise Distance Calculation"
      ],
      "metadata": {
        "id": "-Hfausxral5p"
      }
    },
    {
      "cell_type": "code",
      "source": [
        "#install.packages(\"geosphere\")"
      ],
      "metadata": {
        "id": "HkcrInOeIinc"
      },
      "execution_count": null,
      "outputs": []
    },
    {
      "cell_type": "code",
      "source": [
        "library(geosphere)"
      ],
      "metadata": {
        "id": "WtfWF5aZIfgA"
      },
      "execution_count": 32,
      "outputs": []
    },
    {
      "cell_type": "code",
      "source": [
        "# Selecting columns for distance matrix calculation:\n",
        "\n",
        "data_1 <- data %>%\n",
        "  select(business_id, business_lat, business_long)"
      ],
      "metadata": {
        "id": "qfk90pM5H0_3"
      },
      "execution_count": 26,
      "outputs": []
    },
    {
      "cell_type": "code",
      "source": [
        "# Calculate pairwise distances for all businesses:\n",
        "df_distances <- data_1 %>%\n",
        "  mutate(distances = apply(data_1[, c(\"business_long\", \"business_lat\")], 1, function(x) distHaversine(data_1[, c(\"business_long\", \"business_lat\")], x))) %>%\n",
        "    select(business_id, distances)"
      ],
      "metadata": {
        "collapsed": true,
        "id": "SkN5x6qTVSFP"
      },
      "execution_count": 27,
      "outputs": []
    },
    {
      "cell_type": "code",
      "source": [
        "# Seting a threshold distance (in meters)\n",
        "threshold_distance <- 1000\n",
        "\n",
        "# Filtering distances to find nearby businesses\n",
        "nearby_counts <- df_distances %>%\n",
        "  mutate(nearby_count = rowSums(distances <= threshold_distance), nearby_count_minus_1 = nearby_count - 1) %>% #adjusting for each business counting itself (subtracting 1 from each count)\n",
        "    select(business_id, nearby_count_minus_1)\n",
        "\n",
        "# Results\n",
        "head(nearby_counts)"
      ],
      "metadata": {
        "colab": {
          "base_uri": "https://localhost:8080/",
          "height": 286
        },
        "id": "9nOCKvP5Wvvh",
        "outputId": "6616d3c0-a664-4243-a808-86cd428997b9"
      },
      "execution_count": 28,
      "outputs": [
        {
          "output_type": "display_data",
          "data": {
            "text/html": [
              "<table class=\"dataframe\">\n",
              "<caption>A data.frame: 6 × 2</caption>\n",
              "<thead>\n",
              "\t<tr><th></th><th scope=col>business_id</th><th scope=col>nearby_count_minus_1</th></tr>\n",
              "\t<tr><th></th><th scope=col>&lt;chr&gt;</th><th scope=col>&lt;dbl&gt;</th></tr>\n",
              "</thead>\n",
              "<tbody>\n",
              "\t<tr><th scope=row>1</th><td>00AGVWzkxNLGb-7ZrwAOIA</td><td> 145</td></tr>\n",
              "\t<tr><th scope=row>2</th><td>00rIcvqmfci_oJWkOqPqmg</td><td>  11</td></tr>\n",
              "\t<tr><th scope=row>3</th><td>018ixB-WinNmflwX2UvS1g</td><td>1016</td></tr>\n",
              "\t<tr><th scope=row>4</th><td>01mP5a06zQpaYOakfaVBOQ</td><td>  42</td></tr>\n",
              "\t<tr><th scope=row>5</th><td>01YFYYmevGER3VJ1xFtUcA</td><td> 326</td></tr>\n",
              "\t<tr><th scope=row>6</th><td>02nb6CI8w-2EoSEkQdk2Wg</td><td> 405</td></tr>\n",
              "</tbody>\n",
              "</table>\n"
            ],
            "text/markdown": "\nA data.frame: 6 × 2\n\n| <!--/--> | business_id &lt;chr&gt; | nearby_count_minus_1 &lt;dbl&gt; |\n|---|---|---|\n| 1 | 00AGVWzkxNLGb-7ZrwAOIA |  145 |\n| 2 | 00rIcvqmfci_oJWkOqPqmg |   11 |\n| 3 | 018ixB-WinNmflwX2UvS1g | 1016 |\n| 4 | 01mP5a06zQpaYOakfaVBOQ |   42 |\n| 5 | 01YFYYmevGER3VJ1xFtUcA |  326 |\n| 6 | 02nb6CI8w-2EoSEkQdk2Wg |  405 |\n\n",
            "text/latex": "A data.frame: 6 × 2\n\\begin{tabular}{r|ll}\n  & business\\_id & nearby\\_count\\_minus\\_1\\\\\n  & <chr> & <dbl>\\\\\n\\hline\n\t1 & 00AGVWzkxNLGb-7ZrwAOIA &  145\\\\\n\t2 & 00rIcvqmfci\\_oJWkOqPqmg &   11\\\\\n\t3 & 018ixB-WinNmflwX2UvS1g & 1016\\\\\n\t4 & 01mP5a06zQpaYOakfaVBOQ &   42\\\\\n\t5 & 01YFYYmevGER3VJ1xFtUcA &  326\\\\\n\t6 & 02nb6CI8w-2EoSEkQdk2Wg &  405\\\\\n\\end{tabular}\n",
            "text/plain": [
              "  business_id            nearby_count_minus_1\n",
              "1 00AGVWzkxNLGb-7ZrwAOIA  145                \n",
              "2 00rIcvqmfci_oJWkOqPqmg   11                \n",
              "3 018ixB-WinNmflwX2UvS1g 1016                \n",
              "4 01mP5a06zQpaYOakfaVBOQ   42                \n",
              "5 01YFYYmevGER3VJ1xFtUcA  326                \n",
              "6 02nb6CI8w-2EoSEkQdk2Wg  405                "
            ]
          },
          "metadata": {}
        }
      ]
    },
    {
      "cell_type": "markdown",
      "source": [
        "## Left Join into Dataset"
      ],
      "metadata": {
        "id": "wzS6lqY9-Jv8"
      }
    },
    {
      "cell_type": "code",
      "source": [
        "#For nearby_counts, i.e. business_proximity\n",
        "\n",
        "data <- data %>%\n",
        "            left_join(nearby_counts, by=\"business_id\")"
      ],
      "metadata": {
        "id": "MUcjKaCL-LVV"
      },
      "execution_count": 29,
      "outputs": []
    },
    {
      "cell_type": "code",
      "source": [
        "head(data)"
      ],
      "metadata": {
        "collapsed": true,
        "id": "Gg6ty_Ly-XoN"
      },
      "execution_count": null,
      "outputs": []
    },
    {
      "cell_type": "markdown",
      "source": [
        "# Base Model (without External Population Data)"
      ],
      "metadata": {
        "id": "sOoCEN9Sa2zV"
      }
    },
    {
      "cell_type": "markdown",
      "source": [
        "## Creating a Subset"
      ],
      "metadata": {
        "id": "EyLBNsEDlYSi"
      }
    },
    {
      "cell_type": "code",
      "source": [
        "#install.packages(\"mice\")"
      ],
      "metadata": {
        "collapsed": true,
        "id": "kndNnQ3WlaK_"
      },
      "execution_count": null,
      "outputs": []
    },
    {
      "cell_type": "code",
      "source": [
        "library(mice)"
      ],
      "metadata": {
        "collapsed": true,
        "id": "RrddktuQiYUA"
      },
      "execution_count": 38,
      "outputs": []
    },
    {
      "cell_type": "code",
      "source": [
        "# Selecting the variables for analysis:\n",
        "data_to_analysis <- data %>%\n",
        "    select(check_in_count_pre_2020, business_stars_pre_2020, nearby_count_minus_1, attribute_count, business_price, business_happy_h)"
      ],
      "metadata": {
        "id": "indBdD2glfpW"
      },
      "execution_count": 30,
      "outputs": []
    },
    {
      "cell_type": "markdown",
      "source": [
        "## *Running the Model with NA's (Pre-Mice)"
      ],
      "metadata": {
        "id": "fbX1XgR1oG3f"
      }
    },
    {
      "cell_type": "code",
      "source": [
        "# Check_in_frequency = β0 + β1 * avg_number_of_stars + β2 * business_proximity + β3 * number of characteristics + β4 * (price_level x happy hour) + ε"
      ],
      "metadata": {
        "id": "Yuv6hB1GDAI4"
      },
      "execution_count": null,
      "outputs": []
    },
    {
      "cell_type": "code",
      "source": [
        "install.packages(\"car\") #test\n",
        "library(car)"
      ],
      "metadata": {
        "id": "fDkDc2iwtrzG"
      },
      "execution_count": null,
      "outputs": []
    },
    {
      "cell_type": "code",
      "source": [
        "model_pre_mice <- lm(check_in_count_pre_2020 ~\n",
        "              business_stars_pre_2020\n",
        "              + nearby_count_minus_1\n",
        "              + attribute_count\n",
        "              + business_price * business_happy_h\n",
        "                                                   ,data_to_analysis)"
      ],
      "metadata": {
        "id": "Sj04B2e5oHne"
      },
      "execution_count": 31,
      "outputs": []
    },
    {
      "cell_type": "code",
      "source": [
        "#car::vif(m1) #test\n",
        "summary(model_pre_mice)"
      ],
      "metadata": {
        "colab": {
          "base_uri": "https://localhost:8080/",
          "height": 468
        },
        "id": "beas9ljuodpE",
        "outputId": "f4d2b616-7af3-412b-d526-c8a3ced91a37"
      },
      "execution_count": 32,
      "outputs": [
        {
          "output_type": "display_data",
          "data": {
            "text/plain": [
              "\n",
              "Call:\n",
              "lm(formula = check_in_count_pre_2020 ~ business_stars_pre_2020 + \n",
              "    nearby_count_minus_1 + attribute_count + business_price * \n",
              "    business_happy_h, data = data_to_analysis)\n",
              "\n",
              "Residuals:\n",
              "    Min      1Q  Median      3Q     Max \n",
              " -844.2  -204.1   -65.3    67.4 16931.3 \n",
              "\n",
              "Coefficients:\n",
              "                                  Estimate Std. Error t value Pr(>|t|)    \n",
              "(Intercept)                      -448.4666    39.8012 -11.268  < 2e-16 ***\n",
              "business_stars_pre_2020            40.6767    10.0187   4.060 4.98e-05 ***\n",
              "nearby_count_minus_1                0.2253     0.0188  11.985  < 2e-16 ***\n",
              "attribute_count                    40.9155     2.0504  19.955  < 2e-16 ***\n",
              "business_price                     49.3846    14.0270   3.521 0.000434 ***\n",
              "business_happy_h1                  59.5360    76.7114   0.776 0.437727    \n",
              "business_price:business_happy_h1  -34.1644    36.8424  -0.927 0.353811    \n",
              "---\n",
              "Signif. codes:  0 ‘***’ 0.001 ‘**’ 0.01 ‘*’ 0.05 ‘.’ 0.1 ‘ ’ 1\n",
              "\n",
              "Residual standard error: 509.2 on 4751 degrees of freedom\n",
              "  (1094 observations deleted due to missingness)\n",
              "Multiple R-squared:  0.1701,\tAdjusted R-squared:  0.1691 \n",
              "F-statistic: 162.3 on 6 and 4751 DF,  p-value: < 2.2e-16\n"
            ]
          },
          "metadata": {}
        }
      ]
    },
    {
      "cell_type": "code",
      "source": [
        "# (1094 observations deleted due to missingness)"
      ],
      "metadata": {
        "id": "bzf29aW2H2mg"
      },
      "execution_count": null,
      "outputs": []
    },
    {
      "cell_type": "markdown",
      "source": [
        "## Pattern of Missings"
      ],
      "metadata": {
        "id": "ltMyVI15o-e8"
      }
    },
    {
      "cell_type": "code",
      "source": [
        "args(md.pattern)"
      ],
      "metadata": {
        "colab": {
          "base_uri": "https://localhost:8080/",
          "height": 52
        },
        "id": "Tb15_B3IoI5O",
        "outputId": "af371cab-ebf0-409a-a6c1-0c3d54d32d87"
      },
      "execution_count": null,
      "outputs": [
        {
          "output_type": "display_data",
          "data": {
            "text/html": [
              "<pre class=language-r><code>function (x, plot = TRUE, rotate.names = FALSE) \n",
              "NULL</code></pre>"
            ],
            "text/markdown": "```r\nfunction (x, plot = TRUE, rotate.names = FALSE) \nNULL\n```",
            "text/latex": "\\begin{minted}{r}\nfunction (x, plot = TRUE, rotate.names = FALSE) \nNULL\n\\end{minted}",
            "text/plain": [
              "function (x, plot = TRUE, rotate.names = FALSE) \n",
              "NULL"
            ]
          },
          "metadata": {}
        }
      ]
    },
    {
      "cell_type": "code",
      "source": [
        "#inspect pattern of missings\n",
        "md.pattern(data_to_analysis, plot = TRUE, rotate.names = TRUE)"
      ],
      "metadata": {
        "collapsed": true,
        "id": "XfPHveIbntJ6",
        "colab": {
          "base_uri": "https://localhost:8080/",
          "height": 832
        },
        "outputId": "c4bef6c1-2baa-43e1-a3bb-98eda3dc24b8"
      },
      "execution_count": 33,
      "outputs": [
        {
          "output_type": "display_data",
          "data": {
            "text/html": [
              "<table class=\"dataframe\">\n",
              "<caption>A matrix: 11 × 7 of type dbl</caption>\n",
              "<thead>\n",
              "\t<tr><th></th><th scope=col>nearby_count_minus_1</th><th scope=col>business_happy_h</th><th scope=col>attribute_count</th><th scope=col>business_stars_pre_2020</th><th scope=col>check_in_count_pre_2020</th><th scope=col>business_price</th><th scope=col></th></tr>\n",
              "</thead>\n",
              "<tbody>\n",
              "\t<tr><th scope=row>4758</th><td>1</td><td>1</td><td> 1</td><td>  1</td><td>  1</td><td>  1</td><td>   0</td></tr>\n",
              "\t<tr><th scope=row>529</th><td>1</td><td>1</td><td> 1</td><td>  1</td><td>  1</td><td>  0</td><td>   1</td></tr>\n",
              "\t<tr><th scope=row>136</th><td>1</td><td>1</td><td> 1</td><td>  1</td><td>  0</td><td>  1</td><td>   1</td></tr>\n",
              "\t<tr><th scope=row>60</th><td>1</td><td>1</td><td> 1</td><td>  1</td><td>  0</td><td>  0</td><td>   2</td></tr>\n",
              "\t<tr><th scope=row>4</th><td>1</td><td>1</td><td> 1</td><td>  0</td><td>  1</td><td>  0</td><td>   2</td></tr>\n",
              "\t<tr><th scope=row>45</th><td>1</td><td>1</td><td> 1</td><td>  0</td><td>  0</td><td>  1</td><td>   2</td></tr>\n",
              "\t<tr><th scope=row>267</th><td>1</td><td>1</td><td> 1</td><td>  0</td><td>  0</td><td>  0</td><td>   3</td></tr>\n",
              "\t<tr><th scope=row>23</th><td>1</td><td>1</td><td> 0</td><td>  1</td><td>  1</td><td>  0</td><td>   2</td></tr>\n",
              "\t<tr><th scope=row>11</th><td>1</td><td>1</td><td> 0</td><td>  1</td><td>  0</td><td>  0</td><td>   3</td></tr>\n",
              "\t<tr><th scope=row>19</th><td>1</td><td>1</td><td> 0</td><td>  0</td><td>  0</td><td>  0</td><td>   4</td></tr>\n",
              "\t<tr><th scope=row></th><td>0</td><td>0</td><td>53</td><td>335</td><td>538</td><td>913</td><td>1839</td></tr>\n",
              "</tbody>\n",
              "</table>\n"
            ],
            "text/markdown": "\nA matrix: 11 × 7 of type dbl\n\n| <!--/--> | nearby_count_minus_1 | business_happy_h | attribute_count | business_stars_pre_2020 | check_in_count_pre_2020 | business_price | <!----> |\n|---|---|---|---|---|---|---|---|\n| 4758 | 1 | 1 |  1 |   1 |   1 |   1 |    0 |\n| 529 | 1 | 1 |  1 |   1 |   1 |   0 |    1 |\n| 136 | 1 | 1 |  1 |   1 |   0 |   1 |    1 |\n| 60 | 1 | 1 |  1 |   1 |   0 |   0 |    2 |\n| 4 | 1 | 1 |  1 |   0 |   1 |   0 |    2 |\n| 45 | 1 | 1 |  1 |   0 |   0 |   1 |    2 |\n| 267 | 1 | 1 |  1 |   0 |   0 |   0 |    3 |\n| 23 | 1 | 1 |  0 |   1 |   1 |   0 |    2 |\n| 11 | 1 | 1 |  0 |   1 |   0 |   0 |    3 |\n| 19 | 1 | 1 |  0 |   0 |   0 |   0 |    4 |\n| <!----> | 0 | 0 | 53 | 335 | 538 | 913 | 1839 |\n\n",
            "text/latex": "A matrix: 11 × 7 of type dbl\n\\begin{tabular}{r|lllllll}\n  & nearby\\_count\\_minus\\_1 & business\\_happy\\_h & attribute\\_count & business\\_stars\\_pre\\_2020 & check\\_in\\_count\\_pre\\_2020 & business\\_price & \\\\\n\\hline\n\t4758 & 1 & 1 &  1 &   1 &   1 &   1 &    0\\\\\n\t529 & 1 & 1 &  1 &   1 &   1 &   0 &    1\\\\\n\t136 & 1 & 1 &  1 &   1 &   0 &   1 &    1\\\\\n\t60 & 1 & 1 &  1 &   1 &   0 &   0 &    2\\\\\n\t4 & 1 & 1 &  1 &   0 &   1 &   0 &    2\\\\\n\t45 & 1 & 1 &  1 &   0 &   0 &   1 &    2\\\\\n\t267 & 1 & 1 &  1 &   0 &   0 &   0 &    3\\\\\n\t23 & 1 & 1 &  0 &   1 &   1 &   0 &    2\\\\\n\t11 & 1 & 1 &  0 &   1 &   0 &   0 &    3\\\\\n\t19 & 1 & 1 &  0 &   0 &   0 &   0 &    4\\\\\n\t & 0 & 0 & 53 & 335 & 538 & 913 & 1839\\\\\n\\end{tabular}\n",
            "text/plain": [
              "     nearby_count_minus_1 business_happy_h attribute_count\n",
              "4758 1                    1                 1             \n",
              "529  1                    1                 1             \n",
              "136  1                    1                 1             \n",
              "60   1                    1                 1             \n",
              "4    1                    1                 1             \n",
              "45   1                    1                 1             \n",
              "267  1                    1                 1             \n",
              "23   1                    1                 0             \n",
              "11   1                    1                 0             \n",
              "19   1                    1                 0             \n",
              "     0                    0                53             \n",
              "     business_stars_pre_2020 check_in_count_pre_2020 business_price     \n",
              "4758   1                       1                       1               0\n",
              "529    1                       1                       0               1\n",
              "136    1                       0                       1               1\n",
              "60     1                       0                       0               2\n",
              "4      0                       1                       0               2\n",
              "45     0                       0                       1               2\n",
              "267    0                       0                       0               3\n",
              "23     1                       1                       0               2\n",
              "11     1                       0                       0               3\n",
              "19     0                       0                       0               4\n",
              "     335                     538                     913            1839"
            ]
          },
          "metadata": {}
        },
        {
          "output_type": "display_data",
          "data": {
            "text/plain": [
              "plot without title"
            ],
            "image/png": "[encoded data removed]"
          },
          "metadata": {
            "image/png": {
              "width": 420,
              "height": 420
            }
          }
        }
      ]
    },
    {
      "cell_type": "markdown",
      "source": [
        "## Impute Data via Mice"
      ],
      "metadata": {
        "id": "dtCmXlyDu_WF"
      }
    },
    {
      "cell_type": "code",
      "source": [
        "args(mice)"
      ],
      "metadata": {
        "colab": {
          "base_uri": "https://localhost:8080/",
          "height": 121
        },
        "id": "Bygxc-Y2mpSZ",
        "outputId": "c7480da7-13e2-4b4c-eee9-04dc00c214fc"
      },
      "execution_count": null,
      "outputs": [
        {
          "output_type": "display_data",
          "data": {
            "text/html": [
              "<pre class=language-r><code>function (data, m = 5, method = NULL, predictorMatrix, ignore = NULL, \n",
              "<span style=white-space:pre-wrap>    where = NULL, blocks, visitSequence = NULL, formulas, blots = NULL, </span>\n",
              "<span style=white-space:pre-wrap>    post = NULL, defaultMethod = c(\"pmm\", \"logreg\", \"polyreg\", </span>\n",
              "<span style=white-space:pre-wrap>        \"polr\"), maxit = 5, printFlag = TRUE, seed = NA, data.init = NULL, </span>\n",
              "<span style=white-space:pre-wrap>    ...) </span>\n",
              "NULL</code></pre>"
            ],
            "text/markdown": "```r\nfunction (data, m = 5, method = NULL, predictorMatrix, ignore = NULL, \n    where = NULL, blocks, visitSequence = NULL, formulas, blots = NULL, \n    post = NULL, defaultMethod = c(\"pmm\", \"logreg\", \"polyreg\", \n        \"polr\"), maxit = 5, printFlag = TRUE, seed = NA, data.init = NULL, \n    ...) \nNULL\n```",
            "text/latex": "\\begin{minted}{r}\nfunction (data, m = 5, method = NULL, predictorMatrix, ignore = NULL, \n    where = NULL, blocks, visitSequence = NULL, formulas, blots = NULL, \n    post = NULL, defaultMethod = c(\"pmm\", \"logreg\", \"polyreg\", \n        \"polr\"), maxit = 5, printFlag = TRUE, seed = NA, data.init = NULL, \n    ...) \nNULL\n\\end{minted}",
            "text/plain": [
              "function (data, m = 5, method = NULL, predictorMatrix, ignore = NULL, \n",
              "    where = NULL, blocks, visitSequence = NULL, formulas, blots = NULL, \n",
              "    post = NULL, defaultMethod = c(\"pmm\", \"logreg\", \"polyreg\", \n",
              "        \"polr\"), maxit = 5, printFlag = TRUE, seed = NA, data.init = NULL, \n",
              "    ...) \n",
              "NULL"
            ]
          },
          "metadata": {}
        }
      ]
    },
    {
      "cell_type": "code",
      "source": [
        " ## m = num. of imputations\n",
        "      # Rule of thum = at least as many imputations as percentage of missing vallues\n",
        " ## maxit = max num. of iterations"
      ],
      "metadata": {
        "id": "zjceGLCQqNzF"
      },
      "execution_count": null,
      "outputs": []
    },
    {
      "cell_type": "code",
      "source": [
        "### Impute Data via mice\n",
        "MiceImputedData <- mice(data_to_analysis, m=20, maxit = 50, seed = 543, print=FALSE)"
      ],
      "metadata": {
        "collapsed": true,
        "id": "Eslx3_UuydnL"
      },
      "execution_count": 34,
      "outputs": []
    },
    {
      "cell_type": "code",
      "source": [
        "summary(MiceImputedData)"
      ],
      "metadata": {
        "id": "OFs4gHj6mTE8",
        "colab": {
          "base_uri": "https://localhost:8080/"
        },
        "outputId": "3d79d552-39ab-444b-9505-8f87803dd666"
      },
      "execution_count": 35,
      "outputs": [
        {
          "output_type": "stream",
          "name": "stdout",
          "text": [
            "Class: mids\n",
            "Number of multiple imputations:  20 \n",
            "Imputation methods:\n",
            "check_in_count_pre_2020 business_stars_pre_2020    nearby_count_minus_1 \n",
            "                  \"pmm\"                   \"pmm\"                      \"\" \n",
            "        attribute_count          business_price        business_happy_h \n",
            "                  \"pmm\"                   \"pmm\"                      \"\" \n",
            "PredictorMatrix:\n",
            "                        check_in_count_pre_2020 business_stars_pre_2020\n",
            "check_in_count_pre_2020                       0                       1\n",
            "business_stars_pre_2020                       1                       0\n",
            "nearby_count_minus_1                          1                       1\n",
            "attribute_count                               1                       1\n",
            "business_price                                1                       1\n",
            "business_happy_h                              1                       1\n",
            "                        nearby_count_minus_1 attribute_count business_price\n",
            "check_in_count_pre_2020                    1               1              1\n",
            "business_stars_pre_2020                    1               1              1\n",
            "nearby_count_minus_1                       0               1              1\n",
            "attribute_count                            1               0              1\n",
            "business_price                             1               1              0\n",
            "business_happy_h                           1               1              1\n",
            "                        business_happy_h\n",
            "check_in_count_pre_2020                1\n",
            "business_stars_pre_2020                1\n",
            "nearby_count_minus_1                   1\n",
            "attribute_count                        1\n",
            "business_price                         1\n",
            "business_happy_h                       0\n"
          ]
        }
      ]
    },
    {
      "cell_type": "markdown",
      "source": [
        "## *Running the Model with Mice"
      ],
      "metadata": {
        "id": "efsS1e56brfo"
      }
    },
    {
      "cell_type": "markdown",
      "source": [
        "### *Run with (2nd out of 20)"
      ],
      "metadata": {
        "id": "L2Y_adMM8if8"
      }
    },
    {
      "cell_type": "code",
      "source": [
        "#get complete data set (2nd out of 20)\n",
        "MiceCompleteData <- complete(MiceImputedData, 2)\n",
        "\n",
        "MiceCompleteData"
      ],
      "metadata": {
        "id": "bryTG4lRsGgD",
        "collapsed": true
      },
      "execution_count": null,
      "outputs": []
    },
    {
      "cell_type": "code",
      "source": [
        "model_after_mice <- lm(check_in_count_pre_2020 ~\n",
        "              business_stars_pre_2020\n",
        "              + nearby_count_minus_1\n",
        "              + attribute_count\n",
        "              + business_price * business_happy_h,\n",
        "                                                   MiceCompleteData)"
      ],
      "metadata": {
        "id": "LJZ9SoUrulxZ"
      },
      "execution_count": 37,
      "outputs": []
    },
    {
      "cell_type": "code",
      "source": [
        "summary(model_after_mice) #summary(MiceAllModels$analyses[[2]])"
      ],
      "metadata": {
        "colab": {
          "base_uri": "https://localhost:8080/",
          "height": 451
        },
        "id": "bMiHdHX9us6t",
        "outputId": "3e79082d-1f49-4c35-afa3-1df77e3a8b49"
      },
      "execution_count": 38,
      "outputs": [
        {
          "output_type": "display_data",
          "data": {
            "text/plain": [
              "\n",
              "Call:\n",
              "lm(formula = check_in_count_pre_2020 ~ business_stars_pre_2020 + \n",
              "    nearby_count_minus_1 + attribute_count + business_price * \n",
              "    business_happy_h, data = MiceCompleteData)\n",
              "\n",
              "Residuals:\n",
              "    Min      1Q  Median      3Q     Max \n",
              " -914.9  -186.5   -57.1    60.2 16987.1 \n",
              "\n",
              "Coefficients:\n",
              "                                   Estimate Std. Error t value Pr(>|t|)    \n",
              "(Intercept)                      -366.02761   32.36065 -11.311  < 2e-16 ***\n",
              "business_stars_pre_2020            32.21230    7.96664   4.043 5.34e-05 ***\n",
              "nearby_count_minus_1                0.20003    0.01576  12.692  < 2e-16 ***\n",
              "attribute_count                    37.67451    1.57954  23.852  < 2e-16 ***\n",
              "business_price                     39.06473   11.46949   3.406 0.000664 ***\n",
              "business_happy_h1                  19.90803   65.96453   0.302 0.762816    \n",
              "business_price:business_happy_h1  -10.20475   31.72690  -0.322 0.747734    \n",
              "---\n",
              "Signif. codes:  0 ‘***’ 0.001 ‘**’ 0.01 ‘*’ 0.05 ‘.’ 0.1 ‘ ’ 1\n",
              "\n",
              "Residual standard error: 470.9 on 5845 degrees of freedom\n",
              "Multiple R-squared:  0.1713,\tAdjusted R-squared:  0.1705 \n",
              "F-statistic: 201.4 on 6 and 5845 DF,  p-value: < 2.2e-16\n"
            ]
          },
          "metadata": {}
        }
      ]
    },
    {
      "cell_type": "markdown",
      "source": [
        "### *Run with pooled_mice"
      ],
      "metadata": {
        "id": "T3kosBe_b2Pv"
      }
    },
    {
      "cell_type": "code",
      "source": [
        "#build predictive model for all generated imputed data sets\n",
        "MiceAllModels <- with(MiceImputedData, lm(check_in_count_pre_2020 ~\n",
        "              business_stars_pre_2020\n",
        "              + nearby_count_minus_1\n",
        "              + attribute_count\n",
        "              + business_price * business_happy_h))"
      ],
      "metadata": {
        "id": "_tfv8ym8vPEj"
      },
      "execution_count": 39,
      "outputs": []
    },
    {
      "cell_type": "code",
      "source": [
        "#combine results of all 20 models\n",
        "pooled_Mice <- pool(MiceAllModels)"
      ],
      "metadata": {
        "id": "DIdSlwQFviZE"
      },
      "execution_count": 40,
      "outputs": []
    },
    {
      "cell_type": "markdown",
      "source": [
        "**Results**"
      ],
      "metadata": {
        "id": "wY-qD5au84wA"
      }
    },
    {
      "cell_type": "code",
      "source": [
        "pooled_Mice_results <- as.data.frame(summary(pooled_Mice))\n",
        "pooled_Mice_results"
      ],
      "metadata": {
        "colab": {
          "base_uri": "https://localhost:8080/",
          "height": 318
        },
        "id": "gMdzE0QfvrjN",
        "outputId": "6fc425ba-c120-4b9f-fee7-3b34893dc489"
      },
      "execution_count": 41,
      "outputs": [
        {
          "output_type": "display_data",
          "data": {
            "text/html": [
              "<table class=\"dataframe\">\n",
              "<caption>A data.frame: 7 × 6</caption>\n",
              "<thead>\n",
              "\t<tr><th scope=col>term</th><th scope=col>estimate</th><th scope=col>std.error</th><th scope=col>statistic</th><th scope=col>df</th><th scope=col>p.value</th></tr>\n",
              "\t<tr><th scope=col>&lt;fct&gt;</th><th scope=col>&lt;dbl&gt;</th><th scope=col>&lt;dbl&gt;</th><th scope=col>&lt;dbl&gt;</th><th scope=col>&lt;dbl&gt;</th><th scope=col>&lt;dbl&gt;</th></tr>\n",
              "</thead>\n",
              "<tbody>\n",
              "\t<tr><td>(Intercept)                     </td><td>-359.5097538</td><td>33.06354836</td><td>-10.8732962</td><td>3084.736</td><td> 4.751935e-27</td></tr>\n",
              "\t<tr><td>business_stars_pre_2020         </td><td>  28.9839587</td><td> 8.02467959</td><td>  3.6118525</td><td>4503.185</td><td> 3.073318e-04</td></tr>\n",
              "\t<tr><td>nearby_count_minus_1            </td><td>   0.2000211</td><td> 0.01587127</td><td> 12.6027187</td><td>4853.287</td><td> 7.394477e-36</td></tr>\n",
              "\t<tr><td>attribute_count                 </td><td>  38.0149179</td><td> 1.60068127</td><td> 23.7492114</td><td>4073.513</td><td>7.028045e-117</td></tr>\n",
              "\t<tr><td>business_price                  </td><td>  39.8226480</td><td>11.72252402</td><td>  3.3971053</td><td>3781.441</td><td> 6.880595e-04</td></tr>\n",
              "\t<tr><td>business_happy_h1               </td><td>  35.5227463</td><td>66.34805972</td><td>  0.5353999</td><td>4677.295</td><td> 5.923988e-01</td></tr>\n",
              "\t<tr><td>business_price:business_happy_h1</td><td> -20.3142282</td><td>32.08504239</td><td> -0.6331370</td><td>3426.429</td><td> 5.266864e-01</td></tr>\n",
              "</tbody>\n",
              "</table>\n"
            ],
            "text/markdown": "\nA data.frame: 7 × 6\n\n| term &lt;fct&gt; | estimate &lt;dbl&gt; | std.error &lt;dbl&gt; | statistic &lt;dbl&gt; | df &lt;dbl&gt; | p.value &lt;dbl&gt; |\n|---|---|---|---|---|---|\n| (Intercept)                      | -359.5097538 | 33.06354836 | -10.8732962 | 3084.736 |  4.751935e-27 |\n| business_stars_pre_2020          |   28.9839587 |  8.02467959 |   3.6118525 | 4503.185 |  3.073318e-04 |\n| nearby_count_minus_1             |    0.2000211 |  0.01587127 |  12.6027187 | 4853.287 |  7.394477e-36 |\n| attribute_count                  |   38.0149179 |  1.60068127 |  23.7492114 | 4073.513 | 7.028045e-117 |\n| business_price                   |   39.8226480 | 11.72252402 |   3.3971053 | 3781.441 |  6.880595e-04 |\n| business_happy_h1                |   35.5227463 | 66.34805972 |   0.5353999 | 4677.295 |  5.923988e-01 |\n| business_price:business_happy_h1 |  -20.3142282 | 32.08504239 |  -0.6331370 | 3426.429 |  5.266864e-01 |\n\n",
            "text/latex": "A data.frame: 7 × 6\n\\begin{tabular}{llllll}\n term & estimate & std.error & statistic & df & p.value\\\\\n <fct> & <dbl> & <dbl> & <dbl> & <dbl> & <dbl>\\\\\n\\hline\n\t (Intercept)                      & -359.5097538 & 33.06354836 & -10.8732962 & 3084.736 &  4.751935e-27\\\\\n\t business\\_stars\\_pre\\_2020          &   28.9839587 &  8.02467959 &   3.6118525 & 4503.185 &  3.073318e-04\\\\\n\t nearby\\_count\\_minus\\_1             &    0.2000211 &  0.01587127 &  12.6027187 & 4853.287 &  7.394477e-36\\\\\n\t attribute\\_count                  &   38.0149179 &  1.60068127 &  23.7492114 & 4073.513 & 7.028045e-117\\\\\n\t business\\_price                   &   39.8226480 & 11.72252402 &   3.3971053 & 3781.441 &  6.880595e-04\\\\\n\t business\\_happy\\_h1                &   35.5227463 & 66.34805972 &   0.5353999 & 4677.295 &  5.923988e-01\\\\\n\t business\\_price:business\\_happy\\_h1 &  -20.3142282 & 32.08504239 &  -0.6331370 & 3426.429 &  5.266864e-01\\\\\n\\end{tabular}\n",
            "text/plain": [
              "  term                             estimate     std.error   statistic  \n",
              "1 (Intercept)                      -359.5097538 33.06354836 -10.8732962\n",
              "2 business_stars_pre_2020            28.9839587  8.02467959   3.6118525\n",
              "3 nearby_count_minus_1                0.2000211  0.01587127  12.6027187\n",
              "4 attribute_count                    38.0149179  1.60068127  23.7492114\n",
              "5 business_price                     39.8226480 11.72252402   3.3971053\n",
              "6 business_happy_h1                  35.5227463 66.34805972   0.5353999\n",
              "7 business_price:business_happy_h1  -20.3142282 32.08504239  -0.6331370\n",
              "  df       p.value      \n",
              "1 3084.736  4.751935e-27\n",
              "2 4503.185  3.073318e-04\n",
              "3 4853.287  7.394477e-36\n",
              "4 4073.513 7.028045e-117\n",
              "5 3781.441  6.880595e-04\n",
              "6 4677.295  5.923988e-01\n",
              "7 3426.429  5.266864e-01"
            ]
          },
          "metadata": {}
        }
      ]
    },
    {
      "cell_type": "code",
      "source": [
        "# Adding significance level visualization to the above df:\n",
        "\n",
        "pooled_Mice_results %>%\n",
        "    mutate(sign = case_when(p.value >=0 & p.value < 0.001 ~ '***',\n",
        "                              p.value >=0.001 & p.value < 0.01 ~ '**',\n",
        "                                p.value >=0.01 & p.value < 0.05 ~ '*',\n",
        "                                 p.value >=0.05 & p.value < 0.1 ~ '.',\n",
        "                                  p.value >= 0.1 ~ ' ')\n",
        ")"
      ],
      "metadata": {
        "colab": {
          "base_uri": "https://localhost:8080/",
          "height": 318
        },
        "id": "ihNv8qzN9cfH",
        "outputId": "97c762c4-cac6-4b61-847e-4aca68bc29d9"
      },
      "execution_count": 42,
      "outputs": [
        {
          "output_type": "display_data",
          "data": {
            "text/html": [
              "<table class=\"dataframe\">\n",
              "<caption>A data.frame: 7 × 7</caption>\n",
              "<thead>\n",
              "\t<tr><th scope=col>term</th><th scope=col>estimate</th><th scope=col>std.error</th><th scope=col>statistic</th><th scope=col>df</th><th scope=col>p.value</th><th scope=col>sign</th></tr>\n",
              "\t<tr><th scope=col>&lt;fct&gt;</th><th scope=col>&lt;dbl&gt;</th><th scope=col>&lt;dbl&gt;</th><th scope=col>&lt;dbl&gt;</th><th scope=col>&lt;dbl&gt;</th><th scope=col>&lt;dbl&gt;</th><th scope=col>&lt;chr&gt;</th></tr>\n",
              "</thead>\n",
              "<tbody>\n",
              "\t<tr><td>(Intercept)                     </td><td>-359.5097538</td><td>33.06354836</td><td>-10.8732962</td><td>3084.736</td><td> 4.751935e-27</td><td>***</td></tr>\n",
              "\t<tr><td>business_stars_pre_2020         </td><td>  28.9839587</td><td> 8.02467959</td><td>  3.6118525</td><td>4503.185</td><td> 3.073318e-04</td><td>***</td></tr>\n",
              "\t<tr><td>nearby_count_minus_1            </td><td>   0.2000211</td><td> 0.01587127</td><td> 12.6027187</td><td>4853.287</td><td> 7.394477e-36</td><td>***</td></tr>\n",
              "\t<tr><td>attribute_count                 </td><td>  38.0149179</td><td> 1.60068127</td><td> 23.7492114</td><td>4073.513</td><td>7.028045e-117</td><td>***</td></tr>\n",
              "\t<tr><td>business_price                  </td><td>  39.8226480</td><td>11.72252402</td><td>  3.3971053</td><td>3781.441</td><td> 6.880595e-04</td><td>***</td></tr>\n",
              "\t<tr><td>business_happy_h1               </td><td>  35.5227463</td><td>66.34805972</td><td>  0.5353999</td><td>4677.295</td><td> 5.923988e-01</td><td>   </td></tr>\n",
              "\t<tr><td>business_price:business_happy_h1</td><td> -20.3142282</td><td>32.08504239</td><td> -0.6331370</td><td>3426.429</td><td> 5.266864e-01</td><td>   </td></tr>\n",
              "</tbody>\n",
              "</table>\n"
            ],
            "text/markdown": "\nA data.frame: 7 × 7\n\n| term &lt;fct&gt; | estimate &lt;dbl&gt; | std.error &lt;dbl&gt; | statistic &lt;dbl&gt; | df &lt;dbl&gt; | p.value &lt;dbl&gt; | sign &lt;chr&gt; |\n|---|---|---|---|---|---|---|\n| (Intercept)                      | -359.5097538 | 33.06354836 | -10.8732962 | 3084.736 |  4.751935e-27 | *** |\n| business_stars_pre_2020          |   28.9839587 |  8.02467959 |   3.6118525 | 4503.185 |  3.073318e-04 | *** |\n| nearby_count_minus_1             |    0.2000211 |  0.01587127 |  12.6027187 | 4853.287 |  7.394477e-36 | *** |\n| attribute_count                  |   38.0149179 |  1.60068127 |  23.7492114 | 4073.513 | 7.028045e-117 | *** |\n| business_price                   |   39.8226480 | 11.72252402 |   3.3971053 | 3781.441 |  6.880595e-04 | *** |\n| business_happy_h1                |   35.5227463 | 66.34805972 |   0.5353999 | 4677.295 |  5.923988e-01 | <!----> |\n| business_price:business_happy_h1 |  -20.3142282 | 32.08504239 |  -0.6331370 | 3426.429 |  5.266864e-01 | <!----> |\n\n",
            "text/latex": "A data.frame: 7 × 7\n\\begin{tabular}{lllllll}\n term & estimate & std.error & statistic & df & p.value & sign\\\\\n <fct> & <dbl> & <dbl> & <dbl> & <dbl> & <dbl> & <chr>\\\\\n\\hline\n\t (Intercept)                      & -359.5097538 & 33.06354836 & -10.8732962 & 3084.736 &  4.751935e-27 & ***\\\\\n\t business\\_stars\\_pre\\_2020          &   28.9839587 &  8.02467959 &   3.6118525 & 4503.185 &  3.073318e-04 & ***\\\\\n\t nearby\\_count\\_minus\\_1             &    0.2000211 &  0.01587127 &  12.6027187 & 4853.287 &  7.394477e-36 & ***\\\\\n\t attribute\\_count                  &   38.0149179 &  1.60068127 &  23.7492114 & 4073.513 & 7.028045e-117 & ***\\\\\n\t business\\_price                   &   39.8226480 & 11.72252402 &   3.3971053 & 3781.441 &  6.880595e-04 & ***\\\\\n\t business\\_happy\\_h1                &   35.5227463 & 66.34805972 &   0.5353999 & 4677.295 &  5.923988e-01 &    \\\\\n\t business\\_price:business\\_happy\\_h1 &  -20.3142282 & 32.08504239 &  -0.6331370 & 3426.429 &  5.266864e-01 &    \\\\\n\\end{tabular}\n",
            "text/plain": [
              "  term                             estimate     std.error   statistic  \n",
              "1 (Intercept)                      -359.5097538 33.06354836 -10.8732962\n",
              "2 business_stars_pre_2020            28.9839587  8.02467959   3.6118525\n",
              "3 nearby_count_minus_1                0.2000211  0.01587127  12.6027187\n",
              "4 attribute_count                    38.0149179  1.60068127  23.7492114\n",
              "5 business_price                     39.8226480 11.72252402   3.3971053\n",
              "6 business_happy_h1                  35.5227463 66.34805972   0.5353999\n",
              "7 business_price:business_happy_h1  -20.3142282 32.08504239  -0.6331370\n",
              "  df       p.value       sign\n",
              "1 3084.736  4.751935e-27 *** \n",
              "2 4503.185  3.073318e-04 *** \n",
              "3 4853.287  7.394477e-36 *** \n",
              "4 4073.513 7.028045e-117 *** \n",
              "5 3781.441  6.880595e-04 *** \n",
              "6 4677.295  5.923988e-01     \n",
              "7 3426.429  5.266864e-01     "
            ]
          },
          "metadata": {}
        }
      ]
    },
    {
      "cell_type": "code",
      "source": [
        "#   0 ‘***’ 0.001 ‘**’ 0.01 ‘*’ 0.05 ‘.’ 0.1 ‘ ’ 1"
      ],
      "metadata": {
        "id": "B2ZlWf5M9_HI"
      },
      "execution_count": null,
      "outputs": []
    },
    {
      "cell_type": "code",
      "source": [
        "# R-square for Pooled Model.\n",
        "\n",
        "pooled_R_2 <- pool.r.squared(MiceAllModels)\n",
        "pooled_R_2"
      ],
      "metadata": {
        "colab": {
          "base_uri": "https://localhost:8080/",
          "height": 98
        },
        "id": "GgFaXW9G0wzG",
        "outputId": "9ef9ecb8-a7d7-445f-8216-dd11a845f710"
      },
      "execution_count": 43,
      "outputs": [
        {
          "output_type": "display_data",
          "data": {
            "text/html": [
              "<table class=\"dataframe\">\n",
              "<caption>A matrix: 1 × 4 of type dbl</caption>\n",
              "<thead>\n",
              "\t<tr><th></th><th scope=col>est</th><th scope=col>lo 95</th><th scope=col>hi 95</th><th scope=col>fmi</th></tr>\n",
              "</thead>\n",
              "<tbody>\n",
              "\t<tr><th scope=row>R^2</th><td>0.1725435</td><td>0.1550112</td><td>0.1906119</td><td>0.02180884</td></tr>\n",
              "</tbody>\n",
              "</table>\n"
            ],
            "text/markdown": "\nA matrix: 1 × 4 of type dbl\n\n| <!--/--> | est | lo 95 | hi 95 | fmi |\n|---|---|---|---|---|\n| R^2 | 0.1725435 | 0.1550112 | 0.1906119 | 0.02180884 |\n\n",
            "text/latex": "A matrix: 1 × 4 of type dbl\n\\begin{tabular}{r|llll}\n  & est & lo 95 & hi 95 & fmi\\\\\n\\hline\n\tR\\textasciicircum{}2 & 0.1725435 & 0.1550112 & 0.1906119 & 0.02180884\\\\\n\\end{tabular}\n",
            "text/plain": [
              "    est       lo 95     hi 95     fmi       \n",
              "R^2 0.1725435 0.1550112 0.1906119 0.02180884"
            ]
          },
          "metadata": {}
        }
      ]
    },
    {
      "cell_type": "markdown",
      "source": [
        "# Base Model with External Population Data"
      ],
      "metadata": {
        "id": "m51QFew8jGmJ"
      }
    },
    {
      "cell_type": "markdown",
      "source": [
        "## Creating a Subset"
      ],
      "metadata": {
        "id": "1ABEe-vPcGTG"
      }
    },
    {
      "cell_type": "code",
      "source": [
        "#install.packages(\"mice\")"
      ],
      "metadata": {
        "collapsed": true,
        "id": "JlEqh5UbjVvx"
      },
      "execution_count": null,
      "outputs": []
    },
    {
      "cell_type": "code",
      "source": [
        "library(mice)"
      ],
      "metadata": {
        "collapsed": true,
        "id": "nEHsDlmfjVvx"
      },
      "execution_count": null,
      "outputs": []
    },
    {
      "cell_type": "code",
      "source": [
        "# Selecting the variables for analysis:\n",
        "data_to_analysis_2 <- data %>%\n",
        "    select(check_in_count_pre_2020, business_stars_pre_2020, nearby_count_minus_1, attribute_count, business_price, business_happy_h,\n",
        "                        total_population, total_population_children, total_population_youth, total_population_adults) # Adding external population data variables"
      ],
      "metadata": {
        "id": "0GR6L_n7jVvy"
      },
      "execution_count": 44,
      "outputs": []
    },
    {
      "cell_type": "markdown",
      "source": [
        "## *Running the Model with NA's (Pre-Mice)"
      ],
      "metadata": {
        "id": "2WsPuRWFjVvy"
      }
    },
    {
      "cell_type": "code",
      "source": [
        "# Check_in_frequency = β0 + β1 * avg_number_of_stars + β2 * business_proximity + β3 * number of characteristics + β4 * (price_level x happy hour) + ε"
      ],
      "metadata": {
        "id": "djTY0ZQWjVvy"
      },
      "execution_count": null,
      "outputs": []
    },
    {
      "cell_type": "code",
      "source": [
        "#install.packages(\"car\") #test\n",
        "library(car)"
      ],
      "metadata": {
        "id": "HKaX0JasjVvy"
      },
      "execution_count": null,
      "outputs": []
    },
    {
      "cell_type": "code",
      "source": [
        "model_pre_mice_2 <- lm(check_in_count_pre_2020 ~\n",
        "              business_stars_pre_2020\n",
        "              + nearby_count_minus_1\n",
        "              + attribute_count\n",
        "              + business_price * business_happy_h\n",
        "              + total_population\n",
        "              + total_population_children\n",
        "              + total_population_youth\n",
        "              + total_population_adults\n",
        "                                                   ,data_to_analysis_2)"
      ],
      "metadata": {
        "id": "JFp56jdKjVvy"
      },
      "execution_count": 45,
      "outputs": []
    },
    {
      "cell_type": "code",
      "source": [
        "#car::vif(m1) #test\n",
        "summary(model_pre_mice_2)"
      ],
      "metadata": {
        "colab": {
          "base_uri": "https://localhost:8080/",
          "height": 555
        },
        "outputId": "92671855-6981-472d-f342-b9089142f029",
        "id": "v7qoyZxfjVvy"
      },
      "execution_count": 46,
      "outputs": [
        {
          "output_type": "display_data",
          "data": {
            "text/plain": [
              "\n",
              "Call:\n",
              "lm(formula = check_in_count_pre_2020 ~ business_stars_pre_2020 + \n",
              "    nearby_count_minus_1 + attribute_count + business_price * \n",
              "    business_happy_h + total_population + total_population_children + \n",
              "    total_population_youth + total_population_adults, data = data_to_analysis_2)\n",
              "\n",
              "Residuals:\n",
              "    Min      1Q  Median      3Q     Max \n",
              " -827.8  -205.9   -63.4    70.0 16928.5 \n",
              "\n",
              "Coefficients:\n",
              "                                   Estimate Std. Error t value Pr(>|t|)    \n",
              "(Intercept)                      -3.890e+02  4.602e+01  -8.452  < 2e-16 ***\n",
              "business_stars_pre_2020           3.864e+01  1.017e+01   3.798 0.000148 ***\n",
              "nearby_count_minus_1              1.831e-01  2.450e-02   7.472 9.33e-14 ***\n",
              "attribute_count                   4.048e+01  2.074e+00  19.518  < 2e-16 ***\n",
              "business_price                    4.792e+01  1.420e+01   3.375 0.000743 ***\n",
              "business_happy_h1                 5.088e+01  7.709e+01   0.660 0.509272    \n",
              "total_population                 -1.728e-02  6.771e-03  -2.552 0.010743 *  \n",
              "total_population_children         1.129e-02  6.940e-03   1.627 0.103798    \n",
              "total_population_youth            1.651e-02  6.734e-03   2.451 0.014275 *  \n",
              "total_population_adults           2.130e-02  8.801e-03   2.420 0.015560 *  \n",
              "business_price:business_happy_h1 -3.021e+01  3.704e+01  -0.816 0.414797    \n",
              "---\n",
              "Signif. codes:  0 ‘***’ 0.001 ‘**’ 0.01 ‘*’ 0.05 ‘.’ 0.1 ‘ ’ 1\n",
              "\n",
              "Residual standard error: 510.5 on 4713 degrees of freedom\n",
              "  (1128 observations deleted due to missingness)\n",
              "Multiple R-squared:  0.1716,\tAdjusted R-squared:  0.1698 \n",
              "F-statistic: 97.63 on 10 and 4713 DF,  p-value: < 2.2e-16\n"
            ]
          },
          "metadata": {}
        }
      ]
    },
    {
      "cell_type": "code",
      "source": [
        "# (1128 observations deleted due to missingness)"
      ],
      "metadata": {
        "id": "2bvlJiYbjVvy"
      },
      "execution_count": null,
      "outputs": []
    },
    {
      "cell_type": "markdown",
      "source": [
        "## Pattern of Missings"
      ],
      "metadata": {
        "id": "Mq2kZc_kjVvy"
      }
    },
    {
      "cell_type": "code",
      "source": [
        "args(md.pattern)"
      ],
      "metadata": {
        "colab": {
          "base_uri": "https://localhost:8080/",
          "height": 52
        },
        "outputId": "f5a892ab-2415-4f9d-b80e-0c966df4a950",
        "id": "iMFNTfKLjVvy"
      },
      "execution_count": null,
      "outputs": [
        {
          "output_type": "display_data",
          "data": {
            "text/html": [
              "<pre class=language-r><code>function (x, plot = TRUE, rotate.names = FALSE) \n",
              "NULL</code></pre>"
            ],
            "text/markdown": "```r\nfunction (x, plot = TRUE, rotate.names = FALSE) \nNULL\n```",
            "text/latex": "\\begin{minted}{r}\nfunction (x, plot = TRUE, rotate.names = FALSE) \nNULL\n\\end{minted}",
            "text/plain": [
              "function (x, plot = TRUE, rotate.names = FALSE) \n",
              "NULL"
            ]
          },
          "metadata": {}
        }
      ]
    },
    {
      "cell_type": "code",
      "source": [
        "#inspect pattern of missings\n",
        "md.pattern(data_to_analysis_2, plot = TRUE, rotate.names = TRUE)"
      ],
      "metadata": {
        "collapsed": true,
        "id": "-2bQG4EkjVvy",
        "colab": {
          "base_uri": "https://localhost:8080/",
          "height": 946
        },
        "outputId": "acbce6ab-a2b5-43a9-ad83-24853d9ed8bb"
      },
      "execution_count": 47,
      "outputs": [
        {
          "output_type": "display_data",
          "data": {
            "text/html": [
              "<table class=\"dataframe\">\n",
              "<caption>A matrix: 14 × 11 of type dbl</caption>\n",
              "<thead>\n",
              "\t<tr><th></th><th scope=col>nearby_count_minus_1</th><th scope=col>business_happy_h</th><th scope=col>total_population</th><th scope=col>total_population_children</th><th scope=col>total_population_youth</th><th scope=col>total_population_adults</th><th scope=col>attribute_count</th><th scope=col>business_stars_pre_2020</th><th scope=col>check_in_count_pre_2020</th><th scope=col>business_price</th><th scope=col></th></tr>\n",
              "</thead>\n",
              "<tbody>\n",
              "\t<tr><th scope=row>4724</th><td>1</td><td>1</td><td> 1</td><td> 1</td><td> 1</td><td> 1</td><td> 1</td><td>  1</td><td>  1</td><td>  1</td><td>   0</td></tr>\n",
              "\t<tr><th scope=row>527</th><td>1</td><td>1</td><td> 1</td><td> 1</td><td> 1</td><td> 1</td><td> 1</td><td>  1</td><td>  1</td><td>  0</td><td>   1</td></tr>\n",
              "\t<tr><th scope=row>125</th><td>1</td><td>1</td><td> 1</td><td> 1</td><td> 1</td><td> 1</td><td> 1</td><td>  1</td><td>  0</td><td>  1</td><td>   1</td></tr>\n",
              "\t<tr><th scope=row>60</th><td>1</td><td>1</td><td> 1</td><td> 1</td><td> 1</td><td> 1</td><td> 1</td><td>  1</td><td>  0</td><td>  0</td><td>   2</td></tr>\n",
              "\t<tr><th scope=row>4</th><td>1</td><td>1</td><td> 1</td><td> 1</td><td> 1</td><td> 1</td><td> 1</td><td>  0</td><td>  1</td><td>  0</td><td>   2</td></tr>\n",
              "\t<tr><th scope=row>45</th><td>1</td><td>1</td><td> 1</td><td> 1</td><td> 1</td><td> 1</td><td> 1</td><td>  0</td><td>  0</td><td>  1</td><td>   2</td></tr>\n",
              "\t<tr><th scope=row>267</th><td>1</td><td>1</td><td> 1</td><td> 1</td><td> 1</td><td> 1</td><td> 1</td><td>  0</td><td>  0</td><td>  0</td><td>   3</td></tr>\n",
              "\t<tr><th scope=row>23</th><td>1</td><td>1</td><td> 1</td><td> 1</td><td> 1</td><td> 1</td><td> 0</td><td>  1</td><td>  1</td><td>  0</td><td>   2</td></tr>\n",
              "\t<tr><th scope=row>11</th><td>1</td><td>1</td><td> 1</td><td> 1</td><td> 1</td><td> 1</td><td> 0</td><td>  1</td><td>  0</td><td>  0</td><td>   3</td></tr>\n",
              "\t<tr><th scope=row>19</th><td>1</td><td>1</td><td> 1</td><td> 1</td><td> 1</td><td> 1</td><td> 0</td><td>  0</td><td>  0</td><td>  0</td><td>   4</td></tr>\n",
              "\t<tr><th scope=row>34</th><td>1</td><td>1</td><td> 0</td><td> 0</td><td> 0</td><td> 0</td><td> 1</td><td>  1</td><td>  1</td><td>  1</td><td>   4</td></tr>\n",
              "\t<tr><th scope=row>2</th><td>1</td><td>1</td><td> 0</td><td> 0</td><td> 0</td><td> 0</td><td> 1</td><td>  1</td><td>  1</td><td>  0</td><td>   5</td></tr>\n",
              "\t<tr><th scope=row>11</th><td>1</td><td>1</td><td> 0</td><td> 0</td><td> 0</td><td> 0</td><td> 1</td><td>  1</td><td>  0</td><td>  1</td><td>   5</td></tr>\n",
              "\t<tr><th scope=row></th><td>0</td><td>0</td><td>47</td><td>47</td><td>47</td><td>47</td><td>53</td><td>335</td><td>538</td><td>913</td><td>2027</td></tr>\n",
              "</tbody>\n",
              "</table>\n"
            ],
            "text/markdown": "\nA matrix: 14 × 11 of type dbl\n\n| <!--/--> | nearby_count_minus_1 | business_happy_h | total_population | total_population_children | total_population_youth | total_population_adults | attribute_count | business_stars_pre_2020 | check_in_count_pre_2020 | business_price | <!----> |\n|---|---|---|---|---|---|---|---|---|---|---|---|\n| 4724 | 1 | 1 |  1 |  1 |  1 |  1 |  1 |   1 |   1 |   1 |    0 |\n| 527 | 1 | 1 |  1 |  1 |  1 |  1 |  1 |   1 |   1 |   0 |    1 |\n| 125 | 1 | 1 |  1 |  1 |  1 |  1 |  1 |   1 |   0 |   1 |    1 |\n| 60 | 1 | 1 |  1 |  1 |  1 |  1 |  1 |   1 |   0 |   0 |    2 |\n| 4 | 1 | 1 |  1 |  1 |  1 |  1 |  1 |   0 |   1 |   0 |    2 |\n| 45 | 1 | 1 |  1 |  1 |  1 |  1 |  1 |   0 |   0 |   1 |    2 |\n| 267 | 1 | 1 |  1 |  1 |  1 |  1 |  1 |   0 |   0 |   0 |    3 |\n| 23 | 1 | 1 |  1 |  1 |  1 |  1 |  0 |   1 |   1 |   0 |    2 |\n| 11 | 1 | 1 |  1 |  1 |  1 |  1 |  0 |   1 |   0 |   0 |    3 |\n| 19 | 1 | 1 |  1 |  1 |  1 |  1 |  0 |   0 |   0 |   0 |    4 |\n| 34 | 1 | 1 |  0 |  0 |  0 |  0 |  1 |   1 |   1 |   1 |    4 |\n| 2 | 1 | 1 |  0 |  0 |  0 |  0 |  1 |   1 |   1 |   0 |    5 |\n| 11 | 1 | 1 |  0 |  0 |  0 |  0 |  1 |   1 |   0 |   1 |    5 |\n| <!----> | 0 | 0 | 47 | 47 | 47 | 47 | 53 | 335 | 538 | 913 | 2027 |\n\n",
            "text/latex": "A matrix: 14 × 11 of type dbl\n\\begin{tabular}{r|lllllllllll}\n  & nearby\\_count\\_minus\\_1 & business\\_happy\\_h & total\\_population & total\\_population\\_children & total\\_population\\_youth & total\\_population\\_adults & attribute\\_count & business\\_stars\\_pre\\_2020 & check\\_in\\_count\\_pre\\_2020 & business\\_price & \\\\\n\\hline\n\t4724 & 1 & 1 &  1 &  1 &  1 &  1 &  1 &   1 &   1 &   1 &    0\\\\\n\t527 & 1 & 1 &  1 &  1 &  1 &  1 &  1 &   1 &   1 &   0 &    1\\\\\n\t125 & 1 & 1 &  1 &  1 &  1 &  1 &  1 &   1 &   0 &   1 &    1\\\\\n\t60 & 1 & 1 &  1 &  1 &  1 &  1 &  1 &   1 &   0 &   0 &    2\\\\\n\t4 & 1 & 1 &  1 &  1 &  1 &  1 &  1 &   0 &   1 &   0 &    2\\\\\n\t45 & 1 & 1 &  1 &  1 &  1 &  1 &  1 &   0 &   0 &   1 &    2\\\\\n\t267 & 1 & 1 &  1 &  1 &  1 &  1 &  1 &   0 &   0 &   0 &    3\\\\\n\t23 & 1 & 1 &  1 &  1 &  1 &  1 &  0 &   1 &   1 &   0 &    2\\\\\n\t11 & 1 & 1 &  1 &  1 &  1 &  1 &  0 &   1 &   0 &   0 &    3\\\\\n\t19 & 1 & 1 &  1 &  1 &  1 &  1 &  0 &   0 &   0 &   0 &    4\\\\\n\t34 & 1 & 1 &  0 &  0 &  0 &  0 &  1 &   1 &   1 &   1 &    4\\\\\n\t2 & 1 & 1 &  0 &  0 &  0 &  0 &  1 &   1 &   1 &   0 &    5\\\\\n\t11 & 1 & 1 &  0 &  0 &  0 &  0 &  1 &   1 &   0 &   1 &    5\\\\\n\t & 0 & 0 & 47 & 47 & 47 & 47 & 53 & 335 & 538 & 913 & 2027\\\\\n\\end{tabular}\n",
            "text/plain": [
              "     nearby_count_minus_1 business_happy_h total_population\n",
              "4724 1                    1                 1              \n",
              "527  1                    1                 1              \n",
              "125  1                    1                 1              \n",
              "60   1                    1                 1              \n",
              "4    1                    1                 1              \n",
              "45   1                    1                 1              \n",
              "267  1                    1                 1              \n",
              "23   1                    1                 1              \n",
              "11   1                    1                 1              \n",
              "19   1                    1                 1              \n",
              "34   1                    1                 0              \n",
              "2    1                    1                 0              \n",
              "11   1                    1                 0              \n",
              "     0                    0                47              \n",
              "     total_population_children total_population_youth total_population_adults\n",
              "4724  1                         1                      1                     \n",
              "527   1                         1                      1                     \n",
              "125   1                         1                      1                     \n",
              "60    1                         1                      1                     \n",
              "4     1                         1                      1                     \n",
              "45    1                         1                      1                     \n",
              "267   1                         1                      1                     \n",
              "23    1                         1                      1                     \n",
              "11    1                         1                      1                     \n",
              "19    1                         1                      1                     \n",
              "34    0                         0                      0                     \n",
              "2     0                         0                      0                     \n",
              "11    0                         0                      0                     \n",
              "     47                        47                     47                     \n",
              "     attribute_count business_stars_pre_2020 check_in_count_pre_2020\n",
              "4724  1                1                       1                    \n",
              "527   1                1                       1                    \n",
              "125   1                1                       0                    \n",
              "60    1                1                       0                    \n",
              "4     1                0                       1                    \n",
              "45    1                0                       0                    \n",
              "267   1                0                       0                    \n",
              "23    0                1                       1                    \n",
              "11    0                1                       0                    \n",
              "19    0                0                       0                    \n",
              "34    1                1                       1                    \n",
              "2     1                1                       1                    \n",
              "11    1                1                       0                    \n",
              "     53              335                     538                    \n",
              "     business_price     \n",
              "4724   1               0\n",
              "527    0               1\n",
              "125    1               1\n",
              "60     0               2\n",
              "4      0               2\n",
              "45     1               2\n",
              "267    0               3\n",
              "23     0               2\n",
              "11     0               3\n",
              "19     0               4\n",
              "34     1               4\n",
              "2      0               5\n",
              "11     1               5\n",
              "     913            2027"
            ]
          },
          "metadata": {}
        },
        {
          "output_type": "display_data",
          "data": {
            "text/plain": [
              "plot without title"
            ],
            "image/png": "[encoded data removed]"
          },
          "metadata": {
            "image/png": {
              "width": 420,
              "height": 420
            }
          }
        }
      ]
    },
    {
      "cell_type": "markdown",
      "source": [
        "## Impute Data via Mice"
      ],
      "metadata": {
        "id": "SqyE67IbjVvz"
      }
    },
    {
      "cell_type": "code",
      "source": [
        "args(mice)"
      ],
      "metadata": {
        "colab": {
          "base_uri": "https://localhost:8080/",
          "height": 121
        },
        "outputId": "929c3641-d6d1-4abd-9cc3-c2403fa0974c",
        "id": "M1o_EKK-jVvz"
      },
      "execution_count": null,
      "outputs": [
        {
          "output_type": "display_data",
          "data": {
            "text/html": [
              "<pre class=language-r><code>function (data, m = 5, method = NULL, predictorMatrix, ignore = NULL, \n",
              "<span style=white-space:pre-wrap>    where = NULL, blocks, visitSequence = NULL, formulas, blots = NULL, </span>\n",
              "<span style=white-space:pre-wrap>    post = NULL, defaultMethod = c(\"pmm\", \"logreg\", \"polyreg\", </span>\n",
              "<span style=white-space:pre-wrap>        \"polr\"), maxit = 5, printFlag = TRUE, seed = NA, data.init = NULL, </span>\n",
              "<span style=white-space:pre-wrap>    ...) </span>\n",
              "NULL</code></pre>"
            ],
            "text/markdown": "```r\nfunction (data, m = 5, method = NULL, predictorMatrix, ignore = NULL, \n    where = NULL, blocks, visitSequence = NULL, formulas, blots = NULL, \n    post = NULL, defaultMethod = c(\"pmm\", \"logreg\", \"polyreg\", \n        \"polr\"), maxit = 5, printFlag = TRUE, seed = NA, data.init = NULL, \n    ...) \nNULL\n```",
            "text/latex": "\\begin{minted}{r}\nfunction (data, m = 5, method = NULL, predictorMatrix, ignore = NULL, \n    where = NULL, blocks, visitSequence = NULL, formulas, blots = NULL, \n    post = NULL, defaultMethod = c(\"pmm\", \"logreg\", \"polyreg\", \n        \"polr\"), maxit = 5, printFlag = TRUE, seed = NA, data.init = NULL, \n    ...) \nNULL\n\\end{minted}",
            "text/plain": [
              "function (data, m = 5, method = NULL, predictorMatrix, ignore = NULL, \n",
              "    where = NULL, blocks, visitSequence = NULL, formulas, blots = NULL, \n",
              "    post = NULL, defaultMethod = c(\"pmm\", \"logreg\", \"polyreg\", \n",
              "        \"polr\"), maxit = 5, printFlag = TRUE, seed = NA, data.init = NULL, \n",
              "    ...) \n",
              "NULL"
            ]
          },
          "metadata": {}
        }
      ]
    },
    {
      "cell_type": "code",
      "source": [
        " ## m = num. of imputations\n",
        "      # Rule of thum = at least as many imputations as percentage of missing vallues\n",
        " ## maxit = max num. of iterations"
      ],
      "metadata": {
        "id": "mnSyVbX6jVvz"
      },
      "execution_count": null,
      "outputs": []
    },
    {
      "cell_type": "code",
      "source": [
        "model_pre_mice_2 <- lm(check_in_count_pre_2020 ~\n",
        "              business_stars_pre_2020\n",
        "              + nearby_count_minus_1\n",
        "              + attribute_count\n",
        "              + business_price * business_happy_h\n",
        "              + total_population\n",
        "              + total_population_children\n",
        "              + total_population_youth\n",
        "              + total_population_adults,\n",
        "                                                   data_to_analysis_2)  #DELETE????????????"
      ],
      "metadata": {
        "id": "QzLviaDwgSN3"
      },
      "execution_count": 48,
      "outputs": []
    },
    {
      "cell_type": "code",
      "source": [
        "### Impute Data via mice\n",
        "MiceImputedData_2 <- mice(data_to_analysis_2, m=20, maxit = 50, seed = 5454, print=FALSE)"
      ],
      "metadata": {
        "collapsed": true,
        "id": "Y50YqhN6jVvz"
      },
      "execution_count": 49,
      "outputs": []
    },
    {
      "cell_type": "code",
      "source": [
        "summary(MiceImputedData_2)"
      ],
      "metadata": {
        "colab": {
          "base_uri": "https://localhost:8080/"
        },
        "outputId": "ab62b60e-3fe3-4791-9f9a-04f475ffaac3",
        "id": "tHU3tRAnjVvz"
      },
      "execution_count": 51,
      "outputs": [
        {
          "output_type": "stream",
          "name": "stdout",
          "text": [
            "Class: mids\n",
            "Number of multiple imputations:  20 \n",
            "Imputation methods:\n",
            "  check_in_count_pre_2020   business_stars_pre_2020      nearby_count_minus_1 \n",
            "                    \"pmm\"                     \"pmm\"                        \"\" \n",
            "          attribute_count            business_price          business_happy_h \n",
            "                    \"pmm\"                     \"pmm\"                        \"\" \n",
            "         total_population total_population_children    total_population_youth \n",
            "                    \"pmm\"                     \"pmm\"                     \"pmm\" \n",
            "  total_population_adults \n",
            "                    \"pmm\" \n",
            "PredictorMatrix:\n",
            "                        check_in_count_pre_2020 business_stars_pre_2020\n",
            "check_in_count_pre_2020                       0                       1\n",
            "business_stars_pre_2020                       1                       0\n",
            "nearby_count_minus_1                          1                       1\n",
            "attribute_count                               1                       1\n",
            "business_price                                1                       1\n",
            "business_happy_h                              1                       1\n",
            "                        nearby_count_minus_1 attribute_count business_price\n",
            "check_in_count_pre_2020                    1               1              1\n",
            "business_stars_pre_2020                    1               1              1\n",
            "nearby_count_minus_1                       0               1              1\n",
            "attribute_count                            1               0              1\n",
            "business_price                             1               1              0\n",
            "business_happy_h                           1               1              1\n",
            "                        business_happy_h total_population\n",
            "check_in_count_pre_2020                1                1\n",
            "business_stars_pre_2020                1                1\n",
            "nearby_count_minus_1                   1                1\n",
            "attribute_count                        1                1\n",
            "business_price                         1                1\n",
            "business_happy_h                       0                1\n",
            "                        total_population_children total_population_youth\n",
            "check_in_count_pre_2020                         1                      1\n",
            "business_stars_pre_2020                         1                      1\n",
            "nearby_count_minus_1                            1                      1\n",
            "attribute_count                                 1                      1\n",
            "business_price                                  1                      1\n",
            "business_happy_h                                1                      1\n",
            "                        total_population_adults\n",
            "check_in_count_pre_2020                       1\n",
            "business_stars_pre_2020                       1\n",
            "nearby_count_minus_1                          1\n",
            "attribute_count                               1\n",
            "business_price                                1\n",
            "business_happy_h                              1\n"
          ]
        }
      ]
    },
    {
      "cell_type": "markdown",
      "source": [
        "## *Running the Model with Mice"
      ],
      "metadata": {
        "id": "JGECAdhwjVvz"
      }
    },
    {
      "cell_type": "markdown",
      "source": [
        "### *Run with (x.th out of 20)"
      ],
      "metadata": {
        "id": "2kZcqSiCjVvz"
      }
    },
    {
      "cell_type": "code",
      "source": [
        "set.seed(123)\n",
        "sample(1:20, 1)"
      ],
      "metadata": {
        "colab": {
          "base_uri": "https://localhost:8080/",
          "height": 34
        },
        "id": "4YqSUJC0dh0W",
        "outputId": "8bfaaa06-9871-4cf5-f04d-11dccef9fc12"
      },
      "execution_count": 52,
      "outputs": [
        {
          "output_type": "display_data",
          "data": {
            "text/html": [
              "15"
            ],
            "text/markdown": "15",
            "text/latex": "15",
            "text/plain": [
              "[1] 15"
            ]
          },
          "metadata": {}
        }
      ]
    },
    {
      "cell_type": "code",
      "source": [
        "#get complete data set (2nd out of 20)\n",
        "MiceCompleteData_2 <- complete(MiceImputedData_2, 15)\n",
        "\n",
        "MiceCompleteData_2"
      ],
      "metadata": {
        "collapsed": true,
        "id": "5wQ8EIYEjVvz"
      },
      "execution_count": null,
      "outputs": []
    },
    {
      "cell_type": "code",
      "source": [
        "model_after_mice_2 <- lm(check_in_count_pre_2020 ~\n",
        "               business_stars_pre_2020\n",
        "              + nearby_count_minus_1\n",
        "              + attribute_count\n",
        "              + business_price * business_happy_h\n",
        "              + total_population\n",
        "              + total_population_children\n",
        "              + total_population_youth\n",
        "              + total_population_adults,\n",
        "                                          MiceCompleteData_2)"
      ],
      "metadata": {
        "id": "INsC9mgVjVv0"
      },
      "execution_count": 54,
      "outputs": []
    },
    {
      "cell_type": "code",
      "source": [
        "summary(model_after_mice_2) #summary(MiceAllModels$analyses[[2]])"
      ],
      "metadata": {
        "colab": {
          "base_uri": "https://localhost:8080/",
          "height": 538
        },
        "outputId": "6f4de92d-1bad-48b6-8837-2686ccbdc366",
        "id": "bNIdqCLBjVv0"
      },
      "execution_count": 55,
      "outputs": [
        {
          "output_type": "display_data",
          "data": {
            "text/plain": [
              "\n",
              "Call:\n",
              "lm(formula = check_in_count_pre_2020 ~ business_stars_pre_2020 + \n",
              "    nearby_count_minus_1 + attribute_count + business_price * \n",
              "    business_happy_h + total_population + total_population_children + \n",
              "    total_population_youth + total_population_adults, data = MiceCompleteData_2)\n",
              "\n",
              "Residuals:\n",
              "    Min      1Q  Median      3Q     Max \n",
              " -911.7  -183.3   -55.2    64.5 16984.7 \n",
              "\n",
              "Coefficients:\n",
              "                                   Estimate Std. Error t value Pr(>|t|)    \n",
              "(Intercept)                      -3.168e+02  3.685e+01  -8.596  < 2e-16 ***\n",
              "business_stars_pre_2020           2.859e+01  7.945e+00   3.599 0.000322 ***\n",
              "nearby_count_minus_1              1.685e-01  2.025e-02   8.319  < 2e-16 ***\n",
              "attribute_count                   3.772e+01  1.573e+00  23.976  < 2e-16 ***\n",
              "business_price                    3.914e+01  1.153e+01   3.394 0.000692 ***\n",
              "business_happy_h1                 1.772e+01  6.595e+01   0.269 0.788123    \n",
              "total_population                 -1.377e-02  5.568e-03  -2.473 0.013409 *  \n",
              "total_population_children         1.016e-02  5.704e-03   1.782 0.074828 .  \n",
              "total_population_youth            1.328e-02  5.541e-03   2.397 0.016576 *  \n",
              "total_population_adults           1.644e-02  7.241e-03   2.270 0.023229 *  \n",
              "business_price:business_happy_h1 -1.142e+01  3.154e+01  -0.362 0.717225    \n",
              "---\n",
              "Signif. codes:  0 ‘***’ 0.001 ‘**’ 0.01 ‘*’ 0.05 ‘.’ 0.1 ‘ ’ 1\n",
              "\n",
              "Residual standard error: 467.4 on 5841 degrees of freedom\n",
              "Multiple R-squared:  0.175,\tAdjusted R-squared:  0.1736 \n",
              "F-statistic: 123.9 on 10 and 5841 DF,  p-value: < 2.2e-16\n"
            ]
          },
          "metadata": {}
        }
      ]
    },
    {
      "cell_type": "markdown",
      "source": [
        "### *Run with pooled_mice"
      ],
      "metadata": {
        "id": "70TlJAUajVv0"
      }
    },
    {
      "cell_type": "code",
      "source": [
        "#build predictive model for all generated imputed data sets\n",
        "MiceAllModels_2 <- with(MiceImputedData_2, lm(check_in_count_pre_2020 ~\n",
        "              business_stars_pre_2020\n",
        "              + nearby_count_minus_1\n",
        "              + attribute_count\n",
        "              + business_price * business_happy_h\n",
        "              + total_population\n",
        "              + total_population_children\n",
        "              + total_population_youth\n",
        "              + total_population_adults))"
      ],
      "metadata": {
        "id": "xBna4dtljVv0"
      },
      "execution_count": 56,
      "outputs": []
    },
    {
      "cell_type": "code",
      "source": [
        "#combine results of all 20 models\n",
        "pooled_Mice_2 <- pool(MiceAllModels_2)"
      ],
      "metadata": {
        "id": "RDEu0RpljVv0"
      },
      "execution_count": 57,
      "outputs": []
    },
    {
      "cell_type": "markdown",
      "source": [
        "**Results**"
      ],
      "metadata": {
        "id": "vq2P19eAjVv0"
      }
    },
    {
      "cell_type": "code",
      "source": [
        "pooled_Mice_results_2 <- as.data.frame(summary(pooled_Mice_2))\n",
        "pooled_Mice_results_2"
      ],
      "metadata": {
        "colab": {
          "base_uri": "https://localhost:8080/",
          "height": 443
        },
        "outputId": "329d866e-f74f-4f83-dc2b-2b824be41fa3",
        "id": "HMihRMZhjVv0"
      },
      "execution_count": 58,
      "outputs": [
        {
          "output_type": "display_data",
          "data": {
            "text/html": [
              "<table class=\"dataframe\">\n",
              "<caption>A data.frame: 11 × 6</caption>\n",
              "<thead>\n",
              "\t<tr><th scope=col>term</th><th scope=col>estimate</th><th scope=col>std.error</th><th scope=col>statistic</th><th scope=col>df</th><th scope=col>p.value</th></tr>\n",
              "\t<tr><th scope=col>&lt;fct&gt;</th><th scope=col>&lt;dbl&gt;</th><th scope=col>&lt;dbl&gt;</th><th scope=col>&lt;dbl&gt;</th><th scope=col>&lt;dbl&gt;</th><th scope=col>&lt;dbl&gt;</th></tr>\n",
              "</thead>\n",
              "<tbody>\n",
              "\t<tr><td>(Intercept)                     </td><td>-312.45069192</td><td>37.709625153</td><td>-8.2857013</td><td>4553.415</td><td> 1.528337e-16</td></tr>\n",
              "\t<tr><td>business_stars_pre_2020         </td><td>  27.36391588</td><td> 8.228793258</td><td> 3.3253862</td><td>3268.910</td><td> 8.927063e-04</td></tr>\n",
              "\t<tr><td>nearby_count_minus_1            </td><td>   0.16707369</td><td> 0.021245662</td><td> 7.8638968</td><td>2010.654</td><td> 6.023766e-15</td></tr>\n",
              "\t<tr><td>attribute_count                 </td><td>  37.82914845</td><td> 1.609868982</td><td>23.4982777</td><td>4557.096</td><td>2.392606e-115</td></tr>\n",
              "\t<tr><td>business_price                  </td><td>  39.25635005</td><td>11.893930750</td><td> 3.3005363</td><td>3612.262</td><td> 9.743726e-04</td></tr>\n",
              "\t<tr><td>business_happy_h1               </td><td>  31.43392077</td><td>67.404877321</td><td> 0.4663449</td><td>3210.078</td><td> 6.410003e-01</td></tr>\n",
              "\t<tr><td>total_population                </td><td>  -0.01447550</td><td> 0.005636226</td><td>-2.5682964</td><td>5598.844</td><td> 1.024567e-02</td></tr>\n",
              "\t<tr><td>total_population_children       </td><td>   0.01018738</td><td> 0.005774375</td><td> 1.7642399</td><td>5567.020</td><td> 7.774643e-02</td></tr>\n",
              "\t<tr><td>total_population_youth          </td><td>   0.01397830</td><td> 0.005613700</td><td> 2.4900341</td><td>5554.323</td><td> 1.280210e-02</td></tr>\n",
              "\t<tr><td>total_population_adults         </td><td>   0.01754488</td><td> 0.007343751</td><td> 2.3890890</td><td>5446.007</td><td> 1.692404e-02</td></tr>\n",
              "\t<tr><td>business_price:business_happy_h1</td><td> -19.97995560</td><td>32.173097568</td><td>-0.6210144</td><td>3546.890</td><td> 5.346301e-01</td></tr>\n",
              "</tbody>\n",
              "</table>\n"
            ],
            "text/markdown": "\nA data.frame: 11 × 6\n\n| term &lt;fct&gt; | estimate &lt;dbl&gt; | std.error &lt;dbl&gt; | statistic &lt;dbl&gt; | df &lt;dbl&gt; | p.value &lt;dbl&gt; |\n|---|---|---|---|---|---|\n| (Intercept)                      | -312.45069192 | 37.709625153 | -8.2857013 | 4553.415 |  1.528337e-16 |\n| business_stars_pre_2020          |   27.36391588 |  8.228793258 |  3.3253862 | 3268.910 |  8.927063e-04 |\n| nearby_count_minus_1             |    0.16707369 |  0.021245662 |  7.8638968 | 2010.654 |  6.023766e-15 |\n| attribute_count                  |   37.82914845 |  1.609868982 | 23.4982777 | 4557.096 | 2.392606e-115 |\n| business_price                   |   39.25635005 | 11.893930750 |  3.3005363 | 3612.262 |  9.743726e-04 |\n| business_happy_h1                |   31.43392077 | 67.404877321 |  0.4663449 | 3210.078 |  6.410003e-01 |\n| total_population                 |   -0.01447550 |  0.005636226 | -2.5682964 | 5598.844 |  1.024567e-02 |\n| total_population_children        |    0.01018738 |  0.005774375 |  1.7642399 | 5567.020 |  7.774643e-02 |\n| total_population_youth           |    0.01397830 |  0.005613700 |  2.4900341 | 5554.323 |  1.280210e-02 |\n| total_population_adults          |    0.01754488 |  0.007343751 |  2.3890890 | 5446.007 |  1.692404e-02 |\n| business_price:business_happy_h1 |  -19.97995560 | 32.173097568 | -0.6210144 | 3546.890 |  5.346301e-01 |\n\n",
            "text/latex": "A data.frame: 11 × 6\n\\begin{tabular}{llllll}\n term & estimate & std.error & statistic & df & p.value\\\\\n <fct> & <dbl> & <dbl> & <dbl> & <dbl> & <dbl>\\\\\n\\hline\n\t (Intercept)                      & -312.45069192 & 37.709625153 & -8.2857013 & 4553.415 &  1.528337e-16\\\\\n\t business\\_stars\\_pre\\_2020          &   27.36391588 &  8.228793258 &  3.3253862 & 3268.910 &  8.927063e-04\\\\\n\t nearby\\_count\\_minus\\_1             &    0.16707369 &  0.021245662 &  7.8638968 & 2010.654 &  6.023766e-15\\\\\n\t attribute\\_count                  &   37.82914845 &  1.609868982 & 23.4982777 & 4557.096 & 2.392606e-115\\\\\n\t business\\_price                   &   39.25635005 & 11.893930750 &  3.3005363 & 3612.262 &  9.743726e-04\\\\\n\t business\\_happy\\_h1                &   31.43392077 & 67.404877321 &  0.4663449 & 3210.078 &  6.410003e-01\\\\\n\t total\\_population                 &   -0.01447550 &  0.005636226 & -2.5682964 & 5598.844 &  1.024567e-02\\\\\n\t total\\_population\\_children        &    0.01018738 &  0.005774375 &  1.7642399 & 5567.020 &  7.774643e-02\\\\\n\t total\\_population\\_youth           &    0.01397830 &  0.005613700 &  2.4900341 & 5554.323 &  1.280210e-02\\\\\n\t total\\_population\\_adults          &    0.01754488 &  0.007343751 &  2.3890890 & 5446.007 &  1.692404e-02\\\\\n\t business\\_price:business\\_happy\\_h1 &  -19.97995560 & 32.173097568 & -0.6210144 & 3546.890 &  5.346301e-01\\\\\n\\end{tabular}\n",
            "text/plain": [
              "   term                             estimate      std.error    statistic \n",
              "1  (Intercept)                      -312.45069192 37.709625153 -8.2857013\n",
              "2  business_stars_pre_2020            27.36391588  8.228793258  3.3253862\n",
              "3  nearby_count_minus_1                0.16707369  0.021245662  7.8638968\n",
              "4  attribute_count                    37.82914845  1.609868982 23.4982777\n",
              "5  business_price                     39.25635005 11.893930750  3.3005363\n",
              "6  business_happy_h1                  31.43392077 67.404877321  0.4663449\n",
              "7  total_population                   -0.01447550  0.005636226 -2.5682964\n",
              "8  total_population_children           0.01018738  0.005774375  1.7642399\n",
              "9  total_population_youth              0.01397830  0.005613700  2.4900341\n",
              "10 total_population_adults             0.01754488  0.007343751  2.3890890\n",
              "11 business_price:business_happy_h1  -19.97995560 32.173097568 -0.6210144\n",
              "   df       p.value      \n",
              "1  4553.415  1.528337e-16\n",
              "2  3268.910  8.927063e-04\n",
              "3  2010.654  6.023766e-15\n",
              "4  4557.096 2.392606e-115\n",
              "5  3612.262  9.743726e-04\n",
              "6  3210.078  6.410003e-01\n",
              "7  5598.844  1.024567e-02\n",
              "8  5567.020  7.774643e-02\n",
              "9  5554.323  1.280210e-02\n",
              "10 5446.007  1.692404e-02\n",
              "11 3546.890  5.346301e-01"
            ]
          },
          "metadata": {}
        }
      ]
    },
    {
      "cell_type": "code",
      "source": [
        "# Adding significance level visualization to the above df:\n",
        "\n",
        "pooled_Mice_results_2 %>%\n",
        "    mutate(sign = case_when(p.value >=0 & p.value < 0.001 ~ '***',\n",
        "                              p.value >=0.001 & p.value < 0.01 ~ '**',\n",
        "                                p.value >=0.01 & p.value < 0.05 ~ '*',\n",
        "                                 p.value >=0.05 & p.value < 0.1 ~ '.',\n",
        "                                  p.value >= 0.1 ~ ' ')\n",
        ")"
      ],
      "metadata": {
        "colab": {
          "base_uri": "https://localhost:8080/",
          "height": 443
        },
        "outputId": "4b41300d-a0c5-4905-f052-f0b02a40dfe6",
        "id": "-gf5lGlPjVv0"
      },
      "execution_count": 59,
      "outputs": [
        {
          "output_type": "display_data",
          "data": {
            "text/html": [
              "<table class=\"dataframe\">\n",
              "<caption>A data.frame: 11 × 7</caption>\n",
              "<thead>\n",
              "\t<tr><th scope=col>term</th><th scope=col>estimate</th><th scope=col>std.error</th><th scope=col>statistic</th><th scope=col>df</th><th scope=col>p.value</th><th scope=col>sign</th></tr>\n",
              "\t<tr><th scope=col>&lt;fct&gt;</th><th scope=col>&lt;dbl&gt;</th><th scope=col>&lt;dbl&gt;</th><th scope=col>&lt;dbl&gt;</th><th scope=col>&lt;dbl&gt;</th><th scope=col>&lt;dbl&gt;</th><th scope=col>&lt;chr&gt;</th></tr>\n",
              "</thead>\n",
              "<tbody>\n",
              "\t<tr><td>(Intercept)                     </td><td>-312.45069192</td><td>37.709625153</td><td>-8.2857013</td><td>4553.415</td><td> 1.528337e-16</td><td>***</td></tr>\n",
              "\t<tr><td>business_stars_pre_2020         </td><td>  27.36391588</td><td> 8.228793258</td><td> 3.3253862</td><td>3268.910</td><td> 8.927063e-04</td><td>***</td></tr>\n",
              "\t<tr><td>nearby_count_minus_1            </td><td>   0.16707369</td><td> 0.021245662</td><td> 7.8638968</td><td>2010.654</td><td> 6.023766e-15</td><td>***</td></tr>\n",
              "\t<tr><td>attribute_count                 </td><td>  37.82914845</td><td> 1.609868982</td><td>23.4982777</td><td>4557.096</td><td>2.392606e-115</td><td>***</td></tr>\n",
              "\t<tr><td>business_price                  </td><td>  39.25635005</td><td>11.893930750</td><td> 3.3005363</td><td>3612.262</td><td> 9.743726e-04</td><td>***</td></tr>\n",
              "\t<tr><td>business_happy_h1               </td><td>  31.43392077</td><td>67.404877321</td><td> 0.4663449</td><td>3210.078</td><td> 6.410003e-01</td><td>   </td></tr>\n",
              "\t<tr><td>total_population                </td><td>  -0.01447550</td><td> 0.005636226</td><td>-2.5682964</td><td>5598.844</td><td> 1.024567e-02</td><td>*  </td></tr>\n",
              "\t<tr><td>total_population_children       </td><td>   0.01018738</td><td> 0.005774375</td><td> 1.7642399</td><td>5567.020</td><td> 7.774643e-02</td><td>.  </td></tr>\n",
              "\t<tr><td>total_population_youth          </td><td>   0.01397830</td><td> 0.005613700</td><td> 2.4900341</td><td>5554.323</td><td> 1.280210e-02</td><td>*  </td></tr>\n",
              "\t<tr><td>total_population_adults         </td><td>   0.01754488</td><td> 0.007343751</td><td> 2.3890890</td><td>5446.007</td><td> 1.692404e-02</td><td>*  </td></tr>\n",
              "\t<tr><td>business_price:business_happy_h1</td><td> -19.97995560</td><td>32.173097568</td><td>-0.6210144</td><td>3546.890</td><td> 5.346301e-01</td><td>   </td></tr>\n",
              "</tbody>\n",
              "</table>\n"
            ],
            "text/markdown": "\nA data.frame: 11 × 7\n\n| term &lt;fct&gt; | estimate &lt;dbl&gt; | std.error &lt;dbl&gt; | statistic &lt;dbl&gt; | df &lt;dbl&gt; | p.value &lt;dbl&gt; | sign &lt;chr&gt; |\n|---|---|---|---|---|---|---|\n| (Intercept)                      | -312.45069192 | 37.709625153 | -8.2857013 | 4553.415 |  1.528337e-16 | *** |\n| business_stars_pre_2020          |   27.36391588 |  8.228793258 |  3.3253862 | 3268.910 |  8.927063e-04 | *** |\n| nearby_count_minus_1             |    0.16707369 |  0.021245662 |  7.8638968 | 2010.654 |  6.023766e-15 | *** |\n| attribute_count                  |   37.82914845 |  1.609868982 | 23.4982777 | 4557.096 | 2.392606e-115 | *** |\n| business_price                   |   39.25635005 | 11.893930750 |  3.3005363 | 3612.262 |  9.743726e-04 | *** |\n| business_happy_h1                |   31.43392077 | 67.404877321 |  0.4663449 | 3210.078 |  6.410003e-01 | <!----> |\n| total_population                 |   -0.01447550 |  0.005636226 | -2.5682964 | 5598.844 |  1.024567e-02 | *   |\n| total_population_children        |    0.01018738 |  0.005774375 |  1.7642399 | 5567.020 |  7.774643e-02 | .   |\n| total_population_youth           |    0.01397830 |  0.005613700 |  2.4900341 | 5554.323 |  1.280210e-02 | *   |\n| total_population_adults          |    0.01754488 |  0.007343751 |  2.3890890 | 5446.007 |  1.692404e-02 | *   |\n| business_price:business_happy_h1 |  -19.97995560 | 32.173097568 | -0.6210144 | 3546.890 |  5.346301e-01 | <!----> |\n\n",
            "text/latex": "A data.frame: 11 × 7\n\\begin{tabular}{lllllll}\n term & estimate & std.error & statistic & df & p.value & sign\\\\\n <fct> & <dbl> & <dbl> & <dbl> & <dbl> & <dbl> & <chr>\\\\\n\\hline\n\t (Intercept)                      & -312.45069192 & 37.709625153 & -8.2857013 & 4553.415 &  1.528337e-16 & ***\\\\\n\t business\\_stars\\_pre\\_2020          &   27.36391588 &  8.228793258 &  3.3253862 & 3268.910 &  8.927063e-04 & ***\\\\\n\t nearby\\_count\\_minus\\_1             &    0.16707369 &  0.021245662 &  7.8638968 & 2010.654 &  6.023766e-15 & ***\\\\\n\t attribute\\_count                  &   37.82914845 &  1.609868982 & 23.4982777 & 4557.096 & 2.392606e-115 & ***\\\\\n\t business\\_price                   &   39.25635005 & 11.893930750 &  3.3005363 & 3612.262 &  9.743726e-04 & ***\\\\\n\t business\\_happy\\_h1                &   31.43392077 & 67.404877321 &  0.4663449 & 3210.078 &  6.410003e-01 &    \\\\\n\t total\\_population                 &   -0.01447550 &  0.005636226 & -2.5682964 & 5598.844 &  1.024567e-02 & *  \\\\\n\t total\\_population\\_children        &    0.01018738 &  0.005774375 &  1.7642399 & 5567.020 &  7.774643e-02 & .  \\\\\n\t total\\_population\\_youth           &    0.01397830 &  0.005613700 &  2.4900341 & 5554.323 &  1.280210e-02 & *  \\\\\n\t total\\_population\\_adults          &    0.01754488 &  0.007343751 &  2.3890890 & 5446.007 &  1.692404e-02 & *  \\\\\n\t business\\_price:business\\_happy\\_h1 &  -19.97995560 & 32.173097568 & -0.6210144 & 3546.890 &  5.346301e-01 &    \\\\\n\\end{tabular}\n",
            "text/plain": [
              "   term                             estimate      std.error    statistic \n",
              "1  (Intercept)                      -312.45069192 37.709625153 -8.2857013\n",
              "2  business_stars_pre_2020            27.36391588  8.228793258  3.3253862\n",
              "3  nearby_count_minus_1                0.16707369  0.021245662  7.8638968\n",
              "4  attribute_count                    37.82914845  1.609868982 23.4982777\n",
              "5  business_price                     39.25635005 11.893930750  3.3005363\n",
              "6  business_happy_h1                  31.43392077 67.404877321  0.4663449\n",
              "7  total_population                   -0.01447550  0.005636226 -2.5682964\n",
              "8  total_population_children           0.01018738  0.005774375  1.7642399\n",
              "9  total_population_youth              0.01397830  0.005613700  2.4900341\n",
              "10 total_population_adults             0.01754488  0.007343751  2.3890890\n",
              "11 business_price:business_happy_h1  -19.97995560 32.173097568 -0.6210144\n",
              "   df       p.value       sign\n",
              "1  4553.415  1.528337e-16 *** \n",
              "2  3268.910  8.927063e-04 *** \n",
              "3  2010.654  6.023766e-15 *** \n",
              "4  4557.096 2.392606e-115 *** \n",
              "5  3612.262  9.743726e-04 *** \n",
              "6  3210.078  6.410003e-01     \n",
              "7  5598.844  1.024567e-02 *   \n",
              "8  5567.020  7.774643e-02 .   \n",
              "9  5554.323  1.280210e-02 *   \n",
              "10 5446.007  1.692404e-02 *   \n",
              "11 3546.890  5.346301e-01     "
            ]
          },
          "metadata": {}
        }
      ]
    },
    {
      "cell_type": "code",
      "source": [
        "#   0 ‘***’ 0.001 ‘**’ 0.01 ‘*’ 0.05 ‘.’ 0.1 ‘ ’ 1"
      ],
      "metadata": {
        "id": "GV2XACm0jVv0"
      },
      "execution_count": null,
      "outputs": []
    },
    {
      "cell_type": "code",
      "source": [
        "# R-square for Pooled Model.\n",
        "\n",
        "pooled_R_2_2 <- pool.r.squared(MiceAllModels_2)\n",
        "pooled_R_2_2"
      ],
      "metadata": {
        "colab": {
          "base_uri": "https://localhost:8080/",
          "height": 98
        },
        "outputId": "020ed16d-8a18-4dd9-b173-56a18a56d7f3",
        "id": "lGEzPH_PjVv1"
      },
      "execution_count": 60,
      "outputs": [
        {
          "output_type": "display_data",
          "data": {
            "text/html": [
              "<table class=\"dataframe\">\n",
              "<caption>A matrix: 1 × 4 of type dbl</caption>\n",
              "<thead>\n",
              "\t<tr><th></th><th scope=col>est</th><th scope=col>lo 95</th><th scope=col>hi 95</th><th scope=col>fmi</th></tr>\n",
              "</thead>\n",
              "<tbody>\n",
              "\t<tr><th scope=row>R^2</th><td>0.172985</td><td>0.1535576</td><td>0.1930697</td><td>0.2083983</td></tr>\n",
              "</tbody>\n",
              "</table>\n"
            ],
            "text/markdown": "\nA matrix: 1 × 4 of type dbl\n\n| <!--/--> | est | lo 95 | hi 95 | fmi |\n|---|---|---|---|---|\n| R^2 | 0.172985 | 0.1535576 | 0.1930697 | 0.2083983 |\n\n",
            "text/latex": "A matrix: 1 × 4 of type dbl\n\\begin{tabular}{r|llll}\n  & est & lo 95 & hi 95 & fmi\\\\\n\\hline\n\tR\\textasciicircum{}2 & 0.172985 & 0.1535576 & 0.1930697 & 0.2083983\\\\\n\\end{tabular}\n",
            "text/plain": [
              "    est      lo 95     hi 95     fmi      \n",
              "R^2 0.172985 0.1535576 0.1930697 0.2083983"
            ]
          },
          "metadata": {}
        }
      ]
    },
    {
      "cell_type": "markdown",
      "source": [
        "#ML Prep."
      ],
      "metadata": {
        "id": "CmYKbZEMzv4R"
      }
    },
    {
      "cell_type": "markdown",
      "source": [
        "## Data Prep."
      ],
      "metadata": {
        "id": "Gtnq9v2Sib2t"
      }
    },
    {
      "cell_type": "markdown",
      "source": [
        "### Binning Check_ins"
      ],
      "metadata": {
        "id": "Uo9dNFzcUFU-"
      }
    },
    {
      "cell_type": "code",
      "source": [
        "ggplot(MiceCompleteData_2, aes(check_in_count_pre_2020 ))+\n",
        "  geom_histogram()"
      ],
      "metadata": {
        "colab": {
          "base_uri": "https://localhost:8080/",
          "height": 454
        },
        "id": "s1uN5iAX19TQ",
        "outputId": "f2ebc247-7a89-49e7-fdec-ca9982c205df"
      },
      "execution_count": 61,
      "outputs": [
        {
          "output_type": "stream",
          "name": "stderr",
          "text": [
            "\u001b[1m\u001b[22m`stat_bin()` using `bins = 30`. Pick better value with `binwidth`.\n"
          ]
        },
        {
          "output_type": "display_data",
          "data": {
            "text/plain": [
              "plot without title"
            ],
            "image/png": "[encoded data removed]"
          },
          "metadata": {
            "image/png": {
              "width": 420,
              "height": 420
            }
          }
        }
      ]
    },
    {
      "cell_type": "code",
      "source": [
        "ggplot(MiceCompleteData_2, aes(check_in_count_pre_2020 ))+\n",
        "  geom_histogram()+\n",
        "  scale_x_log10()"
      ],
      "metadata": {
        "colab": {
          "base_uri": "https://localhost:8080/",
          "height": 454
        },
        "id": "0y1U-crZzw1U",
        "outputId": "411edcf0-bb6f-42c1-8151-71c549bc96f4"
      },
      "execution_count": 62,
      "outputs": [
        {
          "output_type": "stream",
          "name": "stderr",
          "text": [
            "\u001b[1m\u001b[22m`stat_bin()` using `bins = 30`. Pick better value with `binwidth`.\n"
          ]
        },
        {
          "output_type": "display_data",
          "data": {
            "text/plain": [
              "plot without title"
            ],
            "image/png": "[encoded data removed]"
          },
          "metadata": {
            "image/png": {
              "width": 420,
              "height": 420
            }
          }
        }
      ]
    },
    {
      "cell_type": "code",
      "source": [
        "#Adding log10(check_in_count_pre_2020) to the df:\n",
        "\n",
        "data_mice_bin_calc1 <- MiceCompleteData_2 %>%\n",
        "  mutate(check_in_count_pre_2020_LOG = log10(check_in_count_pre_2020))"
      ],
      "metadata": {
        "id": "qgqxhXdS7f_R"
      },
      "execution_count": 63,
      "outputs": []
    },
    {
      "cell_type": "code",
      "source": [
        "#Determine the range:\n",
        "min_log <- min(data_mice_bin_calc1$check_in_count_pre_2020_LOG, na.rm = TRUE)\n",
        "max_log <- max(data_mice_bin_calc1$check_in_count_pre_2020_LOG, na.rm = TRUE)\n",
        "\n",
        "min_log\n",
        "max_log"
      ],
      "metadata": {
        "colab": {
          "base_uri": "https://localhost:8080/",
          "height": 52
        },
        "id": "g3OW75ofEZaM",
        "outputId": "28c6f03e-7f5f-484b-a6b1-8e48f4afd567"
      },
      "execution_count": 64,
      "outputs": [
        {
          "output_type": "display_data",
          "data": {
            "text/html": [
              "0"
            ],
            "text/markdown": "0",
            "text/latex": "0",
            "text/plain": [
              "[1] 0"
            ]
          },
          "metadata": {}
        },
        {
          "output_type": "display_data",
          "data": {
            "text/html": [
              "4.24703988042975"
            ],
            "text/markdown": "4.24703988042975",
            "text/latex": "4.24703988042975",
            "text/plain": [
              "[1] 4.24704"
            ]
          },
          "metadata": {}
        }
      ]
    },
    {
      "cell_type": "code",
      "source": [
        "# Number of bins:\n",
        "number_of_bins <- 2\n",
        "\n",
        "# Creating the bin edges:\n",
        "breaks <- seq(min_log, max_log, length.out = number_of_bins + 1)"
      ],
      "metadata": {
        "id": "FeUw6wCUEqR9"
      },
      "execution_count": 65,
      "outputs": []
    },
    {
      "cell_type": "code",
      "source": [
        "# Calculating bins, and adding into df:\n",
        "\n",
        "data_mice_bin_calc2 <- data_mice_bin_calc1 %>%\n",
        "  mutate(check_in_bin = cut(data_mice_bin_calc1$check_in_count_pre_2020_LOG, breaks = breaks, labels = FALSE, include.lowest = TRUE))"
      ],
      "metadata": {
        "id": "m4XgxCvCFrxX"
      },
      "execution_count": 66,
      "outputs": []
    },
    {
      "cell_type": "code",
      "source": [
        "head(data_mice_bin_calc2)"
      ],
      "metadata": {
        "colab": {
          "base_uri": "https://localhost:8080/",
          "height": 306
        },
        "id": "xnCM7JSFF9gX",
        "outputId": "c2d4424b-0ec8-4ad8-c65c-606762e46dff"
      },
      "execution_count": 67,
      "outputs": [
        {
          "output_type": "display_data",
          "data": {
            "text/html": [
              "<table class=\"dataframe\">\n",
              "<caption>A data.frame: 6 × 12</caption>\n",
              "<thead>\n",
              "\t<tr><th></th><th scope=col>check_in_count_pre_2020</th><th scope=col>business_stars_pre_2020</th><th scope=col>nearby_count_minus_1</th><th scope=col>attribute_count</th><th scope=col>business_price</th><th scope=col>business_happy_h</th><th scope=col>total_population</th><th scope=col>total_population_children</th><th scope=col>total_population_youth</th><th scope=col>total_population_adults</th><th scope=col>check_in_count_pre_2020_LOG</th><th scope=col>check_in_bin</th></tr>\n",
              "\t<tr><th></th><th scope=col>&lt;int&gt;</th><th scope=col>&lt;dbl&gt;</th><th scope=col>&lt;dbl&gt;</th><th scope=col>&lt;int&gt;</th><th scope=col>&lt;int&gt;</th><th scope=col>&lt;fct&gt;</th><th scope=col>&lt;int&gt;</th><th scope=col>&lt;int&gt;</th><th scope=col>&lt;int&gt;</th><th scope=col>&lt;int&gt;</th><th scope=col>&lt;dbl&gt;</th><th scope=col>&lt;int&gt;</th></tr>\n",
              "</thead>\n",
              "<tbody>\n",
              "\t<tr><th scope=row>1</th><td> 73</td><td>3.2</td><td> 145</td><td>9</td><td>1</td><td>0</td><td>41271</td><td>8924</td><td> 6658</td><td>20247</td><td>1.863323</td><td>1</td></tr>\n",
              "\t<tr><th scope=row>2</th><td> 89</td><td>4.6</td><td>  11</td><td>8</td><td>1</td><td>0</td><td>35239</td><td>4124</td><td> 5312</td><td>20997</td><td>1.949390</td><td>1</td></tr>\n",
              "\t<tr><th scope=row>3</th><td> 39</td><td>3.9</td><td>1016</td><td>4</td><td>1</td><td>0</td><td>21908</td><td> 971</td><td> 2638</td><td>14135</td><td>1.591065</td><td>1</td></tr>\n",
              "\t<tr><th scope=row>4</th><td> 56</td><td>2.5</td><td>  42</td><td>8</td><td>2</td><td>0</td><td> 9808</td><td>1402</td><td> 1373</td><td> 5324</td><td>1.748188</td><td>1</td></tr>\n",
              "\t<tr><th scope=row>5</th><td> 53</td><td>2.6</td><td> 326</td><td>9</td><td>2</td><td>0</td><td>51808</td><td>5260</td><td>25245</td><td>17786</td><td>1.724276</td><td>1</td></tr>\n",
              "\t<tr><th scope=row>6</th><td>466</td><td>4.2</td><td> 405</td><td>5</td><td>1</td><td>0</td><td>36228</td><td>4330</td><td> 4679</td><td>23209</td><td>2.668386</td><td>2</td></tr>\n",
              "</tbody>\n",
              "</table>\n"
            ],
            "text/markdown": "\nA data.frame: 6 × 12\n\n| <!--/--> | check_in_count_pre_2020 &lt;int&gt; | business_stars_pre_2020 &lt;dbl&gt; | nearby_count_minus_1 &lt;dbl&gt; | attribute_count &lt;int&gt; | business_price &lt;int&gt; | business_happy_h &lt;fct&gt; | total_population &lt;int&gt; | total_population_children &lt;int&gt; | total_population_youth &lt;int&gt; | total_population_adults &lt;int&gt; | check_in_count_pre_2020_LOG &lt;dbl&gt; | check_in_bin &lt;int&gt; |\n|---|---|---|---|---|---|---|---|---|---|---|---|---|\n| 1 |  73 | 3.2 |  145 | 9 | 1 | 0 | 41271 | 8924 |  6658 | 20247 | 1.863323 | 1 |\n| 2 |  89 | 4.6 |   11 | 8 | 1 | 0 | 35239 | 4124 |  5312 | 20997 | 1.949390 | 1 |\n| 3 |  39 | 3.9 | 1016 | 4 | 1 | 0 | 21908 |  971 |  2638 | 14135 | 1.591065 | 1 |\n| 4 |  56 | 2.5 |   42 | 8 | 2 | 0 |  9808 | 1402 |  1373 |  5324 | 1.748188 | 1 |\n| 5 |  53 | 2.6 |  326 | 9 | 2 | 0 | 51808 | 5260 | 25245 | 17786 | 1.724276 | 1 |\n| 6 | 466 | 4.2 |  405 | 5 | 1 | 0 | 36228 | 4330 |  4679 | 23209 | 2.668386 | 2 |\n\n",
            "text/latex": "A data.frame: 6 × 12\n\\begin{tabular}{r|llllllllllll}\n  & check\\_in\\_count\\_pre\\_2020 & business\\_stars\\_pre\\_2020 & nearby\\_count\\_minus\\_1 & attribute\\_count & business\\_price & business\\_happy\\_h & total\\_population & total\\_population\\_children & total\\_population\\_youth & total\\_population\\_adults & check\\_in\\_count\\_pre\\_2020\\_LOG & check\\_in\\_bin\\\\\n  & <int> & <dbl> & <dbl> & <int> & <int> & <fct> & <int> & <int> & <int> & <int> & <dbl> & <int>\\\\\n\\hline\n\t1 &  73 & 3.2 &  145 & 9 & 1 & 0 & 41271 & 8924 &  6658 & 20247 & 1.863323 & 1\\\\\n\t2 &  89 & 4.6 &   11 & 8 & 1 & 0 & 35239 & 4124 &  5312 & 20997 & 1.949390 & 1\\\\\n\t3 &  39 & 3.9 & 1016 & 4 & 1 & 0 & 21908 &  971 &  2638 & 14135 & 1.591065 & 1\\\\\n\t4 &  56 & 2.5 &   42 & 8 & 2 & 0 &  9808 & 1402 &  1373 &  5324 & 1.748188 & 1\\\\\n\t5 &  53 & 2.6 &  326 & 9 & 2 & 0 & 51808 & 5260 & 25245 & 17786 & 1.724276 & 1\\\\\n\t6 & 466 & 4.2 &  405 & 5 & 1 & 0 & 36228 & 4330 &  4679 & 23209 & 2.668386 & 2\\\\\n\\end{tabular}\n",
            "text/plain": [
              "  check_in_count_pre_2020 business_stars_pre_2020 nearby_count_minus_1\n",
              "1  73                     3.2                      145                \n",
              "2  89                     4.6                       11                \n",
              "3  39                     3.9                     1016                \n",
              "4  56                     2.5                       42                \n",
              "5  53                     2.6                      326                \n",
              "6 466                     4.2                      405                \n",
              "  attribute_count business_price business_happy_h total_population\n",
              "1 9               1              0                41271           \n",
              "2 8               1              0                35239           \n",
              "3 4               1              0                21908           \n",
              "4 8               2              0                 9808           \n",
              "5 9               2              0                51808           \n",
              "6 5               1              0                36228           \n",
              "  total_population_children total_population_youth total_population_adults\n",
              "1 8924                       6658                  20247                  \n",
              "2 4124                       5312                  20997                  \n",
              "3  971                       2638                  14135                  \n",
              "4 1402                       1373                   5324                  \n",
              "5 5260                      25245                  17786                  \n",
              "6 4330                       4679                  23209                  \n",
              "  check_in_count_pre_2020_LOG check_in_bin\n",
              "1 1.863323                    1           \n",
              "2 1.949390                    1           \n",
              "3 1.591065                    1           \n",
              "4 1.748188                    1           \n",
              "5 1.724276                    1           \n",
              "6 2.668386                    2           "
            ]
          },
          "metadata": {}
        }
      ]
    },
    {
      "cell_type": "code",
      "source": [
        "table(data_mice_bin_calc2$check_in_bin)"
      ],
      "metadata": {
        "colab": {
          "base_uri": "https://localhost:8080/",
          "height": 69
        },
        "id": "wj_u00iRGDVp",
        "outputId": "2fe88ffa-26e3-4303-b6ca-b7a497a07a68"
      },
      "execution_count": 68,
      "outputs": [
        {
          "output_type": "display_data",
          "data": {
            "text/plain": [
              "\n",
              "   1    2 \n",
              "4105 1747 "
            ]
          },
          "metadata": {}
        }
      ]
    },
    {
      "cell_type": "code",
      "source": [
        "# Check/inspect data for renaming bins as string:\n",
        "\n",
        "mean(data_mice_bin_calc2$check_in_count_pre_2020)\n",
        "\n",
        "data_mice_bin_calc2 %>%\n",
        "    group_by(check_in_bin) %>%\n",
        "      summarize(mean = mean(check_in_count_pre_2020))"
      ],
      "metadata": {
        "colab": {
          "base_uri": "https://localhost:8080/",
          "height": 178
        },
        "id": "GYHHcMdMNw8l",
        "outputId": "7d5f3f57-4a73-493f-f885-d4559798863e"
      },
      "execution_count": 69,
      "outputs": [
        {
          "output_type": "display_data",
          "data": {
            "text/html": [
              "207.09962406015"
            ],
            "text/markdown": "207.09962406015",
            "text/latex": "207.09962406015",
            "text/plain": [
              "[1] 207.0996"
            ]
          },
          "metadata": {}
        },
        {
          "output_type": "display_data",
          "data": {
            "text/html": [
              "<table class=\"dataframe\">\n",
              "<caption>A tibble: 2 × 2</caption>\n",
              "<thead>\n",
              "\t<tr><th scope=col>check_in_bin</th><th scope=col>mean</th></tr>\n",
              "\t<tr><th scope=col>&lt;int&gt;</th><th scope=col>&lt;dbl&gt;</th></tr>\n",
              "</thead>\n",
              "<tbody>\n",
              "\t<tr><td>1</td><td> 34.4095</td></tr>\n",
              "\t<tr><td>2</td><td>612.8769</td></tr>\n",
              "</tbody>\n",
              "</table>\n"
            ],
            "text/markdown": "\nA tibble: 2 × 2\n\n| check_in_bin &lt;int&gt; | mean &lt;dbl&gt; |\n|---|---|\n| 1 |  34.4095 |\n| 2 | 612.8769 |\n\n",
            "text/latex": "A tibble: 2 × 2\n\\begin{tabular}{ll}\n check\\_in\\_bin & mean\\\\\n <int> & <dbl>\\\\\n\\hline\n\t 1 &  34.4095\\\\\n\t 2 & 612.8769\\\\\n\\end{tabular}\n",
            "text/plain": [
              "  check_in_bin mean    \n",
              "1 1             34.4095\n",
              "2 2            612.8769"
            ]
          },
          "metadata": {}
        }
      ]
    },
    {
      "cell_type": "code",
      "source": [
        "# Renaming bins as Dummy, and adding corresponding string:\n",
        "\n",
        "data_mice_bin_calc2$check_in_bin <- as.character(data_mice_bin_calc2$check_in_bin) #Required to be able to use recode()\n",
        "\n",
        "data_mice_bin_calc3 <- data_mice_bin_calc2 %>%\n",
        "  mutate(ch_in = recode(check_in_bin,\n",
        "\n",
        "\n",
        "                               \"2\" = \"1\",\n",
        "                               \"1\" = \"0\"),\n",
        "        ch_in_string = recode(check_in_bin,\n",
        "\n",
        "\n",
        "                               \"2\" = \"Above Average\",\n",
        "                               \"1\" = \"Below Average\")\n",
        "                               )\n",
        "\n",
        "data_mice_bin_calc3$ch_in <- as.integer(data_mice_bin_calc3$ch_in)\n",
        "data_mice_bin_calc3$ch_in_string <- as.factor(data_mice_bin_calc3$ch_in_string)\n",
        "data_mice_bin_calc3$business_happy_h <- as.factor(data_mice_bin_calc3$business_happy_h)"
      ],
      "metadata": {
        "id": "t6BRIbfZR-se"
      },
      "execution_count": 70,
      "outputs": []
    },
    {
      "cell_type": "code",
      "source": [
        "str(data_mice_bin_calc3)"
      ],
      "metadata": {
        "colab": {
          "base_uri": "https://localhost:8080/"
        },
        "id": "LMjZ5cY0SySW",
        "outputId": "ce523940-ca21-4dff-88c6-52aad96c2ab5"
      },
      "execution_count": 71,
      "outputs": [
        {
          "output_type": "stream",
          "name": "stdout",
          "text": [
            "'data.frame':\t5852 obs. of  14 variables:\n",
            " $ check_in_count_pre_2020    : int  73 89 39 56 53 466 17 88 955 13 ...\n",
            " $ business_stars_pre_2020    : num  3.2 4.6 3.9 2.5 2.6 4.2 4.5 4.3 4 3.1 ...\n",
            " $ nearby_count_minus_1       : num  145 11 1016 42 326 ...\n",
            " $ attribute_count            : int  9 8 4 8 9 5 2 4 14 5 ...\n",
            " $ business_price             : int  1 1 1 2 2 1 2 1 2 2 ...\n",
            " $ business_happy_h           : Factor w/ 2 levels \"0\",\"1\": 1 1 1 1 1 1 1 1 1 1 ...\n",
            " $ total_population           : int  41271 35239 21908 9808 51808 36228 21908 35113 36228 51808 ...\n",
            " $ total_population_children  : int  8924 4124 971 1402 5260 4330 971 5353 4330 5260 ...\n",
            " $ total_population_youth     : int  6658 5312 2638 1373 25245 4679 2638 5553 4679 25245 ...\n",
            " $ total_population_adults    : int  20247 20997 14135 5324 17786 23209 14135 20578 23209 17786 ...\n",
            " $ check_in_count_pre_2020_LOG: num  1.86 1.95 1.59 1.75 1.72 ...\n",
            " $ check_in_bin               : chr  \"1\" \"1\" \"1\" \"1\" ...\n",
            " $ ch_in                      : int  0 0 0 0 0 1 0 0 1 0 ...\n",
            " $ ch_in_string               : Factor w/ 2 levels \"Above Average\",..: 2 2 2 2 2 1 2 2 1 2 ...\n"
          ]
        }
      ]
    },
    {
      "cell_type": "code",
      "source": [
        "#Rename Dataset:\n",
        "\n",
        "data_mice_bin <- data_mice_bin_calc3"
      ],
      "metadata": {
        "id": "2o9YA0GvTLyK"
      },
      "execution_count": 72,
      "outputs": []
    },
    {
      "cell_type": "code",
      "source": [
        "table(data_mice_bin$ch_in_string)"
      ],
      "metadata": {
        "colab": {
          "base_uri": "https://localhost:8080/",
          "height": 69
        },
        "id": "X_yQSNlnT5H8",
        "outputId": "f2b85145-3786-4637-b026-a95dee977997"
      },
      "execution_count": 73,
      "outputs": [
        {
          "output_type": "display_data",
          "data": {
            "text/plain": [
              "\n",
              "Above Average Below Average \n",
              "         1747          4105 "
            ]
          },
          "metadata": {}
        }
      ]
    },
    {
      "cell_type": "code",
      "source": [
        "#Visualization of Bins:\n",
        "\n",
        "ggplot(data_mice_bin_calc3, aes(check_in_count_pre_2020_LOG, fill = ch_in_string))+\n",
        "  geom_histogram(bins=35)"
      ],
      "metadata": {
        "colab": {
          "base_uri": "https://localhost:8080/",
          "height": 437
        },
        "id": "_39mwXEVUWVP",
        "outputId": "82a65676-b719-4ae4-c950-a438838c2c92"
      },
      "execution_count": 74,
      "outputs": [
        {
          "output_type": "display_data",
          "data": {
            "text/plain": [
              "plot without title"
            ],
            "image/png": "[encoded data removed]"
          },
          "metadata": {
            "image/png": {
              "width": 420,
              "height": 420
            }
          }
        }
      ]
    },
    {
      "cell_type": "markdown",
      "source": [
        "### Splitting Data into Test + Evaluation Data"
      ],
      "metadata": {
        "id": "RvG2Bc4qWhCh"
      }
    },
    {
      "cell_type": "code",
      "source": [
        "head(data_mice_bin)"
      ],
      "metadata": {
        "id": "gCuMgw3VUsWI"
      },
      "execution_count": null,
      "outputs": []
    },
    {
      "cell_type": "code",
      "source": [
        "varsin=c(\"ch_in_string\", \"ch_in\",\n",
        "            \"business_stars_pre_2020\", \"nearby_count_minus_1\", \"attribute_count\", \"business_price\", \"business_happy_h\",\n",
        "              \"total_population\", \"total_population_children\", \"total_population_youth\", \"total_population_adults\")\n",
        "data_mice_bin=subset(data_mice_bin,select=varsin)"
      ],
      "metadata": {
        "id": "e8OTIqGUyNLK"
      },
      "execution_count": 75,
      "outputs": []
    },
    {
      "cell_type": "code",
      "source": [
        "datasetsize <- nrow(data_mice_bin)"
      ],
      "metadata": {
        "id": "SGKuyfePhEez"
      },
      "execution_count": 76,
      "outputs": []
    },
    {
      "cell_type": "code",
      "source": [
        "set.seed(987)\n",
        "\n",
        "x <- data_mice_bin[sample(1:nrow(data_mice_bin), datasetsize, replace = F),]\n",
        "x.train <- x[1:floor(nrow(x)*.75), ]\n",
        "x.evaluate <- x[(floor(nrow(x)*.75)+1):nrow(x), ]"
      ],
      "metadata": {
        "id": "KzuCcqd_g7s7"
      },
      "execution_count": 77,
      "outputs": []
    },
    {
      "cell_type": "code",
      "source": [
        "table(x.train$ch_in_string)"
      ],
      "metadata": {
        "colab": {
          "base_uri": "https://localhost:8080/",
          "height": 69
        },
        "id": "JpccIRG0hhfd",
        "outputId": "b0aadfbd-2192-4cef-98bb-b1e17413953d"
      },
      "execution_count": 78,
      "outputs": [
        {
          "output_type": "display_data",
          "data": {
            "text/plain": [
              "\n",
              "Above Average Below Average \n",
              "         1304          3085 "
            ]
          },
          "metadata": {}
        }
      ]
    },
    {
      "cell_type": "markdown",
      "source": [
        "### Class Imbalance"
      ],
      "metadata": {
        "id": "YTqwZ8BCZmtW"
      }
    },
    {
      "cell_type": "markdown",
      "source": [
        "#### SMOTE for Minority Class"
      ],
      "metadata": {
        "id": "iNSrrZoHhrgZ"
      }
    },
    {
      "cell_type": "code",
      "source": [
        "#install.packages(\"caret\")"
      ],
      "metadata": {
        "id": "zPx1bA0ryqFx"
      },
      "execution_count": null,
      "outputs": []
    },
    {
      "cell_type": "code",
      "source": [
        "library(caret)"
      ],
      "metadata": {
        "id": "CMyVmiP4yrjJ"
      },
      "execution_count": null,
      "outputs": []
    },
    {
      "cell_type": "code",
      "source": [
        "BaseFormula <- as.formula(paste0(\"ch_in_string~\",paste(varsin[-c(1,2)],collapse = \"+\")))\n",
        "BaseFormula1 <- as.formula(paste0(\"ch_in~\",paste(varsin[-c(1,2)],collapse = \"+\")))\n",
        "\n",
        "\n",
        "# create dummies (required for SMOTE)\n",
        "x.traindum=cbind(x.train[,c(\"ch_in\",\"ch_in_string\")],predict(dummyVars(BaseFormula1,data=x.train),newdata = x.train))\n",
        "x.evaluatedum=cbind(x.evaluate[,c(\"ch_in\",\"ch_in_string\")],predict(dummyVars(BaseFormula1,data=x.evaluate),newdata = x.evaluate))"
      ],
      "metadata": {
        "id": "2V3GY6E3v-zt"
      },
      "execution_count": 79,
      "outputs": []
    },
    {
      "cell_type": "code",
      "source": [
        "# args(SMOTE):\n",
        "\n",
        "# X = A data frame or matrix of numeric-attributed dataset.\n",
        "# target = A vector of a target class attribute corresponding to a dataset X.\n",
        "# K = The number of nearest neighbors during sampling process.\n",
        "# dup_size = The number or vector representing the desired times of synthetic minority instances over the original number of majority instances."
      ],
      "metadata": {
        "id": "g-J_1kODyaZL"
      },
      "execution_count": 469,
      "outputs": []
    },
    {
      "cell_type": "code",
      "source": [
        "# SMOTE:\n",
        "set.seed(332)\n",
        "x.traindum_smote <- SMOTE(x.traindum[,-c(1,2)],x.traindum[,2])$data\n",
        "\n",
        "table(x.traindum_smote$class)"
      ],
      "metadata": {
        "colab": {
          "base_uri": "https://localhost:8080/",
          "height": 69
        },
        "id": "tyBSooQgwzv6",
        "outputId": "2f6ebdf2-2b77-421b-a2a4-2358924f7fe0"
      },
      "execution_count": 80,
      "outputs": [
        {
          "output_type": "display_data",
          "data": {
            "text/plain": [
              "\n",
              "Above Average Below Average \n",
              "         2608          3085 "
            ]
          },
          "metadata": {}
        }
      ]
    },
    {
      "cell_type": "code",
      "source": [
        "#Adding class factors as dummy + renaming columns:\n",
        "\n",
        "x.traindum_smote <- x.traindum_smote %>%\n",
        "                    mutate(ch_in = recode(class,\n",
        "\n",
        "\n",
        "                               \"Above Average\" = \"1\",\n",
        "                               \"Below Average\" = \"0\")\n",
        "                               ) %>%\n",
        "                                    rename(ch_in_string = class)\n",
        "\n",
        "x.traindum_smote$ch_in_string <- as.factor(x.traindum_smote$ch_in_string)\n",
        "x.traindum_smote$ch_in <- as.integer(x.traindum_smote$ch_in)"
      ],
      "metadata": {
        "id": "jVFXJ8AuCFGG"
      },
      "execution_count": 81,
      "outputs": []
    },
    {
      "cell_type": "code",
      "source": [
        "#Assign news train data to its original name:\n",
        "x.traindum <- x.traindum_smote"
      ],
      "metadata": {
        "id": "ZsRLnF3Gg9lV"
      },
      "execution_count": 82,
      "outputs": []
    },
    {
      "cell_type": "markdown",
      "source": [
        "#### Under-Sampling for n-1 Classes"
      ],
      "metadata": {
        "id": "sEFpc3EaZtaZ"
      }
    },
    {
      "cell_type": "code",
      "source": [
        "# Define the undersample function for multi-class data\n",
        "undersample_data <- function(data, target) {\n",
        "  # Identify the class sizes\n",
        "  class_counts <- table(data[[target]])\n",
        "\n",
        "  # Determine the size of the smallest class\n",
        "  min_class_size <- min(class_counts)\n",
        "\n",
        "  # Perform undersampling for each class\n",
        "  undersampled_data <- data %>%\n",
        "    group_by_at(target) %>%\n",
        "    sample_n(min_class_size) %>%\n",
        "    ungroup()\n",
        "\n",
        "  return(undersampled_data)\n",
        "}"
      ],
      "metadata": {
        "id": "Qqk1OIXjcCea"
      },
      "execution_count": 536,
      "outputs": []
    },
    {
      "cell_type": "code",
      "source": [
        "# Original class distribution BEFORE SMOTE:\n",
        "table(x.train$ch_in_string)"
      ],
      "metadata": {
        "colab": {
          "base_uri": "https://localhost:8080/",
          "height": 69
        },
        "id": "t2PC0cU6dGzd",
        "outputId": "3f61f3f9-b6aa-43ad-e5eb-a7170a0e4064"
      },
      "execution_count": 537,
      "outputs": [
        {
          "output_type": "display_data",
          "data": {
            "text/plain": [
              "\n",
              "Above Average Below Average \n",
              "         1329          3060 "
            ]
          },
          "metadata": {}
        }
      ]
    },
    {
      "cell_type": "code",
      "source": [
        "# Original class distribution after SMOTE:\n",
        "table(x.traindum_smote$ch_in_string)"
      ],
      "metadata": {
        "colab": {
          "base_uri": "https://localhost:8080/",
          "height": 69
        },
        "id": "Yck24Vy5cHVJ",
        "outputId": "5afdfd9e-8505-46a0-f33b-5ea16598d0dc"
      },
      "execution_count": 538,
      "outputs": [
        {
          "output_type": "display_data",
          "data": {
            "text/plain": [
              "\n",
              "Above Average Below Average \n",
              "         2658          3060 "
            ]
          },
          "metadata": {}
        }
      ]
    },
    {
      "cell_type": "code",
      "source": [
        "# Apply undersampling\n",
        "set.seed(24)\n",
        "x.traindum_smote_under <- undersample_data(x.traindum_smote, \"ch_in_string\")"
      ],
      "metadata": {
        "id": "YaehNt-yb-lB"
      },
      "execution_count": 539,
      "outputs": []
    },
    {
      "cell_type": "code",
      "source": [
        "# Check the new class distribution\n",
        "table(x.traindum_smote_under$ch_in_string)"
      ],
      "metadata": {
        "colab": {
          "base_uri": "https://localhost:8080/",
          "height": 69
        },
        "id": "vVIODYb4i2U7",
        "outputId": "04d2140d-3d10-4432-9dce-9a62a5abcd16"
      },
      "execution_count": 540,
      "outputs": [
        {
          "output_type": "display_data",
          "data": {
            "text/plain": [
              "\n",
              "Above Average Below Average \n",
              "         2658          2658 "
            ]
          },
          "metadata": {}
        }
      ]
    },
    {
      "cell_type": "code",
      "source": [
        "#Assign news train data to its original name:\n",
        "x.traindum <- x.traindum_smote_under"
      ],
      "metadata": {
        "id": "sLzsuG-96T79"
      },
      "execution_count": 541,
      "outputs": []
    },
    {
      "cell_type": "markdown",
      "source": [
        "## Data for Heuristic Machine Learning Methods"
      ],
      "metadata": {
        "id": "_CC8CK8MAvCK"
      }
    },
    {
      "cell_type": "markdown",
      "source": [
        "### Normalization"
      ],
      "metadata": {
        "id": "x7V_LSFh6YU2"
      }
    },
    {
      "cell_type": "code",
      "source": [
        "# normalize data (very important for ML techniques, but not for logistic regression)\n",
        "x.trainnorm=predict(preProcess(x.traindum, method = \"range\"), newdata=x.traindum)\n",
        "x.evaluatenorm=predict(preProcess(x.evaluatedum, method = \"range\"), newdata=x.evaluatedum)"
      ],
      "metadata": {
        "id": "Li9ZTaBE6cn5"
      },
      "execution_count": 83,
      "outputs": []
    },
    {
      "cell_type": "markdown",
      "source": [
        "### Adjust Baseformula to the Dummy Version of the Data"
      ],
      "metadata": {
        "id": "35TDrHodA5ey"
      }
    },
    {
      "cell_type": "code",
      "source": [
        "varsin_dum = varsin[1:2]\n",
        "for(i in 3:length(varsin)){\n",
        "  if(!is.null(levels(x[,varsin[i]]))){\n",
        "    for(j in 2:nlevels(x[,varsin[i]])){ # first level will be considered as the base-level\n",
        "      varsin_dum = c(varsin_dum, paste(varsin[i], levels(x[,varsin[i]])[j], sep = \".\"))\n",
        "    }\n",
        "  } else {\n",
        "    varsin_dum = c(varsin_dum, varsin[i])\n",
        "  }\n",
        "}"
      ],
      "metadata": {
        "id": "uqK0WhTM81Of"
      },
      "execution_count": 84,
      "outputs": []
    },
    {
      "cell_type": "markdown",
      "source": [
        "### Redo the Releveling"
      ],
      "metadata": {
        "id": "90X8-mCWBDyX"
      }
    },
    {
      "cell_type": "code",
      "source": [
        "# Redo the releveling:\n",
        "x.traindum$ch_in_string=relevel(x.traindum$ch_in_string,ref=\"Below Average\")\n",
        "x.evaluatedum$ch_in_string=relevel(x.evaluatedum$ch_in_string,ref=\"Below Average\")\n",
        "x.trainnorm$ch_in_string=relevel(x.trainnorm$ch_in_string,ref=\"Below Average\")\n",
        "x.evaluatenorm$ch_in_string=relevel(x.evaluatenorm$ch_in_string,ref=\"Below Average\")"
      ],
      "metadata": {
        "id": "FtbCMtMj9Q1N"
      },
      "execution_count": 85,
      "outputs": []
    },
    {
      "cell_type": "code",
      "source": [
        "BaseFormula_dum <- as.formula(paste0(\"ch_in_string~\",paste(varsin_dum[-c(1,2)],collapse = \"+\")))\n",
        "BaseFormula1_dum <- as.formula(paste0(\"ch_in~\",paste(varsin_dum[-c(1,2)],collapse = \"+\")))"
      ],
      "metadata": {
        "id": "RWjtQaQKAaZh"
      },
      "execution_count": 86,
      "outputs": []
    },
    {
      "cell_type": "markdown",
      "source": [
        "### Set Threshold Probability"
      ],
      "metadata": {
        "id": "ITE1d6yqCrd3"
      }
    },
    {
      "cell_type": "code",
      "source": [
        "# set threshold probability: usually .5, but better is to set it to the portion of 1's.\n",
        "probthres=mean(x.traindum$ch_in)"
      ],
      "metadata": {
        "id": "OX6MC6doCjXZ"
      },
      "execution_count": 87,
      "outputs": []
    },
    {
      "cell_type": "markdown",
      "source": [
        "### makeLiftPlot"
      ],
      "metadata": {
        "id": "wajyOnfAsGYl"
      }
    },
    {
      "cell_type": "code",
      "source": [
        "makeLiftPlot <- function(Prediction, Evaluate, ModelName){\n",
        "  # plots the liftplot, and computes the GINI coefficient.\n",
        "  iPredictionsSorted <- sort(Prediction,index.return=T,decreasing=T)[2]$ix #extract the index order according to predicted retention\n",
        "  CustomersSorted <- Evaluate$ch_in_string[iPredictionsSorted] #sort the true behavior of customers according to predictions\n",
        "  SumChurnReal<- sum(Evaluate$ch_in_string == \"Above Average\") #total number of real churners in the evaluation set\n",
        "  CustomerCumulative=seq(nrow(Evaluate))/nrow(Evaluate) #cumulative fraction of customers\n",
        "  ChurnCumulative=apply(matrix(CustomersSorted==\"Above Average\"),2,cumsum)/SumChurnReal #cumulative fraction of churners\n",
        "  ProbTD = sum(CustomersSorted[1:floor(nrow(Evaluate)*.1)]==\"Above Average\")/floor(nrow(Evaluate)*.1) #probability of churn in 1st decile\n",
        "  ProbOverall = SumChurnReal / nrow(Evaluate) #overall churn probability\n",
        "  TDL = ProbTD / ProbOverall\n",
        "  GINI = sum((ChurnCumulative-CustomerCumulative)/(t(matrix(1,1,nrow(Evaluate))-CustomerCumulative)),na.rm=T)/nrow(Evaluate)\n",
        "  plot(CustomerCumulative,ChurnCumulative,type=\"l\",main=paste(\"Lift curve of\", ModelName),xlab=\"Cumulative fraction of check-ins (sorted by predicted check-in probability)\",ylab=\"Cumulative fraction of check-ins\")\n",
        "  lines(c(0,1),c(0,1),col=\"blue\",type=\"l\",pch=22, lty=2)\n",
        "  legend(.66,.2,c(\"According to model\",\"Random selection\"),cex=0.8,  col=c(\"black\",\"blue\"), lty=1:2)\n",
        "  text(0.15,1,paste(\"TDL = \",round(TDL,2), \"; GINI = \", round(GINI,2) ))\n",
        "  return(data.frame(TDL,GINI))\n",
        "}"
      ],
      "metadata": {
        "id": "OKUYbRursGn2"
      },
      "execution_count": 88,
      "outputs": []
    },
    {
      "cell_type": "code",
      "source": [
        "    cl <- makeCluster(detectCores())\n",
        "    registerDoParallel(cl)\n",
        "    clusterCall(cl,function(x) {library(dplyr)})\n",
        "    wear_avg=NULL\n",
        "    k=0\n",
        "    wear_avg=foreach(i=1:length(wear),.noexport=ls(),.export=c(\"wear\"),.packages = c(\"dplyr\"))%dopar%\n",
        "      {\n",
        "        if(is.null(wear[[i]])){\n",
        "          temp=NULL\n",
        "        }else{\n",
        "          temp=wear[[i]]$data %>%\n",
        "            group_by(DATE) %>%\n",
        "            summarize(PRCP=mean(PRCP,na.rm = T),SNOW=mean(SNOW,na.rm = T),SNWD=mean(SNWD,na.rm = T),\n",
        "                      TMAX=mean(TMAX,na.rm = T),TMIN=mean(TMIN,na.rm = T),TOBS=mean(TOBS,na.rm = T))\n",
        "          temp=list(range=wear[[i]]$range,data=temp)}\n",
        "        return(temp)\n",
        "\n",
        "      }\n",
        "    stopCluster(cl)\n",
        "    weather=NULL\n",
        "    k=0\n",
        "    for(i in 1:length(wear_avg)){\n",
        "      if(is.null(wear[[i]]))\n",
        "        next\n",
        "      k=k+1\n",
        "      weather[[k]]=wear_avg[[i]]\n",
        "      weather[[k]]$data$DATE=as.Date(weather[[k]]$data$DATE)\n",
        "    }\n",
        "    save(file=\"weather_data.RData\",list=c(\"weather\"))\n",
        "  }\n",
        "  return(weather)\n",
        "}"
      ],
      "metadata": {
        "id": "_opKZ7XXzWZy"
      },
      "execution_count": null,
      "outputs": []
    },
    {
      "cell_type": "markdown",
      "source": [
        "# ML Application"
      ],
      "metadata": {
        "id": "JWYuIDjds0QX"
      }
    },
    {
      "cell_type": "markdown",
      "source": [
        "## LOGIT"
      ],
      "metadata": {
        "id": "rYemAhQ3jFw-"
      }
    },
    {
      "cell_type": "code",
      "source": [
        "ptm <- proc.time()\n",
        "x.modelLogit <- glm(BaseFormula_dum , data = x.traindum, family = \"binomial\") # estimating the probability of \"Above Average\"\n",
        "\n",
        "summary(x.modelLogit)"
      ],
      "metadata": {
        "colab": {
          "base_uri": "https://localhost:8080/",
          "height": 468
        },
        "id": "IQj4t8Pki7Ui",
        "outputId": "003edc21-fc8e-40ad-9639-4dc9589414e0"
      },
      "execution_count": 89,
      "outputs": [
        {
          "output_type": "display_data",
          "data": {
            "text/plain": [
              "\n",
              "Call:\n",
              "glm(formula = BaseFormula_dum, family = \"binomial\", data = x.traindum)\n",
              "\n",
              "Coefficients:\n",
              "                            Estimate Std. Error z value Pr(>|z|)    \n",
              "(Intercept)               -5.104e+00  2.478e-01 -20.600  < 2e-16 ***\n",
              "business_stars_pre_2020    2.313e-01  5.304e-02   4.361 1.29e-05 ***\n",
              "nearby_count_minus_1       1.012e-03  1.120e-04   9.036  < 2e-16 ***\n",
              "attribute_count            3.648e-01  1.121e-02  32.547  < 2e-16 ***\n",
              "business_price             1.781e-01  6.209e-02   2.869  0.00412 ** \n",
              "business_happy_h.1        -3.087e-01  1.057e-01  -2.922  0.00348 ** \n",
              "total_population          -8.883e-05  3.339e-05  -2.660  0.00780 ** \n",
              "total_population_children -3.536e-05  3.706e-05  -0.954  0.34009    \n",
              "total_population_youth     1.072e-04  3.308e-05   3.240  0.00120 ** \n",
              "total_population_adults    1.288e-04  4.258e-05   3.025  0.00249 ** \n",
              "---\n",
              "Signif. codes:  0 ‘***’ 0.001 ‘**’ 0.01 ‘*’ 0.05 ‘.’ 0.1 ‘ ’ 1\n",
              "\n",
              "(Dispersion parameter for binomial family taken to be 1)\n",
              "\n",
              "    Null deviance: 7852.2  on 5692  degrees of freedom\n",
              "Residual deviance: 5120.2  on 5683  degrees of freedom\n",
              "AIC: 5140.2\n",
              "\n",
              "Number of Fisher Scoring iterations: 5\n"
            ]
          },
          "metadata": {}
        }
      ]
    },
    {
      "cell_type": "code",
      "source": [
        "x.evaluate$predictionlogit <- predict(x.modelLogit, newdata=x.evaluatedum, type = \"response\")\n",
        "x.evaluate$predictionlogitclass[x.evaluate$predictionlogit>probthres] <- \"Above Average\"\n",
        "x.evaluate$predictionlogitclass[x.evaluate$predictionlogit<=probthres] <- \"Below Average\""
      ],
      "metadata": {
        "id": "xZJF83VSjIlY"
      },
      "execution_count": 90,
      "outputs": []
    },
    {
      "cell_type": "code",
      "source": [
        "x.evaluate$correctlogit <- x.evaluate$predictionlogitclass == x.evaluate$ch_in_string\n",
        "print(paste(\"% of predicted classifications correct\", mean(x.evaluate$correctlogit)))"
      ],
      "metadata": {
        "colab": {
          "base_uri": "https://localhost:8080/"
        },
        "id": "TTKmpB5DjQA3",
        "outputId": "1473a8b8-e6ca-453f-e4ec-867dc48909a9"
      },
      "execution_count": 91,
      "outputs": [
        {
          "output_type": "stream",
          "name": "stdout",
          "text": [
            "[1] \"% of predicted classifications correct 0.786056049213944\"\n"
          ]
        }
      ]
    },
    {
      "cell_type": "code",
      "source": [
        "LogitOutput <- makeLiftPlot(x.evaluate$predictionlogit,x.evaluate,\"Logit\")"
      ],
      "metadata": {
        "colab": {
          "base_uri": "https://localhost:8080/",
          "height": 437
        },
        "id": "wUK8YvstkTSW",
        "outputId": "953d0235-14ad-4189-e0a6-bbb431bd070c"
      },
      "execution_count": 92,
      "outputs": [
        {
          "output_type": "display_data",
          "data": {
            "text/plain": [
              "Plot with title “Lift curve of Logit”"
            ],
            "image/png": "[encoded data removed]"
          },
          "metadata": {
            "image/png": {
              "width": 420,
              "height": 420
            }
          }
        }
      ]
    },
    {
      "cell_type": "code",
      "source": [
        "TimeAux <- proc.time() - ptm\n",
        "#LogitOutput$summary=summary(x.modelLogit)\n",
        "LogitOutput$TimeElapsed <- TimeAux[3]\n",
        "LogitOutput$PercCorrect <- mean(x.evaluate$correctlogit)*100\n",
        "Logitconfmatrix <- table(x.evaluate$predictionlogitclass,x.evaluate$ch_in_string)\n",
        "rm(TimeAux)"
      ],
      "metadata": {
        "id": "r4Z3q69coWiT"
      },
      "execution_count": 93,
      "outputs": []
    },
    {
      "cell_type": "code",
      "source": [
        "LogitOutput$TimeElapsed"
      ],
      "metadata": {
        "colab": {
          "base_uri": "https://localhost:8080/",
          "height": 34
        },
        "id": "7z3D72TgsXm8",
        "outputId": "0d1be7ec-211b-4299-ee5f-9492589248bf"
      },
      "execution_count": 94,
      "outputs": [
        {
          "output_type": "display_data",
          "data": {
            "text/html": [
              "21.5119999999999"
            ],
            "text/markdown": "21.5119999999999",
            "text/latex": "21.5119999999999",
            "text/plain": [
              "[1] 21.512"
            ]
          },
          "metadata": {}
        }
      ]
    },
    {
      "cell_type": "code",
      "source": [
        "LogitOutput$PercCorrect"
      ],
      "metadata": {
        "colab": {
          "base_uri": "https://localhost:8080/",
          "height": 34
        },
        "id": "F4iJ0DTZsYdM",
        "outputId": "cdefbe5c-e825-40a7-b180-6560be8f665b"
      },
      "execution_count": 95,
      "outputs": [
        {
          "output_type": "display_data",
          "data": {
            "text/html": [
              "78.6056049213944"
            ],
            "text/markdown": "78.6056049213944",
            "text/latex": "78.6056049213944",
            "text/plain": [
              "[1] 78.6056"
            ]
          },
          "metadata": {}
        }
      ]
    },
    {
      "cell_type": "code",
      "source": [
        "Logitconfmatrix"
      ],
      "metadata": {
        "colab": {
          "base_uri": "https://localhost:8080/",
          "height": 86
        },
        "id": "p2Kzc3disZn4",
        "outputId": "679ea446-bd02-4949-dc79-f6b553334aa3"
      },
      "execution_count": 96,
      "outputs": [
        {
          "output_type": "display_data",
          "data": {
            "text/plain": [
              "               \n",
              "                Above Average Below Average\n",
              "  Above Average           351           221\n",
              "  Below Average            92           799"
            ]
          },
          "metadata": {}
        }
      ]
    },
    {
      "cell_type": "markdown",
      "source": [
        "## Naive Bayes"
      ],
      "metadata": {
        "id": "MC-jx2d6s8Md"
      }
    },
    {
      "cell_type": "code",
      "source": [
        "x.modelNB <- train(BaseFormula_dum, data = x.trainnorm, method=\"naive_bayes\")\n",
        "\n",
        "x.evaluate$predictionNB <- predict(x.modelNB, newdata=x.evaluatenorm,type=\"prob\")\n",
        "\n",
        "x.evaluate$predictionNBclass[x.evaluate$predictionNB[,'Above Average']>probthres]=\"Above Average\"\n",
        "x.evaluate$predictionNBclass[x.evaluate$predictionNB[,'Above Average']<=probthres]=\"Below Average\""
      ],
      "metadata": {
        "id": "5USWiooXz9fT"
      },
      "execution_count": 98,
      "outputs": []
    },
    {
      "cell_type": "code",
      "source": [
        "x.evaluate$correctNB <- x.evaluate$predictionNBclass == x.evaluate$ch_in_string\n",
        "print(paste(\"% of predicted classifications correct\", mean(x.evaluate$correctNB)))\n",
        "\n",
        "# the variable importance\n",
        "print(varImp(x.modelNB))\n",
        "\n",
        "# Extract the class probabilities.\n",
        "x.evaluate$predictionNB <- x.evaluate$predictionNB[,'Below Average']\n",
        "\n",
        "NBOutput <- makeLiftPlot(x.evaluate$predictionNB,x.evaluate,\"NB\")\n",
        "\n",
        "TimeAux <- proc.time() - ptm\n",
        "NBOutput$TimeElapsed <- TimeAux[3]\n",
        "NBOutput$PercCorrect <- mean(x.evaluate$correctNB)*100\n",
        "NBconfmatrix <- table(x.evaluate$predictionNBclass,x.evaluate$ch_in_string)"
      ],
      "metadata": {
        "colab": {
          "base_uri": "https://localhost:8080/",
          "height": 663
        },
        "id": "yaR2x2td0CwY",
        "outputId": "b87ce649-ce68-464f-89f6-d64dbb3d57fa"
      },
      "execution_count": 99,
      "outputs": [
        {
          "output_type": "stream",
          "name": "stdout",
          "text": [
            "[1] \"% of predicted classifications correct 0.74025974025974\"\n",
            "ROC curve variable importance\n",
            "\n",
            "                          Importance\n",
            "attribute_count              100.000\n",
            "nearby_count_minus_1          42.230\n",
            "total_population_children     32.030\n",
            "business_happy_h.1            22.803\n",
            "business_price                19.101\n",
            "total_population              15.159\n",
            "total_population_youth        11.867\n",
            "total_population_adults        8.976\n",
            "business_stars_pre_2020        0.000\n"
          ]
        },
        {
          "output_type": "display_data",
          "data": {
            "text/plain": [
              "Plot with title “Lift curve of NB”"
            ],
            "image/png": "[encoded data removed]"
          },
          "metadata": {
            "image/png": {
              "width": 420,
              "height": 420
            }
          }
        }
      ]
    },
    {
      "cell_type": "code",
      "source": [
        "NBOutput$PercCorrect"
      ],
      "metadata": {
        "colab": {
          "base_uri": "https://localhost:8080/",
          "height": 34
        },
        "id": "r6bW_qgp0PQG",
        "outputId": "ba453147-aca2-41bf-bcfa-b058fd48e1e5"
      },
      "execution_count": 100,
      "outputs": [
        {
          "output_type": "display_data",
          "data": {
            "text/html": [
              "74.025974025974"
            ],
            "text/markdown": "74.025974025974",
            "text/latex": "74.025974025974",
            "text/plain": [
              "[1] 74.02597"
            ]
          },
          "metadata": {}
        }
      ]
    },
    {
      "cell_type": "code",
      "source": [
        "NBconfmatrix"
      ],
      "metadata": {
        "colab": {
          "base_uri": "https://localhost:8080/",
          "height": 86
        },
        "id": "YWO6nmX00Rzq",
        "outputId": "530797ba-0bc3-4731-d3e3-20de8bd8815a"
      },
      "execution_count": 101,
      "outputs": [
        {
          "output_type": "display_data",
          "data": {
            "text/plain": [
              "               \n",
              "                Above Average Below Average\n",
              "  Above Average           323           260\n",
              "  Below Average           120           760"
            ]
          },
          "metadata": {}
        }
      ]
    },
    {
      "cell_type": "markdown",
      "source": [
        "## KNN"
      ],
      "metadata": {
        "id": "tKRqoSUCv0OR"
      }
    },
    {
      "cell_type": "code",
      "source": [
        "x.modelKNN <- train(BaseFormula_dum, data = x.trainnorm, method=\"knn\")\n",
        "\n",
        "x.evaluate$predictionKNN <- predict(x.modelKNN, newdata=x.evaluatenorm,type=\"prob\")\n",
        "\n",
        "\n",
        "x.evaluate$predictionKNNclass[x.evaluate$predictionKNN[,'Above Average']>probthres]=\"Above Average\"\n",
        "x.evaluate$predictionKNNclass[x.evaluate$predictionKNN[,'Above Average']<=probthres]=\"Below Average\"\n",
        "\n",
        "x.evaluate$correctKNN <- x.evaluate$predictionKNNclass == x.evaluate$ch_in_string\n",
        "print(paste(\"% of predicted classifications correct\", mean(x.evaluate$correctKNN)))\n",
        "\n",
        "# the variable importance\n",
        "print(varImp(x.modelKNN))\n",
        "\n",
        "# Extract the class probabilities.\n",
        "x.evaluate$predictionKNN <- x.evaluate$predictionKNN[,'Below Average']\n",
        "\n",
        "KNNOutput <- makeLiftPlot(x.evaluate$predictionKNN,x.evaluate,\"KNN\")\n",
        "\n",
        "TimeAux <- proc.time() - ptm\n",
        "KNNOutput$TimeElapsed <- TimeAux[3]\n",
        "KNNOutput$PercCorrect <- mean(x.evaluate$correctKNN)*100\n",
        "KNNconfmatrix <- table(x.evaluate$predictionKNNclass,x.evaluate$ch_in_string)\n",
        "rm(TimeAux)"
      ],
      "metadata": {
        "colab": {
          "base_uri": "https://localhost:8080/",
          "height": 663
        },
        "id": "Cs6rsiBRuUK6",
        "outputId": "9ce2697a-f030-46af-9f3f-f07902b1d763"
      },
      "execution_count": 103,
      "outputs": [
        {
          "output_type": "stream",
          "name": "stdout",
          "text": [
            "[1] \"% of predicted classifications correct 0.769651401230349\"\n",
            "ROC curve variable importance\n",
            "\n",
            "                          Importance\n",
            "attribute_count              100.000\n",
            "nearby_count_minus_1          42.230\n",
            "total_population_children     32.030\n",
            "business_happy_h.1            22.803\n",
            "business_price                19.101\n",
            "total_population              15.159\n",
            "total_population_youth        11.867\n",
            "total_population_adults        8.976\n",
            "business_stars_pre_2020        0.000\n"
          ]
        },
        {
          "output_type": "display_data",
          "data": {
            "text/plain": [
              "Plot with title “Lift curve of KNN”"
            ],
            "image/png": "[encoded data removed]"
          },
          "metadata": {
            "image/png": {
              "width": 420,
              "height": 420
            }
          }
        }
      ]
    }
  ]
}