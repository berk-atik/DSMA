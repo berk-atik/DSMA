{
  "nbformat": 4,
  "nbformat_minor": 0,
  "metadata": {
    "colab": {
      "provenance": [],
      "collapsed_sections": [
        "sEFpc3EaZtaZ"
      ],
      "toc_visible": true,
      "authorship_tag": "ABX9TyPNIuDp0WUP6dZ+SuAkQ2Rc"
    },
    "kernelspec": {
      "name": "ir",
      "display_name": "R"
    },
    "language_info": {
      "name": "R"
    }
  },
  "cells": [
    {
      "cell_type": "markdown",
      "source": [
        "# Libraries"
      ],
      "metadata": {
        "id": "wfA60FGXmDn0"
      }
    },
    {
      "cell_type": "code",
      "source": [
        "#install.packages(\"dplyr\")"
      ],
      "metadata": {
        "id": "9y5YwTITV8B0"
      },
      "execution_count": null,
      "outputs": []
    },
    {
      "cell_type": "code",
      "source": [
        "library(dplyr)"
      ],
      "metadata": {
        "id": "lHSDySlpV9Ij"
      },
      "execution_count": 82,
      "outputs": []
    },
    {
      "cell_type": "code",
      "source": [
        "#install.packages(\"tidyverse\")"
      ],
      "metadata": {
        "id": "lh1PS0nMV-kw"
      },
      "execution_count": null,
      "outputs": []
    },
    {
      "cell_type": "code",
      "source": [
        "library(tidyverse)"
      ],
      "metadata": {
        "id": "_gYmIkN_V-7E"
      },
      "execution_count": 83,
      "outputs": []
    },
    {
      "cell_type": "code",
      "source": [
        "library(forcats)"
      ],
      "metadata": {
        "id": "AHC8Sgyj-gXp"
      },
      "execution_count": 84,
      "outputs": []
    },
    {
      "cell_type": "code",
      "source": [
        "install.packages(\"geosphere\")"
      ],
      "metadata": {
        "id": "SrPfMNgkWAzN"
      },
      "execution_count": null,
      "outputs": []
    },
    {
      "cell_type": "code",
      "source": [
        "library(geosphere)"
      ],
      "metadata": {
        "id": "8stw8DhLWCK1"
      },
      "execution_count": null,
      "outputs": []
    },
    {
      "cell_type": "code",
      "source": [
        "install.packages(\"mice\")"
      ],
      "metadata": {
        "id": "8nCsDy7EWIrZ"
      },
      "execution_count": null,
      "outputs": []
    },
    {
      "cell_type": "code",
      "source": [
        "library(mice)"
      ],
      "metadata": {
        "id": "6cDPRxFJWJx9"
      },
      "execution_count": null,
      "outputs": []
    },
    {
      "cell_type": "code",
      "source": [
        "install.packages(\"caret\")"
      ],
      "metadata": {
        "id": "rQZ2l2064H7Z"
      },
      "execution_count": null,
      "outputs": []
    },
    {
      "cell_type": "code",
      "source": [
        "library(caret)"
      ],
      "metadata": {
        "id": "R8DT7_b94JKn"
      },
      "execution_count": null,
      "outputs": []
    },
    {
      "cell_type": "code",
      "source": [
        "install.packages(\"smotefamily\")"
      ],
      "metadata": {
        "id": "Wg9ZpCaRA5IN"
      },
      "execution_count": null,
      "outputs": []
    },
    {
      "cell_type": "code",
      "source": [
        "library(smotefamily)"
      ],
      "metadata": {
        "id": "IfIy6mxKA5yD"
      },
      "execution_count": null,
      "outputs": []
    },
    {
      "cell_type": "code",
      "source": [
        "install.packages(\"naivebayes\")"
      ],
      "metadata": {
        "id": "fNRz8HavvgEC"
      },
      "execution_count": null,
      "outputs": []
    },
    {
      "cell_type": "code",
      "source": [
        "library(naivebayes)"
      ],
      "metadata": {
        "id": "UoZwwuBvvg-h"
      },
      "execution_count": null,
      "outputs": []
    },
    {
      "cell_type": "code",
      "source": [
        "install.packages(\"kernlab\")"
      ],
      "metadata": {
        "id": "OaqV_89WcIJo"
      },
      "execution_count": null,
      "outputs": []
    },
    {
      "cell_type": "code",
      "source": [
        "library(kernlab)"
      ],
      "metadata": {
        "id": "VF8gMD3HcJEZ"
      },
      "execution_count": null,
      "outputs": []
    },
    {
      "cell_type": "markdown",
      "source": [
        "# Yelp Data"
      ],
      "metadata": {
        "id": "LYMtZK9XcUZQ"
      }
    },
    {
      "cell_type": "markdown",
      "source": [
        "## Data Import"
      ],
      "metadata": {
        "id": "ss-KdSCrXBXm"
      }
    },
    {
      "cell_type": "code",
      "source": [
        "data <- read.csv(file=\"sql_9_JSON_2018_2019_w_ac.csv\", header=TRUE,sep=\",\",dec=\";\")"
      ],
      "metadata": {
        "id": "MCWORYg2fXIh"
      },
      "execution_count": 85,
      "outputs": []
    },
    {
      "cell_type": "markdown",
      "source": [
        "## Cleaning & Check"
      ],
      "metadata": {
        "id": "Gz01FU7EXPq3"
      }
    },
    {
      "cell_type": "code",
      "source": [
        "nrow(data)"
      ],
      "metadata": {
        "colab": {
          "base_uri": "https://localhost:8080/",
          "height": 34
        },
        "id": "eRctqHOXB7ZY",
        "outputId": "2065cb08-6942-42cb-f3e2-1776788e481c"
      },
      "execution_count": 86,
      "outputs": [
        {
          "output_type": "display_data",
          "data": {
            "text/html": [
              "5272"
            ],
            "text/markdown": "5272",
            "text/latex": "5272",
            "text/plain": [
              "[1] 5272"
            ]
          },
          "metadata": {}
        }
      ]
    },
    {
      "cell_type": "code",
      "source": [
        "#Drop some columns:\n",
        "\n",
        "data <- data %>%\n",
        "    select(-name,-address,-city,-state,-business_open,-categories,-hours,)"
      ],
      "metadata": {
        "id": "APIP9xWP-C1q"
      },
      "execution_count": 87,
      "outputs": []
    },
    {
      "cell_type": "code",
      "source": [
        "str(data)"
      ],
      "metadata": {
        "id": "Yo_1MQfTnw7X",
        "outputId": "e95b0e59-1c1c-4b8e-d9ae-eda240a51f1e",
        "colab": {
          "base_uri": "https://localhost:8080/"
        }
      },
      "execution_count": 88,
      "outputs": [
        {
          "output_type": "stream",
          "name": "stdout",
          "text": [
            "'data.frame':\t5272 obs. of  40 variables:\n",
            " $ business_id               : chr  \"00AGVWzkxNLGb-7ZrwAOIA\" \"00AGVWzkxNLGb-7ZrwAOIA\" \"00rIcvqmfci_oJWkOqPqmg\" \"00rIcvqmfci_oJWkOqPqmg\" ...\n",
            " $ postal_code               : int  19139 19139 19128 19128 19118 19118 19147 19147 19146 19146 ...\n",
            " $ business_lat              : chr  \"39.9532594\" \"39.9532594\" \"40.0571665\" \"40.0571665\" ...\n",
            " $ business_long             : chr  \"-75.2170205\" \"-75.2170205\" \"-75.2357367\" \"-75.2357367\" ...\n",
            " $ overall_business_stars    : chr  \"3.0\" \"3.0\" \"4.5\" \"4.5\" ...\n",
            " $ overall_review_count      : int  70 70 92 92 61 61 101 101 65 65 ...\n",
            " $ isromantic                : chr  \"False\" \"False\" \"False\" \"False\" ...\n",
            " $ isintimate                : chr  \"False\" \"False\" \"False\" \"False\" ...\n",
            " $ istouristy                : chr  \"False\" \"False\" \"False\" \"False\" ...\n",
            " $ ishipster                 : chr  \"False\" \"False\" \"False\" \"False\" ...\n",
            " $ isdivey                   : chr  \"True\" \"True\" \"False\" \"False\" ...\n",
            " $ isclassy                  : chr  \"False\" \"False\" \"False\" \"False\" ...\n",
            " $ istrendy                  : chr  \"False\" \"False\" \"False\" \"False\" ...\n",
            " $ isupscale                 : chr  \"False\" \"False\" \"False\" \"False\" ...\n",
            " $ iscasual                  : chr  \"False\" \"False\" \"False\" \"False\" ...\n",
            " $ parking_garage            : chr  \"False\" \"False\" \"False\" \"False\" ...\n",
            " $ parking_street            : chr  \"True\" \"True\" \"True\" \"True\" ...\n",
            " $ parking_validated         : chr  \"False\" \"False\" \"False\" \"False\" ...\n",
            " $ parking_lot               : chr  \"False\" \"False\" \"True\" \"True\" ...\n",
            " $ parking_valet             : chr  \"False\" \"False\" \"False\" \"False\" ...\n",
            " $ alcohol                   : chr  \"none'\" \"none'\" \"none'\" \"none'\" ...\n",
            " $ outdoorseating            : chr  \"False\" \"False\" \"True\" \"True\" ...\n",
            " $ restaurantstableservice   : chr  \"NULL\" \"NULL\" \"False\" \"False\" ...\n",
            " $ bikeparking               : chr  \"True\" \"True\" \"True\" \"True\" ...\n",
            " $ happyhour                 : chr  \"NULL\" \"NULL\" \"NULL\" \"NULL\" ...\n",
            " $ byob                      : chr  \"NULL\" \"NULL\" \"False\" \"False\" ...\n",
            " $ businessacceptscreditcards: chr  \"False\" \"False\" \"False\" \"False\" ...\n",
            " $ restaurantscounterservice : chr  \"NULL\" \"NULL\" \"NULL\" \"NULL\" ...\n",
            " $ hastv                     : chr  \"True\" \"True\" \"False\" \"False\" ...\n",
            " $ restaurantspricerange2    : chr  \"1\" \"1\" \"1\" \"1\" ...\n",
            " $ restaurantsreservations   : chr  \"False\" \"False\" \"False\" \"False\" ...\n",
            " $ restaurantsdelivery       : chr  \"True\" \"True\" \"False\" \"False\" ...\n",
            " $ wifi                      : chr  \"no'\" \"no'\" \"no'\" \"no'\" ...\n",
            " $ restaurantstakeout        : chr  \"True\" \"True\" \"True\" \"True\" ...\n",
            " $ n_photo                   : int  0 0 5 5 0 0 2 2 1 1 ...\n",
            " $ year                      : int  2018 2019 2018 2019 2018 2019 2018 2019 2018 2019 ...\n",
            " $ attribute_count           : chr  \"9\" \"9\" \"8\" \"8\" ...\n",
            " $ check_in_count            : int  2 2 8 6 5 4 15 6 4 2 ...\n",
            " $ review_count              : int  6 0 8 14 5 5 8 11 4 4 ...\n",
            " $ average_stars             : chr  \"2.0000\" \"0.0\" \"4.7500\" \"4.9286\" ...\n"
          ]
        }
      ]
    },
    {
      "cell_type": "markdown",
      "source": [
        "### Recoding Attributes"
      ],
      "metadata": {
        "id": "hNlLjS3z4Tut"
      }
    },
    {
      "cell_type": "code",
      "source": [
        "#Assumtion:\n",
        "\n",
        "#If given attribute is not stated in Yelp -> count it as \"NA\" for respective restorant.\n",
        "\n",
        "# NA's will be iterated via mice."
      ],
      "metadata": {
        "id": "a1I4nN5L-liI"
      },
      "execution_count": null,
      "outputs": []
    },
    {
      "cell_type": "code",
      "source": [
        "# Creating a function to recode attributes:\n",
        "\n",
        "recode_column <- function(data, column_name) {\n",
        "  data %>%\n",
        "    mutate(!!sym(column_name) := na_if(!!sym(column_name), 'NULL')) %>%\n",
        "    mutate(\n",
        "      !!sym(column_name) := dplyr::recode(!!sym(column_name),\n",
        "                                   \"False\" = \"0\",\n",
        "                                   \"True\" = \"1\")\n",
        "    )\n",
        "\n",
        "}"
      ],
      "metadata": {
        "id": "JtWRrfXszT-l"
      },
      "execution_count": 94,
      "outputs": []
    },
    {
      "cell_type": "code",
      "source": [
        "# Creating a function to recode attributes:\n",
        "\n",
        "recode_column2 <- function(data, column_name) {\n",
        "  data %>%\n",
        "    mutate(!!sym(column_name) := na_if(!!sym(column_name), 'NULL')) %>%\n",
        "    mutate(!!sym(column_name) := na_if(!!sym(column_name), 'None')) %>%\n",
        "    mutate(\n",
        "      !!sym(column_name) := dplyr::recode(!!sym(column_name),\n",
        "                                   \"False\" = \"0\",\n",
        "                                   \"True\" = \"1\")\n",
        "    )\n",
        "\n",
        "}"
      ],
      "metadata": {
        "id": "3nR9GTgPF0Pd"
      },
      "execution_count": 95,
      "outputs": []
    },
    {
      "cell_type": "code",
      "source": [
        "# Function for labeling as factor and releveling it:\n",
        "convert_and_relevel <- function(data, column_name, ref_level) {\n",
        "  data[[column_name]] <- as.factor(data[[column_name]])\n",
        "  data[[column_name]] <- fct_relevel(data[[column_name]], ref_level)\n",
        "  return(data)\n",
        "}\n"
      ],
      "metadata": {
        "id": "rvF-nU_hg9na"
      },
      "execution_count": 96,
      "outputs": []
    },
    {
      "cell_type": "markdown",
      "source": [
        "Ambiance Tag Attributes"
      ],
      "metadata": {
        "id": "nDZJKu-Eumag"
      }
    },
    {
      "cell_type": "code",
      "source": [
        "#Check:\n",
        "\n",
        "data %>%\n",
        "    select(isromantic, isintimate, istouristy, ishipster, isdivey, isclassy, istrendy, isupscale, iscasual) %>%\n",
        "      slice_head(n=8)"
      ],
      "metadata": {
        "colab": {
          "base_uri": "https://localhost:8080/",
          "height": 349
        },
        "id": "3P32nO5ou_31",
        "outputId": "a5ade7a6-c9b4-4b0a-b832-a1d77d83f175"
      },
      "execution_count": 97,
      "outputs": [
        {
          "output_type": "display_data",
          "data": {
            "text/html": [
              "<table class=\"dataframe\">\n",
              "<caption>A data.frame: 8 × 9</caption>\n",
              "<thead>\n",
              "\t<tr><th scope=col>isromantic</th><th scope=col>isintimate</th><th scope=col>istouristy</th><th scope=col>ishipster</th><th scope=col>isdivey</th><th scope=col>isclassy</th><th scope=col>istrendy</th><th scope=col>isupscale</th><th scope=col>iscasual</th></tr>\n",
              "\t<tr><th scope=col>&lt;chr&gt;</th><th scope=col>&lt;chr&gt;</th><th scope=col>&lt;chr&gt;</th><th scope=col>&lt;chr&gt;</th><th scope=col>&lt;chr&gt;</th><th scope=col>&lt;chr&gt;</th><th scope=col>&lt;chr&gt;</th><th scope=col>&lt;chr&gt;</th><th scope=col>&lt;chr&gt;</th></tr>\n",
              "</thead>\n",
              "<tbody>\n",
              "\t<tr><td>False</td><td>False</td><td>False</td><td>False</td><td>True </td><td>False</td><td>False</td><td>False</td><td>False</td></tr>\n",
              "\t<tr><td>False</td><td>False</td><td>False</td><td>False</td><td>True </td><td>False</td><td>False</td><td>False</td><td>False</td></tr>\n",
              "\t<tr><td>False</td><td>False</td><td>False</td><td>False</td><td>False</td><td>False</td><td>False</td><td>False</td><td>False</td></tr>\n",
              "\t<tr><td>False</td><td>False</td><td>False</td><td>False</td><td>False</td><td>False</td><td>False</td><td>False</td><td>False</td></tr>\n",
              "\t<tr><td>False</td><td>False</td><td>False</td><td>False</td><td>False</td><td>False</td><td>False</td><td>False</td><td>False</td></tr>\n",
              "\t<tr><td>False</td><td>False</td><td>False</td><td>False</td><td>False</td><td>False</td><td>False</td><td>False</td><td>False</td></tr>\n",
              "\t<tr><td>NULL </td><td>NULL </td><td>NULL </td><td>NULL </td><td>NULL </td><td>NULL </td><td>NULL </td><td>NULL </td><td>NULL </td></tr>\n",
              "\t<tr><td>NULL </td><td>NULL </td><td>NULL </td><td>NULL </td><td>NULL </td><td>NULL </td><td>NULL </td><td>NULL </td><td>NULL </td></tr>\n",
              "</tbody>\n",
              "</table>\n"
            ],
            "text/markdown": "\nA data.frame: 8 × 9\n\n| isromantic &lt;chr&gt; | isintimate &lt;chr&gt; | istouristy &lt;chr&gt; | ishipster &lt;chr&gt; | isdivey &lt;chr&gt; | isclassy &lt;chr&gt; | istrendy &lt;chr&gt; | isupscale &lt;chr&gt; | iscasual &lt;chr&gt; |\n|---|---|---|---|---|---|---|---|---|\n| False | False | False | False | True  | False | False | False | False |\n| False | False | False | False | True  | False | False | False | False |\n| False | False | False | False | False | False | False | False | False |\n| False | False | False | False | False | False | False | False | False |\n| False | False | False | False | False | False | False | False | False |\n| False | False | False | False | False | False | False | False | False |\n| NULL  | NULL  | NULL  | NULL  | NULL  | NULL  | NULL  | NULL  | NULL  |\n| NULL  | NULL  | NULL  | NULL  | NULL  | NULL  | NULL  | NULL  | NULL  |\n\n",
            "text/latex": "A data.frame: 8 × 9\n\\begin{tabular}{lllllllll}\n isromantic & isintimate & istouristy & ishipster & isdivey & isclassy & istrendy & isupscale & iscasual\\\\\n <chr> & <chr> & <chr> & <chr> & <chr> & <chr> & <chr> & <chr> & <chr>\\\\\n\\hline\n\t False & False & False & False & True  & False & False & False & False\\\\\n\t False & False & False & False & True  & False & False & False & False\\\\\n\t False & False & False & False & False & False & False & False & False\\\\\n\t False & False & False & False & False & False & False & False & False\\\\\n\t False & False & False & False & False & False & False & False & False\\\\\n\t False & False & False & False & False & False & False & False & False\\\\\n\t NULL  & NULL  & NULL  & NULL  & NULL  & NULL  & NULL  & NULL  & NULL \\\\\n\t NULL  & NULL  & NULL  & NULL  & NULL  & NULL  & NULL  & NULL  & NULL \\\\\n\\end{tabular}\n",
            "text/plain": [
              "  isromantic isintimate istouristy ishipster isdivey isclassy istrendy\n",
              "1 False      False      False      False     True    False    False   \n",
              "2 False      False      False      False     True    False    False   \n",
              "3 False      False      False      False     False   False    False   \n",
              "4 False      False      False      False     False   False    False   \n",
              "5 False      False      False      False     False   False    False   \n",
              "6 False      False      False      False     False   False    False   \n",
              "7 NULL       NULL       NULL       NULL      NULL    NULL     NULL    \n",
              "8 NULL       NULL       NULL       NULL      NULL    NULL     NULL    \n",
              "  isupscale iscasual\n",
              "1 False     False   \n",
              "2 False     False   \n",
              "3 False     False   \n",
              "4 False     False   \n",
              "5 False     False   \n",
              "6 False     False   \n",
              "7 NULL      NULL    \n",
              "8 NULL      NULL    "
            ]
          },
          "metadata": {}
        }
      ]
    },
    {
      "cell_type": "code",
      "source": [
        "#Apply formula into tags\n",
        " # + change them into integer:\n",
        "\n",
        "data <- recode_column(data, \"isromantic\")\n",
        "data <- convert_and_relevel(data, \"isromantic\", \"0\")\n",
        "\n",
        "data <- recode_column(data, \"isintimate\")\n",
        "data <- convert_and_relevel(data, \"isintimate\", \"0\")\n",
        "\n",
        "data <- recode_column(data, \"istouristy\")\n",
        "data <- convert_and_relevel(data, \"istouristy\", \"0\")\n",
        "\n",
        "data <- recode_column(data, \"ishipster\")\n",
        "data <- convert_and_relevel(data, \"ishipster\", \"0\")\n",
        "\n",
        "data <- recode_column(data, \"isdivey\")\n",
        "data <- convert_and_relevel(data, \"isdivey\", \"0\")\n",
        "\n",
        "data <- recode_column(data, \"isclassy\")\n",
        "data <- convert_and_relevel(data, \"isclassy\", \"0\")\n",
        "\n",
        "data <- recode_column(data, \"istrendy\")\n",
        "data <- convert_and_relevel(data, \"istrendy\", \"0\")\n",
        "\n",
        "data <- recode_column(data, \"isupscale\")\n",
        "data <- convert_and_relevel(data, \"isupscale\", \"0\")\n",
        "\n",
        "data <- recode_column(data, \"iscasual\")\n",
        "data <- convert_and_relevel(data, \"iscasual\", \"0\")"
      ],
      "metadata": {
        "id": "7vLwSAGMurZd"
      },
      "execution_count": 98,
      "outputs": []
    },
    {
      "cell_type": "code",
      "source": [
        "#Check:\n",
        "\n",
        "data %>%\n",
        "    select(isromantic, isintimate, istouristy, ishipster, isdivey, isclassy, istrendy, isupscale, iscasual) %>%\n",
        "      slice_head(n=8)"
      ],
      "metadata": {
        "colab": {
          "base_uri": "https://localhost:8080/",
          "height": 349
        },
        "id": "dL62aBUW_GbF",
        "outputId": "6fd4b6b9-656f-42fe-d09b-f11ff38151d7"
      },
      "execution_count": 99,
      "outputs": [
        {
          "output_type": "display_data",
          "data": {
            "text/html": [
              "<table class=\"dataframe\">\n",
              "<caption>A data.frame: 8 × 9</caption>\n",
              "<thead>\n",
              "\t<tr><th scope=col>isromantic</th><th scope=col>isintimate</th><th scope=col>istouristy</th><th scope=col>ishipster</th><th scope=col>isdivey</th><th scope=col>isclassy</th><th scope=col>istrendy</th><th scope=col>isupscale</th><th scope=col>iscasual</th></tr>\n",
              "\t<tr><th scope=col>&lt;fct&gt;</th><th scope=col>&lt;fct&gt;</th><th scope=col>&lt;fct&gt;</th><th scope=col>&lt;fct&gt;</th><th scope=col>&lt;fct&gt;</th><th scope=col>&lt;fct&gt;</th><th scope=col>&lt;fct&gt;</th><th scope=col>&lt;fct&gt;</th><th scope=col>&lt;fct&gt;</th></tr>\n",
              "</thead>\n",
              "<tbody>\n",
              "\t<tr><td>0 </td><td>0 </td><td>0 </td><td>0 </td><td>1 </td><td>0 </td><td>0 </td><td>0 </td><td>0 </td></tr>\n",
              "\t<tr><td>0 </td><td>0 </td><td>0 </td><td>0 </td><td>1 </td><td>0 </td><td>0 </td><td>0 </td><td>0 </td></tr>\n",
              "\t<tr><td>0 </td><td>0 </td><td>0 </td><td>0 </td><td>0 </td><td>0 </td><td>0 </td><td>0 </td><td>0 </td></tr>\n",
              "\t<tr><td>0 </td><td>0 </td><td>0 </td><td>0 </td><td>0 </td><td>0 </td><td>0 </td><td>0 </td><td>0 </td></tr>\n",
              "\t<tr><td>0 </td><td>0 </td><td>0 </td><td>0 </td><td>0 </td><td>0 </td><td>0 </td><td>0 </td><td>0 </td></tr>\n",
              "\t<tr><td>0 </td><td>0 </td><td>0 </td><td>0 </td><td>0 </td><td>0 </td><td>0 </td><td>0 </td><td>0 </td></tr>\n",
              "\t<tr><td>NA</td><td>NA</td><td>NA</td><td>NA</td><td>NA</td><td>NA</td><td>NA</td><td>NA</td><td>NA</td></tr>\n",
              "\t<tr><td>NA</td><td>NA</td><td>NA</td><td>NA</td><td>NA</td><td>NA</td><td>NA</td><td>NA</td><td>NA</td></tr>\n",
              "</tbody>\n",
              "</table>\n"
            ],
            "text/markdown": "\nA data.frame: 8 × 9\n\n| isromantic &lt;fct&gt; | isintimate &lt;fct&gt; | istouristy &lt;fct&gt; | ishipster &lt;fct&gt; | isdivey &lt;fct&gt; | isclassy &lt;fct&gt; | istrendy &lt;fct&gt; | isupscale &lt;fct&gt; | iscasual &lt;fct&gt; |\n|---|---|---|---|---|---|---|---|---|\n| 0  | 0  | 0  | 0  | 1  | 0  | 0  | 0  | 0  |\n| 0  | 0  | 0  | 0  | 1  | 0  | 0  | 0  | 0  |\n| 0  | 0  | 0  | 0  | 0  | 0  | 0  | 0  | 0  |\n| 0  | 0  | 0  | 0  | 0  | 0  | 0  | 0  | 0  |\n| 0  | 0  | 0  | 0  | 0  | 0  | 0  | 0  | 0  |\n| 0  | 0  | 0  | 0  | 0  | 0  | 0  | 0  | 0  |\n| NA | NA | NA | NA | NA | NA | NA | NA | NA |\n| NA | NA | NA | NA | NA | NA | NA | NA | NA |\n\n",
            "text/latex": "A data.frame: 8 × 9\n\\begin{tabular}{lllllllll}\n isromantic & isintimate & istouristy & ishipster & isdivey & isclassy & istrendy & isupscale & iscasual\\\\\n <fct> & <fct> & <fct> & <fct> & <fct> & <fct> & <fct> & <fct> & <fct>\\\\\n\\hline\n\t 0  & 0  & 0  & 0  & 1  & 0  & 0  & 0  & 0 \\\\\n\t 0  & 0  & 0  & 0  & 1  & 0  & 0  & 0  & 0 \\\\\n\t 0  & 0  & 0  & 0  & 0  & 0  & 0  & 0  & 0 \\\\\n\t 0  & 0  & 0  & 0  & 0  & 0  & 0  & 0  & 0 \\\\\n\t 0  & 0  & 0  & 0  & 0  & 0  & 0  & 0  & 0 \\\\\n\t 0  & 0  & 0  & 0  & 0  & 0  & 0  & 0  & 0 \\\\\n\t NA & NA & NA & NA & NA & NA & NA & NA & NA\\\\\n\t NA & NA & NA & NA & NA & NA & NA & NA & NA\\\\\n\\end{tabular}\n",
            "text/plain": [
              "  isromantic isintimate istouristy ishipster isdivey isclassy istrendy\n",
              "1 0          0          0          0         1       0        0       \n",
              "2 0          0          0          0         1       0        0       \n",
              "3 0          0          0          0         0       0        0       \n",
              "4 0          0          0          0         0       0        0       \n",
              "5 0          0          0          0         0       0        0       \n",
              "6 0          0          0          0         0       0        0       \n",
              "7 NA         NA         NA         NA        NA      NA       NA      \n",
              "8 NA         NA         NA         NA        NA      NA       NA      \n",
              "  isupscale iscasual\n",
              "1 0         0       \n",
              "2 0         0       \n",
              "3 0         0       \n",
              "4 0         0       \n",
              "5 0         0       \n",
              "6 0         0       \n",
              "7 NA        NA      \n",
              "8 NA        NA      "
            ]
          },
          "metadata": {}
        }
      ]
    },
    {
      "cell_type": "markdown",
      "source": [
        "Parking Attributes"
      ],
      "metadata": {
        "id": "kI6kTk-_4JDI"
      }
    },
    {
      "cell_type": "code",
      "source": [
        "#Check:\n",
        "\n",
        "data %>%\n",
        "    select(parking_garage, parking_street, parking_validated, parking_lot, parking_valet) %>%\n",
        "      slice_head(n=5)"
      ],
      "metadata": {
        "colab": {
          "base_uri": "https://localhost:8080/",
          "height": 255
        },
        "id": "QzXB44Vu4L9U",
        "outputId": "f3299adc-ca49-4f34-9e9a-0f2fcfa92a9a"
      },
      "execution_count": 100,
      "outputs": [
        {
          "output_type": "display_data",
          "data": {
            "text/html": [
              "<table class=\"dataframe\">\n",
              "<caption>A data.frame: 5 × 5</caption>\n",
              "<thead>\n",
              "\t<tr><th scope=col>parking_garage</th><th scope=col>parking_street</th><th scope=col>parking_validated</th><th scope=col>parking_lot</th><th scope=col>parking_valet</th></tr>\n",
              "\t<tr><th scope=col>&lt;chr&gt;</th><th scope=col>&lt;chr&gt;</th><th scope=col>&lt;chr&gt;</th><th scope=col>&lt;chr&gt;</th><th scope=col>&lt;chr&gt;</th></tr>\n",
              "</thead>\n",
              "<tbody>\n",
              "\t<tr><td>False</td><td>True </td><td>False</td><td>False</td><td>False</td></tr>\n",
              "\t<tr><td>False</td><td>True </td><td>False</td><td>False</td><td>False</td></tr>\n",
              "\t<tr><td>False</td><td>True </td><td>False</td><td>True </td><td>False</td></tr>\n",
              "\t<tr><td>False</td><td>True </td><td>False</td><td>True </td><td>False</td></tr>\n",
              "\t<tr><td>False</td><td>False</td><td>False</td><td>False</td><td>False</td></tr>\n",
              "</tbody>\n",
              "</table>\n"
            ],
            "text/markdown": "\nA data.frame: 5 × 5\n\n| parking_garage &lt;chr&gt; | parking_street &lt;chr&gt; | parking_validated &lt;chr&gt; | parking_lot &lt;chr&gt; | parking_valet &lt;chr&gt; |\n|---|---|---|---|---|\n| False | True  | False | False | False |\n| False | True  | False | False | False |\n| False | True  | False | True  | False |\n| False | True  | False | True  | False |\n| False | False | False | False | False |\n\n",
            "text/latex": "A data.frame: 5 × 5\n\\begin{tabular}{lllll}\n parking\\_garage & parking\\_street & parking\\_validated & parking\\_lot & parking\\_valet\\\\\n <chr> & <chr> & <chr> & <chr> & <chr>\\\\\n\\hline\n\t False & True  & False & False & False\\\\\n\t False & True  & False & False & False\\\\\n\t False & True  & False & True  & False\\\\\n\t False & True  & False & True  & False\\\\\n\t False & False & False & False & False\\\\\n\\end{tabular}\n",
            "text/plain": [
              "  parking_garage parking_street parking_validated parking_lot parking_valet\n",
              "1 False          True           False             False       False        \n",
              "2 False          True           False             False       False        \n",
              "3 False          True           False             True        False        \n",
              "4 False          True           False             True        False        \n",
              "5 False          False          False             False       False        "
            ]
          },
          "metadata": {}
        }
      ]
    },
    {
      "cell_type": "code",
      "source": [
        "#Apply formula into tags\n",
        " # + change them into integer:\n",
        "\n",
        "data <- recode_column(data, \"parking_garage\")\n",
        "data$parking_garage <- as.integer(data$parking_garage)\n",
        "\n",
        "data <- recode_column(data, \"parking_street\")\n",
        "data$parking_street <- as.integer(data$parking_street)\n",
        "\n",
        "data <- recode_column(data, \"parking_validated\")\n",
        "data$parking_validated <- as.integer(data$parking_validated)\n",
        "\n",
        "data <- recode_column(data, \"parking_lot\")\n",
        "data$parking_lot <- as.integer(data$parking_lot)\n",
        "\n",
        "data <- recode_column(data, \"parking_valet\")\n",
        "data$parking_valet <- as.integer(data$parking_valet)"
      ],
      "metadata": {
        "id": "m5TOydhj4rWP"
      },
      "execution_count": 101,
      "outputs": []
    },
    {
      "cell_type": "code",
      "source": [
        "#Creating parking_total variable:\n",
        "\n",
        "data <- data %>%\n",
        "    mutate(parking_total = parking_garage + parking_street + parking_validated + parking_lot + parking_valet) %>%\n",
        "      mutate(parking_total = if_else(parking_total == 0, 0, 1))"
      ],
      "metadata": {
        "id": "u8VqWTkB4JWN"
      },
      "execution_count": 102,
      "outputs": []
    },
    {
      "cell_type": "code",
      "source": [
        "data <- convert_and_relevel(data, \"parking_total\", \"0\")\n",
        "\n",
        "data <- convert_and_relevel(data, \"parking_garage\", \"0\")\n",
        "\n",
        "data <- convert_and_relevel(data, \"parking_street\", \"0\")\n",
        "\n",
        "data <- convert_and_relevel(data, \"parking_validated\", \"0\")\n",
        "\n",
        "data <- convert_and_relevel(data, \"parking_lot\", \"0\")\n",
        "\n",
        "data <- convert_and_relevel(data, \"parking_valet\", \"0\")"
      ],
      "metadata": {
        "id": "rOzSx1bVh9LT"
      },
      "execution_count": 17,
      "outputs": []
    },
    {
      "cell_type": "code",
      "source": [
        "#Check:\n",
        "\n",
        "data %>%\n",
        "    select(parking_garage, parking_street, parking_validated, parking_lot, parking_valet, parking_total) %>%\n",
        "      slice_head(n=5)"
      ],
      "metadata": {
        "colab": {
          "base_uri": "https://localhost:8080/",
          "height": 255
        },
        "id": "6FNBpv1x52SH",
        "outputId": "72cc8cdd-f991-4238-a627-1b52c783ab9a"
      },
      "execution_count": 18,
      "outputs": [
        {
          "output_type": "display_data",
          "data": {
            "text/html": [
              "<table class=\"dataframe\">\n",
              "<caption>A data.frame: 5 × 6</caption>\n",
              "<thead>\n",
              "\t<tr><th scope=col>parking_garage</th><th scope=col>parking_street</th><th scope=col>parking_validated</th><th scope=col>parking_lot</th><th scope=col>parking_valet</th><th scope=col>parking_total</th></tr>\n",
              "\t<tr><th scope=col>&lt;fct&gt;</th><th scope=col>&lt;fct&gt;</th><th scope=col>&lt;fct&gt;</th><th scope=col>&lt;fct&gt;</th><th scope=col>&lt;fct&gt;</th><th scope=col>&lt;fct&gt;</th></tr>\n",
              "</thead>\n",
              "<tbody>\n",
              "\t<tr><td>0</td><td>1</td><td>0</td><td>0</td><td>0</td><td>1</td></tr>\n",
              "\t<tr><td>0</td><td>1</td><td>0</td><td>0</td><td>0</td><td>1</td></tr>\n",
              "\t<tr><td>0</td><td>1</td><td>0</td><td>1</td><td>0</td><td>1</td></tr>\n",
              "\t<tr><td>0</td><td>1</td><td>0</td><td>1</td><td>0</td><td>1</td></tr>\n",
              "\t<tr><td>0</td><td>0</td><td>0</td><td>0</td><td>0</td><td>0</td></tr>\n",
              "</tbody>\n",
              "</table>\n"
            ],
            "text/markdown": "\nA data.frame: 5 × 6\n\n| parking_garage &lt;fct&gt; | parking_street &lt;fct&gt; | parking_validated &lt;fct&gt; | parking_lot &lt;fct&gt; | parking_valet &lt;fct&gt; | parking_total &lt;fct&gt; |\n|---|---|---|---|---|---|\n| 0 | 1 | 0 | 0 | 0 | 1 |\n| 0 | 1 | 0 | 0 | 0 | 1 |\n| 0 | 1 | 0 | 1 | 0 | 1 |\n| 0 | 1 | 0 | 1 | 0 | 1 |\n| 0 | 0 | 0 | 0 | 0 | 0 |\n\n",
            "text/latex": "A data.frame: 5 × 6\n\\begin{tabular}{llllll}\n parking\\_garage & parking\\_street & parking\\_validated & parking\\_lot & parking\\_valet & parking\\_total\\\\\n <fct> & <fct> & <fct> & <fct> & <fct> & <fct>\\\\\n\\hline\n\t 0 & 1 & 0 & 0 & 0 & 1\\\\\n\t 0 & 1 & 0 & 0 & 0 & 1\\\\\n\t 0 & 1 & 0 & 1 & 0 & 1\\\\\n\t 0 & 1 & 0 & 1 & 0 & 1\\\\\n\t 0 & 0 & 0 & 0 & 0 & 0\\\\\n\\end{tabular}\n",
            "text/plain": [
              "  parking_garage parking_street parking_validated parking_lot parking_valet\n",
              "1 0              1              0                 0           0            \n",
              "2 0              1              0                 0           0            \n",
              "3 0              1              0                 1           0            \n",
              "4 0              1              0                 1           0            \n",
              "5 0              0              0                 0           0            \n",
              "  parking_total\n",
              "1 1            \n",
              "2 1            \n",
              "3 1            \n",
              "4 1            \n",
              "5 0            "
            ]
          },
          "metadata": {}
        }
      ]
    },
    {
      "cell_type": "markdown",
      "source": [
        "Alcohol"
      ],
      "metadata": {
        "id": "VGylltJN6DrQ"
      }
    },
    {
      "cell_type": "code",
      "source": [
        "#Check:\n",
        "\n",
        "unique(data$alcohol)"
      ],
      "metadata": {
        "colab": {
          "base_uri": "https://localhost:8080/",
          "height": 34
        },
        "id": "j5RQCJqC6Rke",
        "outputId": "55c19f74-c06f-46ff-e57a-b91584717c67"
      },
      "execution_count": 19,
      "outputs": [
        {
          "output_type": "display_data",
          "data": {
            "text/html": [
              "<style>\n",
              ".list-inline {list-style: none; margin:0; padding: 0}\n",
              ".list-inline>li {display: inline-block}\n",
              ".list-inline>li:not(:last-child)::after {content: \"\\00b7\"; padding: 0 .5ex}\n",
              "</style>\n",
              "<ol class=list-inline><li>'none\\''</li><li>'full_bar\\''</li><li>'NULL'</li><li>'\\'none\\''</li><li>'\\'full_bar\\''</li><li>'beer_and_wine\\''</li><li>'\\'beer_and_wine\\''</li></ol>\n"
            ],
            "text/markdown": "1. 'none\\''\n2. 'full_bar\\''\n3. 'NULL'\n4. '\\'none\\''\n5. '\\'full_bar\\''\n6. 'beer_and_wine\\''\n7. '\\'beer_and_wine\\''\n\n\n",
            "text/latex": "\\begin{enumerate*}\n\\item 'none\\textbackslash{}''\n\\item 'full\\_bar\\textbackslash{}''\n\\item 'NULL'\n\\item '\\textbackslash{}'none\\textbackslash{}''\n\\item '\\textbackslash{}'full\\_bar\\textbackslash{}''\n\\item 'beer\\_and\\_wine\\textbackslash{}''\n\\item '\\textbackslash{}'beer\\_and\\_wine\\textbackslash{}''\n\\end{enumerate*}\n",
            "text/plain": [
              "[1] \"none'\"           \"full_bar'\"       \"NULL\"            \"'none'\"         \n",
              "[5] \"'full_bar'\"      \"beer_and_wine'\"  \"'beer_and_wine'\""
            ]
          },
          "metadata": {}
        }
      ]
    },
    {
      "cell_type": "code",
      "source": [
        "# Factor values are represented in more than two ways:\n",
        "     #[none\\'''full_bar\\'''NULL''\\'none\\'''\\'full_bar\\'''beer_and_wine\\'''\\'beer_and_wine\\'']:\n",
        "\n",
        "# Check unique values before recoding\n",
        "unique(data$alcohol)\n",
        "\n",
        "# Fix the problem by replacing incorrect factors\n",
        "data <- data %>%\n",
        "  mutate(alcohol = recode(alcohol,\n",
        "                          \"none'\" = \"Non_alcohol\",\n",
        "                          \"'none'\" = \"Non_alcohol\",\n",
        "                          \"full_bar'\" = \"Full_bar\",\n",
        "                          \"'full_bar'\" = \"Full_bar\",\n",
        "                          \"beer_and_wine'\" = \"Beer_and_wine\",\n",
        "                          \"'beer_and_wine'\" = \"Beer_and_wine\"))\n",
        "\n",
        "# Check unique values after recoding\n",
        "unique(data$alcohol)"
      ],
      "metadata": {
        "colab": {
          "base_uri": "https://localhost:8080/",
          "height": 52
        },
        "id": "AJ7nxPll6EDf",
        "outputId": "0aa18c3d-040c-4d08-bec6-4bfc78b9be97"
      },
      "execution_count": 20,
      "outputs": [
        {
          "output_type": "display_data",
          "data": {
            "text/html": [
              "<style>\n",
              ".list-inline {list-style: none; margin:0; padding: 0}\n",
              ".list-inline>li {display: inline-block}\n",
              ".list-inline>li:not(:last-child)::after {content: \"\\00b7\"; padding: 0 .5ex}\n",
              "</style>\n",
              "<ol class=list-inline><li>'none\\''</li><li>'full_bar\\''</li><li>'NULL'</li><li>'\\'none\\''</li><li>'\\'full_bar\\''</li><li>'beer_and_wine\\''</li><li>'\\'beer_and_wine\\''</li></ol>\n"
            ],
            "text/markdown": "1. 'none\\''\n2. 'full_bar\\''\n3. 'NULL'\n4. '\\'none\\''\n5. '\\'full_bar\\''\n6. 'beer_and_wine\\''\n7. '\\'beer_and_wine\\''\n\n\n",
            "text/latex": "\\begin{enumerate*}\n\\item 'none\\textbackslash{}''\n\\item 'full\\_bar\\textbackslash{}''\n\\item 'NULL'\n\\item '\\textbackslash{}'none\\textbackslash{}''\n\\item '\\textbackslash{}'full\\_bar\\textbackslash{}''\n\\item 'beer\\_and\\_wine\\textbackslash{}''\n\\item '\\textbackslash{}'beer\\_and\\_wine\\textbackslash{}''\n\\end{enumerate*}\n",
            "text/plain": [
              "[1] \"none'\"           \"full_bar'\"       \"NULL\"            \"'none'\"         \n",
              "[5] \"'full_bar'\"      \"beer_and_wine'\"  \"'beer_and_wine'\""
            ]
          },
          "metadata": {}
        },
        {
          "output_type": "display_data",
          "data": {
            "text/html": [
              "<style>\n",
              ".list-inline {list-style: none; margin:0; padding: 0}\n",
              ".list-inline>li {display: inline-block}\n",
              ".list-inline>li:not(:last-child)::after {content: \"\\00b7\"; padding: 0 .5ex}\n",
              "</style>\n",
              "<ol class=list-inline><li>'Non_alcohol'</li><li>'Full_bar'</li><li>'NULL'</li><li>'Beer_and_wine'</li></ol>\n"
            ],
            "text/markdown": "1. 'Non_alcohol'\n2. 'Full_bar'\n3. 'NULL'\n4. 'Beer_and_wine'\n\n\n",
            "text/latex": "\\begin{enumerate*}\n\\item 'Non\\_alcohol'\n\\item 'Full\\_bar'\n\\item 'NULL'\n\\item 'Beer\\_and\\_wine'\n\\end{enumerate*}\n",
            "text/plain": [
              "[1] \"Non_alcohol\"   \"Full_bar\"      \"NULL\"          \"Beer_and_wine\""
            ]
          },
          "metadata": {}
        }
      ]
    },
    {
      "cell_type": "code",
      "source": [
        "#Changing NA's into Non_alcohol, as its not stated in Yelp:\n",
        "\n",
        "data <- data %>%\n",
        "  mutate(alcohol = na_if(alcohol, 'NULL')) #%>%\n",
        "      #mutate(alcohol = replace_na(alcohol, \"Non_alcohol\")"
      ],
      "metadata": {
        "id": "uUL8Jr5i78vh"
      },
      "execution_count": 21,
      "outputs": []
    },
    {
      "cell_type": "code",
      "source": [
        "data$alcohol <- as.factor(data$alcohol)\n",
        "\n",
        "# Redo the releveling:\n",
        "data$alcohol=relevel(data$alcohol,ref=\"Non_alcohol\")"
      ],
      "metadata": {
        "id": "z_ei3WmM6y9v"
      },
      "execution_count": 22,
      "outputs": []
    },
    {
      "cell_type": "code",
      "source": [
        "unique(data$alcohol)"
      ],
      "metadata": {
        "colab": {
          "base_uri": "https://localhost:8080/",
          "height": 52
        },
        "id": "HPkRTIg88Ty7",
        "outputId": "26d3735e-a395-419e-e28e-433dd1d8f9fd"
      },
      "execution_count": 23,
      "outputs": [
        {
          "output_type": "display_data",
          "data": {
            "text/html": [
              "<style>\n",
              ".list-inline {list-style: none; margin:0; padding: 0}\n",
              ".list-inline>li {display: inline-block}\n",
              ".list-inline>li:not(:last-child)::after {content: \"\\00b7\"; padding: 0 .5ex}\n",
              "</style>\n",
              "<ol class=list-inline><li>Non_alcohol</li><li>Full_bar</li><li>&lt;NA&gt;</li><li>Beer_and_wine</li></ol>\n",
              "\n",
              "<details>\n",
              "\t<summary style=display:list-item;cursor:pointer>\n",
              "\t\t<strong>Levels</strong>:\n",
              "\t</summary>\n",
              "\t<style>\n",
              "\t.list-inline {list-style: none; margin:0; padding: 0}\n",
              "\t.list-inline>li {display: inline-block}\n",
              "\t.list-inline>li:not(:last-child)::after {content: \"\\00b7\"; padding: 0 .5ex}\n",
              "\t</style>\n",
              "\t<ol class=list-inline><li>'Non_alcohol'</li><li>'Beer_and_wine'</li><li>'Full_bar'</li></ol>\n",
              "</details>"
            ],
            "text/markdown": "1. Non_alcohol\n2. Full_bar\n3. &lt;NA&gt;\n4. Beer_and_wine\n\n\n\n**Levels**: 1. 'Non_alcohol'\n2. 'Beer_and_wine'\n3. 'Full_bar'\n\n\n",
            "text/latex": "\\begin{enumerate*}\n\\item Non\\_alcohol\n\\item Full\\_bar\n\\item <NA>\n\\item Beer\\_and\\_wine\n\\end{enumerate*}\n\n\\emph{Levels}: \\begin{enumerate*}\n\\item 'Non\\_alcohol'\n\\item 'Beer\\_and\\_wine'\n\\item 'Full\\_bar'\n\\end{enumerate*}\n",
            "text/plain": [
              "[1] Non_alcohol   Full_bar      <NA>          Beer_and_wine\n",
              "Levels: Non_alcohol Beer_and_wine Full_bar"
            ]
          },
          "metadata": {}
        }
      ]
    },
    {
      "cell_type": "markdown",
      "source": [
        "WIFI"
      ],
      "metadata": {
        "id": "4Uv1cUDjBO05"
      }
    },
    {
      "cell_type": "code",
      "source": [
        "#Check:\n",
        "\n",
        "unique(data$wifi)"
      ],
      "metadata": {
        "colab": {
          "base_uri": "https://localhost:8080/",
          "height": 34
        },
        "id": "JgAsUDjGBPJx",
        "outputId": "4a581c88-3b9a-438e-9958-c94690f0c808"
      },
      "execution_count": 24,
      "outputs": [
        {
          "output_type": "display_data",
          "data": {
            "text/html": [
              "<style>\n",
              ".list-inline {list-style: none; margin:0; padding: 0}\n",
              ".list-inline>li {display: inline-block}\n",
              ".list-inline>li:not(:last-child)::after {content: \"\\00b7\"; padding: 0 .5ex}\n",
              "</style>\n",
              "<ol class=list-inline><li>'no\\''</li><li>'\\'free\\''</li><li>'free\\''</li><li>'NULL'</li><li>'\\'no\\''</li><li>'paid\\''</li><li>'\\'paid\\''</li><li>'None'</li></ol>\n"
            ],
            "text/markdown": "1. 'no\\''\n2. '\\'free\\''\n3. 'free\\''\n4. 'NULL'\n5. '\\'no\\''\n6. 'paid\\''\n7. '\\'paid\\''\n8. 'None'\n\n\n",
            "text/latex": "\\begin{enumerate*}\n\\item 'no\\textbackslash{}''\n\\item '\\textbackslash{}'free\\textbackslash{}''\n\\item 'free\\textbackslash{}''\n\\item 'NULL'\n\\item '\\textbackslash{}'no\\textbackslash{}''\n\\item 'paid\\textbackslash{}''\n\\item '\\textbackslash{}'paid\\textbackslash{}''\n\\item 'None'\n\\end{enumerate*}\n",
            "text/plain": [
              "[1] \"no'\"    \"'free'\" \"free'\"  \"NULL\"   \"'no'\"   \"paid'\"  \"'paid'\" \"None\"  "
            ]
          },
          "metadata": {}
        }
      ]
    },
    {
      "cell_type": "code",
      "source": [
        "# Factor values are represented in more than two ways:\n",
        "     #[none\\'''full_bar\\'''NULL''\\'none\\'''\\'full_bar\\'''beer_and_wine\\'''\\'beer_and_wine\\'']:\n",
        "\n",
        "# Check unique values before recoding\n",
        "unique(data$wifi)\n",
        "\n",
        "# Fix the problem by replacing incorrect factors\n",
        "data <- data %>%\n",
        "  mutate(wifi = recode(wifi,\n",
        "                          'no\\'' = \"No\",\n",
        "                          '\\'no\\'' = \"No\",\n",
        "                          'None' = \"No\",\n",
        "                          '\\'free\\'' = \"Free\",\n",
        "                          'free\\'' = \"Free\",\n",
        "                          'paid\\'' = \"Paid\",\n",
        "                          '\\'paid\\'' = \"Paid\"))\n",
        "\n",
        "# Check unique values after recoding\n",
        "unique(data$wifi)"
      ],
      "metadata": {
        "colab": {
          "base_uri": "https://localhost:8080/",
          "height": 52
        },
        "id": "gRLScnANBVoP",
        "outputId": "922c3bca-8f80-43a3-a019-f410cc3795ef"
      },
      "execution_count": 25,
      "outputs": [
        {
          "output_type": "display_data",
          "data": {
            "text/html": [
              "<style>\n",
              ".list-inline {list-style: none; margin:0; padding: 0}\n",
              ".list-inline>li {display: inline-block}\n",
              ".list-inline>li:not(:last-child)::after {content: \"\\00b7\"; padding: 0 .5ex}\n",
              "</style>\n",
              "<ol class=list-inline><li>'no\\''</li><li>'\\'free\\''</li><li>'free\\''</li><li>'NULL'</li><li>'\\'no\\''</li><li>'paid\\''</li><li>'\\'paid\\''</li><li>'None'</li></ol>\n"
            ],
            "text/markdown": "1. 'no\\''\n2. '\\'free\\''\n3. 'free\\''\n4. 'NULL'\n5. '\\'no\\''\n6. 'paid\\''\n7. '\\'paid\\''\n8. 'None'\n\n\n",
            "text/latex": "\\begin{enumerate*}\n\\item 'no\\textbackslash{}''\n\\item '\\textbackslash{}'free\\textbackslash{}''\n\\item 'free\\textbackslash{}''\n\\item 'NULL'\n\\item '\\textbackslash{}'no\\textbackslash{}''\n\\item 'paid\\textbackslash{}''\n\\item '\\textbackslash{}'paid\\textbackslash{}''\n\\item 'None'\n\\end{enumerate*}\n",
            "text/plain": [
              "[1] \"no'\"    \"'free'\" \"free'\"  \"NULL\"   \"'no'\"   \"paid'\"  \"'paid'\" \"None\"  "
            ]
          },
          "metadata": {}
        },
        {
          "output_type": "display_data",
          "data": {
            "text/html": [
              "<style>\n",
              ".list-inline {list-style: none; margin:0; padding: 0}\n",
              ".list-inline>li {display: inline-block}\n",
              ".list-inline>li:not(:last-child)::after {content: \"\\00b7\"; padding: 0 .5ex}\n",
              "</style>\n",
              "<ol class=list-inline><li>'No'</li><li>'Free'</li><li>'NULL'</li><li>'Paid'</li></ol>\n"
            ],
            "text/markdown": "1. 'No'\n2. 'Free'\n3. 'NULL'\n4. 'Paid'\n\n\n",
            "text/latex": "\\begin{enumerate*}\n\\item 'No'\n\\item 'Free'\n\\item 'NULL'\n\\item 'Paid'\n\\end{enumerate*}\n",
            "text/plain": [
              "[1] \"No\"   \"Free\" \"NULL\" \"Paid\""
            ]
          },
          "metadata": {}
        }
      ]
    },
    {
      "cell_type": "code",
      "source": [
        "#Changing NULL's into NA, as its not stated in Yelp:\n",
        "\n",
        "data <- data %>%\n",
        "  mutate(wifi = na_if(wifi, 'NULL'))"
      ],
      "metadata": {
        "id": "xg41nbWSB_vc"
      },
      "execution_count": 26,
      "outputs": []
    },
    {
      "cell_type": "code",
      "source": [
        "data$wifi <- as.factor(data$wifi)\n",
        "\n",
        "# Redo the releveling:\n",
        "data$wifi=relevel(data$wifi,ref=\"No\")"
      ],
      "metadata": {
        "id": "ZtEZY49hCVXy"
      },
      "execution_count": 27,
      "outputs": []
    },
    {
      "cell_type": "code",
      "source": [
        "unique(data$wifi)"
      ],
      "metadata": {
        "colab": {
          "base_uri": "https://localhost:8080/",
          "height": 52
        },
        "id": "PO-dC9ExCcm6",
        "outputId": "8294926c-1dd4-4e76-ca23-099bfe27eb5b"
      },
      "execution_count": 28,
      "outputs": [
        {
          "output_type": "display_data",
          "data": {
            "text/html": [
              "<style>\n",
              ".list-inline {list-style: none; margin:0; padding: 0}\n",
              ".list-inline>li {display: inline-block}\n",
              ".list-inline>li:not(:last-child)::after {content: \"\\00b7\"; padding: 0 .5ex}\n",
              "</style>\n",
              "<ol class=list-inline><li>No</li><li>Free</li><li>&lt;NA&gt;</li><li>Paid</li></ol>\n",
              "\n",
              "<details>\n",
              "\t<summary style=display:list-item;cursor:pointer>\n",
              "\t\t<strong>Levels</strong>:\n",
              "\t</summary>\n",
              "\t<style>\n",
              "\t.list-inline {list-style: none; margin:0; padding: 0}\n",
              "\t.list-inline>li {display: inline-block}\n",
              "\t.list-inline>li:not(:last-child)::after {content: \"\\00b7\"; padding: 0 .5ex}\n",
              "\t</style>\n",
              "\t<ol class=list-inline><li>'No'</li><li>'Free'</li><li>'Paid'</li></ol>\n",
              "</details>"
            ],
            "text/markdown": "1. No\n2. Free\n3. &lt;NA&gt;\n4. Paid\n\n\n\n**Levels**: 1. 'No'\n2. 'Free'\n3. 'Paid'\n\n\n",
            "text/latex": "\\begin{enumerate*}\n\\item No\n\\item Free\n\\item <NA>\n\\item Paid\n\\end{enumerate*}\n\n\\emph{Levels}: \\begin{enumerate*}\n\\item 'No'\n\\item 'Free'\n\\item 'Paid'\n\\end{enumerate*}\n",
            "text/plain": [
              "[1] No   Free <NA> Paid\n",
              "Levels: No Free Paid"
            ]
          },
          "metadata": {}
        }
      ]
    },
    {
      "cell_type": "markdown",
      "source": [
        "Restaurant Price Range"
      ],
      "metadata": {
        "id": "jGUx7-VYESMO"
      }
    },
    {
      "cell_type": "code",
      "source": [
        "#Adjustment for data$restaurantspricerange2:\n",
        "\n",
        "# NA values are represented in two ways: 'NULL' and 'None':\n",
        "\n",
        "unique(data$restaurantspricerange2)\n",
        "\n",
        "# To fix problem: Replace\n",
        "\n",
        "data <- data %>%\n",
        "  mutate(restaurantspricerange2 = na_if(restaurantspricerange2, 'NULL')) %>%\n",
        "  mutate(restaurantspricerange2 = na_if(restaurantspricerange2, 'None'))\n",
        "\n",
        "unique(data$restaurantspricerange2)"
      ],
      "metadata": {
        "colab": {
          "base_uri": "https://localhost:8080/",
          "height": 52
        },
        "id": "doznZHgmEJlU",
        "outputId": "e25c852e-0804-4ab4-d0a4-a05d4720c5ee"
      },
      "execution_count": 29,
      "outputs": [
        {
          "output_type": "display_data",
          "data": {
            "text/html": [
              "<style>\n",
              ".list-inline {list-style: none; margin:0; padding: 0}\n",
              ".list-inline>li {display: inline-block}\n",
              ".list-inline>li:not(:last-child)::after {content: \"\\00b7\"; padding: 0 .5ex}\n",
              "</style>\n",
              "<ol class=list-inline><li>'1'</li><li>'2'</li><li>'NULL'</li><li>'3'</li><li>'4'</li><li>'None'</li></ol>\n"
            ],
            "text/markdown": "1. '1'\n2. '2'\n3. 'NULL'\n4. '3'\n5. '4'\n6. 'None'\n\n\n",
            "text/latex": "\\begin{enumerate*}\n\\item '1'\n\\item '2'\n\\item 'NULL'\n\\item '3'\n\\item '4'\n\\item 'None'\n\\end{enumerate*}\n",
            "text/plain": [
              "[1] \"1\"    \"2\"    \"NULL\" \"3\"    \"4\"    \"None\""
            ]
          },
          "metadata": {}
        },
        {
          "output_type": "display_data",
          "data": {
            "text/html": [
              "<style>\n",
              ".list-inline {list-style: none; margin:0; padding: 0}\n",
              ".list-inline>li {display: inline-block}\n",
              ".list-inline>li:not(:last-child)::after {content: \"\\00b7\"; padding: 0 .5ex}\n",
              "</style>\n",
              "<ol class=list-inline><li>'1'</li><li>'2'</li><li>NA</li><li>'3'</li><li>'4'</li></ol>\n"
            ],
            "text/markdown": "1. '1'\n2. '2'\n3. NA\n4. '3'\n5. '4'\n\n\n",
            "text/latex": "\\begin{enumerate*}\n\\item '1'\n\\item '2'\n\\item NA\n\\item '3'\n\\item '4'\n\\end{enumerate*}\n",
            "text/plain": [
              "[1] \"1\" \"2\" NA  \"3\" \"4\""
            ]
          },
          "metadata": {}
        }
      ]
    },
    {
      "cell_type": "code",
      "source": [
        "data$restaurantspricerange2 <- as.integer(data$restaurantspricerange2)"
      ],
      "metadata": {
        "id": "o79YaqiCEs9N"
      },
      "execution_count": 30,
      "outputs": []
    },
    {
      "cell_type": "markdown",
      "source": [
        "Rest Attributes"
      ],
      "metadata": {
        "id": "nvvQAXB0Ef0B"
      }
    },
    {
      "cell_type": "code",
      "source": [
        "#Check:\n",
        "\n",
        "unique(data$outdoorseating)\n",
        "\n",
        "unique(data$restaurantstableservice)\n",
        "\n",
        "unique(data$bikeparking)\n",
        "\n",
        "unique(data$happyhour)\n",
        "\n",
        "unique(data$byob)\n",
        "\n",
        "unique(data$businessacceptscreditcards)\n",
        "\n",
        "unique(data$restaurantscounterservice)\n",
        "\n",
        "unique(data$hastv)\n",
        "\n",
        "unique(data$restaurantsreservations)\n",
        "\n",
        "unique(data$restaurantsdelivery)\n",
        "\n",
        "unique(data$restaurantstakeout)"
      ],
      "metadata": {
        "colab": {
          "base_uri": "https://localhost:8080/",
          "height": 208
        },
        "id": "gATL9joSEh4K",
        "outputId": "01f77b4d-20cb-4bb5-e9b3-8fc085198cc5"
      },
      "execution_count": 31,
      "outputs": [
        {
          "output_type": "display_data",
          "data": {
            "text/html": [
              "<style>\n",
              ".list-inline {list-style: none; margin:0; padding: 0}\n",
              ".list-inline>li {display: inline-block}\n",
              ".list-inline>li:not(:last-child)::after {content: \"\\00b7\"; padding: 0 .5ex}\n",
              "</style>\n",
              "<ol class=list-inline><li>'False'</li><li>'True'</li><li>'None'</li><li>'NULL'</li></ol>\n"
            ],
            "text/markdown": "1. 'False'\n2. 'True'\n3. 'None'\n4. 'NULL'\n\n\n",
            "text/latex": "\\begin{enumerate*}\n\\item 'False'\n\\item 'True'\n\\item 'None'\n\\item 'NULL'\n\\end{enumerate*}\n",
            "text/plain": [
              "[1] \"False\" \"True\"  \"None\"  \"NULL\" "
            ]
          },
          "metadata": {}
        },
        {
          "output_type": "display_data",
          "data": {
            "text/html": [
              "<style>\n",
              ".list-inline {list-style: none; margin:0; padding: 0}\n",
              ".list-inline>li {display: inline-block}\n",
              ".list-inline>li:not(:last-child)::after {content: \"\\00b7\"; padding: 0 .5ex}\n",
              "</style>\n",
              "<ol class=list-inline><li>'NULL'</li><li>'False'</li><li>'True'</li></ol>\n"
            ],
            "text/markdown": "1. 'NULL'\n2. 'False'\n3. 'True'\n\n\n",
            "text/latex": "\\begin{enumerate*}\n\\item 'NULL'\n\\item 'False'\n\\item 'True'\n\\end{enumerate*}\n",
            "text/plain": [
              "[1] \"NULL\"  \"False\" \"True\" "
            ]
          },
          "metadata": {}
        },
        {
          "output_type": "display_data",
          "data": {
            "text/html": [
              "<style>\n",
              ".list-inline {list-style: none; margin:0; padding: 0}\n",
              ".list-inline>li {display: inline-block}\n",
              ".list-inline>li:not(:last-child)::after {content: \"\\00b7\"; padding: 0 .5ex}\n",
              "</style>\n",
              "<ol class=list-inline><li>'True'</li><li>'False'</li><li>'NULL'</li><li>'None'</li></ol>\n"
            ],
            "text/markdown": "1. 'True'\n2. 'False'\n3. 'NULL'\n4. 'None'\n\n\n",
            "text/latex": "\\begin{enumerate*}\n\\item 'True'\n\\item 'False'\n\\item 'NULL'\n\\item 'None'\n\\end{enumerate*}\n",
            "text/plain": [
              "[1] \"True\"  \"False\" \"NULL\"  \"None\" "
            ]
          },
          "metadata": {}
        },
        {
          "output_type": "display_data",
          "data": {
            "text/html": [
              "<style>\n",
              ".list-inline {list-style: none; margin:0; padding: 0}\n",
              ".list-inline>li {display: inline-block}\n",
              ".list-inline>li:not(:last-child)::after {content: \"\\00b7\"; padding: 0 .5ex}\n",
              "</style>\n",
              "<ol class=list-inline><li>'NULL'</li><li>'False'</li><li>'True'</li></ol>\n"
            ],
            "text/markdown": "1. 'NULL'\n2. 'False'\n3. 'True'\n\n\n",
            "text/latex": "\\begin{enumerate*}\n\\item 'NULL'\n\\item 'False'\n\\item 'True'\n\\end{enumerate*}\n",
            "text/plain": [
              "[1] \"NULL\"  \"False\" \"True\" "
            ]
          },
          "metadata": {}
        },
        {
          "output_type": "display_data",
          "data": {
            "text/html": [
              "<style>\n",
              ".list-inline {list-style: none; margin:0; padding: 0}\n",
              ".list-inline>li {display: inline-block}\n",
              ".list-inline>li:not(:last-child)::after {content: \"\\00b7\"; padding: 0 .5ex}\n",
              "</style>\n",
              "<ol class=list-inline><li>'NULL'</li><li>'False'</li><li>'True'</li></ol>\n"
            ],
            "text/markdown": "1. 'NULL'\n2. 'False'\n3. 'True'\n\n\n",
            "text/latex": "\\begin{enumerate*}\n\\item 'NULL'\n\\item 'False'\n\\item 'True'\n\\end{enumerate*}\n",
            "text/plain": [
              "[1] \"NULL\"  \"False\" \"True\" "
            ]
          },
          "metadata": {}
        },
        {
          "output_type": "display_data",
          "data": {
            "text/html": [
              "<style>\n",
              ".list-inline {list-style: none; margin:0; padding: 0}\n",
              ".list-inline>li {display: inline-block}\n",
              ".list-inline>li:not(:last-child)::after {content: \"\\00b7\"; padding: 0 .5ex}\n",
              "</style>\n",
              "<ol class=list-inline><li>'False'</li><li>'True'</li><li>'NULL'</li></ol>\n"
            ],
            "text/markdown": "1. 'False'\n2. 'True'\n3. 'NULL'\n\n\n",
            "text/latex": "\\begin{enumerate*}\n\\item 'False'\n\\item 'True'\n\\item 'NULL'\n\\end{enumerate*}\n",
            "text/plain": [
              "[1] \"False\" \"True\"  \"NULL\" "
            ]
          },
          "metadata": {}
        },
        {
          "output_type": "display_data",
          "data": {
            "text/html": [
              "<style>\n",
              ".list-inline {list-style: none; margin:0; padding: 0}\n",
              ".list-inline>li {display: inline-block}\n",
              ".list-inline>li:not(:last-child)::after {content: \"\\00b7\"; padding: 0 .5ex}\n",
              "</style>\n",
              "<ol class=list-inline><li>'NULL'</li><li>'True'</li></ol>\n"
            ],
            "text/markdown": "1. 'NULL'\n2. 'True'\n\n\n",
            "text/latex": "\\begin{enumerate*}\n\\item 'NULL'\n\\item 'True'\n\\end{enumerate*}\n",
            "text/plain": [
              "[1] \"NULL\" \"True\""
            ]
          },
          "metadata": {}
        },
        {
          "output_type": "display_data",
          "data": {
            "text/html": [
              "<style>\n",
              ".list-inline {list-style: none; margin:0; padding: 0}\n",
              ".list-inline>li {display: inline-block}\n",
              ".list-inline>li:not(:last-child)::after {content: \"\\00b7\"; padding: 0 .5ex}\n",
              "</style>\n",
              "<ol class=list-inline><li>'True'</li><li>'False'</li><li>'NULL'</li></ol>\n"
            ],
            "text/markdown": "1. 'True'\n2. 'False'\n3. 'NULL'\n\n\n",
            "text/latex": "\\begin{enumerate*}\n\\item 'True'\n\\item 'False'\n\\item 'NULL'\n\\end{enumerate*}\n",
            "text/plain": [
              "[1] \"True\"  \"False\" \"NULL\" "
            ]
          },
          "metadata": {}
        },
        {
          "output_type": "display_data",
          "data": {
            "text/html": [
              "<style>\n",
              ".list-inline {list-style: none; margin:0; padding: 0}\n",
              ".list-inline>li {display: inline-block}\n",
              ".list-inline>li:not(:last-child)::after {content: \"\\00b7\"; padding: 0 .5ex}\n",
              "</style>\n",
              "<ol class=list-inline><li>'False'</li><li>'True'</li><li>'NULL'</li><li>'None'</li></ol>\n"
            ],
            "text/markdown": "1. 'False'\n2. 'True'\n3. 'NULL'\n4. 'None'\n\n\n",
            "text/latex": "\\begin{enumerate*}\n\\item 'False'\n\\item 'True'\n\\item 'NULL'\n\\item 'None'\n\\end{enumerate*}\n",
            "text/plain": [
              "[1] \"False\" \"True\"  \"NULL\"  \"None\" "
            ]
          },
          "metadata": {}
        },
        {
          "output_type": "display_data",
          "data": {
            "text/html": [
              "<style>\n",
              ".list-inline {list-style: none; margin:0; padding: 0}\n",
              ".list-inline>li {display: inline-block}\n",
              ".list-inline>li:not(:last-child)::after {content: \"\\00b7\"; padding: 0 .5ex}\n",
              "</style>\n",
              "<ol class=list-inline><li>'True'</li><li>'False'</li><li>'NULL'</li><li>'None'</li></ol>\n"
            ],
            "text/markdown": "1. 'True'\n2. 'False'\n3. 'NULL'\n4. 'None'\n\n\n",
            "text/latex": "\\begin{enumerate*}\n\\item 'True'\n\\item 'False'\n\\item 'NULL'\n\\item 'None'\n\\end{enumerate*}\n",
            "text/plain": [
              "[1] \"True\"  \"False\" \"NULL\"  \"None\" "
            ]
          },
          "metadata": {}
        },
        {
          "output_type": "display_data",
          "data": {
            "text/html": [
              "<style>\n",
              ".list-inline {list-style: none; margin:0; padding: 0}\n",
              ".list-inline>li {display: inline-block}\n",
              ".list-inline>li:not(:last-child)::after {content: \"\\00b7\"; padding: 0 .5ex}\n",
              "</style>\n",
              "<ol class=list-inline><li>'True'</li><li>'False'</li><li>'NULL'</li><li>'None'</li></ol>\n"
            ],
            "text/markdown": "1. 'True'\n2. 'False'\n3. 'NULL'\n4. 'None'\n\n\n",
            "text/latex": "\\begin{enumerate*}\n\\item 'True'\n\\item 'False'\n\\item 'NULL'\n\\item 'None'\n\\end{enumerate*}\n",
            "text/plain": [
              "[1] \"True\"  \"False\" \"NULL\"  \"None\" "
            ]
          },
          "metadata": {}
        }
      ]
    },
    {
      "cell_type": "code",
      "source": [
        "#Apply formula into tags\n",
        " # + change them into integer:\n",
        "\n",
        "data <- recode_column2(data, \"outdoorseating\")\n",
        "data <- convert_and_relevel(data, \"outdoorseating\", \"0\")\n",
        "\n",
        "data <- recode_column(data, \"restaurantstableservice\")\n",
        "data <- convert_and_relevel(data, \"restaurantstableservice\", \"0\")\n",
        "\n",
        "data <- recode_column2(data, \"bikeparking\")\n",
        "data <- convert_and_relevel(data, \"bikeparking\", \"0\")\n",
        "\n",
        "data <- recode_column(data, \"happyhour\")\n",
        "data <- convert_and_relevel(data, \"happyhour\", \"0\")\n",
        "\n",
        "data <- recode_column(data, \"byob\")\n",
        "data <- convert_and_relevel(data, \"byob\", \"0\")\n",
        "\n",
        "data <- recode_column(data, \"businessacceptscreditcards\")\n",
        "data <- convert_and_relevel(data, \"businessacceptscreditcards\", \"0\")\n",
        "\n",
        "data <- recode_column(data, \"restaurantscounterservice\")\n",
        "data <- convert_and_relevel(data, \"restaurantscounterservice\", \"0\")\n",
        "\n",
        "data <- recode_column(data, \"hastv\")\n",
        "data <- convert_and_relevel(data, \"hastv\", \"0\")\n",
        "\n",
        "data <- recode_column2(data, \"restaurantsreservations\")\n",
        "data <- convert_and_relevel(data, \"restaurantsreservations\", \"0\")\n",
        "\n",
        "data <- recode_column2(data, \"restaurantsdelivery\")\n",
        "data <- convert_and_relevel(data, \"restaurantsdelivery\", \"0\")\n",
        "\n",
        "data <- recode_column2(data, \"restaurantstakeout\")\n",
        "data <- convert_and_relevel(data, \"restaurantstakeout\", \"0\")"
      ],
      "metadata": {
        "id": "5Q1dS-maEks-",
        "colab": {
          "base_uri": "https://localhost:8080/"
        },
        "outputId": "47358a9c-7f2d-4999-d61a-24642227530b"
      },
      "execution_count": 32,
      "outputs": [
        {
          "output_type": "stream",
          "name": "stderr",
          "text": [
            "Warning message:\n",
            "“\u001b[1m\u001b[22m1 unknown level in `f`: 0”\n"
          ]
        }
      ]
    },
    {
      "cell_type": "markdown",
      "source": [
        "### Recoding Variables"
      ],
      "metadata": {
        "id": "D_xzK9uDG6JG"
      }
    },
    {
      "cell_type": "code",
      "source": [
        "str(data)"
      ],
      "metadata": {
        "colab": {
          "base_uri": "https://localhost:8080/"
        },
        "id": "uQ0N35BhG6Zu",
        "outputId": "cabeecbe-37e2-45e5-f520-1cf23926cb1b"
      },
      "execution_count": 33,
      "outputs": [
        {
          "output_type": "stream",
          "name": "stdout",
          "text": [
            "'data.frame':\t5272 obs. of  41 variables:\n",
            " $ business_id               : chr  \"00AGVWzkxNLGb-7ZrwAOIA\" \"00AGVWzkxNLGb-7ZrwAOIA\" \"00rIcvqmfci_oJWkOqPqmg\" \"00rIcvqmfci_oJWkOqPqmg\" ...\n",
            " $ postal_code               : int  19139 19139 19128 19128 19118 19118 19147 19147 19146 19146 ...\n",
            " $ business_lat              : chr  \"39.9532594\" \"39.9532594\" \"40.0571665\" \"40.0571665\" ...\n",
            " $ business_long             : chr  \"-75.2170205\" \"-75.2170205\" \"-75.2357367\" \"-75.2357367\" ...\n",
            " $ overall_business_stars    : chr  \"3.0\" \"3.0\" \"4.5\" \"4.5\" ...\n",
            " $ overall_review_count      : int  70 70 92 92 61 61 101 101 65 65 ...\n",
            " $ isromantic                : Factor w/ 2 levels \"0\",\"1\": 1 1 1 1 1 1 NA NA 1 1 ...\n",
            " $ isintimate                : Factor w/ 2 levels \"0\",\"1\": 1 1 1 1 1 1 NA NA 1 1 ...\n",
            " $ istouristy                : Factor w/ 2 levels \"0\",\"1\": 1 1 1 1 1 1 NA NA 1 1 ...\n",
            " $ ishipster                 : Factor w/ 2 levels \"0\",\"1\": 1 1 1 1 1 1 NA NA 1 1 ...\n",
            " $ isdivey                   : Factor w/ 2 levels \"0\",\"1\": 2 2 1 1 1 1 NA NA 1 1 ...\n",
            " $ isclassy                  : Factor w/ 2 levels \"0\",\"1\": 1 1 1 1 1 1 NA NA 1 1 ...\n",
            " $ istrendy                  : Factor w/ 2 levels \"0\",\"1\": 1 1 1 1 1 1 NA NA 1 1 ...\n",
            " $ isupscale                 : Factor w/ 2 levels \"0\",\"1\": 1 1 1 1 1 1 NA NA 1 1 ...\n",
            " $ iscasual                  : Factor w/ 2 levels \"0\",\"1\": 1 1 1 1 1 1 NA NA 1 1 ...\n",
            " $ parking_garage            : Factor w/ 2 levels \"0\",\"1\": 1 1 1 1 1 1 1 1 1 1 ...\n",
            " $ parking_street            : Factor w/ 2 levels \"0\",\"1\": 2 2 2 2 1 1 2 2 2 2 ...\n",
            " $ parking_validated         : Factor w/ 2 levels \"0\",\"1\": 1 1 1 1 1 1 1 1 1 1 ...\n",
            " $ parking_lot               : Factor w/ 2 levels \"0\",\"1\": 1 1 2 2 1 1 1 1 1 1 ...\n",
            " $ parking_valet             : Factor w/ 2 levels \"0\",\"1\": 1 1 1 1 1 1 1 1 1 1 ...\n",
            " $ alcohol                   : Factor w/ 3 levels \"Non_alcohol\",..: 1 1 1 1 3 3 NA NA 1 1 ...\n",
            " $ outdoorseating            : Factor w/ 2 levels \"0\",\"1\": 1 1 2 2 1 1 2 2 1 1 ...\n",
            " $ restaurantstableservice   : Factor w/ 2 levels \"0\",\"1\": NA NA 1 1 NA NA NA NA NA NA ...\n",
            " $ bikeparking               : Factor w/ 2 levels \"0\",\"1\": 2 2 2 2 1 1 2 2 1 1 ...\n",
            " $ happyhour                 : Factor w/ 2 levels \"0\",\"1\": NA NA NA NA NA NA NA NA NA NA ...\n",
            " $ byob                      : Factor w/ 2 levels \"0\",\"1\": NA NA 1 1 NA NA NA NA NA NA ...\n",
            " $ businessacceptscreditcards: Factor w/ 2 levels \"0\",\"1\": 1 1 1 1 2 2 2 2 2 2 ...\n",
            " $ restaurantscounterservice : Factor w/ 1 level \"1\": NA NA NA NA NA NA NA NA NA NA ...\n",
            " $ hastv                     : Factor w/ 2 levels \"0\",\"1\": 2 2 1 1 2 2 NA NA 2 2 ...\n",
            " $ restaurantspricerange2    : int  1 1 1 1 2 2 1 1 1 1 ...\n",
            " $ restaurantsreservations   : Factor w/ 2 levels \"0\",\"1\": 1 1 1 1 2 2 NA NA 1 1 ...\n",
            " $ restaurantsdelivery       : Factor w/ 2 levels \"0\",\"1\": 2 2 1 1 1 1 NA NA 1 1 ...\n",
            " $ wifi                      : Factor w/ 3 levels \"No\",\"Free\",\"Paid\": 1 1 1 1 2 2 2 2 1 1 ...\n",
            " $ restaurantstakeout        : Factor w/ 2 levels \"0\",\"1\": 2 2 2 2 2 2 2 2 2 2 ...\n",
            " $ n_photo                   : int  0 0 5 5 0 0 2 2 1 1 ...\n",
            " $ year                      : int  2018 2019 2018 2019 2018 2019 2018 2019 2018 2019 ...\n",
            " $ attribute_count           : chr  \"9\" \"9\" \"8\" \"8\" ...\n",
            " $ check_in_count            : int  2 2 8 6 5 4 15 6 4 2 ...\n",
            " $ review_count              : int  6 0 8 14 5 5 8 11 4 4 ...\n",
            " $ average_stars             : chr  \"2.0000\" \"0.0\" \"4.7500\" \"4.9286\" ...\n",
            " $ parking_total             : Factor w/ 2 levels \"0\",\"1\": 2 2 2 2 1 1 2 2 2 2 ...\n"
          ]
        }
      ]
    },
    {
      "cell_type": "code",
      "source": [
        "data$business_id  <- as.character(data$business_id)\n",
        "\n",
        "data$postal_code  <- as.integer(data$postal_code)\n",
        "\n",
        "data$business_lat <- as.numeric(data$business_lat)\n",
        "\n",
        "data$business_long <- as.numeric(data$business_long)\n",
        "\n",
        "data$overall_business_stars <- as.numeric(data$overall_business_stars)\n",
        "\n",
        "data$overall_review_count <- as.integer(data$overall_review_count)\n",
        "\n",
        "data$n_photo <- as.integer(data$n_photo)\n",
        "\n",
        "data$year <- as.integer(data$year)\n",
        "\n",
        "data$attribute_count <- as.integer(data$attribute_count)\n",
        "\n",
        "data$check_in_count <- as.integer(data$check_in_count)\n",
        "\n",
        "data$review_count <- as.integer(data$review_count)\n",
        "\n",
        "data$average_stars <- as.numeric(data$average_stars)"
      ],
      "metadata": {
        "colab": {
          "base_uri": "https://localhost:8080/"
        },
        "id": "-aua3d0aJx_N",
        "outputId": "5c4bdf5a-9017-4800-9f84-e808ee0e8957"
      },
      "execution_count": 34,
      "outputs": [
        {
          "output_type": "stream",
          "name": "stderr",
          "text": [
            "Warning message in eval(expr, envir, enclos):\n",
            "“NAs introduced by coercion”\n"
          ]
        }
      ]
    },
    {
      "cell_type": "code",
      "source": [
        "summary(data)"
      ],
      "metadata": {
        "colab": {
          "base_uri": "https://localhost:8080/",
          "height": 1000
        },
        "id": "ixwyytQeGXb9",
        "outputId": "932967f8-e3a4-4044-f7e1-f341b97b5b56"
      },
      "execution_count": 35,
      "outputs": [
        {
          "output_type": "display_data",
          "data": {
            "text/plain": [
              " business_id         postal_code     business_lat   business_long   \n",
              " Length:5272        Min.   :19101   Min.   :39.87   Min.   :-75.33  \n",
              " Class :character   1st Qu.:19106   1st Qu.:39.95   1st Qu.:-75.18  \n",
              " Mode  :character   Median :19123   Median :39.95   Median :-75.16  \n",
              "                    Mean   :19124   Mean   :39.97   Mean   :-75.15  \n",
              "                    3rd Qu.:19145   3rd Qu.:39.99   3rd Qu.:-75.14  \n",
              "                    Max.   :19195   Max.   :40.13   Max.   :-74.96  \n",
              "                                                                    \n",
              " overall_business_stars overall_review_count isromantic  isintimate \n",
              " Min.   :1.00           Min.   :   5.0       0   :4320   0   :4142  \n",
              " 1st Qu.:3.50           1st Qu.:  38.0       1   : 118   1   : 170  \n",
              " Median :4.00           Median :  98.0       NA's: 834   NA's: 960  \n",
              " Mean   :3.65           Mean   : 202.3                              \n",
              " 3rd Qu.:4.00           3rd Qu.: 235.2                              \n",
              " Max.   :5.00           Max.   :5721.0                              \n",
              "                                                                    \n",
              " istouristy  ishipster   isdivey     isclassy    istrendy    isupscale  \n",
              " 0   :4404   0   :4026   0   :4062   0   :3170   0   :3720   0   :4488  \n",
              " 1   :  52   1   : 230   1   : 144   1   :1268   1   : 440   1   :  56  \n",
              " NA's: 816   NA's:1016   NA's:1066   NA's: 834   NA's:1112   NA's: 728  \n",
              "                                                                        \n",
              "                                                                        \n",
              "                                                                        \n",
              "                                                                        \n",
              " iscasual    parking_garage parking_street parking_validated parking_lot\n",
              " 0   :1862   0   :4330      0   :1400      0   :4692         0   :3986  \n",
              " 1   :2672   1   : 398      1   :3430      1   : 130         1   :1000  \n",
              " NA's: 738   NA's: 544      NA's: 442      NA's: 450         NA's: 286  \n",
              "                                                                        \n",
              "                                                                        \n",
              "                                                                        \n",
              "                                                                        \n",
              " parking_valet          alcohol     outdoorseating restaurantstableservice\n",
              " 0   :4954     Non_alcohol  :2760   0   :2466      0   : 930              \n",
              " 1   : 106     Beer_and_wine: 240   1   :2020      1   :1612              \n",
              " NA's: 212     Full_bar     :1516   NA's: 786      NA's:2730              \n",
              "               NA's         : 756                                         \n",
              "                                                                          \n",
              "                                                                          \n",
              "                                                                          \n",
              " bikeparking happyhour     byob      businessacceptscreditcards\n",
              " 0   : 924   0   : 780   0   : 346   0   : 520                 \n",
              " 1   :3682   1   :1192   1   : 206   1   :4610                 \n",
              " NA's: 666   NA's:3300   NA's:4720   NA's: 142                 \n",
              "                                                               \n",
              "                                                               \n",
              "                                                               \n",
              "                                                               \n",
              " restaurantscounterservice  hastv      restaurantspricerange2\n",
              " 1   :   4                 0   :1192   Min.   :1.000         \n",
              " NA's:5268                 1   :3570   1st Qu.:1.000         \n",
              "                           NA's: 510   Median :2.000         \n",
              "                                       Mean   :1.658         \n",
              "                                       3rd Qu.:2.000         \n",
              "                                       Max.   :4.000         \n",
              "                                       NA's   :334           \n",
              " restaurantsreservations restaurantsdelivery   wifi      restaurantstakeout\n",
              " 0   :3052               0   :1086           No  :2226   0   : 220         \n",
              " 1   :1712               1   :3674           Free:2316   1   :4818         \n",
              " NA's: 508               NA's: 512           Paid:  44   NA's: 234         \n",
              "                                             NA's: 686                     \n",
              "                                                                           \n",
              "                                                                           \n",
              "                                                                           \n",
              "    n_photo             year      attribute_count check_in_count   \n",
              " Min.   :  0.000   Min.   :2018   Min.   : 0.00   Min.   :   1.00  \n",
              " 1st Qu.:  0.000   1st Qu.:2018   1st Qu.: 7.00   1st Qu.:   4.00  \n",
              " Median :  2.000   Median :2018   Median :11.00   Median :  13.00  \n",
              " Mean   :  6.477   Mean   :2018   Mean   :10.81   Mean   :  33.18  \n",
              " 3rd Qu.:  7.000   3rd Qu.:2019   3rd Qu.:14.00   3rd Qu.:  36.00  \n",
              " Max.   :157.000   Max.   :2019   Max.   :24.00   Max.   :1522.00  \n",
              "                                  NA's   :2                        \n",
              "  review_count    average_stars   parking_total\n",
              " Min.   :  0.00   Min.   :0.000   0   : 702    \n",
              " 1st Qu.:  5.00   1st Qu.:3.000   1   :3888    \n",
              " Median : 12.00   Median :3.800   NA's: 682    \n",
              " Mean   : 24.35   Mean   :3.540                \n",
              " 3rd Qu.: 28.00   3rd Qu.:4.286                \n",
              " Max.   :744.00   Max.   :5.000                \n",
              "                                               "
            ]
          },
          "metadata": {}
        }
      ]
    },
    {
      "cell_type": "code",
      "source": [
        "sum(is.na(data$restaurantspricerange2))"
      ],
      "metadata": {
        "colab": {
          "base_uri": "https://localhost:8080/",
          "height": 34
        },
        "id": "DQjHQlsoG1JC",
        "outputId": "d0089127-7ee0-456c-e25d-99fa053f12b6"
      },
      "execution_count": 36,
      "outputs": [
        {
          "output_type": "display_data",
          "data": {
            "text/html": [
              "334"
            ],
            "text/markdown": "334",
            "text/latex": "334",
            "text/plain": [
              "[1] 334"
            ]
          },
          "metadata": {}
        }
      ]
    },
    {
      "cell_type": "markdown",
      "source": [
        "Dealing with NA's in attribute_count"
      ],
      "metadata": {
        "id": "APqqsutvTD0d"
      }
    },
    {
      "cell_type": "code",
      "source": [
        "sum(is.na(data$attribute_count))\n",
        "\n",
        "data$attribute_count  <- as.character(data$attribute_count)\n",
        "\n",
        "data <- data %>%\n",
        "    mutate(attribute_count = replace_na(attribute_count, \"0\"))\n",
        "\n",
        "data$attribute_count <- as.integer(data$attribute_count)\n",
        "\n",
        "sum(is.na(data$attribute_count))"
      ],
      "metadata": {
        "id": "LLx6-g53TIUW",
        "colab": {
          "base_uri": "https://localhost:8080/",
          "height": 52
        },
        "outputId": "6a8afe37-1c45-4cd8-94fe-cdd61b60dfb8"
      },
      "execution_count": 37,
      "outputs": [
        {
          "output_type": "display_data",
          "data": {
            "text/html": [
              "2"
            ],
            "text/markdown": "2",
            "text/latex": "2",
            "text/plain": [
              "[1] 2"
            ]
          },
          "metadata": {}
        },
        {
          "output_type": "display_data",
          "data": {
            "text/html": [
              "0"
            ],
            "text/markdown": "0",
            "text/latex": "0",
            "text/plain": [
              "[1] 0"
            ]
          },
          "metadata": {}
        }
      ]
    },
    {
      "cell_type": "markdown",
      "source": [
        "# External: Population Data"
      ],
      "metadata": {
        "id": "65hSDTVtWtgb"
      }
    },
    {
      "cell_type": "markdown",
      "source": [
        "## Data Import"
      ],
      "metadata": {
        "id": "mFtcPthk8E0q"
      }
    },
    {
      "cell_type": "code",
      "source": [
        "population_by_zip_2018_raw <- read.csv(file=\"ACSDP5Y2018.DP05-2024-06-27T181422.csv\", header=TRUE,sep=\",\",dec=\";\")"
      ],
      "metadata": {
        "id": "mqJ24eNU1fdR"
      },
      "execution_count": 38,
      "outputs": []
    },
    {
      "cell_type": "code",
      "source": [
        "population_by_zip_2019_raw <- read.csv(file=\"ACSDP5Y2019.DP05-2024-06-27T182513.csv\", header=TRUE,sep=\",\",dec=\";\")"
      ],
      "metadata": {
        "id": "k4H52XISFjV3"
      },
      "execution_count": 39,
      "outputs": []
    },
    {
      "cell_type": "markdown",
      "source": [
        "## Cleaning & Check"
      ],
      "metadata": {
        "id": "6wNOT-eLYMlt"
      }
    },
    {
      "cell_type": "markdown",
      "source": [
        "### 2018 Data"
      ],
      "metadata": {
        "id": "gyG1AbyIOaVZ"
      }
    },
    {
      "cell_type": "code",
      "source": [
        "head(population_by_zip_2018_raw)"
      ],
      "metadata": {
        "colab": {
          "base_uri": "https://localhost:8080/",
          "height": 306
        },
        "id": "vbQoJZhR1p6L",
        "outputId": "505d3da4-02b3-40fe-b4bf-67d913ef33ae"
      },
      "execution_count": 40,
      "outputs": [
        {
          "output_type": "display_data",
          "data": {
            "text/html": [
              "<table class=\"dataframe\">\n",
              "<caption>A data.frame: 6 × 19</caption>\n",
              "<thead>\n",
              "\t<tr><th></th><th scope=col>Label..Grouping.</th><th scope=col>SEX.AND.AGE..Total.population</th><th scope=col>SEX.AND.AGE..Total.population..Male</th><th scope=col>SEX.AND.AGE..Total.population..Female</th><th scope=col>SEX.AND.AGE..Total.population..Sex.ratio..males.per.100.females.</th><th scope=col>SEX.AND.AGE..Total.population..Under.5.years</th><th scope=col>SEX.AND.AGE..Total.population..5.to.9.years</th><th scope=col>SEX.AND.AGE..Total.population..10.to.14.years</th><th scope=col>SEX.AND.AGE..Total.population..15.to.19.years</th><th scope=col>SEX.AND.AGE..Total.population..20.to.24.years</th><th scope=col>SEX.AND.AGE..Total.population..25.to.34.years</th><th scope=col>SEX.AND.AGE..Total.population..35.to.44.years</th><th scope=col>SEX.AND.AGE..Total.population..45.to.54.years</th><th scope=col>SEX.AND.AGE..Total.population..55.to.59.years</th><th scope=col>SEX.AND.AGE..Total.population..60.to.64.years</th><th scope=col>SEX.AND.AGE..Total.population..65.to.74.years</th><th scope=col>SEX.AND.AGE..Total.population..75.to.84.years</th><th scope=col>SEX.AND.AGE..Total.population..85.years.and.over</th><th scope=col>Total.housing.units</th></tr>\n",
              "\t<tr><th></th><th scope=col>&lt;chr&gt;</th><th scope=col>&lt;chr&gt;</th><th scope=col>&lt;chr&gt;</th><th scope=col>&lt;chr&gt;</th><th scope=col>&lt;chr&gt;</th><th scope=col>&lt;chr&gt;</th><th scope=col>&lt;chr&gt;</th><th scope=col>&lt;chr&gt;</th><th scope=col>&lt;chr&gt;</th><th scope=col>&lt;chr&gt;</th><th scope=col>&lt;chr&gt;</th><th scope=col>&lt;chr&gt;</th><th scope=col>&lt;chr&gt;</th><th scope=col>&lt;chr&gt;</th><th scope=col>&lt;chr&gt;</th><th scope=col>&lt;chr&gt;</th><th scope=col>&lt;chr&gt;</th><th scope=col>&lt;chr&gt;</th><th scope=col>&lt;chr&gt;</th></tr>\n",
              "</thead>\n",
              "<tbody>\n",
              "\t<tr><th scope=row>1</th><td>ZCTA5 19102 </td><td>      </td><td>      </td><td>      </td><td>     </td><td>    </td><td>    </td><td>    </td><td>    </td><td>     </td><td>     </td><td>     </td><td>     </td><td>     </td><td>     </td><td>     </td><td>     </td><td>    </td><td>      </td></tr>\n",
              "\t<tr><th scope=row>2</th><td>    Estimate</td><td>4,937 </td><td>2,505 </td><td>2,432 </td><td>103.0</td><td>85  </td><td>16  </td><td>15  </td><td>230 </td><td>596  </td><td>1,936</td><td>422  </td><td>477  </td><td>64   </td><td>189  </td><td>491  </td><td>260  </td><td>156 </td><td>3,536 </td></tr>\n",
              "\t<tr><th scope=row>3</th><td>    Percent </td><td>4,937 </td><td>50.7% </td><td>49.3% </td><td>(X)  </td><td>1.7%</td><td>0.3%</td><td>0.3%</td><td>4.7%</td><td>12.1%</td><td>39.2%</td><td>8.5% </td><td>9.7% </td><td>1.3% </td><td>3.8% </td><td>9.9% </td><td>5.3% </td><td>3.2%</td><td>(X)   </td></tr>\n",
              "\t<tr><th scope=row>4</th><td>ZCTA5 19103 </td><td>      </td><td>      </td><td>      </td><td>     </td><td>    </td><td>    </td><td>    </td><td>    </td><td>     </td><td>     </td><td>     </td><td>     </td><td>     </td><td>     </td><td>     </td><td>     </td><td>    </td><td>      </td></tr>\n",
              "\t<tr><th scope=row>5</th><td>    Estimate</td><td>24,219</td><td>10,699</td><td>13,520</td><td>79.1 </td><td>681 </td><td>341 </td><td>268 </td><td>368 </td><td>1,558</td><td>8,544</td><td>2,823</td><td>2,242</td><td>1,004</td><td>1,159</td><td>2,974</td><td>1,473</td><td>784 </td><td>17,328</td></tr>\n",
              "\t<tr><th scope=row>6</th><td>    Percent </td><td>24,219</td><td>44.2% </td><td>55.8% </td><td>(X)  </td><td>2.8%</td><td>1.4%</td><td>1.1%</td><td>1.5%</td><td>6.4% </td><td>35.3%</td><td>11.7%</td><td>9.3% </td><td>4.1% </td><td>4.8% </td><td>12.3%</td><td>6.1% </td><td>3.2%</td><td>(X)   </td></tr>\n",
              "</tbody>\n",
              "</table>\n"
            ],
            "text/markdown": "\nA data.frame: 6 × 19\n\n| <!--/--> | Label..Grouping. &lt;chr&gt; | SEX.AND.AGE..Total.population &lt;chr&gt; | SEX.AND.AGE..Total.population..Male &lt;chr&gt; | SEX.AND.AGE..Total.population..Female &lt;chr&gt; | SEX.AND.AGE..Total.population..Sex.ratio..males.per.100.females. &lt;chr&gt; | SEX.AND.AGE..Total.population..Under.5.years &lt;chr&gt; | SEX.AND.AGE..Total.population..5.to.9.years &lt;chr&gt; | SEX.AND.AGE..Total.population..10.to.14.years &lt;chr&gt; | SEX.AND.AGE..Total.population..15.to.19.years &lt;chr&gt; | SEX.AND.AGE..Total.population..20.to.24.years &lt;chr&gt; | SEX.AND.AGE..Total.population..25.to.34.years &lt;chr&gt; | SEX.AND.AGE..Total.population..35.to.44.years &lt;chr&gt; | SEX.AND.AGE..Total.population..45.to.54.years &lt;chr&gt; | SEX.AND.AGE..Total.population..55.to.59.years &lt;chr&gt; | SEX.AND.AGE..Total.population..60.to.64.years &lt;chr&gt; | SEX.AND.AGE..Total.population..65.to.74.years &lt;chr&gt; | SEX.AND.AGE..Total.population..75.to.84.years &lt;chr&gt; | SEX.AND.AGE..Total.population..85.years.and.over &lt;chr&gt; | Total.housing.units &lt;chr&gt; |\n|---|---|---|---|---|---|---|---|---|---|---|---|---|---|---|---|---|---|---|---|\n| 1 | ZCTA5 19102  | <!----> | <!----> | <!----> | <!----> | <!----> | <!----> | <!----> | <!----> | <!----> | <!----> | <!----> | <!----> | <!----> | <!----> | <!----> | <!----> | <!----> | <!----> |\n| 2 |     Estimate | 4,937  | 2,505  | 2,432  | 103.0 | 85   | 16   | 15   | 230  | 596   | 1,936 | 422   | 477   | 64    | 189   | 491   | 260   | 156  | 3,536  |\n| 3 |     Percent  | 4,937  | 50.7%  | 49.3%  | (X)   | 1.7% | 0.3% | 0.3% | 4.7% | 12.1% | 39.2% | 8.5%  | 9.7%  | 1.3%  | 3.8%  | 9.9%  | 5.3%  | 3.2% | (X)    |\n| 4 | ZCTA5 19103  | <!----> | <!----> | <!----> | <!----> | <!----> | <!----> | <!----> | <!----> | <!----> | <!----> | <!----> | <!----> | <!----> | <!----> | <!----> | <!----> | <!----> | <!----> |\n| 5 |     Estimate | 24,219 | 10,699 | 13,520 | 79.1  | 681  | 341  | 268  | 368  | 1,558 | 8,544 | 2,823 | 2,242 | 1,004 | 1,159 | 2,974 | 1,473 | 784  | 17,328 |\n| 6 |     Percent  | 24,219 | 44.2%  | 55.8%  | (X)   | 2.8% | 1.4% | 1.1% | 1.5% | 6.4%  | 35.3% | 11.7% | 9.3%  | 4.1%  | 4.8%  | 12.3% | 6.1%  | 3.2% | (X)    |\n\n",
            "text/latex": "A data.frame: 6 × 19\n\\begin{tabular}{r|lllllllllllllllllll}\n  & Label..Grouping. & SEX.AND.AGE..Total.population & SEX.AND.AGE..Total.population..Male & SEX.AND.AGE..Total.population..Female & SEX.AND.AGE..Total.population..Sex.ratio..males.per.100.females. & SEX.AND.AGE..Total.population..Under.5.years & SEX.AND.AGE..Total.population..5.to.9.years & SEX.AND.AGE..Total.population..10.to.14.years & SEX.AND.AGE..Total.population..15.to.19.years & SEX.AND.AGE..Total.population..20.to.24.years & SEX.AND.AGE..Total.population..25.to.34.years & SEX.AND.AGE..Total.population..35.to.44.years & SEX.AND.AGE..Total.population..45.to.54.years & SEX.AND.AGE..Total.population..55.to.59.years & SEX.AND.AGE..Total.population..60.to.64.years & SEX.AND.AGE..Total.population..65.to.74.years & SEX.AND.AGE..Total.population..75.to.84.years & SEX.AND.AGE..Total.population..85.years.and.over & Total.housing.units\\\\\n  & <chr> & <chr> & <chr> & <chr> & <chr> & <chr> & <chr> & <chr> & <chr> & <chr> & <chr> & <chr> & <chr> & <chr> & <chr> & <chr> & <chr> & <chr> & <chr>\\\\\n\\hline\n\t1 & ZCTA5 19102  &        &        &        &       &      &      &      &      &       &       &       &       &       &       &       &       &      &       \\\\\n\t2 &     Estimate & 4,937  & 2,505  & 2,432  & 103.0 & 85   & 16   & 15   & 230  & 596   & 1,936 & 422   & 477   & 64    & 189   & 491   & 260   & 156  & 3,536 \\\\\n\t3 &     Percent  & 4,937  & 50.7\\%  & 49.3\\%  & (X)   & 1.7\\% & 0.3\\% & 0.3\\% & 4.7\\% & 12.1\\% & 39.2\\% & 8.5\\%  & 9.7\\%  & 1.3\\%  & 3.8\\%  & 9.9\\%  & 5.3\\%  & 3.2\\% & (X)   \\\\\n\t4 & ZCTA5 19103  &        &        &        &       &      &      &      &      &       &       &       &       &       &       &       &       &      &       \\\\\n\t5 &     Estimate & 24,219 & 10,699 & 13,520 & 79.1  & 681  & 341  & 268  & 368  & 1,558 & 8,544 & 2,823 & 2,242 & 1,004 & 1,159 & 2,974 & 1,473 & 784  & 17,328\\\\\n\t6 &     Percent  & 24,219 & 44.2\\%  & 55.8\\%  & (X)   & 2.8\\% & 1.4\\% & 1.1\\% & 1.5\\% & 6.4\\%  & 35.3\\% & 11.7\\% & 9.3\\%  & 4.1\\%  & 4.8\\%  & 12.3\\% & 6.1\\%  & 3.2\\% & (X)   \\\\\n\\end{tabular}\n",
            "text/plain": [
              "  Label..Grouping. SEX.AND.AGE..Total.population\n",
              "1 ZCTA5 19102                                   \n",
              "2     Estimate     4,937                        \n",
              "3     Percent      4,937                        \n",
              "4 ZCTA5 19103                                   \n",
              "5     Estimate     24,219                       \n",
              "6     Percent      24,219                       \n",
              "  SEX.AND.AGE..Total.population..Male SEX.AND.AGE..Total.population..Female\n",
              "1                                                                          \n",
              "2 2,505                               2,432                                \n",
              "3 50.7%                               49.3%                                \n",
              "4                                                                          \n",
              "5 10,699                              13,520                               \n",
              "6 44.2%                               55.8%                                \n",
              "  SEX.AND.AGE..Total.population..Sex.ratio..males.per.100.females.\n",
              "1                                                                 \n",
              "2 103.0                                                           \n",
              "3 (X)                                                             \n",
              "4                                                                 \n",
              "5 79.1                                                            \n",
              "6 (X)                                                             \n",
              "  SEX.AND.AGE..Total.population..Under.5.years\n",
              "1                                             \n",
              "2 85                                          \n",
              "3 1.7%                                        \n",
              "4                                             \n",
              "5 681                                         \n",
              "6 2.8%                                        \n",
              "  SEX.AND.AGE..Total.population..5.to.9.years\n",
              "1                                            \n",
              "2 16                                         \n",
              "3 0.3%                                       \n",
              "4                                            \n",
              "5 341                                        \n",
              "6 1.4%                                       \n",
              "  SEX.AND.AGE..Total.population..10.to.14.years\n",
              "1                                              \n",
              "2 15                                           \n",
              "3 0.3%                                         \n",
              "4                                              \n",
              "5 268                                          \n",
              "6 1.1%                                         \n",
              "  SEX.AND.AGE..Total.population..15.to.19.years\n",
              "1                                              \n",
              "2 230                                          \n",
              "3 4.7%                                         \n",
              "4                                              \n",
              "5 368                                          \n",
              "6 1.5%                                         \n",
              "  SEX.AND.AGE..Total.population..20.to.24.years\n",
              "1                                              \n",
              "2 596                                          \n",
              "3 12.1%                                        \n",
              "4                                              \n",
              "5 1,558                                        \n",
              "6 6.4%                                         \n",
              "  SEX.AND.AGE..Total.population..25.to.34.years\n",
              "1                                              \n",
              "2 1,936                                        \n",
              "3 39.2%                                        \n",
              "4                                              \n",
              "5 8,544                                        \n",
              "6 35.3%                                        \n",
              "  SEX.AND.AGE..Total.population..35.to.44.years\n",
              "1                                              \n",
              "2 422                                          \n",
              "3 8.5%                                         \n",
              "4                                              \n",
              "5 2,823                                        \n",
              "6 11.7%                                        \n",
              "  SEX.AND.AGE..Total.population..45.to.54.years\n",
              "1                                              \n",
              "2 477                                          \n",
              "3 9.7%                                         \n",
              "4                                              \n",
              "5 2,242                                        \n",
              "6 9.3%                                         \n",
              "  SEX.AND.AGE..Total.population..55.to.59.years\n",
              "1                                              \n",
              "2 64                                           \n",
              "3 1.3%                                         \n",
              "4                                              \n",
              "5 1,004                                        \n",
              "6 4.1%                                         \n",
              "  SEX.AND.AGE..Total.population..60.to.64.years\n",
              "1                                              \n",
              "2 189                                          \n",
              "3 3.8%                                         \n",
              "4                                              \n",
              "5 1,159                                        \n",
              "6 4.8%                                         \n",
              "  SEX.AND.AGE..Total.population..65.to.74.years\n",
              "1                                              \n",
              "2 491                                          \n",
              "3 9.9%                                         \n",
              "4                                              \n",
              "5 2,974                                        \n",
              "6 12.3%                                        \n",
              "  SEX.AND.AGE..Total.population..75.to.84.years\n",
              "1                                              \n",
              "2 260                                          \n",
              "3 5.3%                                         \n",
              "4                                              \n",
              "5 1,473                                        \n",
              "6 6.1%                                         \n",
              "  SEX.AND.AGE..Total.population..85.years.and.over Total.housing.units\n",
              "1                                                                     \n",
              "2 156                                              3,536              \n",
              "3 3.2%                                             (X)                \n",
              "4                                                                     \n",
              "5 784                                              17,328             \n",
              "6 3.2%                                             (X)                "
            ]
          },
          "metadata": {}
        }
      ]
    },
    {
      "cell_type": "code",
      "source": [
        "#Data Cleaning for 2018 Data:\n",
        "\n",
        "# Identify rows that are estimates\n",
        "estimates_2018 <- population_by_zip_2018_raw %>%\n",
        "  filter(grepl(\"Estimate\", population_by_zip_2018_raw$Label..Grouping.))\n",
        "\n",
        "# Extract labels\n",
        "labels_2018 <- population_by_zip_2018_raw %>%\n",
        "  filter(!grepl(\"Estimate|Percent\", population_by_zip_2018_raw$Label..Grouping.))\n",
        "\n",
        "# Combine labels and estimates\n",
        "population_by_zip_2018 <- labels_2018 %>%\n",
        "  mutate(row_number = row_number()) %>%\n",
        "  select(Label..Grouping.,row_number) %>%\n",
        "  left_join(estimates_2018 %>%\n",
        "              select(-Label..Grouping.) %>%\n",
        "              mutate(row_number = row_number()),\n",
        "            by = \"row_number\") %>%\n",
        "  select(-row_number)  %>%\n",
        "  separate(Label..Grouping., into = c(\"ZCTA5\", \"postal_code\"), sep = \" \") %>%\n",
        "  select(-ZCTA5) %>%\n",
        "  rename_with(~ gsub(\"^SEX.AND.AGE..\", \"\", .)) %>%\n",
        "  mutate_all(~ gsub(\",\", \"\", .)) %>%\n",
        "  #mutate_all(~ gsub(\".\", \"\", .)) %>%\n",
        "  select(-Total.population..Sex.ratio..males.per.100.females.)\n",
        "\n",
        "#Adjust column type:\n",
        "population_by_zip_2018 <- population_by_zip_2018 %>%\n",
        "  mutate(across(-1, as.numeric)) %>%  # Convert all columns except the first to numeric\n",
        "  mutate(across(1, as.integer))\n",
        "\n",
        "#Adjusting for final structure:\n",
        "population_by_zip_2018 <- population_by_zip_2018 %>%\n",
        "  mutate(males_per_females = Total.population..Male / Total.population..Female) %>%\n",
        "  mutate(males_per_females = replace_na(males_per_females, 0)) %>% # Replace NA with zero in males_per_females\n",
        "  select(-Total.population..Male, -Total.population..Female) %>%\n",
        "  rename(total_population = Total.population) %>%\n",
        "  mutate(total_population_children = Total.population..Under.5.years + Total.population..5.to.9.years + Total.population..10.to.14.years,\n",
        "          total_population_youth = Total.population..15.to.19.years\t+ Total.population..20.to.24.years,\n",
        "            total_population_adults = Total.population..25.to.34.years + Total.population..35.to.44.years + Total.population..45.to.54.years\n",
        "                                        + Total.population..55.to.59.years + Total.population..60.to.64.years,\n",
        "              total_population_seniors = Total.population..65.to.74.years + Total.population..75.to.84.years + Total.population..85.years.and.over) %>%\n",
        "  select(postal_code, males_per_females, total_population, total_population_children, total_population_youth, total_population_adults, total_population_seniors)"
      ],
      "metadata": {
        "id": "HVSji78u214j"
      },
      "execution_count": 41,
      "outputs": []
    },
    {
      "cell_type": "code",
      "source": [
        "head(population_by_zip_2018)"
      ],
      "metadata": {
        "colab": {
          "base_uri": "https://localhost:8080/",
          "height": 286
        },
        "id": "lUt26eQ14jI7",
        "outputId": "838e6cdc-b813-41b5-c480-160aae196a4c"
      },
      "execution_count": 42,
      "outputs": [
        {
          "output_type": "display_data",
          "data": {
            "text/html": [
              "<table class=\"dataframe\">\n",
              "<caption>A data.frame: 6 × 7</caption>\n",
              "<thead>\n",
              "\t<tr><th></th><th scope=col>postal_code</th><th scope=col>males_per_females</th><th scope=col>total_population</th><th scope=col>total_population_children</th><th scope=col>total_population_youth</th><th scope=col>total_population_adults</th><th scope=col>total_population_seniors</th></tr>\n",
              "\t<tr><th></th><th scope=col>&lt;int&gt;</th><th scope=col>&lt;dbl&gt;</th><th scope=col>&lt;dbl&gt;</th><th scope=col>&lt;dbl&gt;</th><th scope=col>&lt;dbl&gt;</th><th scope=col>&lt;dbl&gt;</th><th scope=col>&lt;dbl&gt;</th></tr>\n",
              "</thead>\n",
              "<tbody>\n",
              "\t<tr><th scope=row>1</th><td>19102</td><td>1.0300164</td><td> 4937</td><td> 116</td><td>  826</td><td> 3088</td><td> 907</td></tr>\n",
              "\t<tr><th scope=row>2</th><td>19103</td><td>0.7913462</td><td>24219</td><td>1290</td><td> 1926</td><td>15772</td><td>5231</td></tr>\n",
              "\t<tr><th scope=row>3</th><td>19104</td><td>0.9367043</td><td>54311</td><td>6698</td><td>23800</td><td>20000</td><td>3813</td></tr>\n",
              "\t<tr><th scope=row>4</th><td>19106</td><td>1.0676692</td><td>12375</td><td> 763</td><td>  761</td><td> 8671</td><td>2180</td></tr>\n",
              "\t<tr><th scope=row>5</th><td>19107</td><td>0.9222456</td><td>13696</td><td> 727</td><td> 2157</td><td> 9297</td><td>1515</td></tr>\n",
              "\t<tr><th scope=row>6</th><td>19109</td><td>0.0000000</td><td>    0</td><td>   0</td><td>    0</td><td>    0</td><td>   0</td></tr>\n",
              "</tbody>\n",
              "</table>\n"
            ],
            "text/markdown": "\nA data.frame: 6 × 7\n\n| <!--/--> | postal_code &lt;int&gt; | males_per_females &lt;dbl&gt; | total_population &lt;dbl&gt; | total_population_children &lt;dbl&gt; | total_population_youth &lt;dbl&gt; | total_population_adults &lt;dbl&gt; | total_population_seniors &lt;dbl&gt; |\n|---|---|---|---|---|---|---|---|\n| 1 | 19102 | 1.0300164 |  4937 |  116 |   826 |  3088 |  907 |\n| 2 | 19103 | 0.7913462 | 24219 | 1290 |  1926 | 15772 | 5231 |\n| 3 | 19104 | 0.9367043 | 54311 | 6698 | 23800 | 20000 | 3813 |\n| 4 | 19106 | 1.0676692 | 12375 |  763 |   761 |  8671 | 2180 |\n| 5 | 19107 | 0.9222456 | 13696 |  727 |  2157 |  9297 | 1515 |\n| 6 | 19109 | 0.0000000 |     0 |    0 |     0 |     0 |    0 |\n\n",
            "text/latex": "A data.frame: 6 × 7\n\\begin{tabular}{r|lllllll}\n  & postal\\_code & males\\_per\\_females & total\\_population & total\\_population\\_children & total\\_population\\_youth & total\\_population\\_adults & total\\_population\\_seniors\\\\\n  & <int> & <dbl> & <dbl> & <dbl> & <dbl> & <dbl> & <dbl>\\\\\n\\hline\n\t1 & 19102 & 1.0300164 &  4937 &  116 &   826 &  3088 &  907\\\\\n\t2 & 19103 & 0.7913462 & 24219 & 1290 &  1926 & 15772 & 5231\\\\\n\t3 & 19104 & 0.9367043 & 54311 & 6698 & 23800 & 20000 & 3813\\\\\n\t4 & 19106 & 1.0676692 & 12375 &  763 &   761 &  8671 & 2180\\\\\n\t5 & 19107 & 0.9222456 & 13696 &  727 &  2157 &  9297 & 1515\\\\\n\t6 & 19109 & 0.0000000 &     0 &    0 &     0 &     0 &    0\\\\\n\\end{tabular}\n",
            "text/plain": [
              "  postal_code males_per_females total_population total_population_children\n",
              "1 19102       1.0300164          4937             116                     \n",
              "2 19103       0.7913462         24219            1290                     \n",
              "3 19104       0.9367043         54311            6698                     \n",
              "4 19106       1.0676692         12375             763                     \n",
              "5 19107       0.9222456         13696             727                     \n",
              "6 19109       0.0000000             0               0                     \n",
              "  total_population_youth total_population_adults total_population_seniors\n",
              "1   826                   3088                    907                    \n",
              "2  1926                  15772                   5231                    \n",
              "3 23800                  20000                   3813                    \n",
              "4   761                   8671                   2180                    \n",
              "5  2157                   9297                   1515                    \n",
              "6     0                      0                      0                    "
            ]
          },
          "metadata": {}
        }
      ]
    },
    {
      "cell_type": "markdown",
      "source": [
        "### 2019 Data"
      ],
      "metadata": {
        "id": "ei0m-OqGOeaS"
      }
    },
    {
      "cell_type": "code",
      "source": [
        "head(population_by_zip_2019_raw)"
      ],
      "metadata": {
        "colab": {
          "base_uri": "https://localhost:8080/",
          "height": 306
        },
        "id": "vweOe4XqNSnM",
        "outputId": "cf777e01-dc1a-46e6-924e-fc2a102bb702"
      },
      "execution_count": 43,
      "outputs": [
        {
          "output_type": "display_data",
          "data": {
            "text/html": [
              "<table class=\"dataframe\">\n",
              "<caption>A data.frame: 6 × 20</caption>\n",
              "<thead>\n",
              "\t<tr><th></th><th scope=col>Label..Grouping.</th><th scope=col>SEX.AND.AGE..Total.population</th><th scope=col>SEX.AND.AGE..Total.population..Male</th><th scope=col>SEX.AND.AGE..Total.population..Female</th><th scope=col>SEX.AND.AGE..Total.population..Sex.ratio..males.per.100.females.</th><th scope=col>SEX.AND.AGE..Total.population..Under.5.years</th><th scope=col>SEX.AND.AGE..Total.population..5.to.9.years</th><th scope=col>SEX.AND.AGE..Total.population..10.to.14.years</th><th scope=col>SEX.AND.AGE..Total.population..15.to.19.years</th><th scope=col>SEX.AND.AGE..Total.population..20.to.24.years</th><th scope=col>SEX.AND.AGE..Total.population..25.to.34.years</th><th scope=col>SEX.AND.AGE..Total.population..35.to.44.years</th><th scope=col>SEX.AND.AGE..Total.population..45.to.54.years</th><th scope=col>SEX.AND.AGE..Total.population..55.to.59.years</th><th scope=col>SEX.AND.AGE..Total.population..60.to.64.years</th><th scope=col>SEX.AND.AGE..Total.population..65.to.74.years</th><th scope=col>SEX.AND.AGE..Total.population..75.to.84.years</th><th scope=col>SEX.AND.AGE..Total.population..85.years.and.over</th><th scope=col>SEX.AND.AGE..Total.population..Median.age..years.</th><th scope=col>Total.housing.units</th></tr>\n",
              "\t<tr><th></th><th scope=col>&lt;chr&gt;</th><th scope=col>&lt;chr&gt;</th><th scope=col>&lt;chr&gt;</th><th scope=col>&lt;chr&gt;</th><th scope=col>&lt;chr&gt;</th><th scope=col>&lt;chr&gt;</th><th scope=col>&lt;chr&gt;</th><th scope=col>&lt;chr&gt;</th><th scope=col>&lt;chr&gt;</th><th scope=col>&lt;chr&gt;</th><th scope=col>&lt;chr&gt;</th><th scope=col>&lt;chr&gt;</th><th scope=col>&lt;chr&gt;</th><th scope=col>&lt;chr&gt;</th><th scope=col>&lt;chr&gt;</th><th scope=col>&lt;chr&gt;</th><th scope=col>&lt;chr&gt;</th><th scope=col>&lt;chr&gt;</th><th scope=col>&lt;chr&gt;</th><th scope=col>&lt;chr&gt;</th></tr>\n",
              "</thead>\n",
              "<tbody>\n",
              "\t<tr><th scope=row>1</th><td>ZCTA5 19102 </td><td>      </td><td>      </td><td>      </td><td>     </td><td>    </td><td>    </td><td>    </td><td>    </td><td>     </td><td>     </td><td>     </td><td>     </td><td>     </td><td>     </td><td>     </td><td>     </td><td>    </td><td>    </td><td>      </td></tr>\n",
              "\t<tr><th scope=row>2</th><td>    Estimate</td><td>5,147 </td><td>2,679 </td><td>2,468 </td><td>108.5</td><td>145 </td><td>18  </td><td>0   </td><td>244 </td><td>605  </td><td>2,054</td><td>624  </td><td>277  </td><td>118  </td><td>176  </td><td>477  </td><td>281  </td><td>128 </td><td>31.6</td><td>3,619 </td></tr>\n",
              "\t<tr><th scope=row>3</th><td>    Percent </td><td>5,147 </td><td>52.0% </td><td>48.0% </td><td>(X)  </td><td>2.8%</td><td>0.3%</td><td>0.0%</td><td>4.7%</td><td>11.8%</td><td>39.9%</td><td>12.1%</td><td>5.4% </td><td>2.3% </td><td>3.4% </td><td>9.3% </td><td>5.5% </td><td>2.5%</td><td>(X) </td><td>(X)   </td></tr>\n",
              "\t<tr><th scope=row>4</th><td>ZCTA5 19103 </td><td>      </td><td>      </td><td>      </td><td>     </td><td>    </td><td>    </td><td>    </td><td>    </td><td>     </td><td>     </td><td>     </td><td>     </td><td>     </td><td>     </td><td>     </td><td>     </td><td>    </td><td>    </td><td>      </td></tr>\n",
              "\t<tr><th scope=row>5</th><td>    Estimate</td><td>24,214</td><td>10,491</td><td>13,723</td><td>76.4 </td><td>645 </td><td>312 </td><td>289 </td><td>351 </td><td>1,508</td><td>8,629</td><td>2,673</td><td>2,178</td><td>1,217</td><td>1,106</td><td>2,893</td><td>1,615</td><td>798 </td><td>36.2</td><td>17,613</td></tr>\n",
              "\t<tr><th scope=row>6</th><td>    Percent </td><td>24,214</td><td>43.3% </td><td>56.7% </td><td>(X)  </td><td>2.7%</td><td>1.3%</td><td>1.2%</td><td>1.4%</td><td>6.2% </td><td>35.6%</td><td>11.0%</td><td>9.0% </td><td>5.0% </td><td>4.6% </td><td>11.9%</td><td>6.7% </td><td>3.3%</td><td>(X) </td><td>(X)   </td></tr>\n",
              "</tbody>\n",
              "</table>\n"
            ],
            "text/markdown": "\nA data.frame: 6 × 20\n\n| <!--/--> | Label..Grouping. &lt;chr&gt; | SEX.AND.AGE..Total.population &lt;chr&gt; | SEX.AND.AGE..Total.population..Male &lt;chr&gt; | SEX.AND.AGE..Total.population..Female &lt;chr&gt; | SEX.AND.AGE..Total.population..Sex.ratio..males.per.100.females. &lt;chr&gt; | SEX.AND.AGE..Total.population..Under.5.years &lt;chr&gt; | SEX.AND.AGE..Total.population..5.to.9.years &lt;chr&gt; | SEX.AND.AGE..Total.population..10.to.14.years &lt;chr&gt; | SEX.AND.AGE..Total.population..15.to.19.years &lt;chr&gt; | SEX.AND.AGE..Total.population..20.to.24.years &lt;chr&gt; | SEX.AND.AGE..Total.population..25.to.34.years &lt;chr&gt; | SEX.AND.AGE..Total.population..35.to.44.years &lt;chr&gt; | SEX.AND.AGE..Total.population..45.to.54.years &lt;chr&gt; | SEX.AND.AGE..Total.population..55.to.59.years &lt;chr&gt; | SEX.AND.AGE..Total.population..60.to.64.years &lt;chr&gt; | SEX.AND.AGE..Total.population..65.to.74.years &lt;chr&gt; | SEX.AND.AGE..Total.population..75.to.84.years &lt;chr&gt; | SEX.AND.AGE..Total.population..85.years.and.over &lt;chr&gt; | SEX.AND.AGE..Total.population..Median.age..years. &lt;chr&gt; | Total.housing.units &lt;chr&gt; |\n|---|---|---|---|---|---|---|---|---|---|---|---|---|---|---|---|---|---|---|---|---|\n| 1 | ZCTA5 19102  | <!----> | <!----> | <!----> | <!----> | <!----> | <!----> | <!----> | <!----> | <!----> | <!----> | <!----> | <!----> | <!----> | <!----> | <!----> | <!----> | <!----> | <!----> | <!----> |\n| 2 |     Estimate | 5,147  | 2,679  | 2,468  | 108.5 | 145  | 18   | 0    | 244  | 605   | 2,054 | 624   | 277   | 118   | 176   | 477   | 281   | 128  | 31.6 | 3,619  |\n| 3 |     Percent  | 5,147  | 52.0%  | 48.0%  | (X)   | 2.8% | 0.3% | 0.0% | 4.7% | 11.8% | 39.9% | 12.1% | 5.4%  | 2.3%  | 3.4%  | 9.3%  | 5.5%  | 2.5% | (X)  | (X)    |\n| 4 | ZCTA5 19103  | <!----> | <!----> | <!----> | <!----> | <!----> | <!----> | <!----> | <!----> | <!----> | <!----> | <!----> | <!----> | <!----> | <!----> | <!----> | <!----> | <!----> | <!----> | <!----> |\n| 5 |     Estimate | 24,214 | 10,491 | 13,723 | 76.4  | 645  | 312  | 289  | 351  | 1,508 | 8,629 | 2,673 | 2,178 | 1,217 | 1,106 | 2,893 | 1,615 | 798  | 36.2 | 17,613 |\n| 6 |     Percent  | 24,214 | 43.3%  | 56.7%  | (X)   | 2.7% | 1.3% | 1.2% | 1.4% | 6.2%  | 35.6% | 11.0% | 9.0%  | 5.0%  | 4.6%  | 11.9% | 6.7%  | 3.3% | (X)  | (X)    |\n\n",
            "text/latex": "A data.frame: 6 × 20\n\\begin{tabular}{r|llllllllllllllllllll}\n  & Label..Grouping. & SEX.AND.AGE..Total.population & SEX.AND.AGE..Total.population..Male & SEX.AND.AGE..Total.population..Female & SEX.AND.AGE..Total.population..Sex.ratio..males.per.100.females. & SEX.AND.AGE..Total.population..Under.5.years & SEX.AND.AGE..Total.population..5.to.9.years & SEX.AND.AGE..Total.population..10.to.14.years & SEX.AND.AGE..Total.population..15.to.19.years & SEX.AND.AGE..Total.population..20.to.24.years & SEX.AND.AGE..Total.population..25.to.34.years & SEX.AND.AGE..Total.population..35.to.44.years & SEX.AND.AGE..Total.population..45.to.54.years & SEX.AND.AGE..Total.population..55.to.59.years & SEX.AND.AGE..Total.population..60.to.64.years & SEX.AND.AGE..Total.population..65.to.74.years & SEX.AND.AGE..Total.population..75.to.84.years & SEX.AND.AGE..Total.population..85.years.and.over & SEX.AND.AGE..Total.population..Median.age..years. & Total.housing.units\\\\\n  & <chr> & <chr> & <chr> & <chr> & <chr> & <chr> & <chr> & <chr> & <chr> & <chr> & <chr> & <chr> & <chr> & <chr> & <chr> & <chr> & <chr> & <chr> & <chr> & <chr>\\\\\n\\hline\n\t1 & ZCTA5 19102  &        &        &        &       &      &      &      &      &       &       &       &       &       &       &       &       &      &      &       \\\\\n\t2 &     Estimate & 5,147  & 2,679  & 2,468  & 108.5 & 145  & 18   & 0    & 244  & 605   & 2,054 & 624   & 277   & 118   & 176   & 477   & 281   & 128  & 31.6 & 3,619 \\\\\n\t3 &     Percent  & 5,147  & 52.0\\%  & 48.0\\%  & (X)   & 2.8\\% & 0.3\\% & 0.0\\% & 4.7\\% & 11.8\\% & 39.9\\% & 12.1\\% & 5.4\\%  & 2.3\\%  & 3.4\\%  & 9.3\\%  & 5.5\\%  & 2.5\\% & (X)  & (X)   \\\\\n\t4 & ZCTA5 19103  &        &        &        &       &      &      &      &      &       &       &       &       &       &       &       &       &      &      &       \\\\\n\t5 &     Estimate & 24,214 & 10,491 & 13,723 & 76.4  & 645  & 312  & 289  & 351  & 1,508 & 8,629 & 2,673 & 2,178 & 1,217 & 1,106 & 2,893 & 1,615 & 798  & 36.2 & 17,613\\\\\n\t6 &     Percent  & 24,214 & 43.3\\%  & 56.7\\%  & (X)   & 2.7\\% & 1.3\\% & 1.2\\% & 1.4\\% & 6.2\\%  & 35.6\\% & 11.0\\% & 9.0\\%  & 5.0\\%  & 4.6\\%  & 11.9\\% & 6.7\\%  & 3.3\\% & (X)  & (X)   \\\\\n\\end{tabular}\n",
            "text/plain": [
              "  Label..Grouping. SEX.AND.AGE..Total.population\n",
              "1 ZCTA5 19102                                   \n",
              "2     Estimate     5,147                        \n",
              "3     Percent      5,147                        \n",
              "4 ZCTA5 19103                                   \n",
              "5     Estimate     24,214                       \n",
              "6     Percent      24,214                       \n",
              "  SEX.AND.AGE..Total.population..Male SEX.AND.AGE..Total.population..Female\n",
              "1                                                                          \n",
              "2 2,679                               2,468                                \n",
              "3 52.0%                               48.0%                                \n",
              "4                                                                          \n",
              "5 10,491                              13,723                               \n",
              "6 43.3%                               56.7%                                \n",
              "  SEX.AND.AGE..Total.population..Sex.ratio..males.per.100.females.\n",
              "1                                                                 \n",
              "2 108.5                                                           \n",
              "3 (X)                                                             \n",
              "4                                                                 \n",
              "5 76.4                                                            \n",
              "6 (X)                                                             \n",
              "  SEX.AND.AGE..Total.population..Under.5.years\n",
              "1                                             \n",
              "2 145                                         \n",
              "3 2.8%                                        \n",
              "4                                             \n",
              "5 645                                         \n",
              "6 2.7%                                        \n",
              "  SEX.AND.AGE..Total.population..5.to.9.years\n",
              "1                                            \n",
              "2 18                                         \n",
              "3 0.3%                                       \n",
              "4                                            \n",
              "5 312                                        \n",
              "6 1.3%                                       \n",
              "  SEX.AND.AGE..Total.population..10.to.14.years\n",
              "1                                              \n",
              "2 0                                            \n",
              "3 0.0%                                         \n",
              "4                                              \n",
              "5 289                                          \n",
              "6 1.2%                                         \n",
              "  SEX.AND.AGE..Total.population..15.to.19.years\n",
              "1                                              \n",
              "2 244                                          \n",
              "3 4.7%                                         \n",
              "4                                              \n",
              "5 351                                          \n",
              "6 1.4%                                         \n",
              "  SEX.AND.AGE..Total.population..20.to.24.years\n",
              "1                                              \n",
              "2 605                                          \n",
              "3 11.8%                                        \n",
              "4                                              \n",
              "5 1,508                                        \n",
              "6 6.2%                                         \n",
              "  SEX.AND.AGE..Total.population..25.to.34.years\n",
              "1                                              \n",
              "2 2,054                                        \n",
              "3 39.9%                                        \n",
              "4                                              \n",
              "5 8,629                                        \n",
              "6 35.6%                                        \n",
              "  SEX.AND.AGE..Total.population..35.to.44.years\n",
              "1                                              \n",
              "2 624                                          \n",
              "3 12.1%                                        \n",
              "4                                              \n",
              "5 2,673                                        \n",
              "6 11.0%                                        \n",
              "  SEX.AND.AGE..Total.population..45.to.54.years\n",
              "1                                              \n",
              "2 277                                          \n",
              "3 5.4%                                         \n",
              "4                                              \n",
              "5 2,178                                        \n",
              "6 9.0%                                         \n",
              "  SEX.AND.AGE..Total.population..55.to.59.years\n",
              "1                                              \n",
              "2 118                                          \n",
              "3 2.3%                                         \n",
              "4                                              \n",
              "5 1,217                                        \n",
              "6 5.0%                                         \n",
              "  SEX.AND.AGE..Total.population..60.to.64.years\n",
              "1                                              \n",
              "2 176                                          \n",
              "3 3.4%                                         \n",
              "4                                              \n",
              "5 1,106                                        \n",
              "6 4.6%                                         \n",
              "  SEX.AND.AGE..Total.population..65.to.74.years\n",
              "1                                              \n",
              "2 477                                          \n",
              "3 9.3%                                         \n",
              "4                                              \n",
              "5 2,893                                        \n",
              "6 11.9%                                        \n",
              "  SEX.AND.AGE..Total.population..75.to.84.years\n",
              "1                                              \n",
              "2 281                                          \n",
              "3 5.5%                                         \n",
              "4                                              \n",
              "5 1,615                                        \n",
              "6 6.7%                                         \n",
              "  SEX.AND.AGE..Total.population..85.years.and.over\n",
              "1                                                 \n",
              "2 128                                             \n",
              "3 2.5%                                            \n",
              "4                                                 \n",
              "5 798                                             \n",
              "6 3.3%                                            \n",
              "  SEX.AND.AGE..Total.population..Median.age..years. Total.housing.units\n",
              "1                                                                      \n",
              "2 31.6                                              3,619              \n",
              "3 (X)                                               (X)                \n",
              "4                                                                      \n",
              "5 36.2                                              17,613             \n",
              "6 (X)                                               (X)                "
            ]
          },
          "metadata": {}
        }
      ]
    },
    {
      "cell_type": "code",
      "source": [
        "#Data Cleaning for 2018 Data:\n",
        "\n",
        "# Identify rows that are estimates\n",
        "estimates_2019 <- population_by_zip_2019_raw %>%\n",
        "  filter(grepl(\"Estimate\", population_by_zip_2019_raw$Label..Grouping.))\n",
        "\n",
        "# Extract labels\n",
        "labels_2019 <- population_by_zip_2019_raw %>%\n",
        "  filter(!grepl(\"Estimate|Percent\", population_by_zip_2019_raw$Label..Grouping.))\n",
        "\n",
        "# Combine labels and estimates\n",
        "population_by_zip_2019 <- labels_2019 %>%\n",
        "  mutate(row_number = row_number()) %>%\n",
        "  select(Label..Grouping.,row_number) %>%\n",
        "  left_join(estimates_2019 %>%\n",
        "              select(-Label..Grouping.) %>%\n",
        "              mutate(row_number = row_number()),\n",
        "            by = \"row_number\") %>%\n",
        "  select(-row_number)  %>%\n",
        "  separate(Label..Grouping., into = c(\"ZCTA5\", \"postal_code\"), sep = \" \") %>%\n",
        "  select(-ZCTA5) %>%\n",
        "  rename_with(~ gsub(\"^SEX.AND.AGE..\", \"\", .)) %>%\n",
        "  mutate_all(~ gsub(\",\", \"\", .)) %>%\n",
        "  #mutate_all(~ gsub(\".\", \"\", .)) %>%\n",
        "  select(-Total.population..Sex.ratio..males.per.100.females., - Total.population..Median.age..years.)\n",
        "\n",
        "#Adjust column type:\n",
        "population_by_zip_2019 <- population_by_zip_2019 %>%\n",
        "  mutate(across(-1, as.numeric)) %>%  # Convert all columns except the first to numeric\n",
        "  mutate(across(1, as.integer))\n",
        "\n",
        "#Adjusting for final structure:\n",
        "population_by_zip_2019 <- population_by_zip_2019 %>%\n",
        "  mutate(males_per_females = Total.population..Male / Total.population..Female) %>%\n",
        "  mutate(males_per_females = replace_na(males_per_females, 0)) %>% # Replace NA with zero in males_per_females\n",
        "  select(-Total.population..Male, -Total.population..Female) %>%\n",
        "  rename(total_population = Total.population) %>%\n",
        "  mutate(total_population_children = Total.population..Under.5.years + Total.population..5.to.9.years + Total.population..10.to.14.years,\n",
        "          total_population_youth = Total.population..15.to.19.years\t+ Total.population..20.to.24.years,\n",
        "            total_population_adults = Total.population..25.to.34.years + Total.population..35.to.44.years + Total.population..45.to.54.years\n",
        "                                        + Total.population..55.to.59.years + Total.population..60.to.64.years,\n",
        "              total_population_seniors = Total.population..65.to.74.years + Total.population..75.to.84.years + Total.population..85.years.and.over) %>%\n",
        "  select(postal_code, males_per_females, total_population, total_population_children, total_population_youth, total_population_adults, total_population_seniors)"
      ],
      "metadata": {
        "id": "JxgxwxpgM9KW"
      },
      "execution_count": 44,
      "outputs": []
    },
    {
      "cell_type": "code",
      "source": [
        "head(population_by_zip_2019)"
      ],
      "metadata": {
        "colab": {
          "base_uri": "https://localhost:8080/",
          "height": 286
        },
        "id": "RT29VdiNNWTV",
        "outputId": "72902b33-29ea-4044-a84e-adc3def65947"
      },
      "execution_count": 45,
      "outputs": [
        {
          "output_type": "display_data",
          "data": {
            "text/html": [
              "<table class=\"dataframe\">\n",
              "<caption>A data.frame: 6 × 7</caption>\n",
              "<thead>\n",
              "\t<tr><th></th><th scope=col>postal_code</th><th scope=col>males_per_females</th><th scope=col>total_population</th><th scope=col>total_population_children</th><th scope=col>total_population_youth</th><th scope=col>total_population_adults</th><th scope=col>total_population_seniors</th></tr>\n",
              "\t<tr><th></th><th scope=col>&lt;int&gt;</th><th scope=col>&lt;dbl&gt;</th><th scope=col>&lt;dbl&gt;</th><th scope=col>&lt;dbl&gt;</th><th scope=col>&lt;dbl&gt;</th><th scope=col>&lt;dbl&gt;</th><th scope=col>&lt;dbl&gt;</th></tr>\n",
              "</thead>\n",
              "<tbody>\n",
              "\t<tr><th scope=row>1</th><td>19102</td><td>1.0854943</td><td> 5147</td><td> 163</td><td>  849</td><td> 3249</td><td> 886</td></tr>\n",
              "\t<tr><th scope=row>2</th><td>19103</td><td>0.7644830</td><td>24214</td><td>1246</td><td> 1859</td><td>15803</td><td>5306</td></tr>\n",
              "\t<tr><th scope=row>3</th><td>19104</td><td>0.9511840</td><td>53560</td><td>6454</td><td>23654</td><td>19313</td><td>4139</td></tr>\n",
              "\t<tr><th scope=row>4</th><td>19106</td><td>0.9804970</td><td>12592</td><td> 776</td><td>  657</td><td> 8853</td><td>2306</td></tr>\n",
              "\t<tr><th scope=row>5</th><td>19107</td><td>0.9484909</td><td>14526</td><td> 940</td><td> 2183</td><td> 9845</td><td>1558</td></tr>\n",
              "\t<tr><th scope=row>6</th><td>19109</td><td>0.0000000</td><td>    0</td><td>   0</td><td>    0</td><td>    0</td><td>   0</td></tr>\n",
              "</tbody>\n",
              "</table>\n"
            ],
            "text/markdown": "\nA data.frame: 6 × 7\n\n| <!--/--> | postal_code &lt;int&gt; | males_per_females &lt;dbl&gt; | total_population &lt;dbl&gt; | total_population_children &lt;dbl&gt; | total_population_youth &lt;dbl&gt; | total_population_adults &lt;dbl&gt; | total_population_seniors &lt;dbl&gt; |\n|---|---|---|---|---|---|---|---|\n| 1 | 19102 | 1.0854943 |  5147 |  163 |   849 |  3249 |  886 |\n| 2 | 19103 | 0.7644830 | 24214 | 1246 |  1859 | 15803 | 5306 |\n| 3 | 19104 | 0.9511840 | 53560 | 6454 | 23654 | 19313 | 4139 |\n| 4 | 19106 | 0.9804970 | 12592 |  776 |   657 |  8853 | 2306 |\n| 5 | 19107 | 0.9484909 | 14526 |  940 |  2183 |  9845 | 1558 |\n| 6 | 19109 | 0.0000000 |     0 |    0 |     0 |     0 |    0 |\n\n",
            "text/latex": "A data.frame: 6 × 7\n\\begin{tabular}{r|lllllll}\n  & postal\\_code & males\\_per\\_females & total\\_population & total\\_population\\_children & total\\_population\\_youth & total\\_population\\_adults & total\\_population\\_seniors\\\\\n  & <int> & <dbl> & <dbl> & <dbl> & <dbl> & <dbl> & <dbl>\\\\\n\\hline\n\t1 & 19102 & 1.0854943 &  5147 &  163 &   849 &  3249 &  886\\\\\n\t2 & 19103 & 0.7644830 & 24214 & 1246 &  1859 & 15803 & 5306\\\\\n\t3 & 19104 & 0.9511840 & 53560 & 6454 & 23654 & 19313 & 4139\\\\\n\t4 & 19106 & 0.9804970 & 12592 &  776 &   657 &  8853 & 2306\\\\\n\t5 & 19107 & 0.9484909 & 14526 &  940 &  2183 &  9845 & 1558\\\\\n\t6 & 19109 & 0.0000000 &     0 &    0 &     0 &     0 &    0\\\\\n\\end{tabular}\n",
            "text/plain": [
              "  postal_code males_per_females total_population total_population_children\n",
              "1 19102       1.0854943          5147             163                     \n",
              "2 19103       0.7644830         24214            1246                     \n",
              "3 19104       0.9511840         53560            6454                     \n",
              "4 19106       0.9804970         12592             776                     \n",
              "5 19107       0.9484909         14526             940                     \n",
              "6 19109       0.0000000             0               0                     \n",
              "  total_population_youth total_population_adults total_population_seniors\n",
              "1   849                   3249                    886                    \n",
              "2  1859                  15803                   5306                    \n",
              "3 23654                  19313                   4139                    \n",
              "4   657                   8853                   2306                    \n",
              "5  2183                   9845                   1558                    \n",
              "6     0                      0                      0                    "
            ]
          },
          "metadata": {}
        }
      ]
    },
    {
      "cell_type": "markdown",
      "source": [
        "## Left Join into Dataset"
      ],
      "metadata": {
        "id": "Ob2hkN4FZ6Vc"
      }
    },
    {
      "cell_type": "code",
      "source": [
        "nrow(data)"
      ],
      "metadata": {
        "colab": {
          "base_uri": "https://localhost:8080/",
          "height": 34
        },
        "id": "Z7klOMfvVme-",
        "outputId": "b53419ec-2d2f-42b2-c5c9-7e8fdb96b577"
      },
      "execution_count": 46,
      "outputs": [
        {
          "output_type": "display_data",
          "data": {
            "text/html": [
              "5272"
            ],
            "text/markdown": "5272",
            "text/latex": "5272",
            "text/plain": [
              "[1] 5272"
            ]
          },
          "metadata": {}
        }
      ]
    },
    {
      "cell_type": "code",
      "source": [
        "#Creating df's for different years for assigning right population data to respective year:\n",
        "\n",
        "data_2018 <- data %>%\n",
        "  filter(year == 2018)\n",
        "\n",
        "data_2019 <- data %>%\n",
        "  filter(year == 2019)\n",
        "\n",
        "# Left Join into Yelp Data:\n",
        "\n",
        "data_2018 <- data_2018 %>%\n",
        "            left_join(population_by_zip_2018, by=\"postal_code\")\n",
        "\n",
        "data_2019 <- data_2019 %>%\n",
        "            left_join(population_by_zip_2019, by=\"postal_code\")\n",
        "\n",
        "# Combining two df:\n",
        "\n",
        "data <- bind_rows(data_2018, data_2019)\n",
        "\n",
        "data <- data %>%\n",
        "  arrange(business_id, year)"
      ],
      "metadata": {
        "id": "Yq4El8GzKNVb"
      },
      "execution_count": 47,
      "outputs": []
    },
    {
      "cell_type": "code",
      "source": [
        "nrow(data)"
      ],
      "metadata": {
        "colab": {
          "base_uri": "https://localhost:8080/",
          "height": 34
        },
        "id": "uwLL-DZGZAeo",
        "outputId": "35e849f4-ebbd-4858-e67d-06f66983ada0"
      },
      "execution_count": 48,
      "outputs": [
        {
          "output_type": "display_data",
          "data": {
            "text/html": [
              "5272"
            ],
            "text/markdown": "5272",
            "text/latex": "5272",
            "text/plain": [
              "[1] 5272"
            ]
          },
          "metadata": {}
        }
      ]
    },
    {
      "cell_type": "markdown",
      "source": [
        "# Calculation: Nearby Businesses\n"
      ],
      "metadata": {
        "id": "Y4KnWrIXHysW"
      }
    },
    {
      "cell_type": "markdown",
      "source": [
        "## Pairwise Distance Calculation"
      ],
      "metadata": {
        "id": "-Hfausxral5p"
      }
    },
    {
      "cell_type": "code",
      "source": [
        "#install.packages(\"geosphere\")"
      ],
      "metadata": {
        "id": "HkcrInOeIinc"
      },
      "execution_count": null,
      "outputs": []
    },
    {
      "cell_type": "code",
      "source": [
        "library(geosphere)"
      ],
      "metadata": {
        "id": "WtfWF5aZIfgA"
      },
      "execution_count": 49,
      "outputs": []
    },
    {
      "cell_type": "code",
      "source": [
        "# Selecting columns for distance matrix calculation:\n",
        "\n",
        "data_1 <- data %>%\n",
        "  select(business_id, business_lat, business_long)"
      ],
      "metadata": {
        "id": "qfk90pM5H0_3"
      },
      "execution_count": 50,
      "outputs": []
    },
    {
      "cell_type": "code",
      "source": [
        "# Calculate pairwise distances for all businesses:\n",
        "df_distances <- data_1 %>%\n",
        "  mutate(distances = apply(data_1[, c(\"business_long\", \"business_lat\")], 1, function(x) distHaversine(data_1[, c(\"business_long\", \"business_lat\")], x))) %>%\n",
        "    select(business_id, distances)"
      ],
      "metadata": {
        "collapsed": true,
        "id": "SkN5x6qTVSFP"
      },
      "execution_count": 51,
      "outputs": []
    },
    {
      "cell_type": "code",
      "source": [
        "# Seting a threshold distance (in meters)\n",
        "threshold_distance <- 1000\n",
        "\n",
        "# Filtering distances to find nearby businesses\n",
        "nearby_counts <- df_distances %>%\n",
        "  mutate(nearby_count = rowSums(distances <= threshold_distance), nearby_count_minus_1 = nearby_count - 1) %>% #adjusting for each business counting itself (subtracting 1 from each count)\n",
        "    select(business_id, nearby_count_minus_1)\n",
        "\n",
        "# Results\n",
        "head(nearby_counts)"
      ],
      "metadata": {
        "colab": {
          "base_uri": "https://localhost:8080/",
          "height": 286
        },
        "id": "9nOCKvP5Wvvh",
        "outputId": "549af8ac-5f34-4d79-bc01-ea18dc2d4d91"
      },
      "execution_count": 52,
      "outputs": [
        {
          "output_type": "display_data",
          "data": {
            "text/html": [
              "<table class=\"dataframe\">\n",
              "<caption>A data.frame: 6 × 2</caption>\n",
              "<thead>\n",
              "\t<tr><th></th><th scope=col>business_id</th><th scope=col>nearby_count_minus_1</th></tr>\n",
              "\t<tr><th></th><th scope=col>&lt;chr&gt;</th><th scope=col>&lt;dbl&gt;</th></tr>\n",
              "</thead>\n",
              "<tbody>\n",
              "\t<tr><th scope=row>1</th><td>-0TffRSXXIlBYVbb5AwfTg</td><td>1223</td></tr>\n",
              "\t<tr><th scope=row>2</th><td>-0TffRSXXIlBYVbb5AwfTg</td><td>1223</td></tr>\n",
              "\t<tr><th scope=row>3</th><td>-0eUa8TsXFFy0FCxHYmrjg</td><td> 239</td></tr>\n",
              "\t<tr><th scope=row>4</th><td>-0eUa8TsXFFy0FCxHYmrjg</td><td> 239</td></tr>\n",
              "\t<tr><th scope=row>5</th><td>-1B9pP_CrRBJYPICE5WbRA</td><td>1219</td></tr>\n",
              "\t<tr><th scope=row>6</th><td>-1B9pP_CrRBJYPICE5WbRA</td><td>1219</td></tr>\n",
              "</tbody>\n",
              "</table>\n"
            ],
            "text/markdown": "\nA data.frame: 6 × 2\n\n| <!--/--> | business_id &lt;chr&gt; | nearby_count_minus_1 &lt;dbl&gt; |\n|---|---|---|\n| 1 | -0TffRSXXIlBYVbb5AwfTg | 1223 |\n| 2 | -0TffRSXXIlBYVbb5AwfTg | 1223 |\n| 3 | -0eUa8TsXFFy0FCxHYmrjg |  239 |\n| 4 | -0eUa8TsXFFy0FCxHYmrjg |  239 |\n| 5 | -1B9pP_CrRBJYPICE5WbRA | 1219 |\n| 6 | -1B9pP_CrRBJYPICE5WbRA | 1219 |\n\n",
            "text/latex": "A data.frame: 6 × 2\n\\begin{tabular}{r|ll}\n  & business\\_id & nearby\\_count\\_minus\\_1\\\\\n  & <chr> & <dbl>\\\\\n\\hline\n\t1 & -0TffRSXXIlBYVbb5AwfTg & 1223\\\\\n\t2 & -0TffRSXXIlBYVbb5AwfTg & 1223\\\\\n\t3 & -0eUa8TsXFFy0FCxHYmrjg &  239\\\\\n\t4 & -0eUa8TsXFFy0FCxHYmrjg &  239\\\\\n\t5 & -1B9pP\\_CrRBJYPICE5WbRA & 1219\\\\\n\t6 & -1B9pP\\_CrRBJYPICE5WbRA & 1219\\\\\n\\end{tabular}\n",
            "text/plain": [
              "  business_id            nearby_count_minus_1\n",
              "1 -0TffRSXXIlBYVbb5AwfTg 1223                \n",
              "2 -0TffRSXXIlBYVbb5AwfTg 1223                \n",
              "3 -0eUa8TsXFFy0FCxHYmrjg  239                \n",
              "4 -0eUa8TsXFFy0FCxHYmrjg  239                \n",
              "5 -1B9pP_CrRBJYPICE5WbRA 1219                \n",
              "6 -1B9pP_CrRBJYPICE5WbRA 1219                "
            ]
          },
          "metadata": {}
        }
      ]
    },
    {
      "cell_type": "markdown",
      "source": [
        "## Left Join into Dataset"
      ],
      "metadata": {
        "id": "wzS6lqY9-Jv8"
      }
    },
    {
      "cell_type": "code",
      "source": [
        "#Filtering for unique/distinct values before left-join:\n",
        "\n",
        "nearby_counts <- nearby_counts %>%\n",
        "    distinct(business_id, nearby_count_minus_1)"
      ],
      "metadata": {
        "id": "qAsdJzXAXqYY"
      },
      "execution_count": 53,
      "outputs": []
    },
    {
      "cell_type": "code",
      "source": [
        "#For nearby_counts, i.e. business_proximity\n",
        "\n",
        "data <- data %>%\n",
        "            left_join(nearby_counts, by=\"business_id\")"
      ],
      "metadata": {
        "id": "MUcjKaCL-LVV"
      },
      "execution_count": 54,
      "outputs": []
    },
    {
      "cell_type": "code",
      "source": [
        "head(data)"
      ],
      "metadata": {
        "colab": {
          "base_uri": "https://localhost:8080/",
          "height": 306
        },
        "id": "PHgvU9liWuad",
        "outputId": "b7226150-ff86-42b9-84f6-6f1400083079"
      },
      "execution_count": 55,
      "outputs": [
        {
          "output_type": "display_data",
          "data": {
            "text/html": [
              "<table class=\"dataframe\">\n",
              "<caption>A data.frame: 6 × 48</caption>\n",
              "<thead>\n",
              "\t<tr><th></th><th scope=col>business_id</th><th scope=col>postal_code</th><th scope=col>business_lat</th><th scope=col>business_long</th><th scope=col>overall_business_stars</th><th scope=col>overall_review_count</th><th scope=col>isromantic</th><th scope=col>isintimate</th><th scope=col>istouristy</th><th scope=col>ishipster</th><th scope=col>⋯</th><th scope=col>review_count</th><th scope=col>average_stars</th><th scope=col>parking_total</th><th scope=col>males_per_females</th><th scope=col>total_population</th><th scope=col>total_population_children</th><th scope=col>total_population_youth</th><th scope=col>total_population_adults</th><th scope=col>total_population_seniors</th><th scope=col>nearby_count_minus_1</th></tr>\n",
              "\t<tr><th></th><th scope=col>&lt;chr&gt;</th><th scope=col>&lt;int&gt;</th><th scope=col>&lt;dbl&gt;</th><th scope=col>&lt;dbl&gt;</th><th scope=col>&lt;dbl&gt;</th><th scope=col>&lt;int&gt;</th><th scope=col>&lt;fct&gt;</th><th scope=col>&lt;fct&gt;</th><th scope=col>&lt;fct&gt;</th><th scope=col>&lt;fct&gt;</th><th scope=col>⋯</th><th scope=col>&lt;int&gt;</th><th scope=col>&lt;dbl&gt;</th><th scope=col>&lt;fct&gt;</th><th scope=col>&lt;dbl&gt;</th><th scope=col>&lt;dbl&gt;</th><th scope=col>&lt;dbl&gt;</th><th scope=col>&lt;dbl&gt;</th><th scope=col>&lt;dbl&gt;</th><th scope=col>&lt;dbl&gt;</th><th scope=col>&lt;dbl&gt;</th></tr>\n",
              "</thead>\n",
              "<tbody>\n",
              "\t<tr><th scope=row>1</th><td>-0TffRSXXIlBYVbb5AwfTg</td><td>19107</td><td>39.94851</td><td>-75.16197</td><td>4.5</td><td>1097</td><td>0</td><td>0</td><td>0</td><td>0</td><td>⋯</td><td>147</td><td>4.3265</td><td>1</td><td>0.9222456</td><td>13696</td><td> 727</td><td> 2157</td><td> 9297</td><td>1515</td><td>1223</td></tr>\n",
              "\t<tr><th scope=row>2</th><td>-0TffRSXXIlBYVbb5AwfTg</td><td>19107</td><td>39.94851</td><td>-75.16197</td><td>4.5</td><td>1097</td><td>0</td><td>0</td><td>0</td><td>0</td><td>⋯</td><td>141</td><td>4.5461</td><td>1</td><td>0.9484909</td><td>14526</td><td> 940</td><td> 2183</td><td> 9845</td><td>1558</td><td>1223</td></tr>\n",
              "\t<tr><th scope=row>3</th><td>-0eUa8TsXFFy0FCxHYmrjg</td><td>19104</td><td>39.95245</td><td>-75.18732</td><td>4.0</td><td>  26</td><td>0</td><td>0</td><td>0</td><td>0</td><td>⋯</td><td>  3</td><td>4.0000</td><td>1</td><td>0.9367043</td><td>54311</td><td>6698</td><td>23800</td><td>20000</td><td>3813</td><td> 239</td></tr>\n",
              "\t<tr><th scope=row>4</th><td>-0eUa8TsXFFy0FCxHYmrjg</td><td>19104</td><td>39.95245</td><td>-75.18732</td><td>4.0</td><td>  26</td><td>0</td><td>0</td><td>0</td><td>0</td><td>⋯</td><td>  9</td><td>4.1111</td><td>1</td><td>0.9511840</td><td>53560</td><td>6454</td><td>23654</td><td>19313</td><td>4139</td><td> 239</td></tr>\n",
              "\t<tr><th scope=row>5</th><td>-1B9pP_CrRBJYPICE5WbRA</td><td>19107</td><td>39.95035</td><td>-75.16158</td><td>4.0</td><td> 822</td><td>0</td><td>0</td><td>0</td><td>0</td><td>⋯</td><td> 98</td><td>3.8776</td><td>1</td><td>0.9222456</td><td>13696</td><td> 727</td><td> 2157</td><td> 9297</td><td>1515</td><td>1219</td></tr>\n",
              "\t<tr><th scope=row>6</th><td>-1B9pP_CrRBJYPICE5WbRA</td><td>19107</td><td>39.95035</td><td>-75.16158</td><td>4.0</td><td> 822</td><td>0</td><td>0</td><td>0</td><td>0</td><td>⋯</td><td> 67</td><td>3.9104</td><td>1</td><td>0.9484909</td><td>14526</td><td> 940</td><td> 2183</td><td> 9845</td><td>1558</td><td>1219</td></tr>\n",
              "</tbody>\n",
              "</table>\n"
            ],
            "text/markdown": "\nA data.frame: 6 × 48\n\n| <!--/--> | business_id &lt;chr&gt; | postal_code &lt;int&gt; | business_lat &lt;dbl&gt; | business_long &lt;dbl&gt; | overall_business_stars &lt;dbl&gt; | overall_review_count &lt;int&gt; | isromantic &lt;fct&gt; | isintimate &lt;fct&gt; | istouristy &lt;fct&gt; | ishipster &lt;fct&gt; | ⋯ ⋯ | review_count &lt;int&gt; | average_stars &lt;dbl&gt; | parking_total &lt;fct&gt; | males_per_females &lt;dbl&gt; | total_population &lt;dbl&gt; | total_population_children &lt;dbl&gt; | total_population_youth &lt;dbl&gt; | total_population_adults &lt;dbl&gt; | total_population_seniors &lt;dbl&gt; | nearby_count_minus_1 &lt;dbl&gt; |\n|---|---|---|---|---|---|---|---|---|---|---|---|---|---|---|---|---|---|---|---|---|---|\n| 1 | -0TffRSXXIlBYVbb5AwfTg | 19107 | 39.94851 | -75.16197 | 4.5 | 1097 | 0 | 0 | 0 | 0 | ⋯ | 147 | 4.3265 | 1 | 0.9222456 | 13696 |  727 |  2157 |  9297 | 1515 | 1223 |\n| 2 | -0TffRSXXIlBYVbb5AwfTg | 19107 | 39.94851 | -75.16197 | 4.5 | 1097 | 0 | 0 | 0 | 0 | ⋯ | 141 | 4.5461 | 1 | 0.9484909 | 14526 |  940 |  2183 |  9845 | 1558 | 1223 |\n| 3 | -0eUa8TsXFFy0FCxHYmrjg | 19104 | 39.95245 | -75.18732 | 4.0 |   26 | 0 | 0 | 0 | 0 | ⋯ |   3 | 4.0000 | 1 | 0.9367043 | 54311 | 6698 | 23800 | 20000 | 3813 |  239 |\n| 4 | -0eUa8TsXFFy0FCxHYmrjg | 19104 | 39.95245 | -75.18732 | 4.0 |   26 | 0 | 0 | 0 | 0 | ⋯ |   9 | 4.1111 | 1 | 0.9511840 | 53560 | 6454 | 23654 | 19313 | 4139 |  239 |\n| 5 | -1B9pP_CrRBJYPICE5WbRA | 19107 | 39.95035 | -75.16158 | 4.0 |  822 | 0 | 0 | 0 | 0 | ⋯ |  98 | 3.8776 | 1 | 0.9222456 | 13696 |  727 |  2157 |  9297 | 1515 | 1219 |\n| 6 | -1B9pP_CrRBJYPICE5WbRA | 19107 | 39.95035 | -75.16158 | 4.0 |  822 | 0 | 0 | 0 | 0 | ⋯ |  67 | 3.9104 | 1 | 0.9484909 | 14526 |  940 |  2183 |  9845 | 1558 | 1219 |\n\n",
            "text/latex": "A data.frame: 6 × 48\n\\begin{tabular}{r|lllllllllllllllllllll}\n  & business\\_id & postal\\_code & business\\_lat & business\\_long & overall\\_business\\_stars & overall\\_review\\_count & isromantic & isintimate & istouristy & ishipster & ⋯ & review\\_count & average\\_stars & parking\\_total & males\\_per\\_females & total\\_population & total\\_population\\_children & total\\_population\\_youth & total\\_population\\_adults & total\\_population\\_seniors & nearby\\_count\\_minus\\_1\\\\\n  & <chr> & <int> & <dbl> & <dbl> & <dbl> & <int> & <fct> & <fct> & <fct> & <fct> & ⋯ & <int> & <dbl> & <fct> & <dbl> & <dbl> & <dbl> & <dbl> & <dbl> & <dbl> & <dbl>\\\\\n\\hline\n\t1 & -0TffRSXXIlBYVbb5AwfTg & 19107 & 39.94851 & -75.16197 & 4.5 & 1097 & 0 & 0 & 0 & 0 & ⋯ & 147 & 4.3265 & 1 & 0.9222456 & 13696 &  727 &  2157 &  9297 & 1515 & 1223\\\\\n\t2 & -0TffRSXXIlBYVbb5AwfTg & 19107 & 39.94851 & -75.16197 & 4.5 & 1097 & 0 & 0 & 0 & 0 & ⋯ & 141 & 4.5461 & 1 & 0.9484909 & 14526 &  940 &  2183 &  9845 & 1558 & 1223\\\\\n\t3 & -0eUa8TsXFFy0FCxHYmrjg & 19104 & 39.95245 & -75.18732 & 4.0 &   26 & 0 & 0 & 0 & 0 & ⋯ &   3 & 4.0000 & 1 & 0.9367043 & 54311 & 6698 & 23800 & 20000 & 3813 &  239\\\\\n\t4 & -0eUa8TsXFFy0FCxHYmrjg & 19104 & 39.95245 & -75.18732 & 4.0 &   26 & 0 & 0 & 0 & 0 & ⋯ &   9 & 4.1111 & 1 & 0.9511840 & 53560 & 6454 & 23654 & 19313 & 4139 &  239\\\\\n\t5 & -1B9pP\\_CrRBJYPICE5WbRA & 19107 & 39.95035 & -75.16158 & 4.0 &  822 & 0 & 0 & 0 & 0 & ⋯ &  98 & 3.8776 & 1 & 0.9222456 & 13696 &  727 &  2157 &  9297 & 1515 & 1219\\\\\n\t6 & -1B9pP\\_CrRBJYPICE5WbRA & 19107 & 39.95035 & -75.16158 & 4.0 &  822 & 0 & 0 & 0 & 0 & ⋯ &  67 & 3.9104 & 1 & 0.9484909 & 14526 &  940 &  2183 &  9845 & 1558 & 1219\\\\\n\\end{tabular}\n",
            "text/plain": [
              "  business_id            postal_code business_lat business_long\n",
              "1 -0TffRSXXIlBYVbb5AwfTg 19107       39.94851     -75.16197    \n",
              "2 -0TffRSXXIlBYVbb5AwfTg 19107       39.94851     -75.16197    \n",
              "3 -0eUa8TsXFFy0FCxHYmrjg 19104       39.95245     -75.18732    \n",
              "4 -0eUa8TsXFFy0FCxHYmrjg 19104       39.95245     -75.18732    \n",
              "5 -1B9pP_CrRBJYPICE5WbRA 19107       39.95035     -75.16158    \n",
              "6 -1B9pP_CrRBJYPICE5WbRA 19107       39.95035     -75.16158    \n",
              "  overall_business_stars overall_review_count isromantic isintimate istouristy\n",
              "1 4.5                    1097                 0          0          0         \n",
              "2 4.5                    1097                 0          0          0         \n",
              "3 4.0                      26                 0          0          0         \n",
              "4 4.0                      26                 0          0          0         \n",
              "5 4.0                     822                 0          0          0         \n",
              "6 4.0                     822                 0          0          0         \n",
              "  ishipster ⋯ review_count average_stars parking_total males_per_females\n",
              "1 0         ⋯ 147          4.3265        1             0.9222456        \n",
              "2 0         ⋯ 141          4.5461        1             0.9484909        \n",
              "3 0         ⋯   3          4.0000        1             0.9367043        \n",
              "4 0         ⋯   9          4.1111        1             0.9511840        \n",
              "5 0         ⋯  98          3.8776        1             0.9222456        \n",
              "6 0         ⋯  67          3.9104        1             0.9484909        \n",
              "  total_population total_population_children total_population_youth\n",
              "1 13696             727                       2157                 \n",
              "2 14526             940                       2183                 \n",
              "3 54311            6698                      23800                 \n",
              "4 53560            6454                      23654                 \n",
              "5 13696             727                       2157                 \n",
              "6 14526             940                       2183                 \n",
              "  total_population_adults total_population_seniors nearby_count_minus_1\n",
              "1  9297                   1515                     1223                \n",
              "2  9845                   1558                     1223                \n",
              "3 20000                   3813                      239                \n",
              "4 19313                   4139                      239                \n",
              "5  9297                   1515                     1219                \n",
              "6  9845                   1558                     1219                "
            ]
          },
          "metadata": {}
        }
      ]
    },
    {
      "cell_type": "code",
      "source": [
        "summary(data)"
      ],
      "metadata": {
        "colab": {
          "base_uri": "https://localhost:8080/",
          "height": 1000
        },
        "id": "oVgv7vREzcyy",
        "outputId": "5facae44-d95d-4b12-d8e5-1ff67953301f"
      },
      "execution_count": 56,
      "outputs": [
        {
          "output_type": "display_data",
          "data": {
            "text/plain": [
              " business_id         postal_code     business_lat   business_long   \n",
              " Length:5272        Min.   :19101   Min.   :39.87   Min.   :-75.33  \n",
              " Class :character   1st Qu.:19106   1st Qu.:39.95   1st Qu.:-75.18  \n",
              " Mode  :character   Median :19123   Median :39.95   Median :-75.16  \n",
              "                    Mean   :19124   Mean   :39.97   Mean   :-75.15  \n",
              "                    3rd Qu.:19145   3rd Qu.:39.99   3rd Qu.:-75.14  \n",
              "                    Max.   :19195   Max.   :40.13   Max.   :-74.96  \n",
              "                                                                    \n",
              " overall_business_stars overall_review_count isromantic  isintimate \n",
              " Min.   :1.00           Min.   :   5.0       0   :4320   0   :4142  \n",
              " 1st Qu.:3.50           1st Qu.:  38.0       1   : 118   1   : 170  \n",
              " Median :4.00           Median :  98.0       NA's: 834   NA's: 960  \n",
              " Mean   :3.65           Mean   : 202.3                              \n",
              " 3rd Qu.:4.00           3rd Qu.: 235.2                              \n",
              " Max.   :5.00           Max.   :5721.0                              \n",
              "                                                                    \n",
              " istouristy  ishipster   isdivey     isclassy    istrendy    isupscale  \n",
              " 0   :4404   0   :4026   0   :4062   0   :3170   0   :3720   0   :4488  \n",
              " 1   :  52   1   : 230   1   : 144   1   :1268   1   : 440   1   :  56  \n",
              " NA's: 816   NA's:1016   NA's:1066   NA's: 834   NA's:1112   NA's: 728  \n",
              "                                                                        \n",
              "                                                                        \n",
              "                                                                        \n",
              "                                                                        \n",
              " iscasual    parking_garage parking_street parking_validated parking_lot\n",
              " 0   :1862   0   :4330      0   :1400      0   :4692         0   :3986  \n",
              " 1   :2672   1   : 398      1   :3430      1   : 130         1   :1000  \n",
              " NA's: 738   NA's: 544      NA's: 442      NA's: 450         NA's: 286  \n",
              "                                                                        \n",
              "                                                                        \n",
              "                                                                        \n",
              "                                                                        \n",
              " parking_valet          alcohol     outdoorseating restaurantstableservice\n",
              " 0   :4954     Non_alcohol  :2760   0   :2466      0   : 930              \n",
              " 1   : 106     Beer_and_wine: 240   1   :2020      1   :1612              \n",
              " NA's: 212     Full_bar     :1516   NA's: 786      NA's:2730              \n",
              "               NA's         : 756                                         \n",
              "                                                                          \n",
              "                                                                          \n",
              "                                                                          \n",
              " bikeparking happyhour     byob      businessacceptscreditcards\n",
              " 0   : 924   0   : 780   0   : 346   0   : 520                 \n",
              " 1   :3682   1   :1192   1   : 206   1   :4610                 \n",
              " NA's: 666   NA's:3300   NA's:4720   NA's: 142                 \n",
              "                                                               \n",
              "                                                               \n",
              "                                                               \n",
              "                                                               \n",
              " restaurantscounterservice  hastv      restaurantspricerange2\n",
              " 1   :   4                 0   :1192   Min.   :1.000         \n",
              " NA's:5268                 1   :3570   1st Qu.:1.000         \n",
              "                           NA's: 510   Median :2.000         \n",
              "                                       Mean   :1.658         \n",
              "                                       3rd Qu.:2.000         \n",
              "                                       Max.   :4.000         \n",
              "                                       NA's   :334           \n",
              " restaurantsreservations restaurantsdelivery   wifi      restaurantstakeout\n",
              " 0   :3052               0   :1086           No  :2226   0   : 220         \n",
              " 1   :1712               1   :3674           Free:2316   1   :4818         \n",
              " NA's: 508               NA's: 512           Paid:  44   NA's: 234         \n",
              "                                             NA's: 686                     \n",
              "                                                                           \n",
              "                                                                           \n",
              "                                                                           \n",
              "    n_photo             year      attribute_count check_in_count   \n",
              " Min.   :  0.000   Min.   :2018   Min.   : 0.00   Min.   :   1.00  \n",
              " 1st Qu.:  0.000   1st Qu.:2018   1st Qu.: 7.00   1st Qu.:   4.00  \n",
              " Median :  2.000   Median :2018   Median :11.00   Median :  13.00  \n",
              " Mean   :  6.477   Mean   :2018   Mean   :10.81   Mean   :  33.18  \n",
              " 3rd Qu.:  7.000   3rd Qu.:2019   3rd Qu.:14.00   3rd Qu.:  36.00  \n",
              " Max.   :157.000   Max.   :2019   Max.   :24.00   Max.   :1522.00  \n",
              "                                                                   \n",
              "  review_count    average_stars   parking_total males_per_females\n",
              " Min.   :  0.00   Min.   :0.000   0   : 702     Min.   :0.0000   \n",
              " 1st Qu.:  5.00   1st Qu.:3.000   1   :3888     1st Qu.:0.8981   \n",
              " Median : 12.00   Median :3.800   NA's: 682     Median :0.9442   \n",
              " Mean   : 24.35   Mean   :3.540                 Mean   :0.9300   \n",
              " 3rd Qu.: 28.00   3rd Qu.:4.286                 3rd Qu.:0.9698   \n",
              " Max.   :744.00   Max.   :5.000                 Max.   :1.2976   \n",
              "                                                NA's   :14       \n",
              " total_population total_population_children total_population_youth\n",
              " Min.   :    0    Min.   :    0             Min.   :    0         \n",
              " 1st Qu.:14526    1st Qu.: 1246             1st Qu.: 1926         \n",
              " Median :31378    Median : 5128             Median : 2292         \n",
              " Mean   :31789    Mean   : 4794             Mean   : 4742         \n",
              " 3rd Qu.:44723    3rd Qu.: 6577             3rd Qu.: 4237         \n",
              " Max.   :74971    Max.   :19381             Max.   :23800         \n",
              " NA's   :14       NA's   :14                NA's   :14            \n",
              " total_population_adults total_population_seniors nearby_count_minus_1\n",
              " Min.   :    0           Min.   :   0             Min.   :   1        \n",
              " 1st Qu.: 9845           1st Qu.:2043             1st Qu.:  53        \n",
              " Median :18225           Median :4239             Median : 231        \n",
              " Mean   :18124           Mean   :4128             Mean   : 392        \n",
              " 3rd Qu.:25886           3rd Qu.:5606             3rd Qu.: 735        \n",
              " Max.   :39021           Max.   :9177             Max.   :1335        \n",
              " NA's   :14              NA's   :14                                   "
            ]
          },
          "metadata": {}
        }
      ]
    },
    {
      "cell_type": "markdown",
      "source": [
        "#TEST"
      ],
      "metadata": {
        "id": "Z_e4dtePaDzc"
      }
    },
    {
      "cell_type": "code",
      "source": [
        "# Load the data\n",
        "yelp_internal_data <- data\n",
        "# Function to calculate Haversine distance\n",
        "haversine_distance <- function(lat1, lon1, lat2, lon2) {\n",
        "  dist <- distHaversine(c(lon1, lat1), c(lon2, lat2))\n",
        "  return(dist / 1000)  # Convert meters to kilometers\n",
        "}\n",
        "\n",
        "# Function to calculate category overlap\n",
        "calculate_overlap <- function(categories_i, categories_j) {\n",
        "  cat_i <- unlist(strsplit(categories_i, \",\\\\s*\"))\n",
        "  cat_j <- unlist(strsplit(categories_j, \",\\\\s*\"))\n",
        "  common_categories <- length(intersect(cat_i, cat_j))\n",
        "  total_categories_i <- length(cat_i)\n",
        "  overlap <- common_categories / total_categories_i\n",
        "  return(overlap)\n",
        "}\n",
        "\n",
        "# Initialize a dataframe to store the results\n",
        "all_business_proximity_scores <- data.frame()\n",
        "\n",
        "# Iterate through each postal code to calculate pairwise distances and overlaps\n",
        "for (postal_code in unique(yelp_internal_data$postal_code)) {\n",
        "  data_subset <- yelp_internal_data %>%\n",
        "    filter(postal_code == postal_code) %>%\n",
        "    mutate(pair_id = row_number())\n",
        "\n",
        "  pairwise_distances <- data_subset %>%\n",
        "    inner_join(data_subset, by = \"postal_code\", suffix = c(\"_i\", \"_j\")) %>%\n",
        "    filter(pair_id_i < pair_id_j) %>%\n",
        "    mutate(\n",
        "      distance = mapply(\n",
        "        function(lat1, lon1, lat2, lon2) {\n",
        "          tryCatch({\n",
        "            haversine_distance(lat1, lon1, lat2, lon2)\n",
        "          }, error = function(e) {\n",
        "            NA\n",
        "          })\n",
        "        }, business_lat_i, business_long_i, business_lat_j, business_long_j),\n",
        "      overlap = mapply(calculate_overlap, categories_i, categories_j),\n",
        "      business_proximity = overlap / distance\n",
        "    ) %>%\n",
        "    filter(distance > 0)\n",
        "\n",
        "  business_proximity_scores <- pairwise_distances %>%\n",
        "    group_by(business_id_i) %>%\n",
        "    summarise(business_proximity_score = sum(business_proximity, na.rm = TRUE))\n",
        "\n",
        "  all_business_proximity_scores <- bind_rows(all_business_proximity_scores, business_proximity_scores)\n",
        "}\n",
        "\n",
        "# Calculate the 99th percentile of business proximity scores\n",
        "percentile_99th <- quantile(all_business_proximity_scores$business_proximity_score, 0.99)\n",
        "\n",
        "# Cap the business proximity scores at the 99th percentile\n",
        "all_business_proximity_scores <- all_business_proximity_scores %>%\n",
        "  mutate(capped_business_proximity = pmin(business_proximity_score, percentile_99th))\n",
        "\n",
        "# Function to apply robust scaling\n",
        "robust_scaler <- function(x) {\n",
        "  median_x <- median(x)\n",
        "  iqr_x <- IQR(x)\n",
        "  if (iqr_x == 0) return(rep(0, length(x)))  # Handle IQR of zero\n",
        "  scaled_x <- (x - median_x) / iqr_x\n",
        "  return(scaled_x)\n",
        "}\n",
        "\n",
        "# Apply robust scaling to the capped business proximity scores\n",
        "all_business_proximity_scores <- all_business_proximity_scores %>%\n",
        "  mutate(scaled_capped_business_proximity = robust_scaler(capped_business_proximity))"
      ],
      "metadata": {
        "colab": {
          "base_uri": "https://localhost:8080/"
        },
        "id": "u1PDUj91f8c1",
        "outputId": "861320b9-f95e-40a2-b322-e458a6e8940d"
      },
      "execution_count": null,
      "outputs": [
        {
          "output_type": "stream",
          "name": "stderr",
          "text": [
            "Warning message in inner_join(., data_subset, by = \"postal_code\", suffix = c(\"_i\", :\n",
            "“\u001b[1m\u001b[22mDetected an unexpected many-to-many relationship between `x` and `y`.\n",
            "\u001b[36mℹ\u001b[39m Row 1 of `x` matches multiple rows in `y`.\n",
            "\u001b[36mℹ\u001b[39m Row 1 of `y` matches multiple rows in `x`.\n",
            "\u001b[36mℹ\u001b[39m If a many-to-many relationship is expected, set `relationship =\n",
            "  \"many-to-many\"` to silence this warning.”\n",
            "Warning message in inner_join(., data_subset, by = \"postal_code\", suffix = c(\"_i\", :\n",
            "“\u001b[1m\u001b[22mDetected an unexpected many-to-many relationship between `x` and `y`.\n",
            "\u001b[36mℹ\u001b[39m Row 1 of `x` matches multiple rows in `y`.\n",
            "\u001b[36mℹ\u001b[39m Row 1 of `y` matches multiple rows in `x`.\n",
            "\u001b[36mℹ\u001b[39m If a many-to-many relationship is expected, set `relationship =\n",
            "  \"many-to-many\"` to silence this warning.”\n",
            "Warning message in inner_join(., data_subset, by = \"postal_code\", suffix = c(\"_i\", :\n",
            "“\u001b[1m\u001b[22mDetected an unexpected many-to-many relationship between `x` and `y`.\n",
            "\u001b[36mℹ\u001b[39m Row 1 of `x` matches multiple rows in `y`.\n",
            "\u001b[36mℹ\u001b[39m Row 1 of `y` matches multiple rows in `x`.\n",
            "\u001b[36mℹ\u001b[39m If a many-to-many relationship is expected, set `relationship =\n",
            "  \"many-to-many\"` to silence this warning.”\n",
            "Warning message in inner_join(., data_subset, by = \"postal_code\", suffix = c(\"_i\", :\n",
            "“\u001b[1m\u001b[22mDetected an unexpected many-to-many relationship between `x` and `y`.\n",
            "\u001b[36mℹ\u001b[39m Row 1 of `x` matches multiple rows in `y`.\n",
            "\u001b[36mℹ\u001b[39m Row 1 of `y` matches multiple rows in `x`.\n",
            "\u001b[36mℹ\u001b[39m If a many-to-many relationship is expected, set `relationship =\n",
            "  \"many-to-many\"` to silence this warning.”\n",
            "Warning message in inner_join(., data_subset, by = \"postal_code\", suffix = c(\"_i\", :\n",
            "“\u001b[1m\u001b[22mDetected an unexpected many-to-many relationship between `x` and `y`.\n",
            "\u001b[36mℹ\u001b[39m Row 1 of `x` matches multiple rows in `y`.\n",
            "\u001b[36mℹ\u001b[39m Row 1 of `y` matches multiple rows in `x`.\n",
            "\u001b[36mℹ\u001b[39m If a many-to-many relationship is expected, set `relationship =\n",
            "  \"many-to-many\"` to silence this warning.”\n"
          ]
        }
      ]
    },
    {
      "cell_type": "markdown",
      "source": [
        "# Base Model"
      ],
      "metadata": {
        "id": "sOoCEN9Sa2zV"
      }
    },
    {
      "cell_type": "markdown",
      "source": [
        "## Creating a Subset"
      ],
      "metadata": {
        "id": "EyLBNsEDlYSi"
      }
    },
    {
      "cell_type": "code",
      "source": [
        "install.packages(\"mice\")"
      ],
      "metadata": {
        "collapsed": true,
        "id": "kndNnQ3WlaK_"
      },
      "execution_count": null,
      "outputs": []
    },
    {
      "cell_type": "code",
      "source": [
        "library(mice)"
      ],
      "metadata": {
        "collapsed": true,
        "id": "RrddktuQiYUA"
      },
      "execution_count": null,
      "outputs": []
    },
    {
      "cell_type": "code",
      "source": [
        "# Selecting and creating the variables for the analysis:\n",
        "data_to_analysis <- data %>%\n",
        "    select(check_in_count, average_stars, nearby_count_minus_1, attribute_count, restaurantspricerange2, happyhour,\n",
        "                    total_population, total_population_children, total_population_youth, total_population_adults, total_population_seniors) %>% # Adding external population data variables)\n",
        "      mutate(children_ratio = total_population_children/total_population,\n",
        "          youth_ratio = total_population_youth/total_population,\n",
        "            adult_ratio = total_population_adults/total_population,\n",
        "              senior_ratio = total_population_seniors/total_population) %>%\n",
        "                    select(check_in_count, average_stars, nearby_count_minus_1, attribute_count, restaurantspricerange2, happyhour,\n",
        "                              total_population, children_ratio, youth_ratio, adult_ratio)\n"
      ],
      "metadata": {
        "id": "indBdD2glfpW"
      },
      "execution_count": 58,
      "outputs": []
    },
    {
      "cell_type": "markdown",
      "source": [
        "## Pattern of Missings"
      ],
      "metadata": {
        "id": "ltMyVI15o-e8"
      }
    },
    {
      "cell_type": "code",
      "source": [
        "#inspect pattern of missings\n",
        "md.pattern(data_to_analysis, plot = TRUE, rotate.names = TRUE)"
      ],
      "metadata": {
        "id": "XfPHveIbntJ6",
        "colab": {
          "base_uri": "https://localhost:8080/",
          "height": 769
        },
        "outputId": "2e41aa36-e7df-4c75-8c23-846ab54c2d61"
      },
      "execution_count": 59,
      "outputs": [
        {
          "output_type": "display_data",
          "data": {
            "text/html": [
              "<table class=\"dataframe\">\n",
              "<caption>A matrix: 9 × 11 of type dbl</caption>\n",
              "<thead>\n",
              "\t<tr><th></th><th scope=col>check_in_count</th><th scope=col>average_stars</th><th scope=col>nearby_count_minus_1</th><th scope=col>attribute_count</th><th scope=col>total_population</th><th scope=col>children_ratio</th><th scope=col>youth_ratio</th><th scope=col>adult_ratio</th><th scope=col>restaurantspricerange2</th><th scope=col>happyhour</th><th scope=col></th></tr>\n",
              "</thead>\n",
              "<tbody>\n",
              "\t<tr><th scope=row>1870</th><td>1</td><td>1</td><td>1</td><td>1</td><td> 1</td><td> 1</td><td> 1</td><td> 1</td><td>  1</td><td>   1</td><td>   0</td></tr>\n",
              "\t<tr><th scope=row>3046</th><td>1</td><td>1</td><td>1</td><td>1</td><td> 1</td><td> 1</td><td> 1</td><td> 1</td><td>  1</td><td>   0</td><td>   1</td></tr>\n",
              "\t<tr><th scope=row>96</th><td>1</td><td>1</td><td>1</td><td>1</td><td> 1</td><td> 1</td><td> 1</td><td> 1</td><td>  0</td><td>   1</td><td>   1</td></tr>\n",
              "\t<tr><th scope=row>236</th><td>1</td><td>1</td><td>1</td><td>1</td><td> 1</td><td> 1</td><td> 1</td><td> 1</td><td>  0</td><td>   0</td><td>   2</td></tr>\n",
              "\t<tr><th scope=row>4</th><td>1</td><td>1</td><td>1</td><td>1</td><td> 1</td><td> 0</td><td> 0</td><td> 0</td><td>  1</td><td>   1</td><td>   3</td></tr>\n",
              "\t<tr><th scope=row>6</th><td>1</td><td>1</td><td>1</td><td>1</td><td> 1</td><td> 0</td><td> 0</td><td> 0</td><td>  1</td><td>   0</td><td>   4</td></tr>\n",
              "\t<tr><th scope=row>12</th><td>1</td><td>1</td><td>1</td><td>1</td><td> 0</td><td> 0</td><td> 0</td><td> 0</td><td>  1</td><td>   0</td><td>   5</td></tr>\n",
              "\t<tr><th scope=row>2</th><td>1</td><td>1</td><td>1</td><td>1</td><td> 0</td><td> 0</td><td> 0</td><td> 0</td><td>  0</td><td>   1</td><td>   5</td></tr>\n",
              "\t<tr><th scope=row></th><td>0</td><td>0</td><td>0</td><td>0</td><td>14</td><td>24</td><td>24</td><td>24</td><td>334</td><td>3300</td><td>3720</td></tr>\n",
              "</tbody>\n",
              "</table>\n"
            ],
            "text/markdown": "\nA matrix: 9 × 11 of type dbl\n\n| <!--/--> | check_in_count | average_stars | nearby_count_minus_1 | attribute_count | total_population | children_ratio | youth_ratio | adult_ratio | restaurantspricerange2 | happyhour | <!----> |\n|---|---|---|---|---|---|---|---|---|---|---|---|\n| 1870 | 1 | 1 | 1 | 1 |  1 |  1 |  1 |  1 |   1 |    1 |    0 |\n| 3046 | 1 | 1 | 1 | 1 |  1 |  1 |  1 |  1 |   1 |    0 |    1 |\n| 96 | 1 | 1 | 1 | 1 |  1 |  1 |  1 |  1 |   0 |    1 |    1 |\n| 236 | 1 | 1 | 1 | 1 |  1 |  1 |  1 |  1 |   0 |    0 |    2 |\n| 4 | 1 | 1 | 1 | 1 |  1 |  0 |  0 |  0 |   1 |    1 |    3 |\n| 6 | 1 | 1 | 1 | 1 |  1 |  0 |  0 |  0 |   1 |    0 |    4 |\n| 12 | 1 | 1 | 1 | 1 |  0 |  0 |  0 |  0 |   1 |    0 |    5 |\n| 2 | 1 | 1 | 1 | 1 |  0 |  0 |  0 |  0 |   0 |    1 |    5 |\n| <!----> | 0 | 0 | 0 | 0 | 14 | 24 | 24 | 24 | 334 | 3300 | 3720 |\n\n",
            "text/latex": "A matrix: 9 × 11 of type dbl\n\\begin{tabular}{r|lllllllllll}\n  & check\\_in\\_count & average\\_stars & nearby\\_count\\_minus\\_1 & attribute\\_count & total\\_population & children\\_ratio & youth\\_ratio & adult\\_ratio & restaurantspricerange2 & happyhour & \\\\\n\\hline\n\t1870 & 1 & 1 & 1 & 1 &  1 &  1 &  1 &  1 &   1 &    1 &    0\\\\\n\t3046 & 1 & 1 & 1 & 1 &  1 &  1 &  1 &  1 &   1 &    0 &    1\\\\\n\t96 & 1 & 1 & 1 & 1 &  1 &  1 &  1 &  1 &   0 &    1 &    1\\\\\n\t236 & 1 & 1 & 1 & 1 &  1 &  1 &  1 &  1 &   0 &    0 &    2\\\\\n\t4 & 1 & 1 & 1 & 1 &  1 &  0 &  0 &  0 &   1 &    1 &    3\\\\\n\t6 & 1 & 1 & 1 & 1 &  1 &  0 &  0 &  0 &   1 &    0 &    4\\\\\n\t12 & 1 & 1 & 1 & 1 &  0 &  0 &  0 &  0 &   1 &    0 &    5\\\\\n\t2 & 1 & 1 & 1 & 1 &  0 &  0 &  0 &  0 &   0 &    1 &    5\\\\\n\t & 0 & 0 & 0 & 0 & 14 & 24 & 24 & 24 & 334 & 3300 & 3720\\\\\n\\end{tabular}\n",
            "text/plain": [
              "     check_in_count average_stars nearby_count_minus_1 attribute_count\n",
              "1870 1              1             1                    1              \n",
              "3046 1              1             1                    1              \n",
              "96   1              1             1                    1              \n",
              "236  1              1             1                    1              \n",
              "4    1              1             1                    1              \n",
              "6    1              1             1                    1              \n",
              "12   1              1             1                    1              \n",
              "2    1              1             1                    1              \n",
              "     0              0             0                    0              \n",
              "     total_population children_ratio youth_ratio adult_ratio\n",
              "1870  1                1              1           1         \n",
              "3046  1                1              1           1         \n",
              "96    1                1              1           1         \n",
              "236   1                1              1           1         \n",
              "4     1                0              0           0         \n",
              "6     1                0              0           0         \n",
              "12    0                0              0           0         \n",
              "2     0                0              0           0         \n",
              "     14               24             24          24         \n",
              "     restaurantspricerange2 happyhour     \n",
              "1870   1                       1         0\n",
              "3046   1                       0         1\n",
              "96     0                       1         1\n",
              "236    0                       0         2\n",
              "4      1                       1         3\n",
              "6      1                       0         4\n",
              "12     1                       0         5\n",
              "2      0                       1         5\n",
              "     334                    3300      3720"
            ]
          },
          "metadata": {}
        },
        {
          "output_type": "display_data",
          "data": {
            "text/plain": [
              "plot without title"
            ],
            "image/png": "[encoded data removed]"
          },
          "metadata": {
            "image/png": {
              "width": 420,
              "height": 420
            }
          }
        }
      ]
    },
    {
      "cell_type": "markdown",
      "source": [
        "## Impute Data via Mice"
      ],
      "metadata": {
        "id": "dtCmXlyDu_WF"
      }
    },
    {
      "cell_type": "code",
      "source": [
        " ## m = num. of imputations\n",
        "      # Rule of thum = at least as many imputations as percentage of missing vallues\n",
        " ## maxit = max num. of iterations"
      ],
      "metadata": {
        "id": "zjceGLCQqNzF"
      },
      "execution_count": null,
      "outputs": []
    },
    {
      "cell_type": "code",
      "source": [
        "### Impute Data via mice\n",
        "MiceImputedData <- mice(data_to_analysis, m=20, maxit = 50, seed = 5431, print=FALSE)"
      ],
      "metadata": {
        "collapsed": true,
        "id": "Eslx3_UuydnL"
      },
      "execution_count": 60,
      "outputs": []
    },
    {
      "cell_type": "code",
      "source": [
        "summary(MiceImputedData)"
      ],
      "metadata": {
        "id": "OFs4gHj6mTE8",
        "colab": {
          "base_uri": "https://localhost:8080/"
        },
        "outputId": "de2e4486-93de-47d0-b174-3274051efd3f"
      },
      "execution_count": 61,
      "outputs": [
        {
          "output_type": "stream",
          "name": "stdout",
          "text": [
            "Class: mids\n",
            "Number of multiple imputations:  20 \n",
            "Imputation methods:\n",
            "        check_in_count          average_stars   nearby_count_minus_1 \n",
            "                    \"\"                     \"\"                     \"\" \n",
            "       attribute_count restaurantspricerange2              happyhour \n",
            "                    \"\"                  \"pmm\"               \"logreg\" \n",
            "      total_population         children_ratio            youth_ratio \n",
            "                 \"pmm\"                  \"pmm\"                  \"pmm\" \n",
            "           adult_ratio \n",
            "                 \"pmm\" \n",
            "PredictorMatrix:\n",
            "                       check_in_count average_stars nearby_count_minus_1\n",
            "check_in_count                      0             1                    1\n",
            "average_stars                       1             0                    1\n",
            "nearby_count_minus_1                1             1                    0\n",
            "attribute_count                     1             1                    1\n",
            "restaurantspricerange2              1             1                    1\n",
            "happyhour                           1             1                    1\n",
            "                       attribute_count restaurantspricerange2 happyhour\n",
            "check_in_count                       1                      1         1\n",
            "average_stars                        1                      1         1\n",
            "nearby_count_minus_1                 1                      1         1\n",
            "attribute_count                      0                      1         1\n",
            "restaurantspricerange2               1                      0         1\n",
            "happyhour                            1                      1         0\n",
            "                       total_population children_ratio youth_ratio adult_ratio\n",
            "check_in_count                        1              1           1           1\n",
            "average_stars                         1              1           1           1\n",
            "nearby_count_minus_1                  1              1           1           1\n",
            "attribute_count                       1              1           1           1\n",
            "restaurantspricerange2                1              1           1           1\n",
            "happyhour                             1              1           1           1\n"
          ]
        }
      ]
    },
    {
      "cell_type": "markdown",
      "source": [
        "## *Running the Model with Mice"
      ],
      "metadata": {
        "id": "efsS1e56brfo"
      }
    },
    {
      "cell_type": "markdown",
      "source": [
        "### Checking Multicollinearity"
      ],
      "metadata": {
        "id": "L2Y_adMM8if8"
      }
    },
    {
      "cell_type": "markdown",
      "source": [
        "https://cran.r-project.org/web/packages/olsrr/index.html"
      ],
      "metadata": {
        "id": "ekQgsE8okjhu"
      }
    },
    {
      "cell_type": "code",
      "source": [
        "library(olsrr)"
      ],
      "metadata": {
        "id": "_3Fx9pQXGK_j"
      },
      "execution_count": null,
      "outputs": []
    },
    {
      "cell_type": "code",
      "source": [
        "library(car)"
      ],
      "metadata": {
        "id": "ArFIaIUHGOAk"
      },
      "execution_count": 68,
      "outputs": []
    },
    {
      "cell_type": "code",
      "source": [
        "#get complete data set (2nd out of 20)\n",
        "MiceCompleteData <- complete(MiceImputedData, 2)\n",
        "\n",
        "MiceCompleteData"
      ],
      "metadata": {
        "id": "bryTG4lRsGgD",
        "collapsed": true
      },
      "execution_count": null,
      "outputs": []
    },
    {
      "cell_type": "code",
      "source": [
        "model_no_m <- lm(log(check_in_count) ~\n",
        "              average_stars\n",
        "              + nearby_count_minus_1\n",
        "              + attribute_count\n",
        "              + restaurantspricerange2\n",
        "              + happyhour\n",
        "              + total_population\n",
        "              #+ children_ratio\n",
        "              + youth_ratio\n",
        "              + adult_ratio\n",
        "              #+ senior_ratio\n",
        "                                                   ,MiceCompleteData)"
      ],
      "metadata": {
        "id": "LJZ9SoUrulxZ"
      },
      "execution_count": 70,
      "outputs": []
    },
    {
      "cell_type": "code",
      "source": [
        "model <- lm(log(check_in_count) ~\n",
        "              average_stars\n",
        "              + nearby_count_minus_1\n",
        "              + attribute_count\n",
        "              + restaurantspricerange2 * happyhour\n",
        "              + total_population\n",
        "              #+ children_ratio\n",
        "              + youth_ratio\n",
        "              + adult_ratio\n",
        "              #+ senior_ratio\n",
        "                                                   ,MiceCompleteData)"
      ],
      "metadata": {
        "id": "exQ5mHIykFGJ"
      },
      "execution_count": 71,
      "outputs": []
    },
    {
      "cell_type": "code",
      "source": [
        "ols_vif_tol(model)"
      ],
      "metadata": {
        "colab": {
          "base_uri": "https://localhost:8080/",
          "height": 380
        },
        "id": "9kua7OpsjojQ",
        "outputId": "3bac2f81-8b8e-48db-f614-c971d456a7d6"
      },
      "execution_count": 72,
      "outputs": [
        {
          "output_type": "display_data",
          "data": {
            "text/html": [
              "<table class=\"dataframe\">\n",
              "<caption>A data.frame: 9 × 3</caption>\n",
              "<thead>\n",
              "\t<tr><th scope=col>Variables</th><th scope=col>Tolerance</th><th scope=col>VIF</th></tr>\n",
              "\t<tr><th scope=col>&lt;chr&gt;</th><th scope=col>&lt;dbl&gt;</th><th scope=col>&lt;dbl&gt;</th></tr>\n",
              "</thead>\n",
              "<tbody>\n",
              "\t<tr><td>average_stars                    </td><td>0.85189048</td><td> 1.173860</td></tr>\n",
              "\t<tr><td>nearby_count_minus_1             </td><td>0.56327091</td><td> 1.775345</td></tr>\n",
              "\t<tr><td>attribute_count                  </td><td>0.71678474</td><td> 1.395119</td></tr>\n",
              "\t<tr><td>restaurantspricerange2           </td><td>0.47608122</td><td> 2.100482</td></tr>\n",
              "\t<tr><td>happyhour1                       </td><td>0.10752574</td><td> 9.300099</td></tr>\n",
              "\t<tr><td>total_population                 </td><td>0.55912791</td><td> 1.788500</td></tr>\n",
              "\t<tr><td>youth_ratio                      </td><td>0.27204741</td><td> 3.675830</td></tr>\n",
              "\t<tr><td>adult_ratio                      </td><td>0.18339109</td><td> 5.452828</td></tr>\n",
              "\t<tr><td>restaurantspricerange2:happyhour1</td><td>0.08905311</td><td>11.229254</td></tr>\n",
              "</tbody>\n",
              "</table>\n"
            ],
            "text/markdown": "\nA data.frame: 9 × 3\n\n| Variables &lt;chr&gt; | Tolerance &lt;dbl&gt; | VIF &lt;dbl&gt; |\n|---|---|---|\n| average_stars                     | 0.85189048 |  1.173860 |\n| nearby_count_minus_1              | 0.56327091 |  1.775345 |\n| attribute_count                   | 0.71678474 |  1.395119 |\n| restaurantspricerange2            | 0.47608122 |  2.100482 |\n| happyhour1                        | 0.10752574 |  9.300099 |\n| total_population                  | 0.55912791 |  1.788500 |\n| youth_ratio                       | 0.27204741 |  3.675830 |\n| adult_ratio                       | 0.18339109 |  5.452828 |\n| restaurantspricerange2:happyhour1 | 0.08905311 | 11.229254 |\n\n",
            "text/latex": "A data.frame: 9 × 3\n\\begin{tabular}{lll}\n Variables & Tolerance & VIF\\\\\n <chr> & <dbl> & <dbl>\\\\\n\\hline\n\t average\\_stars                     & 0.85189048 &  1.173860\\\\\n\t nearby\\_count\\_minus\\_1              & 0.56327091 &  1.775345\\\\\n\t attribute\\_count                   & 0.71678474 &  1.395119\\\\\n\t restaurantspricerange2            & 0.47608122 &  2.100482\\\\\n\t happyhour1                        & 0.10752574 &  9.300099\\\\\n\t total\\_population                  & 0.55912791 &  1.788500\\\\\n\t youth\\_ratio                       & 0.27204741 &  3.675830\\\\\n\t adult\\_ratio                       & 0.18339109 &  5.452828\\\\\n\t restaurantspricerange2:happyhour1 & 0.08905311 & 11.229254\\\\\n\\end{tabular}\n",
            "text/plain": [
              "  Variables                         Tolerance  VIF      \n",
              "1 average_stars                     0.85189048  1.173860\n",
              "2 nearby_count_minus_1              0.56327091  1.775345\n",
              "3 attribute_count                   0.71678474  1.395119\n",
              "4 restaurantspricerange2            0.47608122  2.100482\n",
              "5 happyhour1                        0.10752574  9.300099\n",
              "6 total_population                  0.55912791  1.788500\n",
              "7 youth_ratio                       0.27204741  3.675830\n",
              "8 adult_ratio                       0.18339109  5.452828\n",
              "9 restaurantspricerange2:happyhour1 0.08905311 11.229254"
            ]
          },
          "metadata": {}
        }
      ]
    },
    {
      "cell_type": "code",
      "source": [
        "ols_vif_tol(model_no_m)"
      ],
      "metadata": {
        "colab": {
          "base_uri": "https://localhost:8080/",
          "height": 349
        },
        "id": "UOsJJe1bjr8F",
        "outputId": "8644e217-8544-47de-b32a-b2bbf8635f49"
      },
      "execution_count": 73,
      "outputs": [
        {
          "output_type": "display_data",
          "data": {
            "text/html": [
              "<table class=\"dataframe\">\n",
              "<caption>A data.frame: 8 × 3</caption>\n",
              "<thead>\n",
              "\t<tr><th scope=col>Variables</th><th scope=col>Tolerance</th><th scope=col>VIF</th></tr>\n",
              "\t<tr><th scope=col>&lt;chr&gt;</th><th scope=col>&lt;dbl&gt;</th><th scope=col>&lt;dbl&gt;</th></tr>\n",
              "</thead>\n",
              "<tbody>\n",
              "\t<tr><td>average_stars         </td><td>0.8581686</td><td>1.165272</td></tr>\n",
              "\t<tr><td>nearby_count_minus_1  </td><td>0.5636475</td><td>1.774158</td></tr>\n",
              "\t<tr><td>attribute_count       </td><td>0.7187159</td><td>1.391370</td></tr>\n",
              "\t<tr><td>restaurantspricerange2</td><td>0.8257012</td><td>1.211092</td></tr>\n",
              "\t<tr><td>happyhour1            </td><td>0.7936812</td><td>1.259952</td></tr>\n",
              "\t<tr><td>total_population      </td><td>0.5591575</td><td>1.788405</td></tr>\n",
              "\t<tr><td>youth_ratio           </td><td>0.2720568</td><td>3.675702</td></tr>\n",
              "\t<tr><td>adult_ratio           </td><td>0.1833965</td><td>5.452665</td></tr>\n",
              "</tbody>\n",
              "</table>\n"
            ],
            "text/markdown": "\nA data.frame: 8 × 3\n\n| Variables &lt;chr&gt; | Tolerance &lt;dbl&gt; | VIF &lt;dbl&gt; |\n|---|---|---|\n| average_stars          | 0.8581686 | 1.165272 |\n| nearby_count_minus_1   | 0.5636475 | 1.774158 |\n| attribute_count        | 0.7187159 | 1.391370 |\n| restaurantspricerange2 | 0.8257012 | 1.211092 |\n| happyhour1             | 0.7936812 | 1.259952 |\n| total_population       | 0.5591575 | 1.788405 |\n| youth_ratio            | 0.2720568 | 3.675702 |\n| adult_ratio            | 0.1833965 | 5.452665 |\n\n",
            "text/latex": "A data.frame: 8 × 3\n\\begin{tabular}{lll}\n Variables & Tolerance & VIF\\\\\n <chr> & <dbl> & <dbl>\\\\\n\\hline\n\t average\\_stars          & 0.8581686 & 1.165272\\\\\n\t nearby\\_count\\_minus\\_1   & 0.5636475 & 1.774158\\\\\n\t attribute\\_count        & 0.7187159 & 1.391370\\\\\n\t restaurantspricerange2 & 0.8257012 & 1.211092\\\\\n\t happyhour1             & 0.7936812 & 1.259952\\\\\n\t total\\_population       & 0.5591575 & 1.788405\\\\\n\t youth\\_ratio            & 0.2720568 & 3.675702\\\\\n\t adult\\_ratio            & 0.1833965 & 5.452665\\\\\n\\end{tabular}\n",
            "text/plain": [
              "  Variables              Tolerance VIF     \n",
              "1 average_stars          0.8581686 1.165272\n",
              "2 nearby_count_minus_1   0.5636475 1.774158\n",
              "3 attribute_count        0.7187159 1.391370\n",
              "4 restaurantspricerange2 0.8257012 1.211092\n",
              "5 happyhour1             0.7936812 1.259952\n",
              "6 total_population       0.5591575 1.788405\n",
              "7 youth_ratio            0.2720568 3.675702\n",
              "8 adult_ratio            0.1833965 5.452665"
            ]
          },
          "metadata": {}
        }
      ]
    },
    {
      "cell_type": "markdown",
      "source": [
        "### Residual Normality Test"
      ],
      "metadata": {
        "id": "DpFU-fJiThky"
      }
    },
    {
      "cell_type": "code",
      "source": [
        "install.packages(\"olsrr\")"
      ],
      "metadata": {
        "id": "6pRuYMAWUwVo"
      },
      "execution_count": null,
      "outputs": []
    },
    {
      "cell_type": "code",
      "source": [
        "library(olsrr)"
      ],
      "metadata": {
        "id": "XjpAdqZAUzTQ"
      },
      "execution_count": null,
      "outputs": []
    },
    {
      "cell_type": "code",
      "source": [
        "#Graph for detecting violation of normality assumption:\n",
        "ols_plot_resid_qq(model)"
      ],
      "metadata": {
        "colab": {
          "base_uri": "https://localhost:8080/",
          "height": 437
        },
        "id": "VoRxOE3WUjOX",
        "outputId": "0bab6291-0f54-4f4f-ea17-bc217bee1ec8"
      },
      "execution_count": 74,
      "outputs": [
        {
          "output_type": "display_data",
          "data": {
            "text/plain": [
              "plot without title"
            ],
            "image/png": "[encoded data removed]"
          },
          "metadata": {
            "image/png": {
              "width": 420,
              "height": 420
            }
          }
        }
      ]
    },
    {
      "cell_type": "code",
      "source": [
        "ols_plot_resid_hist(model)"
      ],
      "metadata": {
        "colab": {
          "base_uri": "https://localhost:8080/",
          "height": 437
        },
        "id": "jELXjzZnrpOB",
        "outputId": "75142105-0958-48f7-9053-39e8b437f38a"
      },
      "execution_count": 75,
      "outputs": [
        {
          "output_type": "display_data",
          "data": {
            "text/plain": [
              "plot without title"
            ],
            "image/png": "[encoded data removed]"
          },
          "metadata": {
            "image/png": {
              "width": 420,
              "height": 420
            }
          }
        }
      ]
    },
    {
      "cell_type": "code",
      "source": [
        "shapiro.test(resid(model)) #Does not work as we have sample more than 5000."
      ],
      "metadata": {
        "colab": {
          "base_uri": "https://localhost:8080/",
          "height": 124
        },
        "id": "hpK_wyJoZUD6",
        "outputId": "b65c19f4-e59f-4f23-e84c-2f116efb8782"
      },
      "execution_count": 76,
      "outputs": [
        {
          "output_type": "error",
          "ename": "ERROR",
          "evalue": "Error in shapiro.test(resid(model)): sample size must be between 3 and 5000\n",
          "traceback": [
            "Error in shapiro.test(resid(model)): sample size must be between 3 and 5000\nTraceback:\n",
            "1. shapiro.test(resid(model))",
            "2. stop(\"sample size must be between 3 and 5000\")"
          ]
        }
      ]
    },
    {
      "cell_type": "code",
      "source": [
        "# Extract residuals\n",
        "residuals <- model$residuals\n",
        "\n",
        "# Perform the Kolmogorov-Smirnov normality test\n",
        "# We need to standardize the residuals first\n",
        "standardized_residuals <- (residuals - mean(residuals)) / sd(residuals)\n",
        "\n",
        "# Perform the K-S test\n",
        "ks_result <- ks.test(standardized_residuals, \"pnorm\")\n",
        "\n",
        "# Print the results\n",
        "print(ks_result)"
      ],
      "metadata": {
        "colab": {
          "base_uri": "https://localhost:8080/"
        },
        "id": "89Z9Jw17t0Zy",
        "outputId": "0ced266c-7fba-4524-bf31-c2de7d18e1a2"
      },
      "execution_count": 77,
      "outputs": [
        {
          "output_type": "stream",
          "name": "stderr",
          "text": [
            "Warning message in ks.test.default(standardized_residuals, \"pnorm\"):\n",
            "“ties should not be present for the one-sample Kolmogorov-Smirnov test”\n"
          ]
        },
        {
          "output_type": "stream",
          "name": "stdout",
          "text": [
            "\n",
            "\tAsymptotic one-sample Kolmogorov-Smirnov test\n",
            "\n",
            "data:  standardized_residuals\n",
            "D = 0.014144, p-value = 0.2422\n",
            "alternative hypothesis: two-sided\n",
            "\n"
          ]
        }
      ]
    },
    {
      "cell_type": "code",
      "source": [
        "install.packages('nortest')\n",
        "library(nortest)"
      ],
      "metadata": {
        "colab": {
          "base_uri": "https://localhost:8080/"
        },
        "id": "aiYCky1wGsKu",
        "outputId": "e1431ee2-05fe-4431-affb-ade07514675d"
      },
      "execution_count": 79,
      "outputs": [
        {
          "output_type": "stream",
          "name": "stderr",
          "text": [
            "Installing package into ‘/usr/local/lib/R/site-library’\n",
            "(as ‘lib’ is unspecified)\n",
            "\n"
          ]
        }
      ]
    },
    {
      "cell_type": "code",
      "source": [
        "ad.test(residuals)"
      ],
      "metadata": {
        "colab": {
          "base_uri": "https://localhost:8080/",
          "height": 104
        },
        "id": "pmjKKq6K3EiW",
        "outputId": "179c2afb-e18d-44ea-9ee5-2c63d91d1c7f"
      },
      "execution_count": 80,
      "outputs": [
        {
          "output_type": "display_data",
          "data": {
            "text/plain": [
              "\n",
              "\tAnderson-Darling normality test\n",
              "\n",
              "data:  residuals\n",
              "A = 1.302, p-value = 0.002223\n"
            ]
          },
          "metadata": {}
        }
      ]
    },
    {
      "cell_type": "markdown",
      "source": [
        "### Heteroscedasticity Test"
      ],
      "metadata": {
        "id": "ata0ZuRUyZTU"
      }
    },
    {
      "cell_type": "code",
      "source": [
        "ols_test_breusch_pagan(model)"
      ],
      "metadata": {
        "colab": {
          "base_uri": "https://localhost:8080/",
          "height": 295
        },
        "id": "l6itHdjNuV6V",
        "outputId": "9692a885-1043-4d22-8145-88c5e34a5530"
      },
      "execution_count": null,
      "outputs": [
        {
          "output_type": "display_data",
          "data": {
            "text/plain": [
              "\n",
              " Breusch Pagan Test for Heteroskedasticity\n",
              " -----------------------------------------\n",
              " Ho: the variance is constant            \n",
              " Ha: the variance is not constant        \n",
              "\n",
              "                     Data                       \n",
              " -----------------------------------------------\n",
              " Response : log(check_in_count) \n",
              " Variables: fitted values of log(check_in_count) \n",
              "\n",
              "       Test Summary         \n",
              " ---------------------------\n",
              " DF            =    1 \n",
              " Chi2          =    1.736279 \n",
              " Prob > Chi2   =    0.187611 "
            ]
          },
          "metadata": {}
        }
      ]
    },
    {
      "cell_type": "code",
      "source": [
        "ols_test_score(model)"
      ],
      "metadata": {
        "colab": {
          "base_uri": "https://localhost:8080/",
          "height": 243
        },
        "id": "x0g76O_xH3GY",
        "outputId": "0eda457a-00cf-41a4-f8e2-fe47dcd35f3b"
      },
      "execution_count": 81,
      "outputs": [
        {
          "output_type": "display_data",
          "data": {
            "text/plain": [
              "\n",
              " Score Test for Heteroskedasticity\n",
              " ---------------------------------\n",
              " Ho: Variance is homogenous\n",
              " Ha: Variance is not homogenous\n",
              "\n",
              " Variables: fitted values of log(check_in_count) \n",
              "\n",
              "        Test Summary         \n",
              " ----------------------------\n",
              " DF            =    1 \n",
              " Chi2          =    1.680567 \n",
              " Prob > Chi2   =    0.1948492 "
            ]
          },
          "metadata": {}
        }
      ]
    },
    {
      "cell_type": "markdown",
      "source": [
        "### *Run with Mice"
      ],
      "metadata": {
        "id": "0AjKWrh-ax5C"
      }
    },
    {
      "cell_type": "code",
      "source": [
        "summary(model) #summary(MiceAllModels$analyses[[2]])"
      ],
      "metadata": {
        "colab": {
          "base_uri": "https://localhost:8080/",
          "height": 503
        },
        "id": "bMiHdHX9us6t",
        "outputId": "bcd382ac-4825-4821-958d-b2d2bf133597"
      },
      "execution_count": null,
      "outputs": [
        {
          "output_type": "display_data",
          "data": {
            "text/plain": [
              "\n",
              "Call:\n",
              "lm(formula = log(check_in_count) ~ average_stars + nearby_count_minus_1 + \n",
              "    attribute_count + restaurantspricerange2 * happyhour + total_population + \n",
              "    youth_ratio + adult_ratio, data = MiceCompleteData)\n",
              "\n",
              "Residuals:\n",
              "    Min      1Q  Median      3Q     Max \n",
              "-4.4791 -0.7144  0.0304  0.7293  4.1035 \n",
              "\n",
              "Coefficients:\n",
              "                                    Estimate Std. Error t value Pr(>|t|)    \n",
              "(Intercept)                       -2.668e+00  2.621e-01 -10.179  < 2e-16 ***\n",
              "average_stars                      2.149e-01  1.496e-02  14.366  < 2e-16 ***\n",
              "nearby_count_minus_1               5.450e-04  4.944e-05  11.023  < 2e-16 ***\n",
              "attribute_count                    1.397e-01  3.940e-03  35.446  < 2e-16 ***\n",
              "restaurantspricerange2             3.711e-01  3.602e-02  10.305  < 2e-16 ***\n",
              "happyhour1                        -9.397e-02  9.150e-02  -1.027  0.30447    \n",
              "total_population                  -3.687e-06  1.160e-06  -3.178  0.00149 ** \n",
              "youth_ratio                        2.631e+00  2.900e-01   9.072  < 2e-16 ***\n",
              "adult_ratio                        3.239e+00  3.595e-01   9.010  < 2e-16 ***\n",
              "restaurantspricerange2:happyhour1 -7.291e-02  5.137e-02  -1.419  0.15585    \n",
              "---\n",
              "Signif. codes:  0 ‘***’ 0.001 ‘**’ 0.01 ‘*’ 0.05 ‘.’ 0.1 ‘ ’ 1\n",
              "\n",
              "Residual standard error: 1.088 on 5262 degrees of freedom\n",
              "Multiple R-squared:  0.4472,\tAdjusted R-squared:  0.4463 \n",
              "F-statistic:   473 on 9 and 5262 DF,  p-value: < 2.2e-16\n"
            ]
          },
          "metadata": {}
        }
      ]
    },
    {
      "cell_type": "markdown",
      "source": [
        "### *Run with pooled_mice"
      ],
      "metadata": {
        "id": "T3kosBe_b2Pv"
      }
    },
    {
      "cell_type": "code",
      "source": [
        "#build predictive model for all generated imputed data sets\n",
        "MiceAllModels <- with(MiceImputedData, lm(log(check_in_count) ~\n",
        "              average_stars\n",
        "              + nearby_count_minus_1\n",
        "              + attribute_count\n",
        "              + restaurantspricerange2 * happyhour\n",
        "              + total_population\n",
        "              + youth_ratio\n",
        "              + adult_ratio))"
      ],
      "metadata": {
        "id": "_tfv8ym8vPEj"
      },
      "execution_count": null,
      "outputs": []
    },
    {
      "cell_type": "code",
      "source": [
        "#combine results of all 20 models\n",
        "pooled_Mice <- pool(MiceAllModels)"
      ],
      "metadata": {
        "id": "DIdSlwQFviZE"
      },
      "execution_count": null,
      "outputs": []
    },
    {
      "cell_type": "markdown",
      "source": [
        "**Results**"
      ],
      "metadata": {
        "id": "wY-qD5au84wA"
      }
    },
    {
      "cell_type": "code",
      "source": [
        "pooled_Mice_results <- as.data.frame(summary(pooled_Mice))\n",
        "pooled_Mice_results"
      ],
      "metadata": {
        "colab": {
          "base_uri": "https://localhost:8080/",
          "height": 412
        },
        "id": "gMdzE0QfvrjN",
        "outputId": "6d8594b7-44de-4a64-d1d9-2d49f3beaaaf"
      },
      "execution_count": null,
      "outputs": [
        {
          "output_type": "display_data",
          "data": {
            "text/html": [
              "<table class=\"dataframe\">\n",
              "<caption>A data.frame: 10 × 6</caption>\n",
              "<thead>\n",
              "\t<tr><th scope=col>term</th><th scope=col>estimate</th><th scope=col>std.error</th><th scope=col>statistic</th><th scope=col>df</th><th scope=col>p.value</th></tr>\n",
              "\t<tr><th scope=col>&lt;fct&gt;</th><th scope=col>&lt;dbl&gt;</th><th scope=col>&lt;dbl&gt;</th><th scope=col>&lt;dbl&gt;</th><th scope=col>&lt;dbl&gt;</th><th scope=col>&lt;dbl&gt;</th></tr>\n",
              "</thead>\n",
              "<tbody>\n",
              "\t<tr><td>(Intercept)                      </td><td>-2.650615e+00</td><td>2.673543e-01</td><td>-9.9142408</td><td>3432.4610</td><td> 7.302775e-23</td></tr>\n",
              "\t<tr><td>average_stars                    </td><td> 2.181544e-01</td><td>1.543366e-02</td><td>14.1349792</td><td>1980.2763</td><td> 2.732574e-43</td></tr>\n",
              "\t<tr><td>nearby_count_minus_1             </td><td> 5.520490e-04</td><td>4.998600e-05</td><td>11.0440732</td><td>4714.8800</td><td> 5.150503e-28</td></tr>\n",
              "\t<tr><td>attribute_count                  </td><td> 1.402159e-01</td><td>4.158343e-03</td><td>33.7191709</td><td>1633.2259</td><td>1.268509e-189</td></tr>\n",
              "\t<tr><td>restaurantspricerange2           </td><td> 3.710125e-01</td><td>3.932480e-02</td><td> 9.4345679</td><td> 777.3510</td><td> 4.427488e-20</td></tr>\n",
              "\t<tr><td>happyhour1                       </td><td>-7.912298e-02</td><td>1.123559e-01</td><td>-0.7042171</td><td> 157.6793</td><td> 4.823363e-01</td></tr>\n",
              "\t<tr><td>total_population                 </td><td>-3.658027e-06</td><td>1.170715e-06</td><td>-3.1246088</td><td>4712.7473</td><td> 1.791232e-03</td></tr>\n",
              "\t<tr><td>youth_ratio                      </td><td> 2.607982e+00</td><td>2.931982e-01</td><td> 8.8949440</td><td>4695.0324</td><td> 8.194842e-19</td></tr>\n",
              "\t<tr><td>adult_ratio                      </td><td> 3.188617e+00</td><td>3.634869e-01</td><td> 8.7723025</td><td>4694.5701</td><td> 2.410728e-18</td></tr>\n",
              "\t<tr><td>restaurantspricerange2:happyhour1</td><td>-8.518702e-02</td><td>5.860617e-02</td><td>-1.4535503</td><td> 327.8598</td><td> 1.470275e-01</td></tr>\n",
              "</tbody>\n",
              "</table>\n"
            ],
            "text/markdown": "\nA data.frame: 10 × 6\n\n| term &lt;fct&gt; | estimate &lt;dbl&gt; | std.error &lt;dbl&gt; | statistic &lt;dbl&gt; | df &lt;dbl&gt; | p.value &lt;dbl&gt; |\n|---|---|---|---|---|---|\n| (Intercept)                       | -2.650615e+00 | 2.673543e-01 | -9.9142408 | 3432.4610 |  7.302775e-23 |\n| average_stars                     |  2.181544e-01 | 1.543366e-02 | 14.1349792 | 1980.2763 |  2.732574e-43 |\n| nearby_count_minus_1              |  5.520490e-04 | 4.998600e-05 | 11.0440732 | 4714.8800 |  5.150503e-28 |\n| attribute_count                   |  1.402159e-01 | 4.158343e-03 | 33.7191709 | 1633.2259 | 1.268509e-189 |\n| restaurantspricerange2            |  3.710125e-01 | 3.932480e-02 |  9.4345679 |  777.3510 |  4.427488e-20 |\n| happyhour1                        | -7.912298e-02 | 1.123559e-01 | -0.7042171 |  157.6793 |  4.823363e-01 |\n| total_population                  | -3.658027e-06 | 1.170715e-06 | -3.1246088 | 4712.7473 |  1.791232e-03 |\n| youth_ratio                       |  2.607982e+00 | 2.931982e-01 |  8.8949440 | 4695.0324 |  8.194842e-19 |\n| adult_ratio                       |  3.188617e+00 | 3.634869e-01 |  8.7723025 | 4694.5701 |  2.410728e-18 |\n| restaurantspricerange2:happyhour1 | -8.518702e-02 | 5.860617e-02 | -1.4535503 |  327.8598 |  1.470275e-01 |\n\n",
            "text/latex": "A data.frame: 10 × 6\n\\begin{tabular}{llllll}\n term & estimate & std.error & statistic & df & p.value\\\\\n <fct> & <dbl> & <dbl> & <dbl> & <dbl> & <dbl>\\\\\n\\hline\n\t (Intercept)                       & -2.650615e+00 & 2.673543e-01 & -9.9142408 & 3432.4610 &  7.302775e-23\\\\\n\t average\\_stars                     &  2.181544e-01 & 1.543366e-02 & 14.1349792 & 1980.2763 &  2.732574e-43\\\\\n\t nearby\\_count\\_minus\\_1              &  5.520490e-04 & 4.998600e-05 & 11.0440732 & 4714.8800 &  5.150503e-28\\\\\n\t attribute\\_count                   &  1.402159e-01 & 4.158343e-03 & 33.7191709 & 1633.2259 & 1.268509e-189\\\\\n\t restaurantspricerange2            &  3.710125e-01 & 3.932480e-02 &  9.4345679 &  777.3510 &  4.427488e-20\\\\\n\t happyhour1                        & -7.912298e-02 & 1.123559e-01 & -0.7042171 &  157.6793 &  4.823363e-01\\\\\n\t total\\_population                  & -3.658027e-06 & 1.170715e-06 & -3.1246088 & 4712.7473 &  1.791232e-03\\\\\n\t youth\\_ratio                       &  2.607982e+00 & 2.931982e-01 &  8.8949440 & 4695.0324 &  8.194842e-19\\\\\n\t adult\\_ratio                       &  3.188617e+00 & 3.634869e-01 &  8.7723025 & 4694.5701 &  2.410728e-18\\\\\n\t restaurantspricerange2:happyhour1 & -8.518702e-02 & 5.860617e-02 & -1.4535503 &  327.8598 &  1.470275e-01\\\\\n\\end{tabular}\n",
            "text/plain": [
              "   term                              estimate      std.error    statistic \n",
              "1  (Intercept)                       -2.650615e+00 2.673543e-01 -9.9142408\n",
              "2  average_stars                      2.181544e-01 1.543366e-02 14.1349792\n",
              "3  nearby_count_minus_1               5.520490e-04 4.998600e-05 11.0440732\n",
              "4  attribute_count                    1.402159e-01 4.158343e-03 33.7191709\n",
              "5  restaurantspricerange2             3.710125e-01 3.932480e-02  9.4345679\n",
              "6  happyhour1                        -7.912298e-02 1.123559e-01 -0.7042171\n",
              "7  total_population                  -3.658027e-06 1.170715e-06 -3.1246088\n",
              "8  youth_ratio                        2.607982e+00 2.931982e-01  8.8949440\n",
              "9  adult_ratio                        3.188617e+00 3.634869e-01  8.7723025\n",
              "10 restaurantspricerange2:happyhour1 -8.518702e-02 5.860617e-02 -1.4535503\n",
              "   df        p.value      \n",
              "1  3432.4610  7.302775e-23\n",
              "2  1980.2763  2.732574e-43\n",
              "3  4714.8800  5.150503e-28\n",
              "4  1633.2259 1.268509e-189\n",
              "5   777.3510  4.427488e-20\n",
              "6   157.6793  4.823363e-01\n",
              "7  4712.7473  1.791232e-03\n",
              "8  4695.0324  8.194842e-19\n",
              "9  4694.5701  2.410728e-18\n",
              "10  327.8598  1.470275e-01"
            ]
          },
          "metadata": {}
        }
      ]
    },
    {
      "cell_type": "code",
      "source": [
        "# Adding significance level visualization to the above df:\n",
        "\n",
        "pooled_Mice_results %>%\n",
        "    mutate(sign = case_when(p.value >=0 & p.value < 0.001 ~ '***',\n",
        "                              p.value >=0.001 & p.value < 0.01 ~ '**',\n",
        "                                p.value >=0.01 & p.value < 0.05 ~ '*',\n",
        "                                 p.value >=0.05 & p.value < 0.1 ~ '.',\n",
        "                                  p.value >= 0.1 ~ ' ')\n",
        ")"
      ],
      "metadata": {
        "colab": {
          "base_uri": "https://localhost:8080/",
          "height": 412
        },
        "id": "ihNv8qzN9cfH",
        "outputId": "e5c95658-1be2-4405-8a28-c88d483b65d3"
      },
      "execution_count": null,
      "outputs": [
        {
          "output_type": "display_data",
          "data": {
            "text/html": [
              "<table class=\"dataframe\">\n",
              "<caption>A data.frame: 10 × 7</caption>\n",
              "<thead>\n",
              "\t<tr><th scope=col>term</th><th scope=col>estimate</th><th scope=col>std.error</th><th scope=col>statistic</th><th scope=col>df</th><th scope=col>p.value</th><th scope=col>sign</th></tr>\n",
              "\t<tr><th scope=col>&lt;fct&gt;</th><th scope=col>&lt;dbl&gt;</th><th scope=col>&lt;dbl&gt;</th><th scope=col>&lt;dbl&gt;</th><th scope=col>&lt;dbl&gt;</th><th scope=col>&lt;dbl&gt;</th><th scope=col>&lt;chr&gt;</th></tr>\n",
              "</thead>\n",
              "<tbody>\n",
              "\t<tr><td>(Intercept)                      </td><td>-2.650615e+00</td><td>2.673543e-01</td><td>-9.9142408</td><td>3432.4610</td><td> 7.302775e-23</td><td>***</td></tr>\n",
              "\t<tr><td>average_stars                    </td><td> 2.181544e-01</td><td>1.543366e-02</td><td>14.1349792</td><td>1980.2763</td><td> 2.732574e-43</td><td>***</td></tr>\n",
              "\t<tr><td>nearby_count_minus_1             </td><td> 5.520490e-04</td><td>4.998600e-05</td><td>11.0440732</td><td>4714.8800</td><td> 5.150503e-28</td><td>***</td></tr>\n",
              "\t<tr><td>attribute_count                  </td><td> 1.402159e-01</td><td>4.158343e-03</td><td>33.7191709</td><td>1633.2259</td><td>1.268509e-189</td><td>***</td></tr>\n",
              "\t<tr><td>restaurantspricerange2           </td><td> 3.710125e-01</td><td>3.932480e-02</td><td> 9.4345679</td><td> 777.3510</td><td> 4.427488e-20</td><td>***</td></tr>\n",
              "\t<tr><td>happyhour1                       </td><td>-7.912298e-02</td><td>1.123559e-01</td><td>-0.7042171</td><td> 157.6793</td><td> 4.823363e-01</td><td>   </td></tr>\n",
              "\t<tr><td>total_population                 </td><td>-3.658027e-06</td><td>1.170715e-06</td><td>-3.1246088</td><td>4712.7473</td><td> 1.791232e-03</td><td>** </td></tr>\n",
              "\t<tr><td>youth_ratio                      </td><td> 2.607982e+00</td><td>2.931982e-01</td><td> 8.8949440</td><td>4695.0324</td><td> 8.194842e-19</td><td>***</td></tr>\n",
              "\t<tr><td>adult_ratio                      </td><td> 3.188617e+00</td><td>3.634869e-01</td><td> 8.7723025</td><td>4694.5701</td><td> 2.410728e-18</td><td>***</td></tr>\n",
              "\t<tr><td>restaurantspricerange2:happyhour1</td><td>-8.518702e-02</td><td>5.860617e-02</td><td>-1.4535503</td><td> 327.8598</td><td> 1.470275e-01</td><td>   </td></tr>\n",
              "</tbody>\n",
              "</table>\n"
            ],
            "text/markdown": "\nA data.frame: 10 × 7\n\n| term &lt;fct&gt; | estimate &lt;dbl&gt; | std.error &lt;dbl&gt; | statistic &lt;dbl&gt; | df &lt;dbl&gt; | p.value &lt;dbl&gt; | sign &lt;chr&gt; |\n|---|---|---|---|---|---|---|\n| (Intercept)                       | -2.650615e+00 | 2.673543e-01 | -9.9142408 | 3432.4610 |  7.302775e-23 | *** |\n| average_stars                     |  2.181544e-01 | 1.543366e-02 | 14.1349792 | 1980.2763 |  2.732574e-43 | *** |\n| nearby_count_minus_1              |  5.520490e-04 | 4.998600e-05 | 11.0440732 | 4714.8800 |  5.150503e-28 | *** |\n| attribute_count                   |  1.402159e-01 | 4.158343e-03 | 33.7191709 | 1633.2259 | 1.268509e-189 | *** |\n| restaurantspricerange2            |  3.710125e-01 | 3.932480e-02 |  9.4345679 |  777.3510 |  4.427488e-20 | *** |\n| happyhour1                        | -7.912298e-02 | 1.123559e-01 | -0.7042171 |  157.6793 |  4.823363e-01 | <!----> |\n| total_population                  | -3.658027e-06 | 1.170715e-06 | -3.1246088 | 4712.7473 |  1.791232e-03 | **  |\n| youth_ratio                       |  2.607982e+00 | 2.931982e-01 |  8.8949440 | 4695.0324 |  8.194842e-19 | *** |\n| adult_ratio                       |  3.188617e+00 | 3.634869e-01 |  8.7723025 | 4694.5701 |  2.410728e-18 | *** |\n| restaurantspricerange2:happyhour1 | -8.518702e-02 | 5.860617e-02 | -1.4535503 |  327.8598 |  1.470275e-01 | <!----> |\n\n",
            "text/latex": "A data.frame: 10 × 7\n\\begin{tabular}{lllllll}\n term & estimate & std.error & statistic & df & p.value & sign\\\\\n <fct> & <dbl> & <dbl> & <dbl> & <dbl> & <dbl> & <chr>\\\\\n\\hline\n\t (Intercept)                       & -2.650615e+00 & 2.673543e-01 & -9.9142408 & 3432.4610 &  7.302775e-23 & ***\\\\\n\t average\\_stars                     &  2.181544e-01 & 1.543366e-02 & 14.1349792 & 1980.2763 &  2.732574e-43 & ***\\\\\n\t nearby\\_count\\_minus\\_1              &  5.520490e-04 & 4.998600e-05 & 11.0440732 & 4714.8800 &  5.150503e-28 & ***\\\\\n\t attribute\\_count                   &  1.402159e-01 & 4.158343e-03 & 33.7191709 & 1633.2259 & 1.268509e-189 & ***\\\\\n\t restaurantspricerange2            &  3.710125e-01 & 3.932480e-02 &  9.4345679 &  777.3510 &  4.427488e-20 & ***\\\\\n\t happyhour1                        & -7.912298e-02 & 1.123559e-01 & -0.7042171 &  157.6793 &  4.823363e-01 &    \\\\\n\t total\\_population                  & -3.658027e-06 & 1.170715e-06 & -3.1246088 & 4712.7473 &  1.791232e-03 & ** \\\\\n\t youth\\_ratio                       &  2.607982e+00 & 2.931982e-01 &  8.8949440 & 4695.0324 &  8.194842e-19 & ***\\\\\n\t adult\\_ratio                       &  3.188617e+00 & 3.634869e-01 &  8.7723025 & 4694.5701 &  2.410728e-18 & ***\\\\\n\t restaurantspricerange2:happyhour1 & -8.518702e-02 & 5.860617e-02 & -1.4535503 &  327.8598 &  1.470275e-01 &    \\\\\n\\end{tabular}\n",
            "text/plain": [
              "   term                              estimate      std.error    statistic \n",
              "1  (Intercept)                       -2.650615e+00 2.673543e-01 -9.9142408\n",
              "2  average_stars                      2.181544e-01 1.543366e-02 14.1349792\n",
              "3  nearby_count_minus_1               5.520490e-04 4.998600e-05 11.0440732\n",
              "4  attribute_count                    1.402159e-01 4.158343e-03 33.7191709\n",
              "5  restaurantspricerange2             3.710125e-01 3.932480e-02  9.4345679\n",
              "6  happyhour1                        -7.912298e-02 1.123559e-01 -0.7042171\n",
              "7  total_population                  -3.658027e-06 1.170715e-06 -3.1246088\n",
              "8  youth_ratio                        2.607982e+00 2.931982e-01  8.8949440\n",
              "9  adult_ratio                        3.188617e+00 3.634869e-01  8.7723025\n",
              "10 restaurantspricerange2:happyhour1 -8.518702e-02 5.860617e-02 -1.4535503\n",
              "   df        p.value       sign\n",
              "1  3432.4610  7.302775e-23 *** \n",
              "2  1980.2763  2.732574e-43 *** \n",
              "3  4714.8800  5.150503e-28 *** \n",
              "4  1633.2259 1.268509e-189 *** \n",
              "5   777.3510  4.427488e-20 *** \n",
              "6   157.6793  4.823363e-01     \n",
              "7  4712.7473  1.791232e-03 **  \n",
              "8  4695.0324  8.194842e-19 *** \n",
              "9  4694.5701  2.410728e-18 *** \n",
              "10  327.8598  1.470275e-01     "
            ]
          },
          "metadata": {}
        }
      ]
    },
    {
      "cell_type": "code",
      "source": [
        "#   0 ‘***’ 0.001 ‘**’ 0.01 ‘*’ 0.05 ‘.’ 0.1 ‘ ’ 1"
      ],
      "metadata": {
        "id": "B2ZlWf5M9_HI"
      },
      "execution_count": null,
      "outputs": []
    },
    {
      "cell_type": "code",
      "source": [
        "# R-square for Pooled Model.\n",
        "\n",
        "pooled_R_2 <- pool.r.squared(MiceAllModels)\n",
        "pooled_R_2"
      ],
      "metadata": {
        "colab": {
          "base_uri": "https://localhost:8080/",
          "height": 98
        },
        "id": "GgFaXW9G0wzG",
        "outputId": "59973b1a-f4a8-4b0f-8226-5f11965ce469"
      },
      "execution_count": null,
      "outputs": [
        {
          "output_type": "display_data",
          "data": {
            "text/html": [
              "<table class=\"dataframe\">\n",
              "<caption>A matrix: 1 × 4 of type dbl</caption>\n",
              "<thead>\n",
              "\t<tr><th></th><th scope=col>est</th><th scope=col>lo 95</th><th scope=col>hi 95</th><th scope=col>fmi</th></tr>\n",
              "</thead>\n",
              "<tbody>\n",
              "\t<tr><th scope=row>R^2</th><td>0.4469631</td><td>0.426743</td><td>0.4669052</td><td>0.01199444</td></tr>\n",
              "</tbody>\n",
              "</table>\n"
            ],
            "text/markdown": "\nA matrix: 1 × 4 of type dbl\n\n| <!--/--> | est | lo 95 | hi 95 | fmi |\n|---|---|---|---|---|\n| R^2 | 0.4469631 | 0.426743 | 0.4669052 | 0.01199444 |\n\n",
            "text/latex": "A matrix: 1 × 4 of type dbl\n\\begin{tabular}{r|llll}\n  & est & lo 95 & hi 95 & fmi\\\\\n\\hline\n\tR\\textasciicircum{}2 & 0.4469631 & 0.426743 & 0.4669052 & 0.01199444\\\\\n\\end{tabular}\n",
            "text/plain": [
              "    est       lo 95    hi 95     fmi       \n",
              "R^2 0.4469631 0.426743 0.4669052 0.01199444"
            ]
          },
          "metadata": {}
        }
      ]
    },
    {
      "cell_type": "markdown",
      "source": [
        "### *Run with Bootstrap"
      ],
      "metadata": {
        "id": "Rlv_hENX6TLT"
      }
    },
    {
      "cell_type": "code",
      "source": [
        "fit_b <- Boot(model, R = 5000)\n",
        "\n",
        "summary(fit_b)\n",
        "confint(fit_b, level = .95)"
      ],
      "metadata": {
        "colab": {
          "base_uri": "https://localhost:8080/",
          "height": 810
        },
        "id": "Yblwb8aS6XBt",
        "outputId": "9bf2744d-c149-4c2f-e420-a40cc5d07fde"
      },
      "execution_count": null,
      "outputs": [
        {
          "output_type": "display_data",
          "data": {
            "text/html": [
              "<table class=\"dataframe\">\n",
              "<caption>A summary.boot: 10 × 5</caption>\n",
              "<thead>\n",
              "\t<tr><th></th><th scope=col>R</th><th scope=col>original</th><th scope=col>bootBias</th><th scope=col>bootSE</th><th scope=col>bootMed</th></tr>\n",
              "\t<tr><th></th><th scope=col>&lt;dbl&gt;</th><th scope=col>&lt;dbl&gt;</th><th scope=col>&lt;dbl&gt;</th><th scope=col>&lt;dbl&gt;</th><th scope=col>&lt;dbl&gt;</th></tr>\n",
              "</thead>\n",
              "<tbody>\n",
              "\t<tr><th scope=row>(Intercept)</th><td>5000</td><td>-2.668207e+00</td><td> 4.063004e-04</td><td>2.547169e-01</td><td>-2.665705e+00</td></tr>\n",
              "\t<tr><th scope=row>average_stars</th><td>5000</td><td> 2.149033e-01</td><td>-5.158448e-05</td><td>1.461805e-02</td><td> 2.146538e-01</td></tr>\n",
              "\t<tr><th scope=row>nearby_count_minus_1</th><td>5000</td><td> 5.450311e-04</td><td> 7.862923e-08</td><td>5.039463e-05</td><td> 5.457957e-04</td></tr>\n",
              "\t<tr><th scope=row>attribute_count</th><td>5000</td><td> 1.396699e-01</td><td> 8.316803e-05</td><td>3.841904e-03</td><td> 1.396865e-01</td></tr>\n",
              "\t<tr><th scope=row>restaurantspricerange2</th><td>5000</td><td> 3.711416e-01</td><td>-4.133090e-04</td><td>3.873433e-02</td><td> 3.702730e-01</td></tr>\n",
              "\t<tr><th scope=row>happyhour1</th><td>5000</td><td>-9.397330e-02</td><td>-1.341271e-03</td><td>8.891224e-02</td><td>-9.422830e-02</td></tr>\n",
              "\t<tr><th scope=row>total_population</th><td>5000</td><td>-3.686768e-06</td><td> 1.257948e-08</td><td>1.135705e-06</td><td>-3.664489e-06</td></tr>\n",
              "\t<tr><th scope=row>youth_ratio</th><td>5000</td><td> 2.630631e+00</td><td> 8.306773e-04</td><td>2.807305e-01</td><td> 2.633350e+00</td></tr>\n",
              "\t<tr><th scope=row>adult_ratio</th><td>5000</td><td> 3.239359e+00</td><td>-9.677988e-04</td><td>3.462339e-01</td><td> 3.236187e+00</td></tr>\n",
              "\t<tr><th scope=row>restaurantspricerange2:happyhour1</th><td>5000</td><td>-7.291135e-02</td><td> 5.151722e-04</td><td>5.100557e-02</td><td>-7.309229e-02</td></tr>\n",
              "</tbody>\n",
              "</table>\n"
            ],
            "text/markdown": "\nA summary.boot: 10 × 5\n\n| <!--/--> | R &lt;dbl&gt; | original &lt;dbl&gt; | bootBias &lt;dbl&gt; | bootSE &lt;dbl&gt; | bootMed &lt;dbl&gt; |\n|---|---|---|---|---|---|\n| (Intercept) | 5000 | -2.668207e+00 |  4.063004e-04 | 2.547169e-01 | -2.665705e+00 |\n| average_stars | 5000 |  2.149033e-01 | -5.158448e-05 | 1.461805e-02 |  2.146538e-01 |\n| nearby_count_minus_1 | 5000 |  5.450311e-04 |  7.862923e-08 | 5.039463e-05 |  5.457957e-04 |\n| attribute_count | 5000 |  1.396699e-01 |  8.316803e-05 | 3.841904e-03 |  1.396865e-01 |\n| restaurantspricerange2 | 5000 |  3.711416e-01 | -4.133090e-04 | 3.873433e-02 |  3.702730e-01 |\n| happyhour1 | 5000 | -9.397330e-02 | -1.341271e-03 | 8.891224e-02 | -9.422830e-02 |\n| total_population | 5000 | -3.686768e-06 |  1.257948e-08 | 1.135705e-06 | -3.664489e-06 |\n| youth_ratio | 5000 |  2.630631e+00 |  8.306773e-04 | 2.807305e-01 |  2.633350e+00 |\n| adult_ratio | 5000 |  3.239359e+00 | -9.677988e-04 | 3.462339e-01 |  3.236187e+00 |\n| restaurantspricerange2:happyhour1 | 5000 | -7.291135e-02 |  5.151722e-04 | 5.100557e-02 | -7.309229e-02 |\n\n",
            "text/latex": "A summary.boot: 10 × 5\n\\begin{tabular}{r|lllll}\n  & R & original & bootBias & bootSE & bootMed\\\\\n  & <dbl> & <dbl> & <dbl> & <dbl> & <dbl>\\\\\n\\hline\n\t(Intercept) & 5000 & -2.668207e+00 &  4.063004e-04 & 2.547169e-01 & -2.665705e+00\\\\\n\taverage\\_stars & 5000 &  2.149033e-01 & -5.158448e-05 & 1.461805e-02 &  2.146538e-01\\\\\n\tnearby\\_count\\_minus\\_1 & 5000 &  5.450311e-04 &  7.862923e-08 & 5.039463e-05 &  5.457957e-04\\\\\n\tattribute\\_count & 5000 &  1.396699e-01 &  8.316803e-05 & 3.841904e-03 &  1.396865e-01\\\\\n\trestaurantspricerange2 & 5000 &  3.711416e-01 & -4.133090e-04 & 3.873433e-02 &  3.702730e-01\\\\\n\thappyhour1 & 5000 & -9.397330e-02 & -1.341271e-03 & 8.891224e-02 & -9.422830e-02\\\\\n\ttotal\\_population & 5000 & -3.686768e-06 &  1.257948e-08 & 1.135705e-06 & -3.664489e-06\\\\\n\tyouth\\_ratio & 5000 &  2.630631e+00 &  8.306773e-04 & 2.807305e-01 &  2.633350e+00\\\\\n\tadult\\_ratio & 5000 &  3.239359e+00 & -9.677988e-04 & 3.462339e-01 &  3.236187e+00\\\\\n\trestaurantspricerange2:happyhour1 & 5000 & -7.291135e-02 &  5.151722e-04 & 5.100557e-02 & -7.309229e-02\\\\\n\\end{tabular}\n",
            "text/plain": [
              "                                  R    original      bootBias      bootSE      \n",
              "(Intercept)                       5000 -2.668207e+00  4.063004e-04 2.547169e-01\n",
              "average_stars                     5000  2.149033e-01 -5.158448e-05 1.461805e-02\n",
              "nearby_count_minus_1              5000  5.450311e-04  7.862923e-08 5.039463e-05\n",
              "attribute_count                   5000  1.396699e-01  8.316803e-05 3.841904e-03\n",
              "restaurantspricerange2            5000  3.711416e-01 -4.133090e-04 3.873433e-02\n",
              "happyhour1                        5000 -9.397330e-02 -1.341271e-03 8.891224e-02\n",
              "total_population                  5000 -3.686768e-06  1.257948e-08 1.135705e-06\n",
              "youth_ratio                       5000  2.630631e+00  8.306773e-04 2.807305e-01\n",
              "adult_ratio                       5000  3.239359e+00 -9.677988e-04 3.462339e-01\n",
              "restaurantspricerange2:happyhour1 5000 -7.291135e-02  5.151722e-04 5.100557e-02\n",
              "                                  bootMed      \n",
              "(Intercept)                       -2.665705e+00\n",
              "average_stars                      2.146538e-01\n",
              "nearby_count_minus_1               5.457957e-04\n",
              "attribute_count                    1.396865e-01\n",
              "restaurantspricerange2             3.702730e-01\n",
              "happyhour1                        -9.422830e-02\n",
              "total_population                  -3.664489e-06\n",
              "youth_ratio                        2.633350e+00\n",
              "adult_ratio                        3.236187e+00\n",
              "restaurantspricerange2:happyhour1 -7.309229e-02"
            ]
          },
          "metadata": {}
        },
        {
          "output_type": "stream",
          "name": "stderr",
          "text": [
            "Warning message in confint.boot(fit_b, level = 0.95):\n",
            "“BCa method fails for this problem.  Using 'perc' instead”\n"
          ]
        },
        {
          "output_type": "display_data",
          "data": {
            "text/html": [
              "<table class=\"dataframe\">\n",
              "<caption>A confint.boot: 10 × 2 of type dbl</caption>\n",
              "<thead>\n",
              "\t<tr><th></th><th scope=col>2.5 %</th><th scope=col>97.5 %</th></tr>\n",
              "</thead>\n",
              "<tbody>\n",
              "\t<tr><th scope=row>(Intercept)</th><td>-3.173720e+00</td><td>-2.154300e+00</td></tr>\n",
              "\t<tr><th scope=row>average_stars</th><td> 1.862538e-01</td><td> 2.442655e-01</td></tr>\n",
              "\t<tr><th scope=row>nearby_count_minus_1</th><td> 4.464392e-04</td><td> 6.443686e-04</td></tr>\n",
              "\t<tr><th scope=row>attribute_count</th><td> 1.323167e-01</td><td> 1.473184e-01</td></tr>\n",
              "\t<tr><th scope=row>restaurantspricerange2</th><td> 2.955859e-01</td><td> 4.475930e-01</td></tr>\n",
              "\t<tr><th scope=row>happyhour1</th><td>-2.686536e-01</td><td> 8.050150e-02</td></tr>\n",
              "\t<tr><th scope=row>total_population</th><td>-5.936820e-06</td><td>-1.481995e-06</td></tr>\n",
              "\t<tr><th scope=row>youth_ratio</th><td> 2.093356e+00</td><td> 3.191542e+00</td></tr>\n",
              "\t<tr><th scope=row>adult_ratio</th><td> 2.561238e+00</td><td> 3.921002e+00</td></tr>\n",
              "\t<tr><th scope=row>restaurantspricerange2:happyhour1</th><td>-1.712684e-01</td><td> 2.750143e-02</td></tr>\n",
              "</tbody>\n",
              "</table>\n"
            ],
            "text/markdown": "\nA confint.boot: 10 × 2 of type dbl\n\n| <!--/--> | 2.5 % | 97.5 % |\n|---|---|---|\n| (Intercept) | -3.173720e+00 | -2.154300e+00 |\n| average_stars |  1.862538e-01 |  2.442655e-01 |\n| nearby_count_minus_1 |  4.464392e-04 |  6.443686e-04 |\n| attribute_count |  1.323167e-01 |  1.473184e-01 |\n| restaurantspricerange2 |  2.955859e-01 |  4.475930e-01 |\n| happyhour1 | -2.686536e-01 |  8.050150e-02 |\n| total_population | -5.936820e-06 | -1.481995e-06 |\n| youth_ratio |  2.093356e+00 |  3.191542e+00 |\n| adult_ratio |  2.561238e+00 |  3.921002e+00 |\n| restaurantspricerange2:happyhour1 | -1.712684e-01 |  2.750143e-02 |\n\n",
            "text/latex": "A confint.boot: 10 × 2 of type dbl\n\\begin{tabular}{r|ll}\n  & 2.5 \\% & 97.5 \\%\\\\\n\\hline\n\t(Intercept) & -3.173720e+00 & -2.154300e+00\\\\\n\taverage\\_stars &  1.862538e-01 &  2.442655e-01\\\\\n\tnearby\\_count\\_minus\\_1 &  4.464392e-04 &  6.443686e-04\\\\\n\tattribute\\_count &  1.323167e-01 &  1.473184e-01\\\\\n\trestaurantspricerange2 &  2.955859e-01 &  4.475930e-01\\\\\n\thappyhour1 & -2.686536e-01 &  8.050150e-02\\\\\n\ttotal\\_population & -5.936820e-06 & -1.481995e-06\\\\\n\tyouth\\_ratio &  2.093356e+00 &  3.191542e+00\\\\\n\tadult\\_ratio &  2.561238e+00 &  3.921002e+00\\\\\n\trestaurantspricerange2:happyhour1 & -1.712684e-01 &  2.750143e-02\\\\\n\\end{tabular}\n",
            "text/plain": [
              "                                  2.5 %         97.5 %       \n",
              "(Intercept)                       -3.173720e+00 -2.154300e+00\n",
              "average_stars                      1.862538e-01  2.442655e-01\n",
              "nearby_count_minus_1               4.464392e-04  6.443686e-04\n",
              "attribute_count                    1.323167e-01  1.473184e-01\n",
              "restaurantspricerange2             2.955859e-01  4.475930e-01\n",
              "happyhour1                        -2.686536e-01  8.050150e-02\n",
              "total_population                  -5.936820e-06 -1.481995e-06\n",
              "youth_ratio                        2.093356e+00  3.191542e+00\n",
              "adult_ratio                        2.561238e+00  3.921002e+00\n",
              "restaurantspricerange2:happyhour1 -1.712684e-01  2.750143e-02"
            ]
          },
          "metadata": {}
        }
      ]
    },
    {
      "cell_type": "markdown",
      "source": [
        "# Extended Model"
      ],
      "metadata": {
        "id": "m51QFew8jGmJ"
      }
    },
    {
      "cell_type": "markdown",
      "source": [
        "## Creating a Subset"
      ],
      "metadata": {
        "id": "1ABEe-vPcGTG"
      }
    },
    {
      "cell_type": "code",
      "source": [
        "#install.packages(\"mice\")"
      ],
      "metadata": {
        "collapsed": true,
        "id": "JlEqh5UbjVvx"
      },
      "execution_count": null,
      "outputs": []
    },
    {
      "cell_type": "code",
      "source": [
        "library(mice)"
      ],
      "metadata": {
        "collapsed": true,
        "id": "nEHsDlmfjVvx"
      },
      "execution_count": null,
      "outputs": []
    },
    {
      "cell_type": "code",
      "source": [
        "# Selecting the variables for analysis:\n",
        "data_to_analysis_2 <- data %>%\n",
        "    select(check_in_count, average_stars, nearby_count_minus_1, attribute_count, restaurantspricerange2, happyhour,\n",
        "                    total_population, total_population_children, total_population_youth, total_population_adults,\n",
        "                          isromantic, isintimate, istouristy, ishipster, isdivey, isclassy, istrendy, isupscale, iscasual,\n",
        "                            parking_garage, parking_street, parking_validated, parking_lot, parking_valet, parking_total,\n",
        "                              alcohol, outdoorseating, restaurantstableservice, bikeparking, byob, businessacceptscreditcards,\n",
        "                                restaurantscounterservice, hastv, restaurantsreservations, restaurantsdelivery, wifi,\n",
        "                                  restaurantstakeout, n_photo)"
      ],
      "metadata": {
        "id": "0GR6L_n7jVvy"
      },
      "execution_count": null,
      "outputs": []
    },
    {
      "cell_type": "markdown",
      "source": [
        "## *Running the Model with NA's (Pre-Mice)"
      ],
      "metadata": {
        "id": "2WsPuRWFjVvy"
      }
    },
    {
      "cell_type": "code",
      "source": [
        "# Check_in_frequency = β0 + β1 * avg_number_of_stars + β2 * business_proximity + β3 * number of characteristics + β4 * (price_level x happy hour) + ε"
      ],
      "metadata": {
        "id": "djTY0ZQWjVvy"
      },
      "execution_count": null,
      "outputs": []
    },
    {
      "cell_type": "code",
      "source": [
        "#install.packages(\"car\") #test\n",
        "library(car)"
      ],
      "metadata": {
        "id": "HKaX0JasjVvy"
      },
      "execution_count": null,
      "outputs": []
    },
    {
      "cell_type": "code",
      "source": [
        "model_pre_mice_2 <- lm(check_in_count ~\n",
        "              average_stars\n",
        "              + nearby_count_minus_1\n",
        "              + attribute_count\n",
        "              + restaurantspricerange2 * happyhour\n",
        "              + total_population\n",
        "              + total_population_children\n",
        "              + total_population_youth\n",
        "              + total_population_adults\n",
        "              + isromantic\n",
        "              + isintimate\n",
        "              + istouristy\n",
        "              + ishipster\n",
        "              + isdivey\n",
        "              + isclassy\n",
        "              + istrendy\n",
        "              + isupscale\n",
        "              + iscasual\n",
        "              + parking_garage\n",
        "              + parking_street\n",
        "              + parking_validated\n",
        "              + parking_lot\n",
        "              + parking_valet\n",
        "              + parking_total\n",
        "              + alcohol\n",
        "              + outdoorseating\n",
        "              + restaurantstableservice\n",
        "              + bikeparking\n",
        "              + byob\n",
        "              + businessacceptscreditcards\n",
        "              + restaurantscounterservice\n",
        "              + hastv\n",
        "              + restaurantsreservations\n",
        "              + restaurantsdelivery\n",
        "              + wifi\n",
        "              + restaurantstakeout\n",
        "              + n_photo\n",
        "                                             ,data_to_analysis_2)"
      ],
      "metadata": {
        "id": "JFp56jdKjVvy"
      },
      "execution_count": null,
      "outputs": []
    },
    {
      "cell_type": "code",
      "source": [
        "#car::vif(m1) #test\n",
        "summary(model_pre_mice_2)"
      ],
      "metadata": {
        "colab": {
          "base_uri": "https://localhost:8080/",
          "height": 1000
        },
        "outputId": "d0567ec3-9f37-4049-f8ac-a6e68ffd4c48",
        "id": "v7qoyZxfjVvy"
      },
      "execution_count": null,
      "outputs": [
        {
          "output_type": "display_data",
          "data": {
            "text/plain": [
              "\n",
              "Call:\n",
              "lm(formula = check_in_count ~ average_stars + nearby_count_minus_1 + \n",
              "    attribute_count + restaurantspricerange2 * happyhour + total_population + \n",
              "    total_population_children + total_population_youth + total_population_adults + \n",
              "    isromantic + isintimate + istouristy + ishipster + isdivey + \n",
              "    isclassy + istrendy + isupscale + iscasual + parking_garage + \n",
              "    parking_street + parking_validated + parking_lot + parking_valet + \n",
              "    parking_total + alcohol + outdoorseating + restaurantstableservice + \n",
              "    bikeparking + byob + businessacceptscreditcards + restaurantscounterservice + \n",
              "    hastv + restaurantsreservations + restaurantsdelivery + wifi + \n",
              "    restaurantstakeout + n_photo, data = data_to_analysis_2)\n",
              "\n",
              "Residuals:\n",
              "    Min      1Q  Median      3Q     Max \n",
              "-315.88  -16.11   -2.95    9.32 1253.68 \n",
              "\n",
              "Coefficients:\n",
              "                                    Estimate Std. Error t value Pr(>|t|)    \n",
              "(Intercept)                       -2.472e+00  5.584e+00  -0.443 0.658044    \n",
              "average_stars                      3.442e+00  7.409e-01   4.646 3.48e-06 ***\n",
              "nearby_count_minus_1               1.563e-02  2.523e-03   6.194 6.34e-10 ***\n",
              "attribute_count                    2.138e+00  4.575e-01   4.674 3.03e-06 ***\n",
              "restaurantspricerange2             1.398e+00  1.672e+00   0.836 0.403052    \n",
              "happyhour1                         2.513e+00  7.433e+00   0.338 0.735306    \n",
              "total_population                  -1.240e-03  6.898e-04  -1.797 0.072341 .  \n",
              "total_population_children          1.562e-03  7.323e-04   2.134 0.032926 *  \n",
              "total_population_youth             1.035e-03  6.862e-04   1.508 0.131633    \n",
              "total_population_adults            1.162e-03  8.961e-04   1.296 0.194916    \n",
              "isromantic1                       -2.908e+01  5.300e+00  -5.487 4.30e-08 ***\n",
              "isintimate1                       -8.528e+00  4.388e+00  -1.943 0.052021 .  \n",
              "istouristy1                        5.241e+01  7.628e+00   6.871 7.19e-12 ***\n",
              "ishipster1                         6.426e+00  3.748e+00   1.714 0.086518 .  \n",
              "isdivey1                          -5.355e+00  4.632e+00  -1.156 0.247669    \n",
              "isclassy1                          8.244e+00  2.162e+00   3.813 0.000139 ***\n",
              "istrendy1                          1.383e+01  2.912e+00   4.748 2.11e-06 ***\n",
              "isupscale1                        -5.812e+01  7.525e+00  -7.724 1.36e-14 ***\n",
              "iscasual1                          1.951e+00  2.026e+00   0.963 0.335737    \n",
              "parking_garage1                    4.255e+00  3.121e+00   1.363 0.172801    \n",
              "parking_street1                    1.103e+01  2.998e+00   3.679 0.000237 ***\n",
              "parking_validated1                 8.442e+00  4.932e+00   1.712 0.086999 .  \n",
              "parking_lot1                       1.630e+01  2.680e+00   6.082 1.28e-09 ***\n",
              "parking_valet1                     4.155e-01  5.586e+00   0.074 0.940709    \n",
              "parking_total1                    -1.491e+01  3.489e+00  -4.273 1.97e-05 ***\n",
              "alcoholBeer_and_wine               3.013e+01  3.553e+00   8.481  < 2e-16 ***\n",
              "alcoholFull_bar                    3.708e+00  2.575e+00   1.440 0.149918    \n",
              "outdoorseating1                   -2.451e+00  1.808e+00  -1.356 0.175217    \n",
              "restaurantstableservice1          -3.264e-01  2.139e+00  -0.153 0.878728    \n",
              "bikeparking1                      -1.437e+00  1.947e+00  -0.738 0.460506    \n",
              "byob1                             -9.417e+00  4.006e+00  -2.351 0.018767 *  \n",
              "businessacceptscreditcards1       -7.213e+00  2.586e+00  -2.789 0.005315 ** \n",
              "restaurantscounterservice1        -3.942e+01  2.564e+01  -1.538 0.124149    \n",
              "hastv1                            -3.836e+00  1.824e+00  -2.103 0.035516 *  \n",
              "restaurantsreservations1          -1.524e+01  2.108e+00  -7.229 5.61e-13 ***\n",
              "restaurantsdelivery1               8.041e-01  1.826e+00   0.440 0.659759    \n",
              "wifiFree                          -2.016e+00  1.557e+00  -1.295 0.195306    \n",
              "wifiPaid                           8.760e+00  8.292e+00   1.056 0.290833    \n",
              "restaurantstakeout1               -8.431e+00  3.044e+00  -2.770 0.005635 ** \n",
              "n_photo                            2.811e+00  6.937e-02  40.518  < 2e-16 ***\n",
              "restaurantspricerange2:happyhour1 -2.947e+00  3.585e+00  -0.822 0.411147    \n",
              "---\n",
              "Signif. codes:  0 ‘***’ 0.001 ‘**’ 0.01 ‘*’ 0.05 ‘.’ 0.1 ‘ ’ 1\n",
              "\n",
              "Residual standard error: 50.86 on 4885 degrees of freedom\n",
              "  (346 observations deleted due to missingness)\n",
              "Multiple R-squared:  0.4427,\tAdjusted R-squared:  0.4382 \n",
              "F-statistic: 97.03 on 40 and 4885 DF,  p-value: < 2.2e-16\n"
            ]
          },
          "metadata": {}
        }
      ]
    },
    {
      "cell_type": "code",
      "source": [
        "# (346 observations deleted due to missingness)"
      ],
      "metadata": {
        "id": "2bvlJiYbjVvy"
      },
      "execution_count": null,
      "outputs": []
    },
    {
      "cell_type": "markdown",
      "source": [
        "## Pattern of Missings"
      ],
      "metadata": {
        "id": "Mq2kZc_kjVvy"
      }
    },
    {
      "cell_type": "code",
      "source": [
        "args(md.pattern)"
      ],
      "metadata": {
        "colab": {
          "base_uri": "https://localhost:8080/",
          "height": 52
        },
        "outputId": "f5a892ab-2415-4f9d-b80e-0c966df4a950",
        "id": "iMFNTfKLjVvy"
      },
      "execution_count": null,
      "outputs": [
        {
          "output_type": "display_data",
          "data": {
            "text/html": [
              "<pre class=language-r><code>function (x, plot = TRUE, rotate.names = FALSE) \n",
              "NULL</code></pre>"
            ],
            "text/markdown": "```r\nfunction (x, plot = TRUE, rotate.names = FALSE) \nNULL\n```",
            "text/latex": "\\begin{minted}{r}\nfunction (x, plot = TRUE, rotate.names = FALSE) \nNULL\n\\end{minted}",
            "text/plain": [
              "function (x, plot = TRUE, rotate.names = FALSE) \n",
              "NULL"
            ]
          },
          "metadata": {}
        }
      ]
    },
    {
      "cell_type": "code",
      "source": [
        "#inspect pattern of missings\n",
        "md.pattern(data_to_analysis_2, plot = TRUE, rotate.names = TRUE)"
      ],
      "metadata": {
        "collapsed": true,
        "id": "-2bQG4EkjVvy",
        "colab": {
          "base_uri": "https://localhost:8080/",
          "height": 664
        },
        "outputId": "c08b1c76-7ec9-4c75-9172-59b6dff2666d"
      },
      "execution_count": null,
      "outputs": [
        {
          "output_type": "display_data",
          "data": {
            "text/html": [
              "<table class=\"dataframe\">\n",
              "<caption>A matrix: 5 × 39 of type dbl</caption>\n",
              "<thead>\n",
              "\t<tr><th></th><th scope=col>check_in_count</th><th scope=col>average_stars</th><th scope=col>nearby_count_minus_1</th><th scope=col>attribute_count</th><th scope=col>happyhour</th><th scope=col>isromantic</th><th scope=col>isintimate</th><th scope=col>istouristy</th><th scope=col>ishipster</th><th scope=col>isdivey</th><th scope=col>⋯</th><th scope=col>restaurantsdelivery</th><th scope=col>wifi</th><th scope=col>restaurantstakeout</th><th scope=col>n_photo</th><th scope=col>total_population</th><th scope=col>total_population_children</th><th scope=col>total_population_youth</th><th scope=col>total_population_adults</th><th scope=col>restaurantspricerange2</th><th scope=col></th></tr>\n",
              "</thead>\n",
              "<tbody>\n",
              "\t<tr><th scope=row>4926</th><td>1</td><td>1</td><td>1</td><td>1</td><td>1</td><td>1</td><td>1</td><td>1</td><td>1</td><td>1</td><td>⋯</td><td>1</td><td>1</td><td>1</td><td>1</td><td> 1</td><td> 1</td><td> 1</td><td> 1</td><td>  1</td><td>  0</td></tr>\n",
              "\t<tr><th scope=row>332</th><td>1</td><td>1</td><td>1</td><td>1</td><td>1</td><td>1</td><td>1</td><td>1</td><td>1</td><td>1</td><td>⋯</td><td>1</td><td>1</td><td>1</td><td>1</td><td> 1</td><td> 1</td><td> 1</td><td> 1</td><td>  0</td><td>  1</td></tr>\n",
              "\t<tr><th scope=row>12</th><td>1</td><td>1</td><td>1</td><td>1</td><td>1</td><td>1</td><td>1</td><td>1</td><td>1</td><td>1</td><td>⋯</td><td>1</td><td>1</td><td>1</td><td>1</td><td> 0</td><td> 0</td><td> 0</td><td> 0</td><td>  1</td><td>  4</td></tr>\n",
              "\t<tr><th scope=row>2</th><td>1</td><td>1</td><td>1</td><td>1</td><td>1</td><td>1</td><td>1</td><td>1</td><td>1</td><td>1</td><td>⋯</td><td>1</td><td>1</td><td>1</td><td>1</td><td> 0</td><td> 0</td><td> 0</td><td> 0</td><td>  0</td><td>  5</td></tr>\n",
              "\t<tr><th scope=row></th><td>0</td><td>0</td><td>0</td><td>0</td><td>0</td><td>0</td><td>0</td><td>0</td><td>0</td><td>0</td><td>⋯</td><td>0</td><td>0</td><td>0</td><td>0</td><td>14</td><td>14</td><td>14</td><td>14</td><td>334</td><td>390</td></tr>\n",
              "</tbody>\n",
              "</table>\n"
            ],
            "text/markdown": "\nA matrix: 5 × 39 of type dbl\n\n| <!--/--> | check_in_count | average_stars | nearby_count_minus_1 | attribute_count | happyhour | isromantic | isintimate | istouristy | ishipster | isdivey | ⋯ | restaurantsdelivery | wifi | restaurantstakeout | n_photo | total_population | total_population_children | total_population_youth | total_population_adults | restaurantspricerange2 | <!----> |\n|---|---|---|---|---|---|---|---|---|---|---|---|---|---|---|---|---|---|---|---|---|---|\n| 4926 | 1 | 1 | 1 | 1 | 1 | 1 | 1 | 1 | 1 | 1 | ⋯ | 1 | 1 | 1 | 1 |  1 |  1 |  1 |  1 |   1 |   0 |\n| 332 | 1 | 1 | 1 | 1 | 1 | 1 | 1 | 1 | 1 | 1 | ⋯ | 1 | 1 | 1 | 1 |  1 |  1 |  1 |  1 |   0 |   1 |\n| 12 | 1 | 1 | 1 | 1 | 1 | 1 | 1 | 1 | 1 | 1 | ⋯ | 1 | 1 | 1 | 1 |  0 |  0 |  0 |  0 |   1 |   4 |\n| 2 | 1 | 1 | 1 | 1 | 1 | 1 | 1 | 1 | 1 | 1 | ⋯ | 1 | 1 | 1 | 1 |  0 |  0 |  0 |  0 |   0 |   5 |\n| <!----> | 0 | 0 | 0 | 0 | 0 | 0 | 0 | 0 | 0 | 0 | ⋯ | 0 | 0 | 0 | 0 | 14 | 14 | 14 | 14 | 334 | 390 |\n\n",
            "text/latex": "A matrix: 5 × 39 of type dbl\n\\begin{tabular}{r|lllllllllllllllllllll}\n  & check\\_in\\_count & average\\_stars & nearby\\_count\\_minus\\_1 & attribute\\_count & happyhour & isromantic & isintimate & istouristy & ishipster & isdivey & ⋯ & restaurantsdelivery & wifi & restaurantstakeout & n\\_photo & total\\_population & total\\_population\\_children & total\\_population\\_youth & total\\_population\\_adults & restaurantspricerange2 & \\\\\n\\hline\n\t4926 & 1 & 1 & 1 & 1 & 1 & 1 & 1 & 1 & 1 & 1 & ⋯ & 1 & 1 & 1 & 1 &  1 &  1 &  1 &  1 &   1 &   0\\\\\n\t332 & 1 & 1 & 1 & 1 & 1 & 1 & 1 & 1 & 1 & 1 & ⋯ & 1 & 1 & 1 & 1 &  1 &  1 &  1 &  1 &   0 &   1\\\\\n\t12 & 1 & 1 & 1 & 1 & 1 & 1 & 1 & 1 & 1 & 1 & ⋯ & 1 & 1 & 1 & 1 &  0 &  0 &  0 &  0 &   1 &   4\\\\\n\t2 & 1 & 1 & 1 & 1 & 1 & 1 & 1 & 1 & 1 & 1 & ⋯ & 1 & 1 & 1 & 1 &  0 &  0 &  0 &  0 &   0 &   5\\\\\n\t & 0 & 0 & 0 & 0 & 0 & 0 & 0 & 0 & 0 & 0 & ⋯ & 0 & 0 & 0 & 0 & 14 & 14 & 14 & 14 & 334 & 390\\\\\n\\end{tabular}\n",
            "text/plain": [
              "     check_in_count average_stars nearby_count_minus_1 attribute_count\n",
              "4926 1              1             1                    1              \n",
              "332  1              1             1                    1              \n",
              "12   1              1             1                    1              \n",
              "2    1              1             1                    1              \n",
              "     0              0             0                    0              \n",
              "     happyhour isromantic isintimate istouristy ishipster isdivey ⋯\n",
              "4926 1         1          1          1          1         1       ⋯\n",
              "332  1         1          1          1          1         1       ⋯\n",
              "12   1         1          1          1          1         1       ⋯\n",
              "2    1         1          1          1          1         1       ⋯\n",
              "     0         0          0          0          0         0       ⋯\n",
              "     restaurantsdelivery wifi restaurantstakeout n_photo total_population\n",
              "4926 1                   1    1                  1        1              \n",
              "332  1                   1    1                  1        1              \n",
              "12   1                   1    1                  1        0              \n",
              "2    1                   1    1                  1        0              \n",
              "     0                   0    0                  0       14              \n",
              "     total_population_children total_population_youth total_population_adults\n",
              "4926  1                         1                      1                     \n",
              "332   1                         1                      1                     \n",
              "12    0                         0                      0                     \n",
              "2     0                         0                      0                     \n",
              "     14                        14                     14                     \n",
              "     restaurantspricerange2    \n",
              "4926   1                      0\n",
              "332    0                      1\n",
              "12     1                      4\n",
              "2      0                      5\n",
              "     334                    390"
            ]
          },
          "metadata": {}
        },
        {
          "output_type": "display_data",
          "data": {
            "text/plain": [
              "plot without title"
            ],
            "image/png": "[encoded data removed]"
          },
          "metadata": {
            "image/png": {
              "width": 420,
              "height": 420
            }
          }
        }
      ]
    },
    {
      "cell_type": "markdown",
      "source": [
        "## Impute Data via Mice"
      ],
      "metadata": {
        "id": "SqyE67IbjVvz"
      }
    },
    {
      "cell_type": "code",
      "source": [
        "args(mice)"
      ],
      "metadata": {
        "colab": {
          "base_uri": "https://localhost:8080/",
          "height": 121
        },
        "outputId": "929c3641-d6d1-4abd-9cc3-c2403fa0974c",
        "id": "M1o_EKK-jVvz"
      },
      "execution_count": null,
      "outputs": [
        {
          "output_type": "display_data",
          "data": {
            "text/html": [
              "<pre class=language-r><code>function (data, m = 5, method = NULL, predictorMatrix, ignore = NULL, \n",
              "<span style=white-space:pre-wrap>    where = NULL, blocks, visitSequence = NULL, formulas, blots = NULL, </span>\n",
              "<span style=white-space:pre-wrap>    post = NULL, defaultMethod = c(\"pmm\", \"logreg\", \"polyreg\", </span>\n",
              "<span style=white-space:pre-wrap>        \"polr\"), maxit = 5, printFlag = TRUE, seed = NA, data.init = NULL, </span>\n",
              "<span style=white-space:pre-wrap>    ...) </span>\n",
              "NULL</code></pre>"
            ],
            "text/markdown": "```r\nfunction (data, m = 5, method = NULL, predictorMatrix, ignore = NULL, \n    where = NULL, blocks, visitSequence = NULL, formulas, blots = NULL, \n    post = NULL, defaultMethod = c(\"pmm\", \"logreg\", \"polyreg\", \n        \"polr\"), maxit = 5, printFlag = TRUE, seed = NA, data.init = NULL, \n    ...) \nNULL\n```",
            "text/latex": "\\begin{minted}{r}\nfunction (data, m = 5, method = NULL, predictorMatrix, ignore = NULL, \n    where = NULL, blocks, visitSequence = NULL, formulas, blots = NULL, \n    post = NULL, defaultMethod = c(\"pmm\", \"logreg\", \"polyreg\", \n        \"polr\"), maxit = 5, printFlag = TRUE, seed = NA, data.init = NULL, \n    ...) \nNULL\n\\end{minted}",
            "text/plain": [
              "function (data, m = 5, method = NULL, predictorMatrix, ignore = NULL, \n",
              "    where = NULL, blocks, visitSequence = NULL, formulas, blots = NULL, \n",
              "    post = NULL, defaultMethod = c(\"pmm\", \"logreg\", \"polyreg\", \n",
              "        \"polr\"), maxit = 5, printFlag = TRUE, seed = NA, data.init = NULL, \n",
              "    ...) \n",
              "NULL"
            ]
          },
          "metadata": {}
        }
      ]
    },
    {
      "cell_type": "code",
      "source": [
        " ## m = num. of imputations\n",
        "      # Rule of thum = at least as many imputations as percentage of missing vallues\n",
        " ## maxit = max num. of iterations"
      ],
      "metadata": {
        "id": "mnSyVbX6jVvz"
      },
      "execution_count": null,
      "outputs": []
    },
    {
      "cell_type": "code",
      "source": [
        "### Impute Data via mice\n",
        "MiceImputedData_2 <- mice(data_to_analysis_2, m=20, maxit = 50, seed = 5454, print=FALSE)"
      ],
      "metadata": {
        "collapsed": true,
        "id": "Y50YqhN6jVvz"
      },
      "execution_count": null,
      "outputs": []
    },
    {
      "cell_type": "code",
      "source": [
        "summary(MiceImputedData_2)"
      ],
      "metadata": {
        "id": "tHU3tRAnjVvz"
      },
      "execution_count": null,
      "outputs": []
    },
    {
      "cell_type": "markdown",
      "source": [
        "## *Running the Model with Mice"
      ],
      "metadata": {
        "id": "JGECAdhwjVvz"
      }
    },
    {
      "cell_type": "markdown",
      "source": [
        "### *Run with (x.th out of 20)"
      ],
      "metadata": {
        "id": "2kZcqSiCjVvz"
      }
    },
    {
      "cell_type": "code",
      "source": [
        "set.seed(123)\n",
        "sample(1:20, 1)"
      ],
      "metadata": {
        "colab": {
          "base_uri": "https://localhost:8080/",
          "height": 34
        },
        "id": "4YqSUJC0dh0W",
        "outputId": "d1fe1ec1-d225-4054-cd91-9c1e06606912"
      },
      "execution_count": null,
      "outputs": [
        {
          "output_type": "display_data",
          "data": {
            "text/html": [
              "15"
            ],
            "text/markdown": "15",
            "text/latex": "15",
            "text/plain": [
              "[1] 15"
            ]
          },
          "metadata": {}
        }
      ]
    },
    {
      "cell_type": "code",
      "source": [
        "#get complete data set (2nd out of 20)\n",
        "MiceCompleteData_2 <- complete(MiceImputedData_2, 15)\n",
        "\n",
        "MiceCompleteData_2"
      ],
      "metadata": {
        "collapsed": true,
        "id": "5wQ8EIYEjVvz"
      },
      "execution_count": null,
      "outputs": []
    },
    {
      "cell_type": "code",
      "source": [
        "model_after_mice_2 <- lm(check_in_count ~\n",
        "              average_stars\n",
        "              + nearby_count_minus_1\n",
        "              + attribute_count\n",
        "              + restaurantspricerange2 * happyhour\n",
        "              + total_population\n",
        "              + total_population_children\n",
        "              + total_population_youth\n",
        "              + total_population_adults\n",
        "              + isromantic\n",
        "              + isintimate\n",
        "              + istouristy\n",
        "              + ishipster\n",
        "              + isdivey\n",
        "              + isclassy\n",
        "              + istrendy\n",
        "              + isupscale\n",
        "              + iscasual\n",
        "              + parking_garage\n",
        "              + parking_street\n",
        "              + parking_validated\n",
        "              + parking_lot\n",
        "              + parking_valet\n",
        "              + parking_total\n",
        "              + alcohol\n",
        "              + outdoorseating\n",
        "              + restaurantstableservice\n",
        "              + bikeparking\n",
        "              + byob\n",
        "              + businessacceptscreditcards\n",
        "              + restaurantscounterservice\n",
        "              + hastv\n",
        "              + restaurantsreservations\n",
        "              + restaurantsdelivery\n",
        "              + wifi\n",
        "              + restaurantstakeout\n",
        "              + n_photo\n",
        "                                          ,MiceCompleteData_2)"
      ],
      "metadata": {
        "id": "INsC9mgVjVv0"
      },
      "execution_count": null,
      "outputs": []
    },
    {
      "cell_type": "code",
      "source": [
        "summary(model_after_mice_2) #summary(MiceAllModels$analyses[[2]])"
      ],
      "metadata": {
        "colab": {
          "base_uri": "https://localhost:8080/",
          "height": 1000
        },
        "outputId": "d9baf31c-dbdd-465f-e604-38da97ee3d17",
        "id": "bNIdqCLBjVv0"
      },
      "execution_count": null,
      "outputs": [
        {
          "output_type": "display_data",
          "data": {
            "text/plain": [
              "\n",
              "Call:\n",
              "lm(formula = check_in_count ~ average_stars + nearby_count_minus_1 + \n",
              "    attribute_count + restaurantspricerange2 * happyhour + total_population + \n",
              "    total_population_children + total_population_youth + total_population_adults + \n",
              "    isromantic + isintimate + istouristy + ishipster + isdivey + \n",
              "    isclassy + istrendy + isupscale + iscasual + parking_garage + \n",
              "    parking_street + parking_validated + parking_lot + parking_valet + \n",
              "    parking_total + alcohol + outdoorseating + restaurantstableservice + \n",
              "    bikeparking + byob + businessacceptscreditcards + restaurantscounterservice + \n",
              "    hastv + restaurantsreservations + restaurantsdelivery + wifi + \n",
              "    restaurantstakeout + n_photo, data = MiceCompleteData_2)\n",
              "\n",
              "Residuals:\n",
              "    Min      1Q  Median      3Q     Max \n",
              "-314.09  -15.36   -2.82    8.77 1252.98 \n",
              "\n",
              "Coefficients:\n",
              "                                    Estimate Std. Error t value Pr(>|t|)    \n",
              "(Intercept)                       -3.904e+00  4.951e+00  -0.788 0.430441    \n",
              "average_stars                      3.039e+00  6.818e-01   4.457 8.49e-06 ***\n",
              "nearby_count_minus_1               1.478e-02  2.381e-03   6.209 5.76e-10 ***\n",
              "attribute_count                    2.274e+00  4.312e-01   5.275 1.38e-07 ***\n",
              "restaurantspricerange2             1.045e+00  1.571e+00   0.665 0.506149    \n",
              "happyhour1                        -1.077e+00  6.792e+00  -0.159 0.873971    \n",
              "total_population                  -1.279e-03  6.440e-04  -1.985 0.047149 *  \n",
              "total_population_children          1.530e-03  6.815e-04   2.246 0.024756 *  \n",
              "total_population_youth             1.087e-03  6.412e-04   1.695 0.090211 .  \n",
              "total_population_adults            1.256e-03  8.370e-04   1.500 0.133699    \n",
              "isromantic1                       -2.983e+01  5.063e+00  -5.892 4.06e-09 ***\n",
              "isintimate1                       -8.836e+00  4.212e+00  -2.098 0.035966 *  \n",
              "istouristy1                        4.698e+01  7.107e+00   6.610 4.22e-11 ***\n",
              "ishipster1                         6.688e+00  3.588e+00   1.864 0.062353 .  \n",
              "isdivey1                          -5.442e+00  4.484e+00  -1.214 0.224972    \n",
              "isclassy1                          7.651e+00  2.057e+00   3.719 0.000202 ***\n",
              "istrendy1                          1.265e+01  2.779e+00   4.553 5.42e-06 ***\n",
              "isupscale1                        -5.786e+01  7.292e+00  -7.934 2.57e-15 ***\n",
              "iscasual1                          1.474e+00  1.925e+00   0.766 0.443920    \n",
              "parking_garage1                    3.241e+00  2.914e+00   1.112 0.266233    \n",
              "parking_street1                    1.057e+01  2.825e+00   3.742 0.000184 ***\n",
              "parking_validated1                 9.587e+00  4.738e+00   2.023 0.043099 *  \n",
              "parking_lot1                       1.533e+01  2.540e+00   6.036 1.69e-09 ***\n",
              "parking_valet1                     7.236e-01  5.362e+00   0.135 0.892652    \n",
              "parking_total1                    -1.363e+01  3.249e+00  -4.196 2.76e-05 ***\n",
              "alcoholBeer_and_wine               2.994e+01  3.406e+00   8.791  < 2e-16 ***\n",
              "alcoholFull_bar                    4.590e+00  2.440e+00   1.881 0.060025 .  \n",
              "outdoorseating1                   -2.726e+00  1.705e+00  -1.599 0.109852    \n",
              "restaurantstableservice1          -4.745e-01  2.023e+00  -0.235 0.814548    \n",
              "bikeparking1                      -1.187e+00  1.824e+00  -0.651 0.515087    \n",
              "byob1                             -9.808e+00  3.800e+00  -2.581 0.009884 ** \n",
              "businessacceptscreditcards1       -6.386e+00  2.313e+00  -2.762 0.005774 ** \n",
              "restaurantscounterservice1        -3.928e+01  2.491e+01  -1.577 0.114770    \n",
              "hastv1                            -3.978e+00  1.697e+00  -2.345 0.019086 *  \n",
              "restaurantsreservations1          -1.448e+01  1.991e+00  -7.272 4.06e-13 ***\n",
              "restaurantsdelivery1               3.426e-01  1.708e+00   0.201 0.841015    \n",
              "wifiFree                          -2.128e+00  1.470e+00  -1.448 0.147574    \n",
              "wifiPaid                           7.569e+00  7.668e+00   0.987 0.323638    \n",
              "restaurantstakeout1               -7.383e+00  2.693e+00  -2.742 0.006130 ** \n",
              "n_photo                            2.818e+00  6.688e-02  42.133  < 2e-16 ***\n",
              "restaurantspricerange2:happyhour1 -1.774e+00  3.325e+00  -0.533 0.593760    \n",
              "---\n",
              "Signif. codes:  0 ‘***’ 0.001 ‘**’ 0.01 ‘*’ 0.05 ‘.’ 0.1 ‘ ’ 1\n",
              "\n",
              "Residual standard error: 49.43 on 5231 degrees of freedom\n",
              "Multiple R-squared:  0.4432,\tAdjusted R-squared:  0.4389 \n",
              "F-statistic: 104.1 on 40 and 5231 DF,  p-value: < 2.2e-16\n"
            ]
          },
          "metadata": {}
        }
      ]
    },
    {
      "cell_type": "markdown",
      "source": [
        "### *Run with pooled_mice"
      ],
      "metadata": {
        "id": "70TlJAUajVv0"
      }
    },
    {
      "cell_type": "code",
      "source": [
        "#build predictive model for all generated imputed data sets\n",
        "MiceAllModels_2 <- with(MiceImputedData_2, lm(check_in_count ~\n",
        "              average_stars\n",
        "              + nearby_count_minus_1\n",
        "              + attribute_count\n",
        "              + restaurantspricerange2 * happyhour\n",
        "              + total_population\n",
        "              + total_population_children\n",
        "              + total_population_youth\n",
        "              + total_population_adults\n",
        "              + isromantic\n",
        "              + isintimate\n",
        "              + istouristy\n",
        "              + ishipster\n",
        "              + isdivey\n",
        "              + isclassy\n",
        "              + istrendy\n",
        "              + isupscale\n",
        "              + iscasual\n",
        "              + parking_garage\n",
        "              + parking_street\n",
        "              + parking_validated\n",
        "              + parking_lot\n",
        "              + parking_valet\n",
        "              + parking_total\n",
        "              + alcohol\n",
        "              + outdoorseating\n",
        "              + restaurantstableservice\n",
        "              + bikeparking\n",
        "              + byob\n",
        "              + businessacceptscreditcards\n",
        "              + restaurantscounterservice\n",
        "              + hastv\n",
        "              + restaurantsreservations\n",
        "              + restaurantsdelivery\n",
        "              + wifi\n",
        "              + restaurantstakeout\n",
        "              + n_photo))"
      ],
      "metadata": {
        "id": "xBna4dtljVv0"
      },
      "execution_count": null,
      "outputs": []
    },
    {
      "cell_type": "code",
      "source": [
        "#combine results of all 20 models\n",
        "pooled_Mice_2 <- pool(MiceAllModels_2)"
      ],
      "metadata": {
        "id": "RDEu0RpljVv0"
      },
      "execution_count": null,
      "outputs": []
    },
    {
      "cell_type": "markdown",
      "source": [
        "**Results**"
      ],
      "metadata": {
        "id": "vq2P19eAjVv0"
      }
    },
    {
      "cell_type": "code",
      "source": [
        "pooled_Mice_results_2 <- as.data.frame(summary(pooled_Mice_2))\n",
        "pooled_Mice_results_2"
      ],
      "metadata": {
        "colab": {
          "base_uri": "https://localhost:8080/",
          "height": 1000
        },
        "outputId": "c7206a0c-ff65-4e6d-f41f-e05320970a2d",
        "id": "HMihRMZhjVv0"
      },
      "execution_count": null,
      "outputs": [
        {
          "output_type": "display_data",
          "data": {
            "text/html": [
              "<table class=\"dataframe\">\n",
              "<caption>A data.frame: 41 × 6</caption>\n",
              "<thead>\n",
              "\t<tr><th scope=col>term</th><th scope=col>estimate</th><th scope=col>std.error</th><th scope=col>statistic</th><th scope=col>df</th><th scope=col>p.value</th></tr>\n",
              "\t<tr><th scope=col>&lt;fct&gt;</th><th scope=col>&lt;dbl&gt;</th><th scope=col>&lt;dbl&gt;</th><th scope=col>&lt;dbl&gt;</th><th scope=col>&lt;dbl&gt;</th><th scope=col>&lt;dbl&gt;</th></tr>\n",
              "</thead>\n",
              "<tbody>\n",
              "\t<tr><td>(Intercept)                      </td><td> -3.912266581</td><td>4.929753e+00</td><td>-0.7936029</td><td>5206.771</td><td>4.274628e-01</td></tr>\n",
              "\t<tr><td>average_stars                    </td><td>  3.032823316</td><td>6.821651e-01</td><td> 4.4458786</td><td>5228.464</td><td>8.934514e-06</td></tr>\n",
              "\t<tr><td>nearby_count_minus_1             </td><td>  0.014784520</td><td>2.381501e-03</td><td> 6.2080675</td><td>5226.860</td><td>5.777910e-10</td></tr>\n",
              "\t<tr><td>attribute_count                  </td><td>  2.276108881</td><td>4.312117e-01</td><td> 5.2784024</td><td>5228.464</td><td>1.355799e-07</td></tr>\n",
              "\t<tr><td>restaurantspricerange2           </td><td>  1.125431657</td><td>1.576611e+00</td><td> 0.7138299</td><td>4931.816</td><td>4.753662e-01</td></tr>\n",
              "\t<tr><td>happyhour1                       </td><td> -1.732958872</td><td>6.878046e+00</td><td>-0.2519551</td><td>4602.584</td><td>8.010870e-01</td></tr>\n",
              "\t<tr><td>total_population                 </td><td> -0.001266010</td><td>6.447571e-04</td><td>-1.9635456</td><td>5224.316</td><td>4.963577e-02</td></tr>\n",
              "\t<tr><td>total_population_children        </td><td>  0.001523435</td><td>6.829593e-04</td><td> 2.2306382</td><td>5221.100</td><td>2.574743e-02</td></tr>\n",
              "\t<tr><td>total_population_youth           </td><td>  0.001073836</td><td>6.418657e-04</td><td> 1.6729921</td><td>5224.917</td><td>9.438872e-02</td></tr>\n",
              "\t<tr><td>total_population_adults          </td><td>  0.001236516</td><td>8.375631e-04</td><td> 1.4763254</td><td>5224.404</td><td>1.399168e-01</td></tr>\n",
              "\t<tr><td>isromantic1                      </td><td>-29.865903079</td><td>5.062778e+00</td><td>-5.8991141</td><td>5228.406</td><td>3.884173e-09</td></tr>\n",
              "\t<tr><td>isintimate1                      </td><td> -8.840536264</td><td>4.212237e+00</td><td>-2.0987745</td><td>5228.464</td><td>3.588463e-02</td></tr>\n",
              "\t<tr><td>istouristy1                      </td><td> 46.935760732</td><td>7.110090e+00</td><td> 6.6012888</td><td>5228.464</td><td>4.479537e-11</td></tr>\n",
              "\t<tr><td>ishipster1                       </td><td>  6.678593118</td><td>3.587141e+00</td><td> 1.8618149</td><td>5228.361</td><td>6.268525e-02</td></tr>\n",
              "\t<tr><td>isdivey1                         </td><td> -5.379253699</td><td>4.484920e+00</td><td>-1.1994091</td><td>5226.545</td><td>2.304233e-01</td></tr>\n",
              "\t<tr><td>isclassy1                        </td><td>  7.620271993</td><td>2.057553e+00</td><td> 3.7035606</td><td>5225.531</td><td>2.147881e-04</td></tr>\n",
              "\t<tr><td>istrendy1                        </td><td> 12.650097911</td><td>2.778468e+00</td><td> 4.5529032</td><td>5228.464</td><td>5.411113e-06</td></tr>\n",
              "\t<tr><td>isupscale1                       </td><td>-58.017042954</td><td>7.293569e+00</td><td>-7.9545481</td><td>5223.496</td><td>2.187292e-15</td></tr>\n",
              "\t<tr><td>iscasual1                        </td><td>  1.494968866</td><td>1.924544e+00</td><td> 0.7767912</td><td>5228.393</td><td>4.373171e-01</td></tr>\n",
              "\t<tr><td>parking_garage1                  </td><td>  3.207685640</td><td>2.914940e+00</td><td> 1.1004293</td><td>5228.384</td><td>2.711958e-01</td></tr>\n",
              "\t<tr><td>parking_street1                  </td><td> 10.591671214</td><td>2.825340e+00</td><td> 3.7488131</td><td>5228.464</td><td>1.795917e-04</td></tr>\n",
              "\t<tr><td>parking_validated1               </td><td>  9.517902566</td><td>4.738640e+00</td><td> 2.0085725</td><td>5228.464</td><td>4.463381e-02</td></tr>\n",
              "\t<tr><td>parking_lot1                     </td><td> 15.325609341</td><td>2.540494e+00</td><td> 6.0325316</td><td>5228.464</td><td>1.725026e-09</td></tr>\n",
              "\t<tr><td>parking_valet1                   </td><td>  0.660628717</td><td>5.367024e+00</td><td> 0.1230903</td><td>5226.852</td><td>9.020403e-01</td></tr>\n",
              "\t<tr><td>parking_total1                   </td><td>-13.660187894</td><td>3.249108e+00</td><td>-4.2042883</td><td>5228.464</td><td>2.662784e-05</td></tr>\n",
              "\t<tr><td>alcoholBeer_and_wine             </td><td> 29.940299433</td><td>3.405676e+00</td><td> 8.7912935</td><td>5228.464</td><td>1.976120e-18</td></tr>\n",
              "\t<tr><td>alcoholFull_bar                  </td><td>  4.541335655</td><td>2.440578e+00</td><td> 1.8607623</td><td>5224.554</td><td>6.283388e-02</td></tr>\n",
              "\t<tr><td>outdoorseating1                  </td><td> -2.729658915</td><td>1.704699e+00</td><td>-1.6012559</td><td>5228.464</td><td>1.093807e-01</td></tr>\n",
              "\t<tr><td>restaurantstableservice1         </td><td> -0.498170204</td><td>2.023733e+00</td><td>-0.2461640</td><td>5227.596</td><td>8.055650e-01</td></tr>\n",
              "\t<tr><td>bikeparking1                     </td><td> -1.175133223</td><td>1.823721e+00</td><td>-0.6443601</td><td>5228.464</td><td>5.193702e-01</td></tr>\n",
              "\t<tr><td>byob1                            </td><td> -9.800934856</td><td>3.800098e+00</td><td>-2.5791268</td><td>5228.464</td><td>9.932115e-03</td></tr>\n",
              "\t<tr><td>businessacceptscreditcards1      </td><td> -6.425535553</td><td>2.314025e+00</td><td>-2.7767788</td><td>5227.680</td><td>5.509605e-03</td></tr>\n",
              "\t<tr><td>restaurantscounterservice1       </td><td>-39.410909535</td><td>2.490731e+01</td><td>-1.5823032</td><td>5228.464</td><td>1.136409e-01</td></tr>\n",
              "\t<tr><td>hastv1                           </td><td> -3.966396049</td><td>1.696350e+00</td><td>-2.3381943</td><td>5228.455</td><td>1.941467e-02</td></tr>\n",
              "\t<tr><td>restaurantsreservations1         </td><td>-14.506890624</td><td>1.991282e+00</td><td>-7.2852023</td><td>5220.446</td><td>3.690865e-13</td></tr>\n",
              "\t<tr><td>restaurantsdelivery1             </td><td>  0.325198556</td><td>1.707678e+00</td><td> 0.1904332</td><td>5228.464</td><td>8.489771e-01</td></tr>\n",
              "\t<tr><td>wifiFree                         </td><td> -2.119876187</td><td>1.469433e+00</td><td>-1.4426488</td><td>5228.464</td><td>1.491793e-01</td></tr>\n",
              "\t<tr><td>wifiPaid                         </td><td>  7.670746216</td><td>7.668015e+00</td><td> 1.0003562</td><td>5228.464</td><td>3.171845e-01</td></tr>\n",
              "\t<tr><td>restaurantstakeout1              </td><td> -7.406428094</td><td>2.691747e+00</td><td>-2.7515325</td><td>5228.464</td><td>5.952152e-03</td></tr>\n",
              "\t<tr><td>n_photo                          </td><td>  2.817254232</td><td>6.690838e-02</td><td>42.1061521</td><td>5226.568</td><td>0.000000e+00</td></tr>\n",
              "\t<tr><td>restaurantspricerange2:happyhour1</td><td> -1.426889391</td><td>3.367844e+00</td><td>-0.4236804</td><td>4463.191</td><td>6.718194e-01</td></tr>\n",
              "</tbody>\n",
              "</table>\n"
            ],
            "text/markdown": "\nA data.frame: 41 × 6\n\n| term &lt;fct&gt; | estimate &lt;dbl&gt; | std.error &lt;dbl&gt; | statistic &lt;dbl&gt; | df &lt;dbl&gt; | p.value &lt;dbl&gt; |\n|---|---|---|---|---|---|\n| (Intercept)                       |  -3.912266581 | 4.929753e+00 | -0.7936029 | 5206.771 | 4.274628e-01 |\n| average_stars                     |   3.032823316 | 6.821651e-01 |  4.4458786 | 5228.464 | 8.934514e-06 |\n| nearby_count_minus_1              |   0.014784520 | 2.381501e-03 |  6.2080675 | 5226.860 | 5.777910e-10 |\n| attribute_count                   |   2.276108881 | 4.312117e-01 |  5.2784024 | 5228.464 | 1.355799e-07 |\n| restaurantspricerange2            |   1.125431657 | 1.576611e+00 |  0.7138299 | 4931.816 | 4.753662e-01 |\n| happyhour1                        |  -1.732958872 | 6.878046e+00 | -0.2519551 | 4602.584 | 8.010870e-01 |\n| total_population                  |  -0.001266010 | 6.447571e-04 | -1.9635456 | 5224.316 | 4.963577e-02 |\n| total_population_children         |   0.001523435 | 6.829593e-04 |  2.2306382 | 5221.100 | 2.574743e-02 |\n| total_population_youth            |   0.001073836 | 6.418657e-04 |  1.6729921 | 5224.917 | 9.438872e-02 |\n| total_population_adults           |   0.001236516 | 8.375631e-04 |  1.4763254 | 5224.404 | 1.399168e-01 |\n| isromantic1                       | -29.865903079 | 5.062778e+00 | -5.8991141 | 5228.406 | 3.884173e-09 |\n| isintimate1                       |  -8.840536264 | 4.212237e+00 | -2.0987745 | 5228.464 | 3.588463e-02 |\n| istouristy1                       |  46.935760732 | 7.110090e+00 |  6.6012888 | 5228.464 | 4.479537e-11 |\n| ishipster1                        |   6.678593118 | 3.587141e+00 |  1.8618149 | 5228.361 | 6.268525e-02 |\n| isdivey1                          |  -5.379253699 | 4.484920e+00 | -1.1994091 | 5226.545 | 2.304233e-01 |\n| isclassy1                         |   7.620271993 | 2.057553e+00 |  3.7035606 | 5225.531 | 2.147881e-04 |\n| istrendy1                         |  12.650097911 | 2.778468e+00 |  4.5529032 | 5228.464 | 5.411113e-06 |\n| isupscale1                        | -58.017042954 | 7.293569e+00 | -7.9545481 | 5223.496 | 2.187292e-15 |\n| iscasual1                         |   1.494968866 | 1.924544e+00 |  0.7767912 | 5228.393 | 4.373171e-01 |\n| parking_garage1                   |   3.207685640 | 2.914940e+00 |  1.1004293 | 5228.384 | 2.711958e-01 |\n| parking_street1                   |  10.591671214 | 2.825340e+00 |  3.7488131 | 5228.464 | 1.795917e-04 |\n| parking_validated1                |   9.517902566 | 4.738640e+00 |  2.0085725 | 5228.464 | 4.463381e-02 |\n| parking_lot1                      |  15.325609341 | 2.540494e+00 |  6.0325316 | 5228.464 | 1.725026e-09 |\n| parking_valet1                    |   0.660628717 | 5.367024e+00 |  0.1230903 | 5226.852 | 9.020403e-01 |\n| parking_total1                    | -13.660187894 | 3.249108e+00 | -4.2042883 | 5228.464 | 2.662784e-05 |\n| alcoholBeer_and_wine              |  29.940299433 | 3.405676e+00 |  8.7912935 | 5228.464 | 1.976120e-18 |\n| alcoholFull_bar                   |   4.541335655 | 2.440578e+00 |  1.8607623 | 5224.554 | 6.283388e-02 |\n| outdoorseating1                   |  -2.729658915 | 1.704699e+00 | -1.6012559 | 5228.464 | 1.093807e-01 |\n| restaurantstableservice1          |  -0.498170204 | 2.023733e+00 | -0.2461640 | 5227.596 | 8.055650e-01 |\n| bikeparking1                      |  -1.175133223 | 1.823721e+00 | -0.6443601 | 5228.464 | 5.193702e-01 |\n| byob1                             |  -9.800934856 | 3.800098e+00 | -2.5791268 | 5228.464 | 9.932115e-03 |\n| businessacceptscreditcards1       |  -6.425535553 | 2.314025e+00 | -2.7767788 | 5227.680 | 5.509605e-03 |\n| restaurantscounterservice1        | -39.410909535 | 2.490731e+01 | -1.5823032 | 5228.464 | 1.136409e-01 |\n| hastv1                            |  -3.966396049 | 1.696350e+00 | -2.3381943 | 5228.455 | 1.941467e-02 |\n| restaurantsreservations1          | -14.506890624 | 1.991282e+00 | -7.2852023 | 5220.446 | 3.690865e-13 |\n| restaurantsdelivery1              |   0.325198556 | 1.707678e+00 |  0.1904332 | 5228.464 | 8.489771e-01 |\n| wifiFree                          |  -2.119876187 | 1.469433e+00 | -1.4426488 | 5228.464 | 1.491793e-01 |\n| wifiPaid                          |   7.670746216 | 7.668015e+00 |  1.0003562 | 5228.464 | 3.171845e-01 |\n| restaurantstakeout1               |  -7.406428094 | 2.691747e+00 | -2.7515325 | 5228.464 | 5.952152e-03 |\n| n_photo                           |   2.817254232 | 6.690838e-02 | 42.1061521 | 5226.568 | 0.000000e+00 |\n| restaurantspricerange2:happyhour1 |  -1.426889391 | 3.367844e+00 | -0.4236804 | 4463.191 | 6.718194e-01 |\n\n",
            "text/latex": "A data.frame: 41 × 6\n\\begin{tabular}{llllll}\n term & estimate & std.error & statistic & df & p.value\\\\\n <fct> & <dbl> & <dbl> & <dbl> & <dbl> & <dbl>\\\\\n\\hline\n\t (Intercept)                       &  -3.912266581 & 4.929753e+00 & -0.7936029 & 5206.771 & 4.274628e-01\\\\\n\t average\\_stars                     &   3.032823316 & 6.821651e-01 &  4.4458786 & 5228.464 & 8.934514e-06\\\\\n\t nearby\\_count\\_minus\\_1              &   0.014784520 & 2.381501e-03 &  6.2080675 & 5226.860 & 5.777910e-10\\\\\n\t attribute\\_count                   &   2.276108881 & 4.312117e-01 &  5.2784024 & 5228.464 & 1.355799e-07\\\\\n\t restaurantspricerange2            &   1.125431657 & 1.576611e+00 &  0.7138299 & 4931.816 & 4.753662e-01\\\\\n\t happyhour1                        &  -1.732958872 & 6.878046e+00 & -0.2519551 & 4602.584 & 8.010870e-01\\\\\n\t total\\_population                  &  -0.001266010 & 6.447571e-04 & -1.9635456 & 5224.316 & 4.963577e-02\\\\\n\t total\\_population\\_children         &   0.001523435 & 6.829593e-04 &  2.2306382 & 5221.100 & 2.574743e-02\\\\\n\t total\\_population\\_youth            &   0.001073836 & 6.418657e-04 &  1.6729921 & 5224.917 & 9.438872e-02\\\\\n\t total\\_population\\_adults           &   0.001236516 & 8.375631e-04 &  1.4763254 & 5224.404 & 1.399168e-01\\\\\n\t isromantic1                       & -29.865903079 & 5.062778e+00 & -5.8991141 & 5228.406 & 3.884173e-09\\\\\n\t isintimate1                       &  -8.840536264 & 4.212237e+00 & -2.0987745 & 5228.464 & 3.588463e-02\\\\\n\t istouristy1                       &  46.935760732 & 7.110090e+00 &  6.6012888 & 5228.464 & 4.479537e-11\\\\\n\t ishipster1                        &   6.678593118 & 3.587141e+00 &  1.8618149 & 5228.361 & 6.268525e-02\\\\\n\t isdivey1                          &  -5.379253699 & 4.484920e+00 & -1.1994091 & 5226.545 & 2.304233e-01\\\\\n\t isclassy1                         &   7.620271993 & 2.057553e+00 &  3.7035606 & 5225.531 & 2.147881e-04\\\\\n\t istrendy1                         &  12.650097911 & 2.778468e+00 &  4.5529032 & 5228.464 & 5.411113e-06\\\\\n\t isupscale1                        & -58.017042954 & 7.293569e+00 & -7.9545481 & 5223.496 & 2.187292e-15\\\\\n\t iscasual1                         &   1.494968866 & 1.924544e+00 &  0.7767912 & 5228.393 & 4.373171e-01\\\\\n\t parking\\_garage1                   &   3.207685640 & 2.914940e+00 &  1.1004293 & 5228.384 & 2.711958e-01\\\\\n\t parking\\_street1                   &  10.591671214 & 2.825340e+00 &  3.7488131 & 5228.464 & 1.795917e-04\\\\\n\t parking\\_validated1                &   9.517902566 & 4.738640e+00 &  2.0085725 & 5228.464 & 4.463381e-02\\\\\n\t parking\\_lot1                      &  15.325609341 & 2.540494e+00 &  6.0325316 & 5228.464 & 1.725026e-09\\\\\n\t parking\\_valet1                    &   0.660628717 & 5.367024e+00 &  0.1230903 & 5226.852 & 9.020403e-01\\\\\n\t parking\\_total1                    & -13.660187894 & 3.249108e+00 & -4.2042883 & 5228.464 & 2.662784e-05\\\\\n\t alcoholBeer\\_and\\_wine              &  29.940299433 & 3.405676e+00 &  8.7912935 & 5228.464 & 1.976120e-18\\\\\n\t alcoholFull\\_bar                   &   4.541335655 & 2.440578e+00 &  1.8607623 & 5224.554 & 6.283388e-02\\\\\n\t outdoorseating1                   &  -2.729658915 & 1.704699e+00 & -1.6012559 & 5228.464 & 1.093807e-01\\\\\n\t restaurantstableservice1          &  -0.498170204 & 2.023733e+00 & -0.2461640 & 5227.596 & 8.055650e-01\\\\\n\t bikeparking1                      &  -1.175133223 & 1.823721e+00 & -0.6443601 & 5228.464 & 5.193702e-01\\\\\n\t byob1                             &  -9.800934856 & 3.800098e+00 & -2.5791268 & 5228.464 & 9.932115e-03\\\\\n\t businessacceptscreditcards1       &  -6.425535553 & 2.314025e+00 & -2.7767788 & 5227.680 & 5.509605e-03\\\\\n\t restaurantscounterservice1        & -39.410909535 & 2.490731e+01 & -1.5823032 & 5228.464 & 1.136409e-01\\\\\n\t hastv1                            &  -3.966396049 & 1.696350e+00 & -2.3381943 & 5228.455 & 1.941467e-02\\\\\n\t restaurantsreservations1          & -14.506890624 & 1.991282e+00 & -7.2852023 & 5220.446 & 3.690865e-13\\\\\n\t restaurantsdelivery1              &   0.325198556 & 1.707678e+00 &  0.1904332 & 5228.464 & 8.489771e-01\\\\\n\t wifiFree                          &  -2.119876187 & 1.469433e+00 & -1.4426488 & 5228.464 & 1.491793e-01\\\\\n\t wifiPaid                          &   7.670746216 & 7.668015e+00 &  1.0003562 & 5228.464 & 3.171845e-01\\\\\n\t restaurantstakeout1               &  -7.406428094 & 2.691747e+00 & -2.7515325 & 5228.464 & 5.952152e-03\\\\\n\t n\\_photo                           &   2.817254232 & 6.690838e-02 & 42.1061521 & 5226.568 & 0.000000e+00\\\\\n\t restaurantspricerange2:happyhour1 &  -1.426889391 & 3.367844e+00 & -0.4236804 & 4463.191 & 6.718194e-01\\\\\n\\end{tabular}\n",
            "text/plain": [
              "   term                              estimate      std.error    statistic \n",
              "1  (Intercept)                        -3.912266581 4.929753e+00 -0.7936029\n",
              "2  average_stars                       3.032823316 6.821651e-01  4.4458786\n",
              "3  nearby_count_minus_1                0.014784520 2.381501e-03  6.2080675\n",
              "4  attribute_count                     2.276108881 4.312117e-01  5.2784024\n",
              "5  restaurantspricerange2              1.125431657 1.576611e+00  0.7138299\n",
              "6  happyhour1                         -1.732958872 6.878046e+00 -0.2519551\n",
              "7  total_population                   -0.001266010 6.447571e-04 -1.9635456\n",
              "8  total_population_children           0.001523435 6.829593e-04  2.2306382\n",
              "9  total_population_youth              0.001073836 6.418657e-04  1.6729921\n",
              "10 total_population_adults             0.001236516 8.375631e-04  1.4763254\n",
              "11 isromantic1                       -29.865903079 5.062778e+00 -5.8991141\n",
              "12 isintimate1                        -8.840536264 4.212237e+00 -2.0987745\n",
              "13 istouristy1                        46.935760732 7.110090e+00  6.6012888\n",
              "14 ishipster1                          6.678593118 3.587141e+00  1.8618149\n",
              "15 isdivey1                           -5.379253699 4.484920e+00 -1.1994091\n",
              "16 isclassy1                           7.620271993 2.057553e+00  3.7035606\n",
              "17 istrendy1                          12.650097911 2.778468e+00  4.5529032\n",
              "18 isupscale1                        -58.017042954 7.293569e+00 -7.9545481\n",
              "19 iscasual1                           1.494968866 1.924544e+00  0.7767912\n",
              "20 parking_garage1                     3.207685640 2.914940e+00  1.1004293\n",
              "21 parking_street1                    10.591671214 2.825340e+00  3.7488131\n",
              "22 parking_validated1                  9.517902566 4.738640e+00  2.0085725\n",
              "23 parking_lot1                       15.325609341 2.540494e+00  6.0325316\n",
              "24 parking_valet1                      0.660628717 5.367024e+00  0.1230903\n",
              "25 parking_total1                    -13.660187894 3.249108e+00 -4.2042883\n",
              "26 alcoholBeer_and_wine               29.940299433 3.405676e+00  8.7912935\n",
              "27 alcoholFull_bar                     4.541335655 2.440578e+00  1.8607623\n",
              "28 outdoorseating1                    -2.729658915 1.704699e+00 -1.6012559\n",
              "29 restaurantstableservice1           -0.498170204 2.023733e+00 -0.2461640\n",
              "30 bikeparking1                       -1.175133223 1.823721e+00 -0.6443601\n",
              "31 byob1                              -9.800934856 3.800098e+00 -2.5791268\n",
              "32 businessacceptscreditcards1        -6.425535553 2.314025e+00 -2.7767788\n",
              "33 restaurantscounterservice1        -39.410909535 2.490731e+01 -1.5823032\n",
              "34 hastv1                             -3.966396049 1.696350e+00 -2.3381943\n",
              "35 restaurantsreservations1          -14.506890624 1.991282e+00 -7.2852023\n",
              "36 restaurantsdelivery1                0.325198556 1.707678e+00  0.1904332\n",
              "37 wifiFree                           -2.119876187 1.469433e+00 -1.4426488\n",
              "38 wifiPaid                            7.670746216 7.668015e+00  1.0003562\n",
              "39 restaurantstakeout1                -7.406428094 2.691747e+00 -2.7515325\n",
              "40 n_photo                             2.817254232 6.690838e-02 42.1061521\n",
              "41 restaurantspricerange2:happyhour1  -1.426889391 3.367844e+00 -0.4236804\n",
              "   df       p.value     \n",
              "1  5206.771 4.274628e-01\n",
              "2  5228.464 8.934514e-06\n",
              "3  5226.860 5.777910e-10\n",
              "4  5228.464 1.355799e-07\n",
              "5  4931.816 4.753662e-01\n",
              "6  4602.584 8.010870e-01\n",
              "7  5224.316 4.963577e-02\n",
              "8  5221.100 2.574743e-02\n",
              "9  5224.917 9.438872e-02\n",
              "10 5224.404 1.399168e-01\n",
              "11 5228.406 3.884173e-09\n",
              "12 5228.464 3.588463e-02\n",
              "13 5228.464 4.479537e-11\n",
              "14 5228.361 6.268525e-02\n",
              "15 5226.545 2.304233e-01\n",
              "16 5225.531 2.147881e-04\n",
              "17 5228.464 5.411113e-06\n",
              "18 5223.496 2.187292e-15\n",
              "19 5228.393 4.373171e-01\n",
              "20 5228.384 2.711958e-01\n",
              "21 5228.464 1.795917e-04\n",
              "22 5228.464 4.463381e-02\n",
              "23 5228.464 1.725026e-09\n",
              "24 5226.852 9.020403e-01\n",
              "25 5228.464 2.662784e-05\n",
              "26 5228.464 1.976120e-18\n",
              "27 5224.554 6.283388e-02\n",
              "28 5228.464 1.093807e-01\n",
              "29 5227.596 8.055650e-01\n",
              "30 5228.464 5.193702e-01\n",
              "31 5228.464 9.932115e-03\n",
              "32 5227.680 5.509605e-03\n",
              "33 5228.464 1.136409e-01\n",
              "34 5228.455 1.941467e-02\n",
              "35 5220.446 3.690865e-13\n",
              "36 5228.464 8.489771e-01\n",
              "37 5228.464 1.491793e-01\n",
              "38 5228.464 3.171845e-01\n",
              "39 5228.464 5.952152e-03\n",
              "40 5226.568 0.000000e+00\n",
              "41 4463.191 6.718194e-01"
            ]
          },
          "metadata": {}
        }
      ]
    },
    {
      "cell_type": "code",
      "source": [
        "# Adding significance level visualization to the above df:\n",
        "\n",
        "pooled_Mice_results_2 %>%\n",
        "    mutate(sign = case_when(p.value >=0 & p.value < 0.001 ~ '***',\n",
        "                              p.value >=0.001 & p.value < 0.01 ~ '**',\n",
        "                                p.value >=0.01 & p.value < 0.05 ~ '*',\n",
        "                                 p.value >=0.05 & p.value < 0.1 ~ '.',\n",
        "                                  p.value >= 0.1 ~ ' ')\n",
        ")"
      ],
      "metadata": {
        "colab": {
          "base_uri": "https://localhost:8080/",
          "height": 1000
        },
        "outputId": "e7629426-46f0-4367-8677-85be445d3c31",
        "id": "-gf5lGlPjVv0"
      },
      "execution_count": null,
      "outputs": [
        {
          "output_type": "display_data",
          "data": {
            "text/html": [
              "<table class=\"dataframe\">\n",
              "<caption>A data.frame: 41 × 7</caption>\n",
              "<thead>\n",
              "\t<tr><th scope=col>term</th><th scope=col>estimate</th><th scope=col>std.error</th><th scope=col>statistic</th><th scope=col>df</th><th scope=col>p.value</th><th scope=col>sign</th></tr>\n",
              "\t<tr><th scope=col>&lt;fct&gt;</th><th scope=col>&lt;dbl&gt;</th><th scope=col>&lt;dbl&gt;</th><th scope=col>&lt;dbl&gt;</th><th scope=col>&lt;dbl&gt;</th><th scope=col>&lt;dbl&gt;</th><th scope=col>&lt;chr&gt;</th></tr>\n",
              "</thead>\n",
              "<tbody>\n",
              "\t<tr><td>(Intercept)                      </td><td> -3.912266581</td><td>4.929753e+00</td><td>-0.7936029</td><td>5206.771</td><td>4.274628e-01</td><td>   </td></tr>\n",
              "\t<tr><td>average_stars                    </td><td>  3.032823316</td><td>6.821651e-01</td><td> 4.4458786</td><td>5228.464</td><td>8.934514e-06</td><td>***</td></tr>\n",
              "\t<tr><td>nearby_count_minus_1             </td><td>  0.014784520</td><td>2.381501e-03</td><td> 6.2080675</td><td>5226.860</td><td>5.777910e-10</td><td>***</td></tr>\n",
              "\t<tr><td>attribute_count                  </td><td>  2.276108881</td><td>4.312117e-01</td><td> 5.2784024</td><td>5228.464</td><td>1.355799e-07</td><td>***</td></tr>\n",
              "\t<tr><td>restaurantspricerange2           </td><td>  1.125431657</td><td>1.576611e+00</td><td> 0.7138299</td><td>4931.816</td><td>4.753662e-01</td><td>   </td></tr>\n",
              "\t<tr><td>happyhour1                       </td><td> -1.732958872</td><td>6.878046e+00</td><td>-0.2519551</td><td>4602.584</td><td>8.010870e-01</td><td>   </td></tr>\n",
              "\t<tr><td>total_population                 </td><td> -0.001266010</td><td>6.447571e-04</td><td>-1.9635456</td><td>5224.316</td><td>4.963577e-02</td><td>*  </td></tr>\n",
              "\t<tr><td>total_population_children        </td><td>  0.001523435</td><td>6.829593e-04</td><td> 2.2306382</td><td>5221.100</td><td>2.574743e-02</td><td>*  </td></tr>\n",
              "\t<tr><td>total_population_youth           </td><td>  0.001073836</td><td>6.418657e-04</td><td> 1.6729921</td><td>5224.917</td><td>9.438872e-02</td><td>.  </td></tr>\n",
              "\t<tr><td>total_population_adults          </td><td>  0.001236516</td><td>8.375631e-04</td><td> 1.4763254</td><td>5224.404</td><td>1.399168e-01</td><td>   </td></tr>\n",
              "\t<tr><td>isromantic1                      </td><td>-29.865903079</td><td>5.062778e+00</td><td>-5.8991141</td><td>5228.406</td><td>3.884173e-09</td><td>***</td></tr>\n",
              "\t<tr><td>isintimate1                      </td><td> -8.840536264</td><td>4.212237e+00</td><td>-2.0987745</td><td>5228.464</td><td>3.588463e-02</td><td>*  </td></tr>\n",
              "\t<tr><td>istouristy1                      </td><td> 46.935760732</td><td>7.110090e+00</td><td> 6.6012888</td><td>5228.464</td><td>4.479537e-11</td><td>***</td></tr>\n",
              "\t<tr><td>ishipster1                       </td><td>  6.678593118</td><td>3.587141e+00</td><td> 1.8618149</td><td>5228.361</td><td>6.268525e-02</td><td>.  </td></tr>\n",
              "\t<tr><td>isdivey1                         </td><td> -5.379253699</td><td>4.484920e+00</td><td>-1.1994091</td><td>5226.545</td><td>2.304233e-01</td><td>   </td></tr>\n",
              "\t<tr><td>isclassy1                        </td><td>  7.620271993</td><td>2.057553e+00</td><td> 3.7035606</td><td>5225.531</td><td>2.147881e-04</td><td>***</td></tr>\n",
              "\t<tr><td>istrendy1                        </td><td> 12.650097911</td><td>2.778468e+00</td><td> 4.5529032</td><td>5228.464</td><td>5.411113e-06</td><td>***</td></tr>\n",
              "\t<tr><td>isupscale1                       </td><td>-58.017042954</td><td>7.293569e+00</td><td>-7.9545481</td><td>5223.496</td><td>2.187292e-15</td><td>***</td></tr>\n",
              "\t<tr><td>iscasual1                        </td><td>  1.494968866</td><td>1.924544e+00</td><td> 0.7767912</td><td>5228.393</td><td>4.373171e-01</td><td>   </td></tr>\n",
              "\t<tr><td>parking_garage1                  </td><td>  3.207685640</td><td>2.914940e+00</td><td> 1.1004293</td><td>5228.384</td><td>2.711958e-01</td><td>   </td></tr>\n",
              "\t<tr><td>parking_street1                  </td><td> 10.591671214</td><td>2.825340e+00</td><td> 3.7488131</td><td>5228.464</td><td>1.795917e-04</td><td>***</td></tr>\n",
              "\t<tr><td>parking_validated1               </td><td>  9.517902566</td><td>4.738640e+00</td><td> 2.0085725</td><td>5228.464</td><td>4.463381e-02</td><td>*  </td></tr>\n",
              "\t<tr><td>parking_lot1                     </td><td> 15.325609341</td><td>2.540494e+00</td><td> 6.0325316</td><td>5228.464</td><td>1.725026e-09</td><td>***</td></tr>\n",
              "\t<tr><td>parking_valet1                   </td><td>  0.660628717</td><td>5.367024e+00</td><td> 0.1230903</td><td>5226.852</td><td>9.020403e-01</td><td>   </td></tr>\n",
              "\t<tr><td>parking_total1                   </td><td>-13.660187894</td><td>3.249108e+00</td><td>-4.2042883</td><td>5228.464</td><td>2.662784e-05</td><td>***</td></tr>\n",
              "\t<tr><td>alcoholBeer_and_wine             </td><td> 29.940299433</td><td>3.405676e+00</td><td> 8.7912935</td><td>5228.464</td><td>1.976120e-18</td><td>***</td></tr>\n",
              "\t<tr><td>alcoholFull_bar                  </td><td>  4.541335655</td><td>2.440578e+00</td><td> 1.8607623</td><td>5224.554</td><td>6.283388e-02</td><td>.  </td></tr>\n",
              "\t<tr><td>outdoorseating1                  </td><td> -2.729658915</td><td>1.704699e+00</td><td>-1.6012559</td><td>5228.464</td><td>1.093807e-01</td><td>   </td></tr>\n",
              "\t<tr><td>restaurantstableservice1         </td><td> -0.498170204</td><td>2.023733e+00</td><td>-0.2461640</td><td>5227.596</td><td>8.055650e-01</td><td>   </td></tr>\n",
              "\t<tr><td>bikeparking1                     </td><td> -1.175133223</td><td>1.823721e+00</td><td>-0.6443601</td><td>5228.464</td><td>5.193702e-01</td><td>   </td></tr>\n",
              "\t<tr><td>byob1                            </td><td> -9.800934856</td><td>3.800098e+00</td><td>-2.5791268</td><td>5228.464</td><td>9.932115e-03</td><td>** </td></tr>\n",
              "\t<tr><td>businessacceptscreditcards1      </td><td> -6.425535553</td><td>2.314025e+00</td><td>-2.7767788</td><td>5227.680</td><td>5.509605e-03</td><td>** </td></tr>\n",
              "\t<tr><td>restaurantscounterservice1       </td><td>-39.410909535</td><td>2.490731e+01</td><td>-1.5823032</td><td>5228.464</td><td>1.136409e-01</td><td>   </td></tr>\n",
              "\t<tr><td>hastv1                           </td><td> -3.966396049</td><td>1.696350e+00</td><td>-2.3381943</td><td>5228.455</td><td>1.941467e-02</td><td>*  </td></tr>\n",
              "\t<tr><td>restaurantsreservations1         </td><td>-14.506890624</td><td>1.991282e+00</td><td>-7.2852023</td><td>5220.446</td><td>3.690865e-13</td><td>***</td></tr>\n",
              "\t<tr><td>restaurantsdelivery1             </td><td>  0.325198556</td><td>1.707678e+00</td><td> 0.1904332</td><td>5228.464</td><td>8.489771e-01</td><td>   </td></tr>\n",
              "\t<tr><td>wifiFree                         </td><td> -2.119876187</td><td>1.469433e+00</td><td>-1.4426488</td><td>5228.464</td><td>1.491793e-01</td><td>   </td></tr>\n",
              "\t<tr><td>wifiPaid                         </td><td>  7.670746216</td><td>7.668015e+00</td><td> 1.0003562</td><td>5228.464</td><td>3.171845e-01</td><td>   </td></tr>\n",
              "\t<tr><td>restaurantstakeout1              </td><td> -7.406428094</td><td>2.691747e+00</td><td>-2.7515325</td><td>5228.464</td><td>5.952152e-03</td><td>** </td></tr>\n",
              "\t<tr><td>n_photo                          </td><td>  2.817254232</td><td>6.690838e-02</td><td>42.1061521</td><td>5226.568</td><td>0.000000e+00</td><td>***</td></tr>\n",
              "\t<tr><td>restaurantspricerange2:happyhour1</td><td> -1.426889391</td><td>3.367844e+00</td><td>-0.4236804</td><td>4463.191</td><td>6.718194e-01</td><td>   </td></tr>\n",
              "</tbody>\n",
              "</table>\n"
            ],
            "text/markdown": "\nA data.frame: 41 × 7\n\n| term &lt;fct&gt; | estimate &lt;dbl&gt; | std.error &lt;dbl&gt; | statistic &lt;dbl&gt; | df &lt;dbl&gt; | p.value &lt;dbl&gt; | sign &lt;chr&gt; |\n|---|---|---|---|---|---|---|\n| (Intercept)                       |  -3.912266581 | 4.929753e+00 | -0.7936029 | 5206.771 | 4.274628e-01 | <!----> |\n| average_stars                     |   3.032823316 | 6.821651e-01 |  4.4458786 | 5228.464 | 8.934514e-06 | *** |\n| nearby_count_minus_1              |   0.014784520 | 2.381501e-03 |  6.2080675 | 5226.860 | 5.777910e-10 | *** |\n| attribute_count                   |   2.276108881 | 4.312117e-01 |  5.2784024 | 5228.464 | 1.355799e-07 | *** |\n| restaurantspricerange2            |   1.125431657 | 1.576611e+00 |  0.7138299 | 4931.816 | 4.753662e-01 | <!----> |\n| happyhour1                        |  -1.732958872 | 6.878046e+00 | -0.2519551 | 4602.584 | 8.010870e-01 | <!----> |\n| total_population                  |  -0.001266010 | 6.447571e-04 | -1.9635456 | 5224.316 | 4.963577e-02 | *   |\n| total_population_children         |   0.001523435 | 6.829593e-04 |  2.2306382 | 5221.100 | 2.574743e-02 | *   |\n| total_population_youth            |   0.001073836 | 6.418657e-04 |  1.6729921 | 5224.917 | 9.438872e-02 | .   |\n| total_population_adults           |   0.001236516 | 8.375631e-04 |  1.4763254 | 5224.404 | 1.399168e-01 | <!----> |\n| isromantic1                       | -29.865903079 | 5.062778e+00 | -5.8991141 | 5228.406 | 3.884173e-09 | *** |\n| isintimate1                       |  -8.840536264 | 4.212237e+00 | -2.0987745 | 5228.464 | 3.588463e-02 | *   |\n| istouristy1                       |  46.935760732 | 7.110090e+00 |  6.6012888 | 5228.464 | 4.479537e-11 | *** |\n| ishipster1                        |   6.678593118 | 3.587141e+00 |  1.8618149 | 5228.361 | 6.268525e-02 | .   |\n| isdivey1                          |  -5.379253699 | 4.484920e+00 | -1.1994091 | 5226.545 | 2.304233e-01 | <!----> |\n| isclassy1                         |   7.620271993 | 2.057553e+00 |  3.7035606 | 5225.531 | 2.147881e-04 | *** |\n| istrendy1                         |  12.650097911 | 2.778468e+00 |  4.5529032 | 5228.464 | 5.411113e-06 | *** |\n| isupscale1                        | -58.017042954 | 7.293569e+00 | -7.9545481 | 5223.496 | 2.187292e-15 | *** |\n| iscasual1                         |   1.494968866 | 1.924544e+00 |  0.7767912 | 5228.393 | 4.373171e-01 | <!----> |\n| parking_garage1                   |   3.207685640 | 2.914940e+00 |  1.1004293 | 5228.384 | 2.711958e-01 | <!----> |\n| parking_street1                   |  10.591671214 | 2.825340e+00 |  3.7488131 | 5228.464 | 1.795917e-04 | *** |\n| parking_validated1                |   9.517902566 | 4.738640e+00 |  2.0085725 | 5228.464 | 4.463381e-02 | *   |\n| parking_lot1                      |  15.325609341 | 2.540494e+00 |  6.0325316 | 5228.464 | 1.725026e-09 | *** |\n| parking_valet1                    |   0.660628717 | 5.367024e+00 |  0.1230903 | 5226.852 | 9.020403e-01 | <!----> |\n| parking_total1                    | -13.660187894 | 3.249108e+00 | -4.2042883 | 5228.464 | 2.662784e-05 | *** |\n| alcoholBeer_and_wine              |  29.940299433 | 3.405676e+00 |  8.7912935 | 5228.464 | 1.976120e-18 | *** |\n| alcoholFull_bar                   |   4.541335655 | 2.440578e+00 |  1.8607623 | 5224.554 | 6.283388e-02 | .   |\n| outdoorseating1                   |  -2.729658915 | 1.704699e+00 | -1.6012559 | 5228.464 | 1.093807e-01 | <!----> |\n| restaurantstableservice1          |  -0.498170204 | 2.023733e+00 | -0.2461640 | 5227.596 | 8.055650e-01 | <!----> |\n| bikeparking1                      |  -1.175133223 | 1.823721e+00 | -0.6443601 | 5228.464 | 5.193702e-01 | <!----> |\n| byob1                             |  -9.800934856 | 3.800098e+00 | -2.5791268 | 5228.464 | 9.932115e-03 | **  |\n| businessacceptscreditcards1       |  -6.425535553 | 2.314025e+00 | -2.7767788 | 5227.680 | 5.509605e-03 | **  |\n| restaurantscounterservice1        | -39.410909535 | 2.490731e+01 | -1.5823032 | 5228.464 | 1.136409e-01 | <!----> |\n| hastv1                            |  -3.966396049 | 1.696350e+00 | -2.3381943 | 5228.455 | 1.941467e-02 | *   |\n| restaurantsreservations1          | -14.506890624 | 1.991282e+00 | -7.2852023 | 5220.446 | 3.690865e-13 | *** |\n| restaurantsdelivery1              |   0.325198556 | 1.707678e+00 |  0.1904332 | 5228.464 | 8.489771e-01 | <!----> |\n| wifiFree                          |  -2.119876187 | 1.469433e+00 | -1.4426488 | 5228.464 | 1.491793e-01 | <!----> |\n| wifiPaid                          |   7.670746216 | 7.668015e+00 |  1.0003562 | 5228.464 | 3.171845e-01 | <!----> |\n| restaurantstakeout1               |  -7.406428094 | 2.691747e+00 | -2.7515325 | 5228.464 | 5.952152e-03 | **  |\n| n_photo                           |   2.817254232 | 6.690838e-02 | 42.1061521 | 5226.568 | 0.000000e+00 | *** |\n| restaurantspricerange2:happyhour1 |  -1.426889391 | 3.367844e+00 | -0.4236804 | 4463.191 | 6.718194e-01 | <!----> |\n\n",
            "text/latex": "A data.frame: 41 × 7\n\\begin{tabular}{lllllll}\n term & estimate & std.error & statistic & df & p.value & sign\\\\\n <fct> & <dbl> & <dbl> & <dbl> & <dbl> & <dbl> & <chr>\\\\\n\\hline\n\t (Intercept)                       &  -3.912266581 & 4.929753e+00 & -0.7936029 & 5206.771 & 4.274628e-01 &    \\\\\n\t average\\_stars                     &   3.032823316 & 6.821651e-01 &  4.4458786 & 5228.464 & 8.934514e-06 & ***\\\\\n\t nearby\\_count\\_minus\\_1              &   0.014784520 & 2.381501e-03 &  6.2080675 & 5226.860 & 5.777910e-10 & ***\\\\\n\t attribute\\_count                   &   2.276108881 & 4.312117e-01 &  5.2784024 & 5228.464 & 1.355799e-07 & ***\\\\\n\t restaurantspricerange2            &   1.125431657 & 1.576611e+00 &  0.7138299 & 4931.816 & 4.753662e-01 &    \\\\\n\t happyhour1                        &  -1.732958872 & 6.878046e+00 & -0.2519551 & 4602.584 & 8.010870e-01 &    \\\\\n\t total\\_population                  &  -0.001266010 & 6.447571e-04 & -1.9635456 & 5224.316 & 4.963577e-02 & *  \\\\\n\t total\\_population\\_children         &   0.001523435 & 6.829593e-04 &  2.2306382 & 5221.100 & 2.574743e-02 & *  \\\\\n\t total\\_population\\_youth            &   0.001073836 & 6.418657e-04 &  1.6729921 & 5224.917 & 9.438872e-02 & .  \\\\\n\t total\\_population\\_adults           &   0.001236516 & 8.375631e-04 &  1.4763254 & 5224.404 & 1.399168e-01 &    \\\\\n\t isromantic1                       & -29.865903079 & 5.062778e+00 & -5.8991141 & 5228.406 & 3.884173e-09 & ***\\\\\n\t isintimate1                       &  -8.840536264 & 4.212237e+00 & -2.0987745 & 5228.464 & 3.588463e-02 & *  \\\\\n\t istouristy1                       &  46.935760732 & 7.110090e+00 &  6.6012888 & 5228.464 & 4.479537e-11 & ***\\\\\n\t ishipster1                        &   6.678593118 & 3.587141e+00 &  1.8618149 & 5228.361 & 6.268525e-02 & .  \\\\\n\t isdivey1                          &  -5.379253699 & 4.484920e+00 & -1.1994091 & 5226.545 & 2.304233e-01 &    \\\\\n\t isclassy1                         &   7.620271993 & 2.057553e+00 &  3.7035606 & 5225.531 & 2.147881e-04 & ***\\\\\n\t istrendy1                         &  12.650097911 & 2.778468e+00 &  4.5529032 & 5228.464 & 5.411113e-06 & ***\\\\\n\t isupscale1                        & -58.017042954 & 7.293569e+00 & -7.9545481 & 5223.496 & 2.187292e-15 & ***\\\\\n\t iscasual1                         &   1.494968866 & 1.924544e+00 &  0.7767912 & 5228.393 & 4.373171e-01 &    \\\\\n\t parking\\_garage1                   &   3.207685640 & 2.914940e+00 &  1.1004293 & 5228.384 & 2.711958e-01 &    \\\\\n\t parking\\_street1                   &  10.591671214 & 2.825340e+00 &  3.7488131 & 5228.464 & 1.795917e-04 & ***\\\\\n\t parking\\_validated1                &   9.517902566 & 4.738640e+00 &  2.0085725 & 5228.464 & 4.463381e-02 & *  \\\\\n\t parking\\_lot1                      &  15.325609341 & 2.540494e+00 &  6.0325316 & 5228.464 & 1.725026e-09 & ***\\\\\n\t parking\\_valet1                    &   0.660628717 & 5.367024e+00 &  0.1230903 & 5226.852 & 9.020403e-01 &    \\\\\n\t parking\\_total1                    & -13.660187894 & 3.249108e+00 & -4.2042883 & 5228.464 & 2.662784e-05 & ***\\\\\n\t alcoholBeer\\_and\\_wine              &  29.940299433 & 3.405676e+00 &  8.7912935 & 5228.464 & 1.976120e-18 & ***\\\\\n\t alcoholFull\\_bar                   &   4.541335655 & 2.440578e+00 &  1.8607623 & 5224.554 & 6.283388e-02 & .  \\\\\n\t outdoorseating1                   &  -2.729658915 & 1.704699e+00 & -1.6012559 & 5228.464 & 1.093807e-01 &    \\\\\n\t restaurantstableservice1          &  -0.498170204 & 2.023733e+00 & -0.2461640 & 5227.596 & 8.055650e-01 &    \\\\\n\t bikeparking1                      &  -1.175133223 & 1.823721e+00 & -0.6443601 & 5228.464 & 5.193702e-01 &    \\\\\n\t byob1                             &  -9.800934856 & 3.800098e+00 & -2.5791268 & 5228.464 & 9.932115e-03 & ** \\\\\n\t businessacceptscreditcards1       &  -6.425535553 & 2.314025e+00 & -2.7767788 & 5227.680 & 5.509605e-03 & ** \\\\\n\t restaurantscounterservice1        & -39.410909535 & 2.490731e+01 & -1.5823032 & 5228.464 & 1.136409e-01 &    \\\\\n\t hastv1                            &  -3.966396049 & 1.696350e+00 & -2.3381943 & 5228.455 & 1.941467e-02 & *  \\\\\n\t restaurantsreservations1          & -14.506890624 & 1.991282e+00 & -7.2852023 & 5220.446 & 3.690865e-13 & ***\\\\\n\t restaurantsdelivery1              &   0.325198556 & 1.707678e+00 &  0.1904332 & 5228.464 & 8.489771e-01 &    \\\\\n\t wifiFree                          &  -2.119876187 & 1.469433e+00 & -1.4426488 & 5228.464 & 1.491793e-01 &    \\\\\n\t wifiPaid                          &   7.670746216 & 7.668015e+00 &  1.0003562 & 5228.464 & 3.171845e-01 &    \\\\\n\t restaurantstakeout1               &  -7.406428094 & 2.691747e+00 & -2.7515325 & 5228.464 & 5.952152e-03 & ** \\\\\n\t n\\_photo                           &   2.817254232 & 6.690838e-02 & 42.1061521 & 5226.568 & 0.000000e+00 & ***\\\\\n\t restaurantspricerange2:happyhour1 &  -1.426889391 & 3.367844e+00 & -0.4236804 & 4463.191 & 6.718194e-01 &    \\\\\n\\end{tabular}\n",
            "text/plain": [
              "   term                              estimate      std.error    statistic \n",
              "1  (Intercept)                        -3.912266581 4.929753e+00 -0.7936029\n",
              "2  average_stars                       3.032823316 6.821651e-01  4.4458786\n",
              "3  nearby_count_minus_1                0.014784520 2.381501e-03  6.2080675\n",
              "4  attribute_count                     2.276108881 4.312117e-01  5.2784024\n",
              "5  restaurantspricerange2              1.125431657 1.576611e+00  0.7138299\n",
              "6  happyhour1                         -1.732958872 6.878046e+00 -0.2519551\n",
              "7  total_population                   -0.001266010 6.447571e-04 -1.9635456\n",
              "8  total_population_children           0.001523435 6.829593e-04  2.2306382\n",
              "9  total_population_youth              0.001073836 6.418657e-04  1.6729921\n",
              "10 total_population_adults             0.001236516 8.375631e-04  1.4763254\n",
              "11 isromantic1                       -29.865903079 5.062778e+00 -5.8991141\n",
              "12 isintimate1                        -8.840536264 4.212237e+00 -2.0987745\n",
              "13 istouristy1                        46.935760732 7.110090e+00  6.6012888\n",
              "14 ishipster1                          6.678593118 3.587141e+00  1.8618149\n",
              "15 isdivey1                           -5.379253699 4.484920e+00 -1.1994091\n",
              "16 isclassy1                           7.620271993 2.057553e+00  3.7035606\n",
              "17 istrendy1                          12.650097911 2.778468e+00  4.5529032\n",
              "18 isupscale1                        -58.017042954 7.293569e+00 -7.9545481\n",
              "19 iscasual1                           1.494968866 1.924544e+00  0.7767912\n",
              "20 parking_garage1                     3.207685640 2.914940e+00  1.1004293\n",
              "21 parking_street1                    10.591671214 2.825340e+00  3.7488131\n",
              "22 parking_validated1                  9.517902566 4.738640e+00  2.0085725\n",
              "23 parking_lot1                       15.325609341 2.540494e+00  6.0325316\n",
              "24 parking_valet1                      0.660628717 5.367024e+00  0.1230903\n",
              "25 parking_total1                    -13.660187894 3.249108e+00 -4.2042883\n",
              "26 alcoholBeer_and_wine               29.940299433 3.405676e+00  8.7912935\n",
              "27 alcoholFull_bar                     4.541335655 2.440578e+00  1.8607623\n",
              "28 outdoorseating1                    -2.729658915 1.704699e+00 -1.6012559\n",
              "29 restaurantstableservice1           -0.498170204 2.023733e+00 -0.2461640\n",
              "30 bikeparking1                       -1.175133223 1.823721e+00 -0.6443601\n",
              "31 byob1                              -9.800934856 3.800098e+00 -2.5791268\n",
              "32 businessacceptscreditcards1        -6.425535553 2.314025e+00 -2.7767788\n",
              "33 restaurantscounterservice1        -39.410909535 2.490731e+01 -1.5823032\n",
              "34 hastv1                             -3.966396049 1.696350e+00 -2.3381943\n",
              "35 restaurantsreservations1          -14.506890624 1.991282e+00 -7.2852023\n",
              "36 restaurantsdelivery1                0.325198556 1.707678e+00  0.1904332\n",
              "37 wifiFree                           -2.119876187 1.469433e+00 -1.4426488\n",
              "38 wifiPaid                            7.670746216 7.668015e+00  1.0003562\n",
              "39 restaurantstakeout1                -7.406428094 2.691747e+00 -2.7515325\n",
              "40 n_photo                             2.817254232 6.690838e-02 42.1061521\n",
              "41 restaurantspricerange2:happyhour1  -1.426889391 3.367844e+00 -0.4236804\n",
              "   df       p.value      sign\n",
              "1  5206.771 4.274628e-01     \n",
              "2  5228.464 8.934514e-06 *** \n",
              "3  5226.860 5.777910e-10 *** \n",
              "4  5228.464 1.355799e-07 *** \n",
              "5  4931.816 4.753662e-01     \n",
              "6  4602.584 8.010870e-01     \n",
              "7  5224.316 4.963577e-02 *   \n",
              "8  5221.100 2.574743e-02 *   \n",
              "9  5224.917 9.438872e-02 .   \n",
              "10 5224.404 1.399168e-01     \n",
              "11 5228.406 3.884173e-09 *** \n",
              "12 5228.464 3.588463e-02 *   \n",
              "13 5228.464 4.479537e-11 *** \n",
              "14 5228.361 6.268525e-02 .   \n",
              "15 5226.545 2.304233e-01     \n",
              "16 5225.531 2.147881e-04 *** \n",
              "17 5228.464 5.411113e-06 *** \n",
              "18 5223.496 2.187292e-15 *** \n",
              "19 5228.393 4.373171e-01     \n",
              "20 5228.384 2.711958e-01     \n",
              "21 5228.464 1.795917e-04 *** \n",
              "22 5228.464 4.463381e-02 *   \n",
              "23 5228.464 1.725026e-09 *** \n",
              "24 5226.852 9.020403e-01     \n",
              "25 5228.464 2.662784e-05 *** \n",
              "26 5228.464 1.976120e-18 *** \n",
              "27 5224.554 6.283388e-02 .   \n",
              "28 5228.464 1.093807e-01     \n",
              "29 5227.596 8.055650e-01     \n",
              "30 5228.464 5.193702e-01     \n",
              "31 5228.464 9.932115e-03 **  \n",
              "32 5227.680 5.509605e-03 **  \n",
              "33 5228.464 1.136409e-01     \n",
              "34 5228.455 1.941467e-02 *   \n",
              "35 5220.446 3.690865e-13 *** \n",
              "36 5228.464 8.489771e-01     \n",
              "37 5228.464 1.491793e-01     \n",
              "38 5228.464 3.171845e-01     \n",
              "39 5228.464 5.952152e-03 **  \n",
              "40 5226.568 0.000000e+00 *** \n",
              "41 4463.191 6.718194e-01     "
            ]
          },
          "metadata": {}
        }
      ]
    },
    {
      "cell_type": "code",
      "source": [
        "#   0 ‘***’ 0.001 ‘**’ 0.01 ‘*’ 0.05 ‘.’ 0.1 ‘ ’ 1"
      ],
      "metadata": {
        "id": "GV2XACm0jVv0"
      },
      "execution_count": null,
      "outputs": []
    },
    {
      "cell_type": "code",
      "source": [
        "# R-square for Pooled Model.\n",
        "\n",
        "pooled_R_2_2 <- pool.r.squared(MiceAllModels_2)\n",
        "pooled_R_2_2"
      ],
      "metadata": {
        "colab": {
          "base_uri": "https://localhost:8080/",
          "height": 98
        },
        "outputId": "188e4e4f-4887-466a-cc04-d1a2f75e342c",
        "id": "lGEzPH_PjVv1"
      },
      "execution_count": null,
      "outputs": [
        {
          "output_type": "display_data",
          "data": {
            "text/html": [
              "<table class=\"dataframe\">\n",
              "<caption>A matrix: 1 × 4 of type dbl</caption>\n",
              "<thead>\n",
              "\t<tr><th></th><th scope=col>est</th><th scope=col>lo 95</th><th scope=col>hi 95</th><th scope=col>fmi</th></tr>\n",
              "</thead>\n",
              "<tbody>\n",
              "\t<tr><th scope=row>R^2</th><td>0.4432065</td><td>0.4230614</td><td>0.4630843</td><td>6.663628e-06</td></tr>\n",
              "</tbody>\n",
              "</table>\n"
            ],
            "text/markdown": "\nA matrix: 1 × 4 of type dbl\n\n| <!--/--> | est | lo 95 | hi 95 | fmi |\n|---|---|---|---|---|\n| R^2 | 0.4432065 | 0.4230614 | 0.4630843 | 6.663628e-06 |\n\n",
            "text/latex": "A matrix: 1 × 4 of type dbl\n\\begin{tabular}{r|llll}\n  & est & lo 95 & hi 95 & fmi\\\\\n\\hline\n\tR\\textasciicircum{}2 & 0.4432065 & 0.4230614 & 0.4630843 & 6.663628e-06\\\\\n\\end{tabular}\n",
            "text/plain": [
              "    est       lo 95     hi 95     fmi         \n",
              "R^2 0.4432065 0.4230614 0.4630843 6.663628e-06"
            ]
          },
          "metadata": {}
        }
      ]
    },
    {
      "cell_type": "markdown",
      "source": [
        "#ML Prep."
      ],
      "metadata": {
        "id": "CmYKbZEMzv4R"
      }
    },
    {
      "cell_type": "markdown",
      "source": [
        "## Data Prep."
      ],
      "metadata": {
        "id": "Gtnq9v2Sib2t"
      }
    },
    {
      "cell_type": "markdown",
      "source": [
        "### Binning Check_ins"
      ],
      "metadata": {
        "id": "Uo9dNFzcUFU-"
      }
    },
    {
      "cell_type": "code",
      "source": [
        "ggplot(MiceCompleteData_2, aes(check_in_count))+\n",
        "  geom_histogram()"
      ],
      "metadata": {
        "colab": {
          "base_uri": "https://localhost:8080/",
          "height": 454
        },
        "id": "s1uN5iAX19TQ",
        "outputId": "8b08b21e-1d31-41c8-bb3f-dbeea45eb335"
      },
      "execution_count": null,
      "outputs": [
        {
          "output_type": "stream",
          "name": "stderr",
          "text": [
            "\u001b[1m\u001b[22m`stat_bin()` using `bins = 30`. Pick better value with `binwidth`.\n"
          ]
        },
        {
          "output_type": "display_data",
          "data": {
            "text/plain": [
              "plot without title"
            ],
            "image/png": "[encoded data removed]"
          },
          "metadata": {
            "image/png": {
              "width": 420,
              "height": 420
            }
          }
        }
      ]
    },
    {
      "cell_type": "code",
      "source": [
        "ggplot(MiceCompleteData_2, aes(check_in_count))+\n",
        "  geom_histogram()+\n",
        "  scale_x_log10()"
      ],
      "metadata": {
        "colab": {
          "base_uri": "https://localhost:8080/",
          "height": 454
        },
        "id": "0y1U-crZzw1U",
        "outputId": "2b9d9559-8cb9-44ef-da54-eee15497d61c"
      },
      "execution_count": null,
      "outputs": [
        {
          "output_type": "stream",
          "name": "stderr",
          "text": [
            "\u001b[1m\u001b[22m`stat_bin()` using `bins = 30`. Pick better value with `binwidth`.\n"
          ]
        },
        {
          "output_type": "display_data",
          "data": {
            "text/plain": [
              "plot without title"
            ],
            "image/png": "[encoded data removed]"
          },
          "metadata": {
            "image/png": {
              "width": 420,
              "height": 420
            }
          }
        }
      ]
    },
    {
      "cell_type": "code",
      "source": [
        "#Adding log10(check_in_count_pre_2020) to the df:\n",
        "\n",
        "data_mice_bin_calc1 <- MiceCompleteData_2 %>%\n",
        "  mutate(check_in_count_LOG = log10(check_in_count))"
      ],
      "metadata": {
        "id": "qgqxhXdS7f_R"
      },
      "execution_count": null,
      "outputs": []
    },
    {
      "cell_type": "code",
      "source": [
        "#Determine the range:\n",
        "min_log <- min(data_mice_bin_calc1$check_in_count_LOG, na.rm = TRUE)\n",
        "max_log <- max(data_mice_bin_calc1$check_in_count_LOG, na.rm = TRUE)\n",
        "\n",
        "min_log\n",
        "max_log"
      ],
      "metadata": {
        "colab": {
          "base_uri": "https://localhost:8080/",
          "height": 52
        },
        "id": "VRtM0lpkvKZk",
        "outputId": "872485ff-a866-4894-b81e-3f43957e2bfb"
      },
      "execution_count": null,
      "outputs": [
        {
          "output_type": "display_data",
          "data": {
            "text/html": [
              "0"
            ],
            "text/markdown": "0",
            "text/latex": "0",
            "text/plain": [
              "[1] 0"
            ]
          },
          "metadata": {}
        },
        {
          "output_type": "display_data",
          "data": {
            "text/html": [
              "3.18241465243455"
            ],
            "text/markdown": "3.18241465243455",
            "text/latex": "3.18241465243455",
            "text/plain": [
              "[1] 3.182415"
            ]
          },
          "metadata": {}
        }
      ]
    },
    {
      "cell_type": "code",
      "source": [
        "# Number of bins:\n",
        "number_of_bins <- 2\n",
        "\n",
        "# Creating the bin edges:\n",
        "breaks <- seq(min_log, max_log, length.out = number_of_bins + 1)"
      ],
      "metadata": {
        "id": "Srjz06sN1gIm"
      },
      "execution_count": null,
      "outputs": []
    },
    {
      "cell_type": "code",
      "source": [
        "# Calculating bins, and adding into df:\n",
        "\n",
        "data_mice_bin_calc2 <- data_mice_bin_calc1 %>%\n",
        "  mutate(check_in_bin = cut(data_mice_bin_calc1$check_in_count_LOG, breaks = breaks, labels = FALSE, include.lowest = TRUE))"
      ],
      "metadata": {
        "id": "7ApdOuVi1iV7"
      },
      "execution_count": null,
      "outputs": []
    },
    {
      "cell_type": "code",
      "source": [
        "head(data_mice_bin_calc2)"
      ],
      "metadata": {
        "colab": {
          "base_uri": "https://localhost:8080/",
          "height": 306
        },
        "id": "xnCM7JSFF9gX",
        "outputId": "a2105ef2-7ec4-44be-b96c-a5881ed636d1"
      },
      "execution_count": null,
      "outputs": [
        {
          "output_type": "display_data",
          "data": {
            "text/html": [
              "<table class=\"dataframe\">\n",
              "<caption>A data.frame: 6 × 40</caption>\n",
              "<thead>\n",
              "\t<tr><th></th><th scope=col>check_in_count</th><th scope=col>average_stars</th><th scope=col>nearby_count_minus_1</th><th scope=col>attribute_count</th><th scope=col>restaurantspricerange2</th><th scope=col>happyhour</th><th scope=col>total_population</th><th scope=col>total_population_children</th><th scope=col>total_population_youth</th><th scope=col>total_population_adults</th><th scope=col>⋯</th><th scope=col>businessacceptscreditcards</th><th scope=col>restaurantscounterservice</th><th scope=col>hastv</th><th scope=col>restaurantsreservations</th><th scope=col>restaurantsdelivery</th><th scope=col>wifi</th><th scope=col>restaurantstakeout</th><th scope=col>n_photo</th><th scope=col>check_in_count_LOG</th><th scope=col>check_in_bin</th></tr>\n",
              "\t<tr><th></th><th scope=col>&lt;int&gt;</th><th scope=col>&lt;dbl&gt;</th><th scope=col>&lt;dbl&gt;</th><th scope=col>&lt;int&gt;</th><th scope=col>&lt;int&gt;</th><th scope=col>&lt;fct&gt;</th><th scope=col>&lt;int&gt;</th><th scope=col>&lt;int&gt;</th><th scope=col>&lt;int&gt;</th><th scope=col>&lt;int&gt;</th><th scope=col>⋯</th><th scope=col>&lt;fct&gt;</th><th scope=col>&lt;fct&gt;</th><th scope=col>&lt;fct&gt;</th><th scope=col>&lt;fct&gt;</th><th scope=col>&lt;fct&gt;</th><th scope=col>&lt;fct&gt;</th><th scope=col>&lt;fct&gt;</th><th scope=col>&lt;int&gt;</th><th scope=col>&lt;dbl&gt;</th><th scope=col>&lt;int&gt;</th></tr>\n",
              "</thead>\n",
              "<tbody>\n",
              "\t<tr><th scope=row>1</th><td>2</td><td>2.0000</td><td>163</td><td>9</td><td>1</td><td>0</td><td>41271</td><td>8924</td><td>6658</td><td>20247</td><td>⋯</td><td>0</td><td>0</td><td>1</td><td>0</td><td>1</td><td>No  </td><td>1</td><td>0</td><td>0.3010300</td><td>1</td></tr>\n",
              "\t<tr><th scope=row>2</th><td>2</td><td>0.0000</td><td>163</td><td>9</td><td>1</td><td>0</td><td>41271</td><td>8924</td><td>6658</td><td>20247</td><td>⋯</td><td>0</td><td>0</td><td>1</td><td>0</td><td>1</td><td>No  </td><td>1</td><td>0</td><td>0.3010300</td><td>1</td></tr>\n",
              "\t<tr><th scope=row>3</th><td>8</td><td>4.7500</td><td> 11</td><td>8</td><td>1</td><td>0</td><td>35239</td><td>4124</td><td>5312</td><td>20997</td><td>⋯</td><td>0</td><td>0</td><td>0</td><td>0</td><td>0</td><td>No  </td><td>1</td><td>5</td><td>0.9030900</td><td>1</td></tr>\n",
              "\t<tr><th scope=row>4</th><td>6</td><td>4.9286</td><td> 11</td><td>8</td><td>1</td><td>0</td><td>35239</td><td>4124</td><td>5312</td><td>20997</td><td>⋯</td><td>0</td><td>0</td><td>0</td><td>0</td><td>0</td><td>No  </td><td>1</td><td>5</td><td>0.7781513</td><td>1</td></tr>\n",
              "\t<tr><th scope=row>5</th><td>5</td><td>2.2000</td><td> 45</td><td>8</td><td>2</td><td>0</td><td> 9808</td><td>1402</td><td>1373</td><td> 5324</td><td>⋯</td><td>1</td><td>0</td><td>1</td><td>1</td><td>0</td><td>Free</td><td>1</td><td>0</td><td>0.6989700</td><td>1</td></tr>\n",
              "\t<tr><th scope=row>6</th><td>4</td><td>2.6000</td><td> 45</td><td>8</td><td>2</td><td>0</td><td> 9808</td><td>1402</td><td>1373</td><td> 5324</td><td>⋯</td><td>1</td><td>0</td><td>1</td><td>1</td><td>0</td><td>Free</td><td>1</td><td>0</td><td>0.6020600</td><td>1</td></tr>\n",
              "</tbody>\n",
              "</table>\n"
            ],
            "text/markdown": "\nA data.frame: 6 × 40\n\n| <!--/--> | check_in_count &lt;int&gt; | average_stars &lt;dbl&gt; | nearby_count_minus_1 &lt;dbl&gt; | attribute_count &lt;int&gt; | restaurantspricerange2 &lt;int&gt; | happyhour &lt;fct&gt; | total_population &lt;int&gt; | total_population_children &lt;int&gt; | total_population_youth &lt;int&gt; | total_population_adults &lt;int&gt; | ⋯ ⋯ | businessacceptscreditcards &lt;fct&gt; | restaurantscounterservice &lt;fct&gt; | hastv &lt;fct&gt; | restaurantsreservations &lt;fct&gt; | restaurantsdelivery &lt;fct&gt; | wifi &lt;fct&gt; | restaurantstakeout &lt;fct&gt; | n_photo &lt;int&gt; | check_in_count_LOG &lt;dbl&gt; | check_in_bin &lt;int&gt; |\n|---|---|---|---|---|---|---|---|---|---|---|---|---|---|---|---|---|---|---|---|---|---|\n| 1 | 2 | 2.0000 | 163 | 9 | 1 | 0 | 41271 | 8924 | 6658 | 20247 | ⋯ | 0 | 0 | 1 | 0 | 1 | No   | 1 | 0 | 0.3010300 | 1 |\n| 2 | 2 | 0.0000 | 163 | 9 | 1 | 0 | 41271 | 8924 | 6658 | 20247 | ⋯ | 0 | 0 | 1 | 0 | 1 | No   | 1 | 0 | 0.3010300 | 1 |\n| 3 | 8 | 4.7500 |  11 | 8 | 1 | 0 | 35239 | 4124 | 5312 | 20997 | ⋯ | 0 | 0 | 0 | 0 | 0 | No   | 1 | 5 | 0.9030900 | 1 |\n| 4 | 6 | 4.9286 |  11 | 8 | 1 | 0 | 35239 | 4124 | 5312 | 20997 | ⋯ | 0 | 0 | 0 | 0 | 0 | No   | 1 | 5 | 0.7781513 | 1 |\n| 5 | 5 | 2.2000 |  45 | 8 | 2 | 0 |  9808 | 1402 | 1373 |  5324 | ⋯ | 1 | 0 | 1 | 1 | 0 | Free | 1 | 0 | 0.6989700 | 1 |\n| 6 | 4 | 2.6000 |  45 | 8 | 2 | 0 |  9808 | 1402 | 1373 |  5324 | ⋯ | 1 | 0 | 1 | 1 | 0 | Free | 1 | 0 | 0.6020600 | 1 |\n\n",
            "text/latex": "A data.frame: 6 × 40\n\\begin{tabular}{r|lllllllllllllllllllll}\n  & check\\_in\\_count & average\\_stars & nearby\\_count\\_minus\\_1 & attribute\\_count & restaurantspricerange2 & happyhour & total\\_population & total\\_population\\_children & total\\_population\\_youth & total\\_population\\_adults & ⋯ & businessacceptscreditcards & restaurantscounterservice & hastv & restaurantsreservations & restaurantsdelivery & wifi & restaurantstakeout & n\\_photo & check\\_in\\_count\\_LOG & check\\_in\\_bin\\\\\n  & <int> & <dbl> & <dbl> & <int> & <int> & <fct> & <int> & <int> & <int> & <int> & ⋯ & <fct> & <fct> & <fct> & <fct> & <fct> & <fct> & <fct> & <int> & <dbl> & <int>\\\\\n\\hline\n\t1 & 2 & 2.0000 & 163 & 9 & 1 & 0 & 41271 & 8924 & 6658 & 20247 & ⋯ & 0 & 0 & 1 & 0 & 1 & No   & 1 & 0 & 0.3010300 & 1\\\\\n\t2 & 2 & 0.0000 & 163 & 9 & 1 & 0 & 41271 & 8924 & 6658 & 20247 & ⋯ & 0 & 0 & 1 & 0 & 1 & No   & 1 & 0 & 0.3010300 & 1\\\\\n\t3 & 8 & 4.7500 &  11 & 8 & 1 & 0 & 35239 & 4124 & 5312 & 20997 & ⋯ & 0 & 0 & 0 & 0 & 0 & No   & 1 & 5 & 0.9030900 & 1\\\\\n\t4 & 6 & 4.9286 &  11 & 8 & 1 & 0 & 35239 & 4124 & 5312 & 20997 & ⋯ & 0 & 0 & 0 & 0 & 0 & No   & 1 & 5 & 0.7781513 & 1\\\\\n\t5 & 5 & 2.2000 &  45 & 8 & 2 & 0 &  9808 & 1402 & 1373 &  5324 & ⋯ & 1 & 0 & 1 & 1 & 0 & Free & 1 & 0 & 0.6989700 & 1\\\\\n\t6 & 4 & 2.6000 &  45 & 8 & 2 & 0 &  9808 & 1402 & 1373 &  5324 & ⋯ & 1 & 0 & 1 & 1 & 0 & Free & 1 & 0 & 0.6020600 & 1\\\\\n\\end{tabular}\n",
            "text/plain": [
              "  check_in_count average_stars nearby_count_minus_1 attribute_count\n",
              "1 2              2.0000        163                  9              \n",
              "2 2              0.0000        163                  9              \n",
              "3 8              4.7500         11                  8              \n",
              "4 6              4.9286         11                  8              \n",
              "5 5              2.2000         45                  8              \n",
              "6 4              2.6000         45                  8              \n",
              "  restaurantspricerange2 happyhour total_population total_population_children\n",
              "1 1                      0         41271            8924                     \n",
              "2 1                      0         41271            8924                     \n",
              "3 1                      0         35239            4124                     \n",
              "4 1                      0         35239            4124                     \n",
              "5 2                      0          9808            1402                     \n",
              "6 2                      0          9808            1402                     \n",
              "  total_population_youth total_population_adults ⋯ businessacceptscreditcards\n",
              "1 6658                   20247                   ⋯ 0                         \n",
              "2 6658                   20247                   ⋯ 0                         \n",
              "3 5312                   20997                   ⋯ 0                         \n",
              "4 5312                   20997                   ⋯ 0                         \n",
              "5 1373                    5324                   ⋯ 1                         \n",
              "6 1373                    5324                   ⋯ 1                         \n",
              "  restaurantscounterservice hastv restaurantsreservations restaurantsdelivery\n",
              "1 0                         1     0                       1                  \n",
              "2 0                         1     0                       1                  \n",
              "3 0                         0     0                       0                  \n",
              "4 0                         0     0                       0                  \n",
              "5 0                         1     1                       0                  \n",
              "6 0                         1     1                       0                  \n",
              "  wifi restaurantstakeout n_photo check_in_count_LOG check_in_bin\n",
              "1 No   1                  0       0.3010300          1           \n",
              "2 No   1                  0       0.3010300          1           \n",
              "3 No   1                  5       0.9030900          1           \n",
              "4 No   1                  5       0.7781513          1           \n",
              "5 Free 1                  0       0.6989700          1           \n",
              "6 Free 1                  0       0.6020600          1           "
            ]
          },
          "metadata": {}
        }
      ]
    },
    {
      "cell_type": "code",
      "source": [
        "table(data_mice_bin_calc2$check_in_bin)"
      ],
      "metadata": {
        "colab": {
          "base_uri": "https://localhost:8080/",
          "height": 69
        },
        "id": "wj_u00iRGDVp",
        "outputId": "81b757b0-61a3-4138-ab28-6f25bc363f79"
      },
      "execution_count": null,
      "outputs": [
        {
          "output_type": "display_data",
          "data": {
            "text/plain": [
              "\n",
              "   1    2 \n",
              "4043 1229 "
            ]
          },
          "metadata": {}
        }
      ]
    },
    {
      "cell_type": "code",
      "source": [
        "# Renaming bins as Dummy, and adding corresponding string:\n",
        "\n",
        "data_mice_bin_calc2$check_in_bin <- as.character(data_mice_bin_calc2$check_in_bin) #Required to be able to use recode()\n",
        "\n",
        "data_mice_bin_calc3 <- data_mice_bin_calc2 %>%\n",
        "  mutate(ch_in = recode(check_in_bin,\n",
        "\n",
        "\n",
        "                               \"2\" = \"1\",\n",
        "                               \"1\" = \"0\"),\n",
        "        ch_in_string = recode(check_in_bin,\n",
        "\n",
        "\n",
        "                               \"2\" = \"High_Range\",\n",
        "                               \"1\" = \"Low_Range\")\n",
        "                               )\n",
        "\n",
        "data_mice_bin_calc3$ch_in <- as.integer(data_mice_bin_calc3$ch_in)\n",
        "\n",
        "data_mice_bin_calc3$ch_in_string <- as.factor(data_mice_bin_calc3$ch_in_string)"
      ],
      "metadata": {
        "id": "t6BRIbfZR-se"
      },
      "execution_count": null,
      "outputs": []
    },
    {
      "cell_type": "code",
      "source": [
        "data_mice_bin_calc3$ch_in_string <- relevel(data_mice_bin_calc3$ch_in_string,ref=\"Low_Range\")"
      ],
      "metadata": {
        "id": "0P-oDCpGTRwf"
      },
      "execution_count": null,
      "outputs": []
    },
    {
      "cell_type": "code",
      "source": [
        "head(data_mice_bin_calc3)"
      ],
      "metadata": {
        "colab": {
          "base_uri": "https://localhost:8080/",
          "height": 306
        },
        "id": "LMjZ5cY0SySW",
        "outputId": "6cd9b844-21a0-473e-8694-f638d691330d"
      },
      "execution_count": null,
      "outputs": [
        {
          "output_type": "display_data",
          "data": {
            "text/html": [
              "<table class=\"dataframe\">\n",
              "<caption>A data.frame: 6 × 42</caption>\n",
              "<thead>\n",
              "\t<tr><th></th><th scope=col>check_in_count</th><th scope=col>average_stars</th><th scope=col>nearby_count_minus_1</th><th scope=col>attribute_count</th><th scope=col>restaurantspricerange2</th><th scope=col>happyhour</th><th scope=col>total_population</th><th scope=col>total_population_children</th><th scope=col>total_population_youth</th><th scope=col>total_population_adults</th><th scope=col>⋯</th><th scope=col>hastv</th><th scope=col>restaurantsreservations</th><th scope=col>restaurantsdelivery</th><th scope=col>wifi</th><th scope=col>restaurantstakeout</th><th scope=col>n_photo</th><th scope=col>check_in_count_LOG</th><th scope=col>check_in_bin</th><th scope=col>ch_in</th><th scope=col>ch_in_string</th></tr>\n",
              "\t<tr><th></th><th scope=col>&lt;int&gt;</th><th scope=col>&lt;dbl&gt;</th><th scope=col>&lt;dbl&gt;</th><th scope=col>&lt;int&gt;</th><th scope=col>&lt;int&gt;</th><th scope=col>&lt;fct&gt;</th><th scope=col>&lt;int&gt;</th><th scope=col>&lt;int&gt;</th><th scope=col>&lt;int&gt;</th><th scope=col>&lt;int&gt;</th><th scope=col>⋯</th><th scope=col>&lt;fct&gt;</th><th scope=col>&lt;fct&gt;</th><th scope=col>&lt;fct&gt;</th><th scope=col>&lt;fct&gt;</th><th scope=col>&lt;fct&gt;</th><th scope=col>&lt;int&gt;</th><th scope=col>&lt;dbl&gt;</th><th scope=col>&lt;chr&gt;</th><th scope=col>&lt;int&gt;</th><th scope=col>&lt;fct&gt;</th></tr>\n",
              "</thead>\n",
              "<tbody>\n",
              "\t<tr><th scope=row>1</th><td>2</td><td>2.0000</td><td>163</td><td>9</td><td>1</td><td>0</td><td>41271</td><td>8924</td><td>6658</td><td>20247</td><td>⋯</td><td>1</td><td>0</td><td>1</td><td>No  </td><td>1</td><td>0</td><td>0.3010300</td><td>1</td><td>0</td><td>Low_Range</td></tr>\n",
              "\t<tr><th scope=row>2</th><td>2</td><td>0.0000</td><td>163</td><td>9</td><td>1</td><td>0</td><td>41271</td><td>8924</td><td>6658</td><td>20247</td><td>⋯</td><td>1</td><td>0</td><td>1</td><td>No  </td><td>1</td><td>0</td><td>0.3010300</td><td>1</td><td>0</td><td>Low_Range</td></tr>\n",
              "\t<tr><th scope=row>3</th><td>8</td><td>4.7500</td><td> 11</td><td>8</td><td>1</td><td>0</td><td>35239</td><td>4124</td><td>5312</td><td>20997</td><td>⋯</td><td>0</td><td>0</td><td>0</td><td>No  </td><td>1</td><td>5</td><td>0.9030900</td><td>1</td><td>0</td><td>Low_Range</td></tr>\n",
              "\t<tr><th scope=row>4</th><td>6</td><td>4.9286</td><td> 11</td><td>8</td><td>1</td><td>0</td><td>35239</td><td>4124</td><td>5312</td><td>20997</td><td>⋯</td><td>0</td><td>0</td><td>0</td><td>No  </td><td>1</td><td>5</td><td>0.7781513</td><td>1</td><td>0</td><td>Low_Range</td></tr>\n",
              "\t<tr><th scope=row>5</th><td>5</td><td>2.2000</td><td> 45</td><td>8</td><td>2</td><td>0</td><td> 9808</td><td>1402</td><td>1373</td><td> 5324</td><td>⋯</td><td>1</td><td>1</td><td>0</td><td>Free</td><td>1</td><td>0</td><td>0.6989700</td><td>1</td><td>0</td><td>Low_Range</td></tr>\n",
              "\t<tr><th scope=row>6</th><td>4</td><td>2.6000</td><td> 45</td><td>8</td><td>2</td><td>0</td><td> 9808</td><td>1402</td><td>1373</td><td> 5324</td><td>⋯</td><td>1</td><td>1</td><td>0</td><td>Free</td><td>1</td><td>0</td><td>0.6020600</td><td>1</td><td>0</td><td>Low_Range</td></tr>\n",
              "</tbody>\n",
              "</table>\n"
            ],
            "text/markdown": "\nA data.frame: 6 × 42\n\n| <!--/--> | check_in_count &lt;int&gt; | average_stars &lt;dbl&gt; | nearby_count_minus_1 &lt;dbl&gt; | attribute_count &lt;int&gt; | restaurantspricerange2 &lt;int&gt; | happyhour &lt;fct&gt; | total_population &lt;int&gt; | total_population_children &lt;int&gt; | total_population_youth &lt;int&gt; | total_population_adults &lt;int&gt; | ⋯ ⋯ | hastv &lt;fct&gt; | restaurantsreservations &lt;fct&gt; | restaurantsdelivery &lt;fct&gt; | wifi &lt;fct&gt; | restaurantstakeout &lt;fct&gt; | n_photo &lt;int&gt; | check_in_count_LOG &lt;dbl&gt; | check_in_bin &lt;chr&gt; | ch_in &lt;int&gt; | ch_in_string &lt;fct&gt; |\n|---|---|---|---|---|---|---|---|---|---|---|---|---|---|---|---|---|---|---|---|---|---|\n| 1 | 2 | 2.0000 | 163 | 9 | 1 | 0 | 41271 | 8924 | 6658 | 20247 | ⋯ | 1 | 0 | 1 | No   | 1 | 0 | 0.3010300 | 1 | 0 | Low_Range |\n| 2 | 2 | 0.0000 | 163 | 9 | 1 | 0 | 41271 | 8924 | 6658 | 20247 | ⋯ | 1 | 0 | 1 | No   | 1 | 0 | 0.3010300 | 1 | 0 | Low_Range |\n| 3 | 8 | 4.7500 |  11 | 8 | 1 | 0 | 35239 | 4124 | 5312 | 20997 | ⋯ | 0 | 0 | 0 | No   | 1 | 5 | 0.9030900 | 1 | 0 | Low_Range |\n| 4 | 6 | 4.9286 |  11 | 8 | 1 | 0 | 35239 | 4124 | 5312 | 20997 | ⋯ | 0 | 0 | 0 | No   | 1 | 5 | 0.7781513 | 1 | 0 | Low_Range |\n| 5 | 5 | 2.2000 |  45 | 8 | 2 | 0 |  9808 | 1402 | 1373 |  5324 | ⋯ | 1 | 1 | 0 | Free | 1 | 0 | 0.6989700 | 1 | 0 | Low_Range |\n| 6 | 4 | 2.6000 |  45 | 8 | 2 | 0 |  9808 | 1402 | 1373 |  5324 | ⋯ | 1 | 1 | 0 | Free | 1 | 0 | 0.6020600 | 1 | 0 | Low_Range |\n\n",
            "text/latex": "A data.frame: 6 × 42\n\\begin{tabular}{r|lllllllllllllllllllll}\n  & check\\_in\\_count & average\\_stars & nearby\\_count\\_minus\\_1 & attribute\\_count & restaurantspricerange2 & happyhour & total\\_population & total\\_population\\_children & total\\_population\\_youth & total\\_population\\_adults & ⋯ & hastv & restaurantsreservations & restaurantsdelivery & wifi & restaurantstakeout & n\\_photo & check\\_in\\_count\\_LOG & check\\_in\\_bin & ch\\_in & ch\\_in\\_string\\\\\n  & <int> & <dbl> & <dbl> & <int> & <int> & <fct> & <int> & <int> & <int> & <int> & ⋯ & <fct> & <fct> & <fct> & <fct> & <fct> & <int> & <dbl> & <chr> & <int> & <fct>\\\\\n\\hline\n\t1 & 2 & 2.0000 & 163 & 9 & 1 & 0 & 41271 & 8924 & 6658 & 20247 & ⋯ & 1 & 0 & 1 & No   & 1 & 0 & 0.3010300 & 1 & 0 & Low\\_Range\\\\\n\t2 & 2 & 0.0000 & 163 & 9 & 1 & 0 & 41271 & 8924 & 6658 & 20247 & ⋯ & 1 & 0 & 1 & No   & 1 & 0 & 0.3010300 & 1 & 0 & Low\\_Range\\\\\n\t3 & 8 & 4.7500 &  11 & 8 & 1 & 0 & 35239 & 4124 & 5312 & 20997 & ⋯ & 0 & 0 & 0 & No   & 1 & 5 & 0.9030900 & 1 & 0 & Low\\_Range\\\\\n\t4 & 6 & 4.9286 &  11 & 8 & 1 & 0 & 35239 & 4124 & 5312 & 20997 & ⋯ & 0 & 0 & 0 & No   & 1 & 5 & 0.7781513 & 1 & 0 & Low\\_Range\\\\\n\t5 & 5 & 2.2000 &  45 & 8 & 2 & 0 &  9808 & 1402 & 1373 &  5324 & ⋯ & 1 & 1 & 0 & Free & 1 & 0 & 0.6989700 & 1 & 0 & Low\\_Range\\\\\n\t6 & 4 & 2.6000 &  45 & 8 & 2 & 0 &  9808 & 1402 & 1373 &  5324 & ⋯ & 1 & 1 & 0 & Free & 1 & 0 & 0.6020600 & 1 & 0 & Low\\_Range\\\\\n\\end{tabular}\n",
            "text/plain": [
              "  check_in_count average_stars nearby_count_minus_1 attribute_count\n",
              "1 2              2.0000        163                  9              \n",
              "2 2              0.0000        163                  9              \n",
              "3 8              4.7500         11                  8              \n",
              "4 6              4.9286         11                  8              \n",
              "5 5              2.2000         45                  8              \n",
              "6 4              2.6000         45                  8              \n",
              "  restaurantspricerange2 happyhour total_population total_population_children\n",
              "1 1                      0         41271            8924                     \n",
              "2 1                      0         41271            8924                     \n",
              "3 1                      0         35239            4124                     \n",
              "4 1                      0         35239            4124                     \n",
              "5 2                      0          9808            1402                     \n",
              "6 2                      0          9808            1402                     \n",
              "  total_population_youth total_population_adults ⋯ hastv\n",
              "1 6658                   20247                   ⋯ 1    \n",
              "2 6658                   20247                   ⋯ 1    \n",
              "3 5312                   20997                   ⋯ 0    \n",
              "4 5312                   20997                   ⋯ 0    \n",
              "5 1373                    5324                   ⋯ 1    \n",
              "6 1373                    5324                   ⋯ 1    \n",
              "  restaurantsreservations restaurantsdelivery wifi restaurantstakeout n_photo\n",
              "1 0                       1                   No   1                  0      \n",
              "2 0                       1                   No   1                  0      \n",
              "3 0                       0                   No   1                  5      \n",
              "4 0                       0                   No   1                  5      \n",
              "5 1                       0                   Free 1                  0      \n",
              "6 1                       0                   Free 1                  0      \n",
              "  check_in_count_LOG check_in_bin ch_in ch_in_string\n",
              "1 0.3010300          1            0     Low_Range   \n",
              "2 0.3010300          1            0     Low_Range   \n",
              "3 0.9030900          1            0     Low_Range   \n",
              "4 0.7781513          1            0     Low_Range   \n",
              "5 0.6989700          1            0     Low_Range   \n",
              "6 0.6020600          1            0     Low_Range   "
            ]
          },
          "metadata": {}
        }
      ]
    },
    {
      "cell_type": "code",
      "source": [
        "#Rename Dataset:\n",
        "\n",
        "data_mice_bin <- data_mice_bin_calc3"
      ],
      "metadata": {
        "id": "2o9YA0GvTLyK"
      },
      "execution_count": null,
      "outputs": []
    },
    {
      "cell_type": "code",
      "source": [
        "table(data_mice_bin$ch_in_string)"
      ],
      "metadata": {
        "colab": {
          "base_uri": "https://localhost:8080/",
          "height": 69
        },
        "id": "X_yQSNlnT5H8",
        "outputId": "ce8476c8-01a7-4140-9107-99d636213ff2"
      },
      "execution_count": null,
      "outputs": [
        {
          "output_type": "display_data",
          "data": {
            "text/plain": [
              "\n",
              " Low_Range High_Range \n",
              "      4043       1229 "
            ]
          },
          "metadata": {}
        }
      ]
    },
    {
      "cell_type": "markdown",
      "source": [
        "Visualization"
      ],
      "metadata": {
        "id": "4YyjENsH5P2i"
      }
    },
    {
      "cell_type": "code",
      "source": [
        "quartiles <- data_mice_bin_calc3 %>%\n",
        "  summarize(upper = quantile(check_in_count_LOG, 0.667))"
      ],
      "metadata": {
        "id": "Rss2DXOs5Qyo"
      },
      "execution_count": null,
      "outputs": []
    },
    {
      "cell_type": "code",
      "source": [
        "#Visualization with Top 33.3%:\n",
        "\n",
        "ggplot(data_mice_bin_calc3, aes(check_in_count_LOG, fill = ch_in_string))+\n",
        "  geom_histogram(bins=35)+\n",
        "  geom_vline(data = quartiles, aes(xintercept = upper))"
      ],
      "metadata": {
        "colab": {
          "base_uri": "https://localhost:8080/",
          "height": 437
        },
        "id": "_39mwXEVUWVP",
        "outputId": "a05cf9c0-ab97-4aed-9e31-1df89827f07b"
      },
      "execution_count": null,
      "outputs": [
        {
          "output_type": "display_data",
          "data": {
            "text/plain": [
              "plot without title"
            ],
            "image/png": "[encoded data removed]"
          },
          "metadata": {
            "image/png": {
              "width": 420,
              "height": 420
            }
          }
        }
      ]
    },
    {
      "cell_type": "markdown",
      "source": [
        "### Splitting Data into Test + Evaluation Data"
      ],
      "metadata": {
        "id": "RvG2Bc4qWhCh"
      }
    },
    {
      "cell_type": "code",
      "source": [
        "head(data_mice_bin)"
      ],
      "metadata": {
        "id": "gCuMgw3VUsWI"
      },
      "execution_count": null,
      "outputs": []
    },
    {
      "cell_type": "code",
      "source": [
        "varsin=c(\"ch_in_string\", \"ch_in\",\n",
        "            \"average_stars\", \"nearby_count_minus_1\", \"attribute_count\", \"restaurantspricerange2\", \"happyhour\",\n",
        "              \"total_population\", \"total_population_children\", \"total_population_youth\", \"total_population_adults\",\n",
        "              \"isromantic\", \"isintimate\", \"istouristy\", \"ishipster\", \"isdivey\", \"isclassy\", \"istrendy\", \"isupscale\", \"iscasual\",\n",
        "                            \"parking_garage\", \"parking_street\", \"parking_validated\", \"parking_lot\", \"parking_valet\", \"parking_total\",\n",
        "                              \"alcohol\", \"outdoorseating\", \"restaurantstableservice\", \"bikeparking\", \"byob\", \"businessacceptscreditcards\",\n",
        "                                \"restaurantscounterservice\", \"hastv\", \"restaurantsreservations\", \"restaurantsdelivery\", \"wifi\",\n",
        "                                  \"restaurantstakeout\", \"n_photo\")\n",
        "data_mice_bin=subset(data_mice_bin,select=varsin)"
      ],
      "metadata": {
        "id": "e8OTIqGUyNLK"
      },
      "execution_count": null,
      "outputs": []
    },
    {
      "cell_type": "code",
      "source": [
        "datasetsize <- nrow(data_mice_bin)"
      ],
      "metadata": {
        "id": "SGKuyfePhEez"
      },
      "execution_count": null,
      "outputs": []
    },
    {
      "cell_type": "code",
      "source": [
        "set.seed(9876)\n",
        "\n",
        "x <- data_mice_bin[sample(1:nrow(data_mice_bin), datasetsize, replace = F),]\n",
        "x.train <- x[1:floor(nrow(x)*.75), ]\n",
        "x.evaluate <- x[(floor(nrow(x)*.75)+1):nrow(x), ]"
      ],
      "metadata": {
        "id": "KzuCcqd_g7s7"
      },
      "execution_count": null,
      "outputs": []
    },
    {
      "cell_type": "code",
      "source": [
        "table(x.train$ch_in_string)"
      ],
      "metadata": {
        "colab": {
          "base_uri": "https://localhost:8080/",
          "height": 69
        },
        "id": "JpccIRG0hhfd",
        "outputId": "ee7d6b1a-706b-4b95-a3e7-8f66cb0ec2a1"
      },
      "execution_count": null,
      "outputs": [
        {
          "output_type": "display_data",
          "data": {
            "text/plain": [
              "\n",
              " Low_Range High_Range \n",
              "      3025        929 "
            ]
          },
          "metadata": {}
        }
      ]
    },
    {
      "cell_type": "markdown",
      "source": [
        "### Class Imbalance"
      ],
      "metadata": {
        "id": "YTqwZ8BCZmtW"
      }
    },
    {
      "cell_type": "markdown",
      "source": [
        "#### SMOTE for Minority Class"
      ],
      "metadata": {
        "id": "iNSrrZoHhrgZ"
      }
    },
    {
      "cell_type": "code",
      "source": [
        "#install.packages(\"caret\")"
      ],
      "metadata": {
        "id": "zPx1bA0ryqFx"
      },
      "execution_count": null,
      "outputs": []
    },
    {
      "cell_type": "code",
      "source": [
        "library(caret)"
      ],
      "metadata": {
        "id": "CMyVmiP4yrjJ"
      },
      "execution_count": null,
      "outputs": []
    },
    {
      "cell_type": "code",
      "source": [
        "BaseFormula <- as.formula(paste0(\"ch_in_string~\",paste(varsin[-c(1,2)],collapse = \"+\")))\n",
        "BaseFormula1 <- as.formula(paste0(\"ch_in~\",paste(varsin[-c(1,2)],collapse = \"+\")))\n",
        "\n",
        "\n",
        "# create dummies (required for SMOTE)\n",
        "x.traindum=cbind(x.train[,c(\"ch_in\",\"ch_in_string\")],predict(dummyVars(BaseFormula1,data=x.train),newdata = x.train))\n",
        "x.evaluatedum=cbind(x.evaluate[,c(\"ch_in\",\"ch_in_string\")],predict(dummyVars(BaseFormula1,data=x.evaluate),newdata = x.evaluate))"
      ],
      "metadata": {
        "id": "2V3GY6E3v-zt"
      },
      "execution_count": null,
      "outputs": []
    },
    {
      "cell_type": "code",
      "source": [
        "#Control:\n",
        "\n",
        "str(x.traindum)"
      ],
      "metadata": {
        "id": "qZWetNJbzm7R"
      },
      "execution_count": null,
      "outputs": []
    },
    {
      "cell_type": "code",
      "source": [
        "# args(SMOTE):\n",
        "\n",
        "# X = A data frame or matrix of numeric-attributed dataset.\n",
        "# target = A vector of a target class attribute corresponding to a dataset X.\n",
        "# K = The number of nearest neighbors during sampling process.\n",
        "# dup_size = The number or vector representing the desired times of synthetic minority instances over the original number of majority instances."
      ],
      "metadata": {
        "id": "g-J_1kODyaZL"
      },
      "execution_count": null,
      "outputs": []
    },
    {
      "cell_type": "code",
      "source": [
        "# SMOTE:\n",
        "set.seed(3321)\n",
        "x.traindum_smote <- SMOTE(x.traindum[,-c(1,2)],x.traindum[,2])$data\n",
        "\n",
        "table(x.traindum_smote$class)"
      ],
      "metadata": {
        "colab": {
          "base_uri": "https://localhost:8080/",
          "height": 69
        },
        "id": "tyBSooQgwzv6",
        "outputId": "b8cb401d-3772-4567-8ca8-cbfe3a96511a"
      },
      "execution_count": null,
      "outputs": [
        {
          "output_type": "display_data",
          "data": {
            "text/plain": [
              "\n",
              "High_Range  Low_Range \n",
              "      2787       3025 "
            ]
          },
          "metadata": {}
        }
      ]
    },
    {
      "cell_type": "code",
      "source": [
        "#Adding class factors as dummy + renaming columns:\n",
        "\n",
        "x.traindum_smote <- x.traindum_smote %>%\n",
        "                    mutate(ch_in = recode(class,\n",
        "\n",
        "\n",
        "                               \"High_Range\" = \"1\",\n",
        "                               \"Low_Range\" = \"0\")\n",
        "                               ) %>%\n",
        "                                    rename(ch_in_string = class)\n",
        "\n",
        "x.traindum_smote$ch_in_string <- as.factor(x.traindum_smote$ch_in_string)\n",
        "x.traindum_smote$ch_in <- as.integer(x.traindum_smote$ch_in)"
      ],
      "metadata": {
        "id": "jVFXJ8AuCFGG"
      },
      "execution_count": null,
      "outputs": []
    },
    {
      "cell_type": "code",
      "source": [
        "x.traindum_smote$ch_in_string <- relevel(x.traindum_smote$ch_in_string,ref=\"Low_Range\")"
      ],
      "metadata": {
        "id": "7UGmd3LOUoiL"
      },
      "execution_count": null,
      "outputs": []
    },
    {
      "cell_type": "code",
      "source": [
        "table(x.traindum_smote$ch_in_string)"
      ],
      "metadata": {
        "colab": {
          "base_uri": "https://localhost:8080/",
          "height": 69
        },
        "id": "8tvrI2MoUuh3",
        "outputId": "a50e18f8-2735-4080-b973-481ec18d0242"
      },
      "execution_count": null,
      "outputs": [
        {
          "output_type": "display_data",
          "data": {
            "text/plain": [
              "\n",
              " Low_Range High_Range \n",
              "      3025       2787 "
            ]
          },
          "metadata": {}
        }
      ]
    },
    {
      "cell_type": "code",
      "source": [
        "#Assign news train data to its original name:\n",
        "x.traindum <- x.traindum_smote"
      ],
      "metadata": {
        "id": "ZsRLnF3Gg9lV"
      },
      "execution_count": null,
      "outputs": []
    },
    {
      "cell_type": "markdown",
      "source": [
        "## Data for Heuristic Machine Learning Methods"
      ],
      "metadata": {
        "id": "_CC8CK8MAvCK"
      }
    },
    {
      "cell_type": "markdown",
      "source": [
        "### Normalization"
      ],
      "metadata": {
        "id": "x7V_LSFh6YU2"
      }
    },
    {
      "cell_type": "code",
      "source": [
        "# normalize data (very important for ML techniques, but not for logistic regression)\n",
        "x.trainnorm=predict(preProcess(x.traindum, method = \"range\"), newdata=x.traindum)\n",
        "x.evaluatenorm=predict(preProcess(x.evaluatedum, method = \"range\"), newdata=x.evaluatedum)"
      ],
      "metadata": {
        "id": "Li9ZTaBE6cn5"
      },
      "execution_count": null,
      "outputs": []
    },
    {
      "cell_type": "markdown",
      "source": [
        "### Adjust Baseformula to the Dummy Version of the Data"
      ],
      "metadata": {
        "id": "35TDrHodA5ey"
      }
    },
    {
      "cell_type": "code",
      "source": [
        "varsin_dum = varsin[1:2]\n",
        "for(i in 3:length(varsin)){\n",
        "  if(!is.null(levels(x[,varsin[i]]))){\n",
        "    for(j in 2:nlevels(x[,varsin[i]])){ # first level will be considered as the base-level\n",
        "      varsin_dum = c(varsin_dum, paste(varsin[i], levels(x[,varsin[i]])[j], sep = \".\"))\n",
        "    }\n",
        "  } else {\n",
        "    varsin_dum = c(varsin_dum, varsin[i])\n",
        "  }\n",
        "}"
      ],
      "metadata": {
        "id": "uqK0WhTM81Of"
      },
      "execution_count": null,
      "outputs": []
    },
    {
      "cell_type": "markdown",
      "source": [
        "### Redo the Releveling"
      ],
      "metadata": {
        "id": "90X8-mCWBDyX"
      }
    },
    {
      "cell_type": "code",
      "source": [
        "# Redo the releveling:\n",
        "x.traindum$ch_in_string=relevel(x.traindum$ch_in_string,ref=\"Low_Range\")\n",
        "x.evaluatedum$ch_in_string=relevel(x.evaluatedum$ch_in_string,ref=\"Low_Range\")\n",
        "x.trainnorm$ch_in_string=relevel(x.trainnorm$ch_in_string,ref=\"Low_Range\")\n",
        "x.evaluatenorm$ch_in_string=relevel(x.evaluatenorm$ch_in_string,ref=\"Low_Range\")"
      ],
      "metadata": {
        "id": "FtbCMtMj9Q1N"
      },
      "execution_count": null,
      "outputs": []
    },
    {
      "cell_type": "code",
      "source": [
        "BaseFormula_dum <- as.formula(paste0(\"ch_in_string~\",paste(varsin_dum[-c(1,2)],collapse = \"+\")))\n",
        "BaseFormula1_dum <- as.formula(paste0(\"ch_in~\",paste(varsin_dum[-c(1,2)],collapse = \"+\")))"
      ],
      "metadata": {
        "id": "RWjtQaQKAaZh"
      },
      "execution_count": null,
      "outputs": []
    },
    {
      "cell_type": "markdown",
      "source": [
        "### Set Threshold Probability"
      ],
      "metadata": {
        "id": "ITE1d6yqCrd3"
      }
    },
    {
      "cell_type": "code",
      "source": [
        "# set threshold probability: usually .5, but better is to set it to the portion of 1's.\n",
        "probthres=mean(x.traindum$ch_in)"
      ],
      "metadata": {
        "id": "OX6MC6doCjXZ"
      },
      "execution_count": null,
      "outputs": []
    },
    {
      "cell_type": "markdown",
      "source": [
        "### makeLiftPlot"
      ],
      "metadata": {
        "id": "wajyOnfAsGYl"
      }
    },
    {
      "cell_type": "code",
      "source": [
        "makeLiftPlot <- function(Prediction, Evaluate, ModelName){\n",
        "  # plots the liftplot, and computes the GINI coefficient.\n",
        "  iPredictionsSorted <- sort(Prediction,index.return=T,decreasing=T)[2]$ix #extract the index order according to predicted retention\n",
        "  CustomersSorted <- Evaluate$ch_in_string[iPredictionsSorted] #sort the true behavior of customers according to predictions\n",
        "  SumChurnReal<- sum(Evaluate$ch_in_string == \"High_Range\") #total number of real churners in the evaluation set\n",
        "  CustomerCumulative=seq(nrow(Evaluate))/nrow(Evaluate) #cumulative fraction of customers\n",
        "  ChurnCumulative=apply(matrix(CustomersSorted==\"High_Range\"),2,cumsum)/SumChurnReal #cumulative fraction of churners\n",
        "  ProbTD = sum(CustomersSorted[1:floor(nrow(Evaluate)*.1)]==\"High_Range\")/floor(nrow(Evaluate)*.1) #probability of churn in 1st decile\n",
        "  ProbOverall = SumChurnReal / nrow(Evaluate) #overall churn probability\n",
        "  TDL = ProbTD / ProbOverall\n",
        "  GINI = sum((ChurnCumulative-CustomerCumulative)/(t(matrix(1,1,nrow(Evaluate))-CustomerCumulative)),na.rm=T)/nrow(Evaluate)\n",
        "  plot(CustomerCumulative,ChurnCumulative,type=\"l\",main=paste(\"Lift curve of\", ModelName),xlab=\"Cumulative fraction of check-ins (sorted by predicted check-in probability)\",ylab=\"Cumulative fraction of check-ins\")\n",
        "  lines(c(0,1),c(0,1),col=\"blue\",type=\"l\",pch=22, lty=2)\n",
        "  legend(.66,.2,c(\"According to model\",\"Random selection\"),cex=0.8,  col=c(\"black\",\"blue\"), lty=1:2)\n",
        "  text(0.15,1,paste(\"TDL = \",round(TDL,2), \"; GINI = \", round(GINI,2) ))\n",
        "  return(data.frame(TDL,GINI))\n",
        "}"
      ],
      "metadata": {
        "id": "OKUYbRursGn2"
      },
      "execution_count": null,
      "outputs": []
    },
    {
      "cell_type": "markdown",
      "source": [
        "# ML Application"
      ],
      "metadata": {
        "id": "JWYuIDjds0QX"
      }
    },
    {
      "cell_type": "markdown",
      "source": [
        "## LOGIT"
      ],
      "metadata": {
        "id": "rYemAhQ3jFw-"
      }
    },
    {
      "cell_type": "code",
      "source": [
        "ptm <- proc.time()\n",
        "x.modelLogit <- glm(BaseFormula_dum , data = x.traindum, family = \"binomial\") # estimating the probability of having an \"Above Average\" restourant.\n",
        "\n",
        "summary(x.modelLogit)"
      ],
      "metadata": {
        "colab": {
          "base_uri": "https://localhost:8080/",
          "height": 1000
        },
        "id": "IQj4t8Pki7Ui",
        "outputId": "9c9d31a9-9463-48b2-d765-7be305b16530"
      },
      "execution_count": null,
      "outputs": [
        {
          "output_type": "stream",
          "name": "stderr",
          "text": [
            "Warning message:\n",
            "“glm.fit: fitted probabilities numerically 0 or 1 occurred”\n"
          ]
        },
        {
          "output_type": "display_data",
          "data": {
            "text/plain": [
              "\n",
              "Call:\n",
              "glm(formula = BaseFormula_dum, family = \"binomial\", data = x.traindum)\n",
              "\n",
              "Coefficients:\n",
              "                               Estimate Std. Error z value Pr(>|z|)    \n",
              "(Intercept)                  -5.154e+00  3.835e-01 -13.440  < 2e-16 ***\n",
              "average_stars                 4.333e-01  5.892e-02   7.353 1.93e-13 ***\n",
              "nearby_count_minus_1          7.709e-04  1.294e-04   5.957 2.57e-09 ***\n",
              "attribute_count               1.487e-01  2.483e-02   5.989 2.11e-09 ***\n",
              "restaurantspricerange2        3.789e-01  9.349e-02   4.053 5.05e-05 ***\n",
              "happyhour.1                  -1.891e-01  1.260e-01  -1.500 0.133603    \n",
              "total_population             -1.362e-04  4.043e-05  -3.368 0.000758 ***\n",
              "total_population_children     4.304e-05  4.614e-05   0.933 0.350915    \n",
              "total_population_youth        1.309e-04  4.028e-05   3.249 0.001157 ** \n",
              "total_population_adults       1.776e-04  5.115e-05   3.472 0.000516 ***\n",
              "isromantic.1                 -1.521e+00  3.349e-01  -4.542 5.57e-06 ***\n",
              "isintimate.1                 -9.930e-01  2.223e-01  -4.466 7.96e-06 ***\n",
              "istouristy.1                  7.186e-01  3.789e-01   1.897 0.057858 .  \n",
              "ishipster.1                   7.912e-01  1.808e-01   4.377 1.20e-05 ***\n",
              "isdivey.1                    -1.654e-01  2.706e-01  -0.611 0.540960    \n",
              "isclassy.1                    1.120e-01  1.065e-01   1.051 0.293236    \n",
              "istrendy.1                    9.959e-01  1.535e-01   6.488 8.67e-11 ***\n",
              "isupscale.1                  -1.285e+00  4.566e-01  -2.815 0.004875 ** \n",
              "iscasual.1                    7.875e-01  1.134e-01   6.947 3.73e-12 ***\n",
              "parking_garage.1             -3.277e-01  1.599e-01  -2.049 0.040440 *  \n",
              "parking_street.1              1.721e-01  1.597e-01   1.078 0.281232    \n",
              "parking_validated.1           1.579e-01  2.615e-01   0.604 0.545957    \n",
              "parking_lot.1                 4.672e-02  1.406e-01   0.332 0.739590    \n",
              "parking_valet.1              -3.813e-01  3.192e-01  -1.194 0.232295    \n",
              "parking_total.1               2.558e-01  2.097e-01   1.220 0.222620    \n",
              "alcohol.Beer_and_wine         4.153e-01  1.897e-01   2.189 0.028633 *  \n",
              "alcohol.Full_bar              7.009e-01  1.342e-01   5.222 1.77e-07 ***\n",
              "outdoorseating.1             -1.428e-01  9.747e-02  -1.465 0.142794    \n",
              "restaurantstableservice.1    -1.401e-02  1.096e-01  -0.128 0.898327    \n",
              "bikeparking.1                -1.114e-01  1.207e-01  -0.923 0.355959    \n",
              "byob.1                       -4.681e-02  1.956e-01  -0.239 0.810904    \n",
              "businessacceptscreditcards.1 -1.448e-01  1.473e-01  -0.983 0.325717    \n",
              "restaurantscounterservice.1   8.002e+01  1.284e+03   0.062 0.950310    \n",
              "hastv.1                      -3.959e-01  1.032e-01  -3.836 0.000125 ***\n",
              "restaurantsreservations.1    -5.673e-01  1.097e-01  -5.170 2.34e-07 ***\n",
              "restaurantsdelivery.1        -2.691e-01  1.016e-01  -2.648 0.008105 ** \n",
              "wifi.Free                    -5.998e-02  8.574e-02  -0.700 0.484192    \n",
              "wifi.Paid                     7.906e-01  4.446e-01   1.778 0.075354 .  \n",
              "restaurantstakeout.1         -6.166e-01  1.662e-01  -3.710 0.000208 ***\n",
              "n_photo                       1.719e-01  8.265e-03  20.802  < 2e-16 ***\n",
              "---\n",
              "Signif. codes:  0 ‘***’ 0.001 ‘**’ 0.01 ‘*’ 0.05 ‘.’ 0.1 ‘ ’ 1\n",
              "\n",
              "(Dispersion parameter for binomial family taken to be 1)\n",
              "\n",
              "    Null deviance: 8047.4  on 5811  degrees of freedom\n",
              "Residual deviance: 4310.6  on 5772  degrees of freedom\n",
              "AIC: 4390.6\n",
              "\n",
              "Number of Fisher Scoring iterations: 15\n"
            ]
          },
          "metadata": {}
        }
      ]
    },
    {
      "cell_type": "code",
      "source": [
        "x.evaluate$predictionlogit <- predict(x.modelLogit, newdata=x.evaluatedum, type = \"response\")\n",
        "x.evaluate$predictionlogitclass[x.evaluate$predictionlogit>probthres] <- \"High_Range\"\n",
        "x.evaluate$predictionlogitclass[x.evaluate$predictionlogit<=probthres] <- \"Low_Range\""
      ],
      "metadata": {
        "id": "xZJF83VSjIlY"
      },
      "execution_count": null,
      "outputs": []
    },
    {
      "cell_type": "code",
      "source": [
        "x.evaluate$correctlogit <- x.evaluate$predictionlogitclass == x.evaluate$ch_in_string\n",
        "print(paste(\"% of predicted classifications correct\", mean(x.evaluate$correctlogit)))"
      ],
      "metadata": {
        "colab": {
          "base_uri": "https://localhost:8080/"
        },
        "id": "TTKmpB5DjQA3",
        "outputId": "6c0ff850-258a-40bd-e7bc-4659a258227c"
      },
      "execution_count": null,
      "outputs": [
        {
          "output_type": "stream",
          "name": "stdout",
          "text": [
            "[1] \"% of predicted classifications correct 0.824734446130501\"\n"
          ]
        }
      ]
    },
    {
      "cell_type": "code",
      "source": [
        "LogitOutput <- makeLiftPlot(x.evaluate$predictionlogit,x.evaluate,\"Logit\")"
      ],
      "metadata": {
        "colab": {
          "base_uri": "https://localhost:8080/",
          "height": 437
        },
        "id": "wUK8YvstkTSW",
        "outputId": "8558c90d-11da-471f-e8e6-acdd0c3d2a34"
      },
      "execution_count": null,
      "outputs": [
        {
          "output_type": "display_data",
          "data": {
            "text/plain": [
              "Plot with title “Lift curve of Logit”"
            ],
            "image/png": "[encoded data removed]"
          },
          "metadata": {
            "image/png": {
              "width": 420,
              "height": 420
            }
          }
        }
      ]
    },
    {
      "cell_type": "code",
      "source": [
        "TimeAux <- proc.time() - ptm\n",
        "#LogitOutput$summary=summary(x.modelLogit)\n",
        "LogitOutput$TimeElapsed <- TimeAux[3]\n",
        "LogitOutput$PercCorrect <- mean(x.evaluate$correctlogit)*100\n",
        "Logitconfmatrix <- table(x.evaluate$predictionlogitclass,x.evaluate$ch_in_string)\n",
        "rm(TimeAux)"
      ],
      "metadata": {
        "id": "r4Z3q69coWiT"
      },
      "execution_count": null,
      "outputs": []
    },
    {
      "cell_type": "code",
      "source": [
        "LogitOutput$TimeElapsed"
      ],
      "metadata": {
        "colab": {
          "base_uri": "https://localhost:8080/",
          "height": 34
        },
        "id": "7z3D72TgsXm8",
        "outputId": "b70a909d-c6a2-4dd4-87f4-8f7e76c77058"
      },
      "execution_count": null,
      "outputs": [
        {
          "output_type": "display_data",
          "data": {
            "text/html": [
              "56.0200000000041"
            ],
            "text/markdown": "56.0200000000041",
            "text/latex": "56.0200000000041",
            "text/plain": [
              "[1] 56.02"
            ]
          },
          "metadata": {}
        }
      ]
    },
    {
      "cell_type": "code",
      "source": [
        "LogitOutput$PercCorrect"
      ],
      "metadata": {
        "colab": {
          "base_uri": "https://localhost:8080/",
          "height": 34
        },
        "id": "F4iJ0DTZsYdM",
        "outputId": "b689332f-3a43-4c13-ff61-a65953318b06"
      },
      "execution_count": null,
      "outputs": [
        {
          "output_type": "display_data",
          "data": {
            "text/html": [
              "82.4734446130501"
            ],
            "text/markdown": "82.4734446130501",
            "text/latex": "82.4734446130501",
            "text/plain": [
              "[1] 82.47344"
            ]
          },
          "metadata": {}
        }
      ]
    },
    {
      "cell_type": "code",
      "source": [
        "Logitconfmatrix"
      ],
      "metadata": {
        "colab": {
          "base_uri": "https://localhost:8080/",
          "height": 86
        },
        "id": "p2Kzc3disZn4",
        "outputId": "954ea415-bfc6-4ff9-feff-38bca056769e"
      },
      "execution_count": null,
      "outputs": [
        {
          "output_type": "display_data",
          "data": {
            "text/plain": [
              "            \n",
              "             Low_Range High_Range\n",
              "  High_Range       177        246\n",
              "  Low_Range        841         54"
            ]
          },
          "metadata": {}
        }
      ]
    },
    {
      "cell_type": "markdown",
      "source": [
        "## Naive Bayes"
      ],
      "metadata": {
        "id": "MC-jx2d6s8Md"
      }
    },
    {
      "cell_type": "code",
      "source": [
        "x.modelNB <- train(BaseFormula_dum, data = x.trainnorm, method=\"naive_bayes\")\n",
        "\n",
        "x.evaluate$predictionNB <- predict(x.modelNB, newdata=x.evaluatenorm,type=\"prob\")\n",
        "\n",
        "x.evaluate$predictionNBclass[x.evaluate$predictionNB[,'High_Range']>probthres]=\"High_Range\"\n",
        "x.evaluate$predictionNBclass[x.evaluate$predictionNB[,'High_Range']<=probthres]=\"Low_Range\""
      ],
      "metadata": {
        "id": "5USWiooXz9fT"
      },
      "execution_count": null,
      "outputs": []
    },
    {
      "cell_type": "code",
      "source": [
        "x.evaluate$correctNB <- x.evaluate$predictionNBclass == x.evaluate$ch_in_string\n",
        "print(paste(\"% of predicted classifications correct\", mean(x.evaluate$correctNB)))\n",
        "\n",
        "# the variable importance\n",
        "print(varImp(x.modelNB))\n",
        "\n",
        "# Extract the class probabilities.\n",
        "x.evaluate$predictionNB <- x.evaluate$predictionNB[,'High_Range']\n",
        "\n",
        "NBOutput <- makeLiftPlot(x.evaluate$predictionNB,x.evaluate,\"NB\")\n",
        "\n",
        "TimeAux <- proc.time() - ptm\n",
        "NBOutput$TimeElapsed <- TimeAux[3]\n",
        "NBOutput$PercCorrect <- mean(x.evaluate$correctNB)*100\n",
        "NBconfmatrix <- table(x.evaluate$predictionNBclass,x.evaluate$ch_in_string)"
      ],
      "metadata": {
        "colab": {
          "base_uri": "https://localhost:8080/",
          "height": 888
        },
        "id": "yaR2x2td0CwY",
        "outputId": "b5f928d7-a009-4e6d-c2af-53a0330aaba4"
      },
      "execution_count": null,
      "outputs": [
        {
          "output_type": "stream",
          "name": "stdout",
          "text": [
            "[1] \"% of predicted classifications correct 0.810318664643399\"\n",
            "ROC curve variable importance\n",
            "\n",
            "  only 20 most important variables shown (out of 39)\n",
            "\n",
            "                          Importance\n",
            "n_photo                       100.00\n",
            "attribute_count                74.65\n",
            "nearby_count_minus_1           56.71\n",
            "isclassy.1                     54.00\n",
            "alcohol.Full_bar               49.29\n",
            "total_population_children      48.07\n",
            "restaurantspricerange2         46.06\n",
            "happyhour.1                    44.15\n",
            "restaurantstableservice.1      43.54\n",
            "outdoorseating.1               38.40\n",
            "istrendy.1                     37.85\n",
            "parking_street.1               37.63\n",
            "total_population               36.99\n",
            "iscasual.1                     34.79\n",
            "restaurantsreservations.1      34.27\n",
            "total_population_youth         32.94\n",
            "total_population_adults        32.29\n",
            "average_stars                  28.14\n",
            "parking_total.1                25.55\n",
            "bikeparking.1                  22.68\n"
          ]
        },
        {
          "output_type": "display_data",
          "data": {
            "text/plain": [
              "Plot with title “Lift curve of NB”"
            ],
            "image/png": "[encoded data removed]"
          },
          "metadata": {
            "image/png": {
              "width": 420,
              "height": 420
            }
          }
        }
      ]
    },
    {
      "cell_type": "code",
      "source": [
        "NBOutput$PercCorrect"
      ],
      "metadata": {
        "colab": {
          "base_uri": "https://localhost:8080/",
          "height": 34
        },
        "id": "r6bW_qgp0PQG",
        "outputId": "4208d148-9dcb-406f-fcc9-e4a7a783a9c2"
      },
      "execution_count": null,
      "outputs": [
        {
          "output_type": "display_data",
          "data": {
            "text/html": [
              "81.0318664643399"
            ],
            "text/markdown": "81.0318664643399",
            "text/latex": "81.0318664643399",
            "text/plain": [
              "[1] 81.03187"
            ]
          },
          "metadata": {}
        }
      ]
    },
    {
      "cell_type": "code",
      "source": [
        "NBconfmatrix"
      ],
      "metadata": {
        "colab": {
          "base_uri": "https://localhost:8080/",
          "height": 86
        },
        "id": "YWO6nmX00Rzq",
        "outputId": "66aa9185-5a90-461c-8dbb-6c0b6a67cf3e"
      },
      "execution_count": null,
      "outputs": [
        {
          "output_type": "display_data",
          "data": {
            "text/plain": [
              "            \n",
              "             Low_Range High_Range\n",
              "  High_Range       184        234\n",
              "  Low_Range        834         66"
            ]
          },
          "metadata": {}
        }
      ]
    },
    {
      "cell_type": "markdown",
      "source": [
        "## KNN"
      ],
      "metadata": {
        "id": "tKRqoSUCv0OR"
      }
    },
    {
      "cell_type": "code",
      "source": [
        "x.modelKNN <- train(BaseFormula_dum, data = x.trainnorm, method=\"knn\")\n",
        "\n",
        "x.evaluate$predictionKNN <- predict(x.modelKNN, newdata=x.evaluatenorm,type=\"prob\")\n",
        "\n",
        "\n",
        "x.evaluate$predictionKNNclass[x.evaluate$predictionKNN[,'High_Range']>probthres]=\"High_Range\"\n",
        "x.evaluate$predictionKNNclass[x.evaluate$predictionKNN[,'High_Range']<=probthres]=\"Low_Range\"\n",
        "\n",
        "x.evaluate$correctKNN <- x.evaluate$predictionKNNclass == x.evaluate$ch_in_string\n",
        "print(paste(\"% of predicted classifications correct\", mean(x.evaluate$correctKNN)))\n",
        "\n",
        "# the variable importance\n",
        "print(varImp(x.modelKNN))\n",
        "\n",
        "# Extract the class probabilities.\n",
        "x.evaluate$predictionKNN <- x.evaluate$predictionKNN[,'High_Range']\n",
        "\n",
        "KNNOutput <- makeLiftPlot(x.evaluate$predictionKNN,x.evaluate,\"KNN\")\n",
        "\n",
        "TimeAux <- proc.time() - ptm\n",
        "KNNOutput$TimeElapsed <- TimeAux[3]\n",
        "KNNOutput$PercCorrect <- mean(x.evaluate$correctKNN)*100\n",
        "KNNconfmatrix <- table(x.evaluate$predictionKNNclass,x.evaluate$ch_in_string)\n",
        "rm(TimeAux)"
      ],
      "metadata": {
        "colab": {
          "base_uri": "https://localhost:8080/",
          "height": 888
        },
        "id": "Cs6rsiBRuUK6",
        "outputId": "0062eb17-c802-4c70-c9d2-83a502c809c2"
      },
      "execution_count": null,
      "outputs": [
        {
          "output_type": "stream",
          "name": "stdout",
          "text": [
            "[1] \"% of predicted classifications correct 0.776176024279211\"\n",
            "ROC curve variable importance\n",
            "\n",
            "  only 20 most important variables shown (out of 39)\n",
            "\n",
            "                          Importance\n",
            "n_photo                       100.00\n",
            "attribute_count                74.65\n",
            "nearby_count_minus_1           56.71\n",
            "isclassy.1                     54.00\n",
            "alcohol.Full_bar               49.29\n",
            "total_population_children      48.07\n",
            "restaurantspricerange2         46.06\n",
            "happyhour.1                    44.15\n",
            "restaurantstableservice.1      43.54\n",
            "outdoorseating.1               38.40\n",
            "istrendy.1                     37.85\n",
            "parking_street.1               37.63\n",
            "total_population               36.99\n",
            "iscasual.1                     34.79\n",
            "restaurantsreservations.1      34.27\n",
            "total_population_youth         32.94\n",
            "total_population_adults        32.29\n",
            "average_stars                  28.14\n",
            "parking_total.1                25.55\n",
            "bikeparking.1                  22.68\n"
          ]
        },
        {
          "output_type": "display_data",
          "data": {
            "text/plain": [
              "Plot with title “Lift curve of KNN”"
            ],
            "image/png": "[encoded data removed]"
          },
          "metadata": {
            "image/png": {
              "width": 420,
              "height": 420
            }
          }
        }
      ]
    },
    {
      "cell_type": "markdown",
      "source": [
        "## SVM"
      ],
      "metadata": {
        "id": "emmHXO8iaBvU"
      }
    },
    {
      "cell_type": "code",
      "source": [
        "############ SVM\n",
        "\n",
        "ptm <- proc.time()\n",
        "# fast trainer\n",
        "x.modelSVM <- train(BaseFormula_dum, data = x.trainnorm, method=\"svmRadial\", cachesize=12000, tolerance=.01,\n",
        "                    trControl = trainControl(classProbs =  TRUE))\n",
        "\n",
        "x.evaluate$predictionSVM <- predict(x.modelSVM, newdata=x.evaluatenorm, type=\"prob\")\n",
        "\n",
        "\n",
        "x.evaluate$predictionSVMclass[x.evaluate$predictionSVM[,'High_Range']>probthres]=\"High_Range\"\n",
        "x.evaluate$predictionSVMclass[x.evaluate$predictionSVM[,'High_Range']<=probthres]=\"Low_Range\"\n",
        "\n",
        "x.evaluate$correctSVM <- x.evaluate$predictionSVMclass == x.evaluate$ch_in_string\n",
        "print(paste(\"% of predicted classifications correct\", mean(x.evaluate$correctSVM)))\n",
        "\n",
        "# for fast trainer you can also get the variable importance\n",
        "print(varImp(x.modelSVM))\n",
        "\n",
        "# Extract the class probabilities.\n",
        "x.evaluate$predictionSVM <- x.evaluate$predictionSVM[,'High_Range']\n",
        "\n",
        "SVMOutput <- makeLiftPlot(x.evaluate$predictionSVM,x.evaluate,\"SVM\")\n",
        "\n",
        "TimeAux <- proc.time() - ptm\n",
        "SVMOutput$TimeElapsed <- TimeAux[3]\n",
        "SVMOutput$PercCorrect <- mean(x.evaluate$correctSVM)*100\n",
        "SVMconfmatrix <- table(x.evaluate$predictionSVMclass,x.evaluate$ch_in_string)\n",
        "rm(TimeAux)"
      ],
      "metadata": {
        "colab": {
          "base_uri": "https://localhost:8080/"
        },
        "id": "DkFGuX4FaCG6",
        "outputId": "c730f6fe-a802-4109-c2f1-06ca290c0f13"
      },
      "execution_count": null,
      "outputs": [
        {
          "output_type": "stream",
          "name": "stdout",
          "text": [
            "line search fails -2.505747 0.0001759928 1.106888e-05 5.708378e-07 -4.342934e-08 -4.014229e-09 -4.830058e-13"
          ]
        },
        {
          "output_type": "stream",
          "name": "stderr",
          "text": [
            "Warning message in method$predict(modelFit = modelFit, newdata = newdata, submodels = param):\n",
            "“kernlab class prediction calculations failed; returning NAs”\n",
            "Warning message in method$prob(modelFit = modelFit, newdata = newdata, submodels = param):\n",
            "“kernlab class probability calculations failed; returning NAs”\n",
            "Warning message in data.frame(..., check.names = FALSE):\n",
            "“row names were found from a short variable and have been discarded”\n"
          ]
        }
      ]
    },
    {
      "cell_type": "markdown",
      "source": [
        "## Neural Network"
      ],
      "metadata": {
        "id": "TVIckmQRdS08"
      }
    },
    {
      "cell_type": "code",
      "source": [
        "install.packages(\"NeuralNetTools\")"
      ],
      "metadata": {
        "colab": {
          "base_uri": "https://localhost:8080/"
        },
        "id": "e5uS7vEwdb_p",
        "outputId": "e4cb2adb-5992-4d92-8638-03f2671afcb6"
      },
      "execution_count": null,
      "outputs": [
        {
          "output_type": "stream",
          "name": "stderr",
          "text": [
            "Installing package into ‘/usr/local/lib/R/site-library’\n",
            "(as ‘lib’ is unspecified)\n",
            "\n"
          ]
        }
      ]
    },
    {
      "cell_type": "code",
      "source": [
        "library(NeuralNetTools)"
      ],
      "metadata": {
        "id": "mBY3SeQEdbJp"
      },
      "execution_count": null,
      "outputs": []
    },
    {
      "cell_type": "code",
      "source": [
        "install.packages(\"RSNNS\")"
      ],
      "metadata": {
        "colab": {
          "base_uri": "https://localhost:8080/"
        },
        "id": "U3gctDoqdu8q",
        "outputId": "8c872ffe-32cf-4d2f-e5d3-5037faeea5dd"
      },
      "execution_count": null,
      "outputs": [
        {
          "output_type": "stream",
          "name": "stderr",
          "text": [
            "Installing package into ‘/usr/local/lib/R/site-library’\n",
            "(as ‘lib’ is unspecified)\n",
            "\n"
          ]
        }
      ]
    },
    {
      "cell_type": "code",
      "source": [
        "library(RSNNS)"
      ],
      "metadata": {
        "colab": {
          "base_uri": "https://localhost:8080/"
        },
        "id": "eJkAXwz_dx9f",
        "outputId": "7c857dd6-94d9-4c57-c72f-0faf31ea3ee2"
      },
      "execution_count": null,
      "outputs": [
        {
          "output_type": "stream",
          "name": "stderr",
          "text": [
            "Loading required package: Rcpp\n",
            "\n",
            "\n",
            "Attaching package: ‘RSNNS’\n",
            "\n",
            "\n",
            "The following objects are masked from ‘package:caret’:\n",
            "\n",
            "    confusionMatrix, train\n",
            "\n",
            "\n"
          ]
        }
      ]
    },
    {
      "cell_type": "code",
      "source": [
        "########## Neural network\n",
        "# fast trainer using parallel computations\n",
        "ptm <- proc.time()\n",
        "mlp_grid = expand.grid(layer1 = 5,\n",
        "                       layer2 = 0,\n",
        "                       layer3 = 0)\n",
        "\n",
        "x.modelNNet <- train(BaseFormula_dum, data=x.trainnorm, method=\"mlpML\",tuneGrid=mlp_grid)\n",
        "\n",
        "x.evaluate$predictionNNet <- predict(x.modelNNet, newdata = x.evaluatenorm, type=\"prob\")\n",
        "\n",
        "x.evaluate$predictionNNetclass[x.evaluate$predictionNNet[,\"Above_Average\"]>probthres]=\"Above_Average\"\n",
        "x.evaluate$predictionNNetclass[x.evaluate$predictionNNet[,\"Above_Average\"]<=probthres]=\"Below_Average\"\n",
        "\n",
        "\n",
        "x.evaluate$correctNNet <- x.evaluate$predictionNNetclass == x.evaluate$ch_in_string\n",
        "print(paste(\"% of predicted classifications correct\", mean(x.evaluate$correctNNet)))\n",
        "\n",
        "print(varImp(x.modelNNet))\n",
        "# plot NNet\n",
        "if(0){\n",
        "  NeuralNetTools::plotnet(x.modelNNet$finalModel)\n",
        "}\n",
        "x.evaluate$predictionNNet <- x.evaluate$predictionNNet[,\"Above_Average\"]\n",
        "\n",
        "NNetOutput <- makeLiftPlot(x.evaluate$predictionNNet,x.evaluate,\"Neural Network\")\n",
        "\n",
        "TimeAux <- proc.time() - ptm\n",
        "#NNetOutput$summary=varImp(x.modelNNet)\n",
        "NNetOutput$TimeElapsed <- TimeAux[3]\n",
        "NNetOutput$PercCorrect <- mean(x.evaluate$correctNNet)*100\n",
        "NNetconfmatrix <- table(x.evaluate$predictionNNetclass,x.evaluate$ch_in_string)\n",
        "rm(TimeAux)"
      ],
      "metadata": {
        "colab": {
          "base_uri": "https://localhost:8080/",
          "height": 124
        },
        "id": "16-D7H-ydTHs",
        "outputId": "6d9dd0ea-4c7b-45ab-b8cb-b21146bc2597"
      },
      "execution_count": null,
      "outputs": [
        {
          "output_type": "error",
          "ename": "ERROR",
          "evalue": "Error in UseMethod(\"train\"): no applicable method for 'train' applied to an object of class \"formula\"\n",
          "traceback": [
            "Error in UseMethod(\"train\"): no applicable method for 'train' applied to an object of class \"formula\"\nTraceback:\n",
            "1. train(BaseFormula_dum, data = x.trainnorm, method = \"mlpML\", \n .     tuneGrid = mlp_grid)"
          ]
        }
      ]
    }
  ]
}